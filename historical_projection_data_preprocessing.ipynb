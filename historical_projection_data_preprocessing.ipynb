{
 "cells": [
  {
   "cell_type": "code",
   "execution_count": 190,
   "id": "a0044e0d",
   "metadata": {},
   "outputs": [],
   "source": [
    "import pandas as pd\n",
    "import os"
   ]
  },
  {
   "cell_type": "code",
   "execution_count": 191,
   "id": "641e3b62",
   "metadata": {},
   "outputs": [
    {
     "name": "stderr",
     "output_type": "stream",
     "text": [
      "C:\\Users\\nicklein\\AppData\\Local\\Temp\\ipykernel_3928\\864816642.py:2: DtypeWarning: Columns (1) have mixed types. Specify dtype option on import or set low_memory=False.\n",
      "  net_demand_df = pd.read_csv(os.path.join(os.getcwd(), \"CAISO_netdemandtrends_modified.csv\"))\n"
     ]
    }
   ],
   "source": [
    "demand_df = pd.read_csv(os.path.join(os.getcwd(), \"CAISO_demandtrends_modified.csv\"))\n",
    "net_demand_df = pd.read_csv(os.path.join(os.getcwd(), \"CAISO_netdemandtrends_modified.csv\"))\n",
    "emissions_df =  pd.read_csv(os.path.join(os.getcwd(), \"CAISO_Data_2019_2021_NN.csv\"), index_col=0)"
   ]
  },
  {
   "cell_type": "code",
   "execution_count": 192,
   "id": "ac7c1622",
   "metadata": {},
   "outputs": [],
   "source": [
    "demand_df['time'] =  pd.to_datetime(demand_df[\"time\"], format=\"%m/%d/%y %H:%M\", errors='coerce')\n",
    "demand_df = demand_df.dropna(subset=['time'])\n",
    "demand_df = demand_df.set_index(\"time\")"
   ]
  },
  {
   "cell_type": "code",
   "execution_count": 193,
   "id": "0fc1b321",
   "metadata": {},
   "outputs": [],
   "source": [
    "net_demand_df['time'] =  pd.to_datetime(net_demand_df[\"time\"], format=\"%m/%d/%y %H:%M\", errors='coerce')\n",
    "net_demand_df = net_demand_df.dropna(subset=['time'])\n",
    "net_demand_df = net_demand_df.set_index(\"time\")"
   ]
  },
  {
   "cell_type": "code",
   "execution_count": 194,
   "id": "7b0c2b28",
   "metadata": {},
   "outputs": [],
   "source": [
    "emissions_df.index = pd.to_datetime(emissions_df.index)\n",
    "earliest_datetime, latest_datetime = min(emissions_df.index), max(emissions_df.index)"
   ]
  },
  {
   "cell_type": "code",
   "execution_count": 195,
   "id": "4a10bed8",
   "metadata": {},
   "outputs": [],
   "source": [
    "# jk we want to include the first hour of 2022\n",
    "latest_datetime = pd.to_datetime('1/1/22 0:55', format=\"%m/%d/%y %H:%M\")"
   ]
  },
  {
   "cell_type": "code",
   "execution_count": 196,
   "id": "fadbe3e4",
   "metadata": {},
   "outputs": [],
   "source": [
    "demand_df = demand_df.loc[(demand_df.index >= earliest_datetime) & (demand_df.index <= latest_datetime)]"
   ]
  },
  {
   "cell_type": "code",
   "execution_count": 197,
   "id": "7a9a8d5f",
   "metadata": {},
   "outputs": [],
   "source": [
    "net_demand_df = net_demand_df.loc[(net_demand_df.index >= earliest_datetime) & (net_demand_df.index <= latest_datetime)]"
   ]
  },
  {
   "cell_type": "markdown",
   "id": "ddd819fd",
   "metadata": {},
   "source": [
    "net demand table has some non-float values. Fix that first, filling in non-floats with nan"
   ]
  },
  {
   "cell_type": "code",
   "execution_count": 198,
   "id": "91dcb882",
   "metadata": {},
   "outputs": [
    {
     "name": "stderr",
     "output_type": "stream",
     "text": [
      "C:\\Users\\nicklein\\AppData\\Local\\Temp\\ipykernel_3928\\101297538.py:1: FutureWarning: In a future version, `df.iloc[:, i] = newvals` will attempt to set the values inplace instead of always setting a new array. To retain the old behavior, use either `df[df.columns[i]] = newvals` or, if columns are non-unique, `df.isetitem(i, newvals)`\n",
      "  net_demand_df.loc[:,\"Day-ahead net forecast\"] = pd.to_numeric(net_demand_df.loc[:,\"Day-ahead net forecast\"], errors=\"coerce\")\n"
     ]
    }
   ],
   "source": [
    "net_demand_df.loc[:,\"Day-ahead net forecast\"] = pd.to_numeric(net_demand_df.loc[:,\"Day-ahead net forecast\"], errors=\"coerce\")"
   ]
  },
  {
   "cell_type": "markdown",
   "id": "f2633a94",
   "metadata": {},
   "source": [
    "get average values for each hour\n",
    "\n",
    "**Note** There are nan values in these tables. The behavior of resample here is the following: If there are any non-nan values in the hour, those are used to compute the mean for the hour. If there are no non-nan values in the hour, the mean for that hour is recorded as nan.\n",
    "\n",
    "**I also note...** that on some of the hours around DST shift where day-ahead projection is all nan, the hour ahead projection is all 0.0. This will be very bad for prediction. In this case, it might be a good idea to just also drop those, treating them like there is no available prediction at that point. I haven thouroughly looked at the data though so there may be more things like this to try to catch (e.g. by searching for values in ranges that could be easily filtered out as bad projections."
   ]
  },
  {
   "cell_type": "markdown",
   "id": "294b95ab",
   "metadata": {},
   "source": [
    "## Stepp todo here - filter out projections where we have a non-nan projected value but the value is trivially a bad projection\n",
    "\n",
    "Do this by turning those trivially bad values to 0.  \n",
    "I have already done a little of this. If you want to do more, do it here.  \n",
    "Might also make sense to do this after the resampling as then you'll have fewer values to look at."
   ]
  },
  {
   "cell_type": "code",
   "execution_count": 199,
   "id": "69f55576",
   "metadata": {},
   "outputs": [],
   "source": [
    "col_dict = {\"day-ahead demand\": demand_df.loc[:,'Day-ahead forecast'],\n",
    "            \"hour-ahead demand\": demand_df.loc[:,'Hour-ahead forecast Demand'],\n",
    "            \"day-ahead net demand\": net_demand_df.loc[:,'Day-ahead net forecast'],\n",
    "            \"hour-ahead net demand\": net_demand_df.loc[:,'Hour-ahead forecast Net Demand']\n",
    "           }"
   ]
  },
  {
   "cell_type": "code",
   "execution_count": 226,
   "id": "c4897ea2",
   "metadata": {},
   "outputs": [
    {
     "data": {
      "text/html": [
       "<div>\n",
       "<style scoped>\n",
       "    .dataframe tbody tr th:only-of-type {\n",
       "        vertical-align: middle;\n",
       "    }\n",
       "\n",
       "    .dataframe tbody tr th {\n",
       "        vertical-align: top;\n",
       "    }\n",
       "\n",
       "    .dataframe thead th {\n",
       "        text-align: right;\n",
       "    }\n",
       "</style>\n",
       "<table border=\"1\" class=\"dataframe\">\n",
       "  <thead>\n",
       "    <tr style=\"text-align: right;\">\n",
       "      <th></th>\n",
       "      <th>Day-ahead net forecast</th>\n",
       "      <th>Hour-ahead forecast Net Demand</th>\n",
       "      <th>Demand</th>\n",
       "    </tr>\n",
       "    <tr>\n",
       "      <th>time</th>\n",
       "      <th></th>\n",
       "      <th></th>\n",
       "      <th></th>\n",
       "    </tr>\n",
       "  </thead>\n",
       "  <tbody>\n",
       "    <tr>\n",
       "      <th>2019-10-03 14:40:00</th>\n",
       "      <td>-4158.0</td>\n",
       "      <td>22254.0</td>\n",
       "      <td>25076.0</td>\n",
       "    </tr>\n",
       "    <tr>\n",
       "      <th>2019-10-03 14:50:00</th>\n",
       "      <td>-13200.0</td>\n",
       "      <td>22601.0</td>\n",
       "      <td>25153.0</td>\n",
       "    </tr>\n",
       "    <tr>\n",
       "      <th>2019-10-03 14:55:00</th>\n",
       "      <td>-14006.0</td>\n",
       "      <td>22601.0</td>\n",
       "      <td>25221.0</td>\n",
       "    </tr>\n",
       "    <tr>\n",
       "      <th>2019-10-03 15:00:00</th>\n",
       "      <td>-5648.0</td>\n",
       "      <td>22601.0</td>\n",
       "      <td>25303.0</td>\n",
       "    </tr>\n",
       "    <tr>\n",
       "      <th>2021-04-04 16:25:00</th>\n",
       "      <td>-3844.0</td>\n",
       "      <td>22373.0</td>\n",
       "      <td>18873.0</td>\n",
       "    </tr>\n",
       "    <tr>\n",
       "      <th>2021-07-07 11:55:00</th>\n",
       "      <td>-38682.0</td>\n",
       "      <td>35406.0</td>\n",
       "      <td>29021.0</td>\n",
       "    </tr>\n",
       "  </tbody>\n",
       "</table>\n",
       "</div>"
      ],
      "text/plain": [
       "                     Day-ahead net forecast  Hour-ahead forecast Net Demand  \\\n",
       "time                                                                          \n",
       "2019-10-03 14:40:00                 -4158.0                         22254.0   \n",
       "2019-10-03 14:50:00                -13200.0                         22601.0   \n",
       "2019-10-03 14:55:00                -14006.0                         22601.0   \n",
       "2019-10-03 15:00:00                 -5648.0                         22601.0   \n",
       "2021-04-04 16:25:00                 -3844.0                         22373.0   \n",
       "2021-07-07 11:55:00                -38682.0                         35406.0   \n",
       "\n",
       "                      Demand  \n",
       "time                          \n",
       "2019-10-03 14:40:00  25076.0  \n",
       "2019-10-03 14:50:00  25153.0  \n",
       "2019-10-03 14:55:00  25221.0  \n",
       "2019-10-03 15:00:00  25303.0  \n",
       "2021-04-04 16:25:00  18873.0  \n",
       "2021-07-07 11:55:00  29021.0  "
      ]
     },
     "execution_count": 226,
     "metadata": {},
     "output_type": "execute_result"
    }
   ],
   "source": [
    "net_demand_df.loc[net_demand_df.loc[:,'Day-ahead net forecast'] < 0]"
   ]
  },
  {
   "cell_type": "code",
   "execution_count": 225,
   "id": "71146c0c",
   "metadata": {},
   "outputs": [
    {
     "name": "stdout",
     "output_type": "stream",
     "text": [
      "Number of points projected valued <= 1000\n",
      "\tday-ahead demand: 0\n",
      "\thour-ahead demand: 12\n",
      "\tday-ahead net demand: 6\n",
      "\thour-ahead net demand: 0\n"
     ]
    }
   ],
   "source": [
    "lb = 1000\n",
    "print(f\"Number of points projected valued <= {lb}\")\n",
    "for name, vals in col_dict.items():\n",
    "    print(f\"\\t{name}: {sum(vals <= lb)}\")"
   ]
  },
  {
   "cell_type": "code",
   "execution_count": null,
   "id": "230ade50",
   "metadata": {},
   "outputs": [],
   "source": [
    "# Continue with further filtering here..."
   ]
  },
  {
   "cell_type": "markdown",
   "id": "3cb11ef5",
   "metadata": {},
   "source": [
    "Continuing with the resampling"
   ]
  },
  {
   "cell_type": "code",
   "execution_count": 177,
   "id": "832d3ac1",
   "metadata": {},
   "outputs": [],
   "source": [
    "demand_df = demand_df.resample('h').mean()\n",
    "net_demand_df = net_demand_df.resample('h').mean()"
   ]
  },
  {
   "cell_type": "code",
   "execution_count": 178,
   "id": "4d15531c",
   "metadata": {},
   "outputs": [
    {
     "data": {
      "text/html": [
       "<div>\n",
       "<style scoped>\n",
       "    .dataframe tbody tr th:only-of-type {\n",
       "        vertical-align: middle;\n",
       "    }\n",
       "\n",
       "    .dataframe tbody tr th {\n",
       "        vertical-align: top;\n",
       "    }\n",
       "\n",
       "    .dataframe thead th {\n",
       "        text-align: right;\n",
       "    }\n",
       "</style>\n",
       "<table border=\"1\" class=\"dataframe\">\n",
       "  <thead>\n",
       "    <tr style=\"text-align: right;\">\n",
       "      <th></th>\n",
       "      <th>Day-ahead forecast</th>\n",
       "      <th>Hour-ahead forecast Demand</th>\n",
       "      <th>Demand</th>\n",
       "    </tr>\n",
       "    <tr>\n",
       "      <th>time</th>\n",
       "      <th></th>\n",
       "      <th></th>\n",
       "      <th></th>\n",
       "    </tr>\n",
       "  </thead>\n",
       "  <tbody>\n",
       "    <tr>\n",
       "      <th>2019-01-01 00:00:00</th>\n",
       "      <td>22452.500000</td>\n",
       "      <td>21822.166667</td>\n",
       "      <td>21851.416667</td>\n",
       "    </tr>\n",
       "    <tr>\n",
       "      <th>2019-01-01 01:00:00</th>\n",
       "      <td>21520.583333</td>\n",
       "      <td>21066.083333</td>\n",
       "      <td>21099.666667</td>\n",
       "    </tr>\n",
       "    <tr>\n",
       "      <th>2019-01-01 02:00:00</th>\n",
       "      <td>20856.416667</td>\n",
       "      <td>20457.000000</td>\n",
       "      <td>20495.416667</td>\n",
       "    </tr>\n",
       "    <tr>\n",
       "      <th>2019-01-01 03:00:00</th>\n",
       "      <td>20448.250000</td>\n",
       "      <td>20128.666667</td>\n",
       "      <td>20147.500000</td>\n",
       "    </tr>\n",
       "    <tr>\n",
       "      <th>2019-01-01 04:00:00</th>\n",
       "      <td>20368.333333</td>\n",
       "      <td>20133.750000</td>\n",
       "      <td>20144.416667</td>\n",
       "    </tr>\n",
       "  </tbody>\n",
       "</table>\n",
       "</div>"
      ],
      "text/plain": [
       "                     Day-ahead forecast  Hour-ahead forecast Demand  \\\n",
       "time                                                                  \n",
       "2019-01-01 00:00:00        22452.500000                21822.166667   \n",
       "2019-01-01 01:00:00        21520.583333                21066.083333   \n",
       "2019-01-01 02:00:00        20856.416667                20457.000000   \n",
       "2019-01-01 03:00:00        20448.250000                20128.666667   \n",
       "2019-01-01 04:00:00        20368.333333                20133.750000   \n",
       "\n",
       "                           Demand  \n",
       "time                               \n",
       "2019-01-01 00:00:00  21851.416667  \n",
       "2019-01-01 01:00:00  21099.666667  \n",
       "2019-01-01 02:00:00  20495.416667  \n",
       "2019-01-01 03:00:00  20147.500000  \n",
       "2019-01-01 04:00:00  20144.416667  "
      ]
     },
     "execution_count": 178,
     "metadata": {},
     "output_type": "execute_result"
    }
   ],
   "source": [
    "demand_df.head()"
   ]
  },
  {
   "cell_type": "code",
   "execution_count": 179,
   "id": "438216be",
   "metadata": {},
   "outputs": [
    {
     "data": {
      "text/html": [
       "<div>\n",
       "<style scoped>\n",
       "    .dataframe tbody tr th:only-of-type {\n",
       "        vertical-align: middle;\n",
       "    }\n",
       "\n",
       "    .dataframe tbody tr th {\n",
       "        vertical-align: top;\n",
       "    }\n",
       "\n",
       "    .dataframe thead th {\n",
       "        text-align: right;\n",
       "    }\n",
       "</style>\n",
       "<table border=\"1\" class=\"dataframe\">\n",
       "  <thead>\n",
       "    <tr style=\"text-align: right;\">\n",
       "      <th></th>\n",
       "      <th>Day-ahead net forecast</th>\n",
       "      <th>Hour-ahead forecast Net Demand</th>\n",
       "      <th>Demand</th>\n",
       "    </tr>\n",
       "    <tr>\n",
       "      <th>time</th>\n",
       "      <th></th>\n",
       "      <th></th>\n",
       "      <th></th>\n",
       "    </tr>\n",
       "  </thead>\n",
       "  <tbody>\n",
       "    <tr>\n",
       "      <th>2019-01-01 00:00:00</th>\n",
       "      <td>18389.727273</td>\n",
       "      <td>22389.750000</td>\n",
       "      <td>21851.416667</td>\n",
       "    </tr>\n",
       "    <tr>\n",
       "      <th>2019-01-01 01:00:00</th>\n",
       "      <td>17704.583333</td>\n",
       "      <td>21748.833333</td>\n",
       "      <td>21099.666667</td>\n",
       "    </tr>\n",
       "    <tr>\n",
       "      <th>2019-01-01 02:00:00</th>\n",
       "      <td>16988.833333</td>\n",
       "      <td>21245.000000</td>\n",
       "      <td>20495.416667</td>\n",
       "    </tr>\n",
       "    <tr>\n",
       "      <th>2019-01-01 03:00:00</th>\n",
       "      <td>16406.750000</td>\n",
       "      <td>21218.083333</td>\n",
       "      <td>20147.500000</td>\n",
       "    </tr>\n",
       "    <tr>\n",
       "      <th>2019-01-01 04:00:00</th>\n",
       "      <td>16436.750000</td>\n",
       "      <td>21837.666667</td>\n",
       "      <td>20144.416667</td>\n",
       "    </tr>\n",
       "  </tbody>\n",
       "</table>\n",
       "</div>"
      ],
      "text/plain": [
       "                     Day-ahead net forecast  Hour-ahead forecast Net Demand  \\\n",
       "time                                                                          \n",
       "2019-01-01 00:00:00            18389.727273                    22389.750000   \n",
       "2019-01-01 01:00:00            17704.583333                    21748.833333   \n",
       "2019-01-01 02:00:00            16988.833333                    21245.000000   \n",
       "2019-01-01 03:00:00            16406.750000                    21218.083333   \n",
       "2019-01-01 04:00:00            16436.750000                    21837.666667   \n",
       "\n",
       "                           Demand  \n",
       "time                               \n",
       "2019-01-01 00:00:00  21851.416667  \n",
       "2019-01-01 01:00:00  21099.666667  \n",
       "2019-01-01 02:00:00  20495.416667  \n",
       "2019-01-01 03:00:00  20147.500000  \n",
       "2019-01-01 04:00:00  20144.416667  "
      ]
     },
     "execution_count": 179,
     "metadata": {},
     "output_type": "execute_result"
    }
   ],
   "source": [
    "net_demand_df.head()"
   ]
  },
  {
   "cell_type": "markdown",
   "id": "38662919",
   "metadata": {},
   "source": [
    "Checking how many values we have nan for..."
   ]
  },
  {
   "cell_type": "code",
   "execution_count": 180,
   "id": "4b8d4eeb",
   "metadata": {},
   "outputs": [
    {
     "name": "stdout",
     "output_type": "stream",
     "text": [
      "Number of hours we are missing projected values fore...\n",
      "\tday-ahead demand: 3\n",
      "\thour-ahead demand: 2\n",
      "\tday-ahead net demand: 288\n",
      "\thour-ahead net demand: 27\n"
     ]
    }
   ],
   "source": [
    "print(\"Number of hours we are missing projected values fore...\")\n",
    "print(f\"\\tday-ahead demand: {sum(pd.isna(demand_df.loc[:,'Day-ahead forecast']))}\")\n",
    "print(f\"\\thour-ahead demand: {sum(pd.isna(demand_df.loc[:,'Hour-ahead forecast Demand']))}\")\n",
    "print(f\"\\tday-ahead net demand: {sum(pd.isna(net_demand_df.loc[:,'Day-ahead net forecast']))}\")\n",
    "print(f\"\\thour-ahead net demand: {sum(pd.isna(net_demand_df.loc[:,'Hour-ahead forecast Net Demand']))}\")"
   ]
  },
  {
   "cell_type": "markdown",
   "id": "0ce29d33",
   "metadata": {},
   "source": [
    "Check that dropping rows and aggregation was done correctly by comparing the indexes of our different tables"
   ]
  },
  {
   "cell_type": "code",
   "execution_count": 181,
   "id": "26689a09",
   "metadata": {},
   "outputs": [
    {
     "data": {
      "text/plain": [
       "True"
      ]
     },
     "execution_count": 181,
     "metadata": {},
     "output_type": "execute_result"
    }
   ],
   "source": [
    "len(demand_df) == len(net_demand_df) == len(emissions_df)"
   ]
  },
  {
   "cell_type": "code",
   "execution_count": 182,
   "id": "91075642",
   "metadata": {},
   "outputs": [
    {
     "data": {
      "text/plain": [
       "True"
      ]
     },
     "execution_count": 182,
     "metadata": {},
     "output_type": "execute_result"
    }
   ],
   "source": [
    "all(demand_df.index == net_demand_df.index) and all(demand_df.index == emissions_df.index)"
   ]
  },
  {
   "cell_type": "markdown",
   "id": "8eef3f3c",
   "metadata": {},
   "source": [
    "Move projected values over to one table with the rest of the data"
   ]
  },
  {
   "cell_type": "code",
   "execution_count": 183,
   "id": "503df073",
   "metadata": {},
   "outputs": [],
   "source": [
    "emissions_df.loc[:,\"Day_Ahead_Forecast_Demand\"] = demand_df.loc[:,\"Day-ahead forecast\"]\n",
    "emissions_df.loc[:,\"Hour_Ahead_Forecast_Demand\"] = demand_df.loc[:,\"Hour-ahead forecast Demand\"]"
   ]
  },
  {
   "cell_type": "code",
   "execution_count": 184,
   "id": "90257a36",
   "metadata": {},
   "outputs": [],
   "source": [
    "emissions_df.loc[:,\"Day_Ahead_Forecast_VRE\"] = demand_df.loc[:,\"Day-ahead forecast\"] \\\n",
    "                                                - net_demand_df.loc[:,\"Day-ahead net forecast\"]\n",
    "emissions_df.loc[:,\"Hour_Ahead_Forecast_VRE\"] = demand_df.loc[:,\"Hour-ahead forecast Demand\"] \\\n",
    "                                                - net_demand_df.loc[:,\"Hour-ahead forecast Net Demand\"]"
   ]
  },
  {
   "cell_type": "markdown",
   "id": "5c3702aa",
   "metadata": {},
   "source": [
    "Verification that subtraction of two terms where either is nan gives you a nan in pandas:"
   ]
  },
  {
   "cell_type": "code",
   "execution_count": 185,
   "id": "03a48c2c",
   "metadata": {},
   "outputs": [],
   "source": [
    "import numpy as np"
   ]
  },
  {
   "cell_type": "code",
   "execution_count": 186,
   "id": "3a2867d6",
   "metadata": {},
   "outputs": [
    {
     "data": {
      "text/plain": [
       "0    NaN\n",
       "1    0.0\n",
       "2    NaN\n",
       "3    NaN\n",
       "dtype: float64"
      ]
     },
     "execution_count": 186,
     "metadata": {},
     "output_type": "execute_result"
    }
   ],
   "source": [
    "pd.Series([np.nan, 1.2, np.nan, 2.3]) - pd.Series([np.nan, 1.2, 1000, np.nan])"
   ]
  },
  {
   "cell_type": "markdown",
   "id": "1108804f",
   "metadata": {},
   "source": [
    "Resulting number of missing values in VRE..."
   ]
  },
  {
   "cell_type": "code",
   "execution_count": 187,
   "id": "bb2c28a2",
   "metadata": {},
   "outputs": [
    {
     "name": "stdout",
     "output_type": "stream",
     "text": [
      "Number of hours we are missing projected values for VRE (either demand or net-demand is nan for that hour)...\n",
      "\tday-ahead VRE: 291\n",
      "\thour-ahead VRE: 29\n"
     ]
    }
   ],
   "source": [
    "print(\"Number of hours we are missing projected values for VRE (either demand or net-demand is nan for that hour)...\")\n",
    "print(f\"\\tday-ahead VRE: {sum(pd.isna(emissions_df.loc[:,'Day_Ahead_Forecast_VRE']))}\")\n",
    "print(f\"\\thour-ahead VRE: {sum(pd.isna(emissions_df.loc[:,'Hour_Ahead_Forecast_VRE']))}\")"
   ]
  },
  {
   "cell_type": "markdown",
   "id": "86d67cac",
   "metadata": {},
   "source": [
    "Okay, so each hour that we had all nans for in the demand projections were also hours that we had all nans for in the net-demand projections. makes sense."
   ]
  },
  {
   "cell_type": "code",
   "execution_count": 188,
   "id": "904b8146",
   "metadata": {},
   "outputs": [
    {
     "data": {
      "text/html": [
       "<div>\n",
       "<style scoped>\n",
       "    .dataframe tbody tr th:only-of-type {\n",
       "        vertical-align: middle;\n",
       "    }\n",
       "\n",
       "    .dataframe tbody tr th {\n",
       "        vertical-align: top;\n",
       "    }\n",
       "\n",
       "    .dataframe thead th {\n",
       "        text-align: right;\n",
       "    }\n",
       "</style>\n",
       "<table border=\"1\" class=\"dataframe\">\n",
       "  <thead>\n",
       "    <tr style=\"text-align: right;\">\n",
       "      <th></th>\n",
       "      <th>Load</th>\n",
       "      <th>Net Load</th>\n",
       "      <th>Total_CO2_Emissions</th>\n",
       "      <th>Total_SO2_Emissions</th>\n",
       "      <th>Total_NOX_Emissions</th>\n",
       "      <th>VRE</th>\n",
       "      <th>delta_Load</th>\n",
       "      <th>delta_Net_Load</th>\n",
       "      <th>delta_Total_CO2_Emissions</th>\n",
       "      <th>delta_Total_SO2_Emissions</th>\n",
       "      <th>delta_Total_NOX_Emissions</th>\n",
       "      <th>delta_VRE</th>\n",
       "      <th>Day_Ahead_Forecast_Demand</th>\n",
       "      <th>Hour_Ahead_Forecast_Demand</th>\n",
       "      <th>Day_Ahead_Forecast_VRE</th>\n",
       "      <th>Hour_Ahead_Forecast_VRE</th>\n",
       "    </tr>\n",
       "  </thead>\n",
       "  <tbody>\n",
       "    <tr>\n",
       "      <th>2019-01-01 00:00:00</th>\n",
       "      <td>22822.964472</td>\n",
       "      <td>20502.358502</td>\n",
       "      <td>5.103942e+06</td>\n",
       "      <td>425.327933</td>\n",
       "      <td>1632.821698</td>\n",
       "      <td>2320.593616</td>\n",
       "      <td>-1285.054865</td>\n",
       "      <td>-1255.110267</td>\n",
       "      <td>-337029.794143</td>\n",
       "      <td>-24.142180</td>\n",
       "      <td>-98.530417</td>\n",
       "      <td>-29.956338</td>\n",
       "      <td>22452.500000</td>\n",
       "      <td>21822.166667</td>\n",
       "      <td>4062.772727</td>\n",
       "      <td>-567.583333</td>\n",
       "    </tr>\n",
       "    <tr>\n",
       "      <th>2019-01-01 01:00:00</th>\n",
       "      <td>21879.620618</td>\n",
       "      <td>19606.836908</td>\n",
       "      <td>4.867578e+06</td>\n",
       "      <td>404.315852</td>\n",
       "      <td>1557.650531</td>\n",
       "      <td>2272.780097</td>\n",
       "      <td>-944.689268</td>\n",
       "      <td>-896.922625</td>\n",
       "      <td>-243021.833700</td>\n",
       "      <td>-21.594332</td>\n",
       "      <td>-76.882199</td>\n",
       "      <td>-47.757034</td>\n",
       "      <td>21520.583333</td>\n",
       "      <td>21066.083333</td>\n",
       "      <td>3816.000000</td>\n",
       "      <td>-682.750000</td>\n",
       "    </tr>\n",
       "    <tr>\n",
       "      <th>2019-01-01 02:00:00</th>\n",
       "      <td>21257.454020</td>\n",
       "      <td>19056.267637</td>\n",
       "      <td>4.723101e+06</td>\n",
       "      <td>383.695714</td>\n",
       "      <td>1496.197481</td>\n",
       "      <td>2201.182455</td>\n",
       "      <td>-614.641020</td>\n",
       "      <td>-545.206677</td>\n",
       "      <td>-144846.797503</td>\n",
       "      <td>-20.952957</td>\n",
       "      <td>-61.425638</td>\n",
       "      <td>-69.432802</td>\n",
       "      <td>20856.416667</td>\n",
       "      <td>20457.000000</td>\n",
       "      <td>3867.583333</td>\n",
       "      <td>-788.000000</td>\n",
       "    </tr>\n",
       "    <tr>\n",
       "      <th>2019-01-01 03:00:00</th>\n",
       "      <td>20974.800758</td>\n",
       "      <td>18871.418601</td>\n",
       "      <td>4.693112e+06</td>\n",
       "      <td>380.561848</td>\n",
       "      <td>1466.329836</td>\n",
       "      <td>2103.388502</td>\n",
       "      <td>-281.391674</td>\n",
       "      <td>-191.565227</td>\n",
       "      <td>-24776.569759</td>\n",
       "      <td>-2.164379</td>\n",
       "      <td>-28.118595</td>\n",
       "      <td>-89.815150</td>\n",
       "      <td>20448.250000</td>\n",
       "      <td>20128.666667</td>\n",
       "      <td>4041.500000</td>\n",
       "      <td>-1089.416667</td>\n",
       "    </tr>\n",
       "    <tr>\n",
       "      <th>2019-01-01 04:00:00</th>\n",
       "      <td>20327.083333</td>\n",
       "      <td>18012.666667</td>\n",
       "      <td>5.032423e+06</td>\n",
       "      <td>711.911968</td>\n",
       "      <td>2391.657870</td>\n",
       "      <td>2314.666667</td>\n",
       "      <td>30.416667</td>\n",
       "      <td>74.416667</td>\n",
       "      <td>49254.136541</td>\n",
       "      <td>69.703951</td>\n",
       "      <td>71.970840</td>\n",
       "      <td>-43.916667</td>\n",
       "      <td>20368.333333</td>\n",
       "      <td>20133.750000</td>\n",
       "      <td>3931.583333</td>\n",
       "      <td>-1703.916667</td>\n",
       "    </tr>\n",
       "    <tr>\n",
       "      <th>...</th>\n",
       "      <td>...</td>\n",
       "      <td>...</td>\n",
       "      <td>...</td>\n",
       "      <td>...</td>\n",
       "      <td>...</td>\n",
       "      <td>...</td>\n",
       "      <td>...</td>\n",
       "      <td>...</td>\n",
       "      <td>...</td>\n",
       "      <td>...</td>\n",
       "      <td>...</td>\n",
       "      <td>...</td>\n",
       "      <td>...</td>\n",
       "      <td>...</td>\n",
       "      <td>...</td>\n",
       "      <td>...</td>\n",
       "    </tr>\n",
       "    <tr>\n",
       "      <th>2021-12-31 20:00:00</th>\n",
       "      <td>25768.833333</td>\n",
       "      <td>23072.083333</td>\n",
       "      <td>5.669181e+06</td>\n",
       "      <td>379.791774</td>\n",
       "      <td>1258.958412</td>\n",
       "      <td>2696.666667</td>\n",
       "      <td>-746.916667</td>\n",
       "      <td>-704.333333</td>\n",
       "      <td>56445.099855</td>\n",
       "      <td>9.455888</td>\n",
       "      <td>15.439436</td>\n",
       "      <td>-42.500000</td>\n",
       "      <td>26192.833333</td>\n",
       "      <td>25565.750000</td>\n",
       "      <td>438.833333</td>\n",
       "      <td>-775.750000</td>\n",
       "    </tr>\n",
       "    <tr>\n",
       "      <th>2021-12-31 21:00:00</th>\n",
       "      <td>25023.083333</td>\n",
       "      <td>22046.666667</td>\n",
       "      <td>5.470524e+06</td>\n",
       "      <td>360.779828</td>\n",
       "      <td>1250.710850</td>\n",
       "      <td>2976.333333</td>\n",
       "      <td>-745.750000</td>\n",
       "      <td>-1025.416667</td>\n",
       "      <td>-198657.681862</td>\n",
       "      <td>-19.011945</td>\n",
       "      <td>-8.247563</td>\n",
       "      <td>279.666667</td>\n",
       "      <td>25507.416667</td>\n",
       "      <td>24894.916667</td>\n",
       "      <td>936.416667</td>\n",
       "      <td>-672.833333</td>\n",
       "    </tr>\n",
       "    <tr>\n",
       "      <th>2021-12-31 22:00:00</th>\n",
       "      <td>24080.333333</td>\n",
       "      <td>20955.166667</td>\n",
       "      <td>5.290431e+06</td>\n",
       "      <td>402.956860</td>\n",
       "      <td>1279.316169</td>\n",
       "      <td>3125.250000</td>\n",
       "      <td>-942.750000</td>\n",
       "      <td>-1091.500000</td>\n",
       "      <td>-180092.764556</td>\n",
       "      <td>42.177031</td>\n",
       "      <td>28.605320</td>\n",
       "      <td>148.916667</td>\n",
       "      <td>24531.583333</td>\n",
       "      <td>23950.666667</td>\n",
       "      <td>1439.583333</td>\n",
       "      <td>-236.583333</td>\n",
       "    </tr>\n",
       "    <tr>\n",
       "      <th>2021-12-31 23:00:00</th>\n",
       "      <td>24110.687979</td>\n",
       "      <td>21757.807344</td>\n",
       "      <td>5.442142e+06</td>\n",
       "      <td>450.015950</td>\n",
       "      <td>1732.354803</td>\n",
       "      <td>2352.880251</td>\n",
       "      <td>-1840.714198</td>\n",
       "      <td>-1817.217265</td>\n",
       "      <td>-382819.120048</td>\n",
       "      <td>-19.647903</td>\n",
       "      <td>-94.140767</td>\n",
       "      <td>-23.501687</td>\n",
       "      <td>23562.500000</td>\n",
       "      <td>23007.333333</td>\n",
       "      <td>1822.500000</td>\n",
       "      <td>180.583333</td>\n",
       "    </tr>\n",
       "    <tr>\n",
       "      <th>2022-01-01 00:00:00</th>\n",
       "      <td>22822.964472</td>\n",
       "      <td>20502.358502</td>\n",
       "      <td>5.103942e+06</td>\n",
       "      <td>425.327933</td>\n",
       "      <td>1632.821698</td>\n",
       "      <td>2320.593616</td>\n",
       "      <td>-1285.054865</td>\n",
       "      <td>-1255.110267</td>\n",
       "      <td>-337029.794143</td>\n",
       "      <td>-24.142180</td>\n",
       "      <td>-98.530417</td>\n",
       "      <td>-29.956338</td>\n",
       "      <td>22701.916667</td>\n",
       "      <td>22117.666667</td>\n",
       "      <td>1564.166667</td>\n",
       "      <td>257.333333</td>\n",
       "    </tr>\n",
       "  </tbody>\n",
       "</table>\n",
       "<p>26305 rows × 16 columns</p>\n",
       "</div>"
      ],
      "text/plain": [
       "                             Load      Net Load  Total_CO2_Emissions  \\\n",
       "2019-01-01 00:00:00  22822.964472  20502.358502         5.103942e+06   \n",
       "2019-01-01 01:00:00  21879.620618  19606.836908         4.867578e+06   \n",
       "2019-01-01 02:00:00  21257.454020  19056.267637         4.723101e+06   \n",
       "2019-01-01 03:00:00  20974.800758  18871.418601         4.693112e+06   \n",
       "2019-01-01 04:00:00  20327.083333  18012.666667         5.032423e+06   \n",
       "...                           ...           ...                  ...   \n",
       "2021-12-31 20:00:00  25768.833333  23072.083333         5.669181e+06   \n",
       "2021-12-31 21:00:00  25023.083333  22046.666667         5.470524e+06   \n",
       "2021-12-31 22:00:00  24080.333333  20955.166667         5.290431e+06   \n",
       "2021-12-31 23:00:00  24110.687979  21757.807344         5.442142e+06   \n",
       "2022-01-01 00:00:00  22822.964472  20502.358502         5.103942e+06   \n",
       "\n",
       "                     Total_SO2_Emissions  Total_NOX_Emissions          VRE  \\\n",
       "2019-01-01 00:00:00           425.327933          1632.821698  2320.593616   \n",
       "2019-01-01 01:00:00           404.315852          1557.650531  2272.780097   \n",
       "2019-01-01 02:00:00           383.695714          1496.197481  2201.182455   \n",
       "2019-01-01 03:00:00           380.561848          1466.329836  2103.388502   \n",
       "2019-01-01 04:00:00           711.911968          2391.657870  2314.666667   \n",
       "...                                  ...                  ...          ...   \n",
       "2021-12-31 20:00:00           379.791774          1258.958412  2696.666667   \n",
       "2021-12-31 21:00:00           360.779828          1250.710850  2976.333333   \n",
       "2021-12-31 22:00:00           402.956860          1279.316169  3125.250000   \n",
       "2021-12-31 23:00:00           450.015950          1732.354803  2352.880251   \n",
       "2022-01-01 00:00:00           425.327933          1632.821698  2320.593616   \n",
       "\n",
       "                      delta_Load  delta_Net_Load  delta_Total_CO2_Emissions  \\\n",
       "2019-01-01 00:00:00 -1285.054865    -1255.110267             -337029.794143   \n",
       "2019-01-01 01:00:00  -944.689268     -896.922625             -243021.833700   \n",
       "2019-01-01 02:00:00  -614.641020     -545.206677             -144846.797503   \n",
       "2019-01-01 03:00:00  -281.391674     -191.565227              -24776.569759   \n",
       "2019-01-01 04:00:00    30.416667       74.416667               49254.136541   \n",
       "...                          ...             ...                        ...   \n",
       "2021-12-31 20:00:00  -746.916667     -704.333333               56445.099855   \n",
       "2021-12-31 21:00:00  -745.750000    -1025.416667             -198657.681862   \n",
       "2021-12-31 22:00:00  -942.750000    -1091.500000             -180092.764556   \n",
       "2021-12-31 23:00:00 -1840.714198    -1817.217265             -382819.120048   \n",
       "2022-01-01 00:00:00 -1285.054865    -1255.110267             -337029.794143   \n",
       "\n",
       "                     delta_Total_SO2_Emissions  delta_Total_NOX_Emissions  \\\n",
       "2019-01-01 00:00:00                 -24.142180                 -98.530417   \n",
       "2019-01-01 01:00:00                 -21.594332                 -76.882199   \n",
       "2019-01-01 02:00:00                 -20.952957                 -61.425638   \n",
       "2019-01-01 03:00:00                  -2.164379                 -28.118595   \n",
       "2019-01-01 04:00:00                  69.703951                  71.970840   \n",
       "...                                        ...                        ...   \n",
       "2021-12-31 20:00:00                   9.455888                  15.439436   \n",
       "2021-12-31 21:00:00                 -19.011945                  -8.247563   \n",
       "2021-12-31 22:00:00                  42.177031                  28.605320   \n",
       "2021-12-31 23:00:00                 -19.647903                 -94.140767   \n",
       "2022-01-01 00:00:00                 -24.142180                 -98.530417   \n",
       "\n",
       "                      delta_VRE  Day_Ahead_Forecast_Demand  \\\n",
       "2019-01-01 00:00:00  -29.956338               22452.500000   \n",
       "2019-01-01 01:00:00  -47.757034               21520.583333   \n",
       "2019-01-01 02:00:00  -69.432802               20856.416667   \n",
       "2019-01-01 03:00:00  -89.815150               20448.250000   \n",
       "2019-01-01 04:00:00  -43.916667               20368.333333   \n",
       "...                         ...                        ...   \n",
       "2021-12-31 20:00:00  -42.500000               26192.833333   \n",
       "2021-12-31 21:00:00  279.666667               25507.416667   \n",
       "2021-12-31 22:00:00  148.916667               24531.583333   \n",
       "2021-12-31 23:00:00  -23.501687               23562.500000   \n",
       "2022-01-01 00:00:00  -29.956338               22701.916667   \n",
       "\n",
       "                     Hour_Ahead_Forecast_Demand  Day_Ahead_Forecast_VRE  \\\n",
       "2019-01-01 00:00:00                21822.166667             4062.772727   \n",
       "2019-01-01 01:00:00                21066.083333             3816.000000   \n",
       "2019-01-01 02:00:00                20457.000000             3867.583333   \n",
       "2019-01-01 03:00:00                20128.666667             4041.500000   \n",
       "2019-01-01 04:00:00                20133.750000             3931.583333   \n",
       "...                                         ...                     ...   \n",
       "2021-12-31 20:00:00                25565.750000              438.833333   \n",
       "2021-12-31 21:00:00                24894.916667              936.416667   \n",
       "2021-12-31 22:00:00                23950.666667             1439.583333   \n",
       "2021-12-31 23:00:00                23007.333333             1822.500000   \n",
       "2022-01-01 00:00:00                22117.666667             1564.166667   \n",
       "\n",
       "                     Hour_Ahead_Forecast_VRE  \n",
       "2019-01-01 00:00:00              -567.583333  \n",
       "2019-01-01 01:00:00              -682.750000  \n",
       "2019-01-01 02:00:00              -788.000000  \n",
       "2019-01-01 03:00:00             -1089.416667  \n",
       "2019-01-01 04:00:00             -1703.916667  \n",
       "...                                      ...  \n",
       "2021-12-31 20:00:00              -775.750000  \n",
       "2021-12-31 21:00:00              -672.833333  \n",
       "2021-12-31 22:00:00              -236.583333  \n",
       "2021-12-31 23:00:00               180.583333  \n",
       "2022-01-01 00:00:00               257.333333  \n",
       "\n",
       "[26305 rows x 16 columns]"
      ]
     },
     "execution_count": 188,
     "metadata": {},
     "output_type": "execute_result"
    }
   ],
   "source": [
    "emissions_df"
   ]
  },
  {
   "cell_type": "code",
   "execution_count": 189,
   "id": "4a35b28b",
   "metadata": {},
   "outputs": [],
   "source": [
    "emissions_df.to_csv(os.path.join(os.getcwd(), \"CAISO_Data_2019_2021_NN.with_historical_projections.csv\"))"
   ]
  },
  {
   "cell_type": "code",
   "execution_count": null,
   "id": "c5a4cd8c",
   "metadata": {},
   "outputs": [],
   "source": []
  }
 ],
 "metadata": {
  "kernelspec": {
   "display_name": "Python 3 (ipykernel)",
   "language": "python",
   "name": "python3"
  },
  "language_info": {
   "codemirror_mode": {
    "name": "ipython",
    "version": 3
   },
   "file_extension": ".py",
   "mimetype": "text/x-python",
   "name": "python",
   "nbconvert_exporter": "python",
   "pygments_lexer": "ipython3",
   "version": "3.9.15"
  }
 },
 "nbformat": 4,
 "nbformat_minor": 5
}
