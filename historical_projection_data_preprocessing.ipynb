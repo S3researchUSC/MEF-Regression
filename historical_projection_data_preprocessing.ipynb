{
 "cells": [
  {
   "cell_type": "code",
   "execution_count": 16,
   "id": "a0044e0d",
   "metadata": {},
   "outputs": [],
   "source": [
    "import pandas as pd\n",
    "import os\n",
    "import datetime\n",
    "import numpy as np"
   ]
  },
  {
   "cell_type": "code",
   "execution_count": 2,
   "id": "641e3b62",
   "metadata": {},
   "outputs": [
    {
     "name": "stderr",
     "output_type": "stream",
     "text": [
      "C:\\Users\\nicklein\\AppData\\Local\\Temp\\ipykernel_9776\\864816642.py:2: DtypeWarning: Columns (1) have mixed types. Specify dtype option on import or set low_memory=False.\n",
      "  net_demand_df = pd.read_csv(os.path.join(os.getcwd(), \"CAISO_netdemandtrends_modified.csv\"))\n"
     ]
    }
   ],
   "source": [
    "demand_df = pd.read_csv(os.path.join(os.getcwd(), \"CAISO_demandtrends_modified.csv\"))\n",
    "net_demand_df = pd.read_csv(os.path.join(os.getcwd(), \"CAISO_netdemandtrends_modified.csv\"))\n",
    "emissions_df =  pd.read_csv(os.path.join(os.getcwd(), \"CAISO_Data_2019_2021_NN.csv\"), index_col=0)"
   ]
  },
  {
   "cell_type": "code",
   "execution_count": 3,
   "id": "ac7c1622",
   "metadata": {},
   "outputs": [],
   "source": [
    "demand_df['time'] =  pd.to_datetime(demand_df[\"time\"], format=\"%m/%d/%y %H:%M\", errors='coerce')\n",
    "demand_df = demand_df.dropna(subset=['time'])\n",
    "demand_df = demand_df.set_index(\"time\")"
   ]
  },
  {
   "cell_type": "code",
   "execution_count": 4,
   "id": "0fc1b321",
   "metadata": {},
   "outputs": [],
   "source": [
    "net_demand_df['time'] =  pd.to_datetime(net_demand_df[\"time\"], format=\"%m/%d/%y %H:%M\", errors='coerce')\n",
    "net_demand_df = net_demand_df.dropna(subset=['time'])\n",
    "net_demand_df = net_demand_df.set_index(\"time\")"
   ]
  },
  {
   "cell_type": "code",
   "execution_count": 5,
   "id": "7b0c2b28",
   "metadata": {},
   "outputs": [],
   "source": [
    "emissions_df.index = pd.to_datetime(emissions_df.index)\n",
    "earliest_datetime, latest_datetime = min(emissions_df.index), max(emissions_df.index)"
   ]
  },
  {
   "cell_type": "code",
   "execution_count": 9,
   "id": "4a10bed8",
   "metadata": {},
   "outputs": [],
   "source": [
    "# jk we want to include the first hour of 2022\n",
    "# and the hour before earliest datetime so we can get derivative for first hour\n",
    "start_datetime = earliest_datetime - datetime.timedelta(hours=1)\n",
    "end_datetime = latest_datetime + datetime.timedelta(hours=1)"
   ]
  },
  {
   "cell_type": "code",
   "execution_count": 10,
   "id": "fadbe3e4",
   "metadata": {},
   "outputs": [],
   "source": [
    "demand_df = demand_df.loc[(demand_df.index >= start_datetime) & (demand_df.index < end_datetime)]"
   ]
  },
  {
   "cell_type": "code",
   "execution_count": 11,
   "id": "7a9a8d5f",
   "metadata": {},
   "outputs": [],
   "source": [
    "net_demand_df = net_demand_df.loc[(net_demand_df.index >= start_datetime) & (net_demand_df.index < end_datetime)]"
   ]
  },
  {
   "cell_type": "markdown",
   "id": "ddd819fd",
   "metadata": {},
   "source": [
    "net demand table has some non-float values. Fix that first, filling in non-floats with nan"
   ]
  },
  {
   "cell_type": "code",
   "execution_count": 12,
   "id": "91dcb882",
   "metadata": {},
   "outputs": [
    {
     "name": "stderr",
     "output_type": "stream",
     "text": [
      "C:\\Users\\nicklein\\AppData\\Local\\Temp\\ipykernel_9776\\101297538.py:1: FutureWarning: In a future version, `df.iloc[:, i] = newvals` will attempt to set the values inplace instead of always setting a new array. To retain the old behavior, use either `df[df.columns[i]] = newvals` or, if columns are non-unique, `df.isetitem(i, newvals)`\n",
      "  net_demand_df.loc[:,\"Day-ahead net forecast\"] = pd.to_numeric(net_demand_df.loc[:,\"Day-ahead net forecast\"], errors=\"coerce\")\n"
     ]
    }
   ],
   "source": [
    "net_demand_df.loc[:,\"Day-ahead net forecast\"] = pd.to_numeric(net_demand_df.loc[:,\"Day-ahead net forecast\"], errors=\"coerce\")"
   ]
  },
  {
   "cell_type": "markdown",
   "id": "f2633a94",
   "metadata": {},
   "source": [
    "get average values for each hour\n",
    "\n",
    "**Note** There are nan values in these tables. The behavior of resample here is the following: If there are any non-nan values in the hour, those are used to compute the mean for the hour. If there are no non-nan values in the hour, the mean for that hour is recorded as nan.\n",
    "\n",
    "**I also note...** that on some of the hours around DST shift where day-ahead projection is all nan, the hour ahead projection is all 0.0. This will be very bad for prediction. In this case, it might be a good idea to just also drop those, treating them like there is no available prediction at that point. I haven thouroughly looked at the data though so there may be more things like this to try to catch (e.g. by searching for values in ranges that could be easily filtered out as bad projections."
   ]
  },
  {
   "cell_type": "markdown",
   "id": "294b95ab",
   "metadata": {},
   "source": [
    "## Stepp todo here - filter out projections where we have a non-nan projected value but the value is trivially a bad projection\n",
    "\n",
    "Do this by turning those trivially bad values to nan.  \n",
    "I have already done a little of this. If you want to do more, do it here.  \n",
    "Might also make sense to do this after the resampling as then you'll have fewer values to look at."
   ]
  },
  {
   "cell_type": "code",
   "execution_count": 13,
   "id": "69f55576",
   "metadata": {},
   "outputs": [],
   "source": [
    "col_dict = {\"day-ahead demand\": demand_df.loc[:,'Day-ahead forecast'],\n",
    "            \"hour-ahead demand\": demand_df.loc[:,'Hour-ahead forecast Demand'],\n",
    "            \"day-ahead net demand\": net_demand_df.loc[:,'Day-ahead net forecast'],\n",
    "            \"hour-ahead net demand\": net_demand_df.loc[:,'Hour-ahead forecast Net Demand']\n",
    "           }"
   ]
  },
  {
   "cell_type": "code",
   "execution_count": 15,
   "id": "71146c0c",
   "metadata": {},
   "outputs": [
    {
     "name": "stdout",
     "output_type": "stream",
     "text": [
      "Number of points projected valued <= 0\n",
      "\tday-ahead demand: 0\n",
      "\thour-ahead demand: 12\n",
      "\tday-ahead net demand: 6\n",
      "\thour-ahead net demand: 0\n"
     ]
    }
   ],
   "source": [
    "lb = 0\n",
    "print(f\"Number of points projected valued <= {lb}\")\n",
    "for name, vals in col_dict.items():\n",
    "    print(f\"\\t{name}: {sum(vals <= lb)}\")"
   ]
  },
  {
   "cell_type": "code",
   "execution_count": 226,
   "id": "c4897ea2",
   "metadata": {},
   "outputs": [
    {
     "data": {
      "text/html": [
       "<div>\n",
       "<style scoped>\n",
       "    .dataframe tbody tr th:only-of-type {\n",
       "        vertical-align: middle;\n",
       "    }\n",
       "\n",
       "    .dataframe tbody tr th {\n",
       "        vertical-align: top;\n",
       "    }\n",
       "\n",
       "    .dataframe thead th {\n",
       "        text-align: right;\n",
       "    }\n",
       "</style>\n",
       "<table border=\"1\" class=\"dataframe\">\n",
       "  <thead>\n",
       "    <tr style=\"text-align: right;\">\n",
       "      <th></th>\n",
       "      <th>Day-ahead net forecast</th>\n",
       "      <th>Hour-ahead forecast Net Demand</th>\n",
       "      <th>Demand</th>\n",
       "    </tr>\n",
       "    <tr>\n",
       "      <th>time</th>\n",
       "      <th></th>\n",
       "      <th></th>\n",
       "      <th></th>\n",
       "    </tr>\n",
       "  </thead>\n",
       "  <tbody>\n",
       "    <tr>\n",
       "      <th>2019-10-03 14:40:00</th>\n",
       "      <td>-4158.0</td>\n",
       "      <td>22254.0</td>\n",
       "      <td>25076.0</td>\n",
       "    </tr>\n",
       "    <tr>\n",
       "      <th>2019-10-03 14:50:00</th>\n",
       "      <td>-13200.0</td>\n",
       "      <td>22601.0</td>\n",
       "      <td>25153.0</td>\n",
       "    </tr>\n",
       "    <tr>\n",
       "      <th>2019-10-03 14:55:00</th>\n",
       "      <td>-14006.0</td>\n",
       "      <td>22601.0</td>\n",
       "      <td>25221.0</td>\n",
       "    </tr>\n",
       "    <tr>\n",
       "      <th>2019-10-03 15:00:00</th>\n",
       "      <td>-5648.0</td>\n",
       "      <td>22601.0</td>\n",
       "      <td>25303.0</td>\n",
       "    </tr>\n",
       "    <tr>\n",
       "      <th>2021-04-04 16:25:00</th>\n",
       "      <td>-3844.0</td>\n",
       "      <td>22373.0</td>\n",
       "      <td>18873.0</td>\n",
       "    </tr>\n",
       "    <tr>\n",
       "      <th>2021-07-07 11:55:00</th>\n",
       "      <td>-38682.0</td>\n",
       "      <td>35406.0</td>\n",
       "      <td>29021.0</td>\n",
       "    </tr>\n",
       "  </tbody>\n",
       "</table>\n",
       "</div>"
      ],
      "text/plain": [
       "                     Day-ahead net forecast  Hour-ahead forecast Net Demand  \\\n",
       "time                                                                          \n",
       "2019-10-03 14:40:00                 -4158.0                         22254.0   \n",
       "2019-10-03 14:50:00                -13200.0                         22601.0   \n",
       "2019-10-03 14:55:00                -14006.0                         22601.0   \n",
       "2019-10-03 15:00:00                 -5648.0                         22601.0   \n",
       "2021-04-04 16:25:00                 -3844.0                         22373.0   \n",
       "2021-07-07 11:55:00                -38682.0                         35406.0   \n",
       "\n",
       "                      Demand  \n",
       "time                          \n",
       "2019-10-03 14:40:00  25076.0  \n",
       "2019-10-03 14:50:00  25153.0  \n",
       "2019-10-03 14:55:00  25221.0  \n",
       "2019-10-03 15:00:00  25303.0  \n",
       "2021-04-04 16:25:00  18873.0  \n",
       "2021-07-07 11:55:00  29021.0  "
      ]
     },
     "execution_count": 226,
     "metadata": {},
     "output_type": "execute_result"
    }
   ],
   "source": [
    "net_demand_df.loc[net_demand_df.loc[:,'Day-ahead net forecast'] < 0]"
   ]
  },
  {
   "cell_type": "code",
   "execution_count": 17,
   "id": "230ade50",
   "metadata": {},
   "outputs": [],
   "source": [
    "# Stepp says demand should never be 0 or negative,\n",
    "# but he has to think more about lower bound for net demand.\n",
    "# I am filtering out points with demand <= 0.\n",
    "# If Stepp wants to do more filtering, he will have to add it here.\n",
    "\n",
    "# demand projection cannot be <=0\n",
    "for col in ['Day-ahead forecast', 'Hour-ahead forecast Demand']:\n",
    "    invalid_mask = demand_df.loc[:,col] <= 0\n",
    "    demand_df.loc[invalid_mask, col] = np.nan"
   ]
  },
  {
   "cell_type": "code",
   "execution_count": 18,
   "id": "f5045878",
   "metadata": {},
   "outputs": [
    {
     "name": "stdout",
     "output_type": "stream",
     "text": [
      "Number of points projected valued <= 0\n",
      "\tday-ahead demand: 0\n",
      "\thour-ahead demand: 0\n",
      "\tday-ahead net demand: 6\n",
      "\thour-ahead net demand: 0\n"
     ]
    }
   ],
   "source": [
    "lb = 0\n",
    "print(f\"Number of points projected valued <= {lb}\")\n",
    "for name, vals in col_dict.items():\n",
    "    print(f\"\\t{name}: {sum(vals <= lb)}\")"
   ]
  },
  {
   "cell_type": "markdown",
   "id": "3cb11ef5",
   "metadata": {},
   "source": [
    "Continuing with the resampling"
   ]
  },
  {
   "cell_type": "code",
   "execution_count": 19,
   "id": "832d3ac1",
   "metadata": {},
   "outputs": [],
   "source": [
    "demand_df = demand_df.resample('h').mean()\n",
    "net_demand_df = net_demand_df.resample('h').mean()"
   ]
  },
  {
   "cell_type": "code",
   "execution_count": 20,
   "id": "4d15531c",
   "metadata": {},
   "outputs": [
    {
     "data": {
      "text/html": [
       "<div>\n",
       "<style scoped>\n",
       "    .dataframe tbody tr th:only-of-type {\n",
       "        vertical-align: middle;\n",
       "    }\n",
       "\n",
       "    .dataframe tbody tr th {\n",
       "        vertical-align: top;\n",
       "    }\n",
       "\n",
       "    .dataframe thead th {\n",
       "        text-align: right;\n",
       "    }\n",
       "</style>\n",
       "<table border=\"1\" class=\"dataframe\">\n",
       "  <thead>\n",
       "    <tr style=\"text-align: right;\">\n",
       "      <th></th>\n",
       "      <th>Day-ahead forecast</th>\n",
       "      <th>Hour-ahead forecast Demand</th>\n",
       "      <th>Demand</th>\n",
       "    </tr>\n",
       "    <tr>\n",
       "      <th>time</th>\n",
       "      <th></th>\n",
       "      <th></th>\n",
       "      <th></th>\n",
       "    </tr>\n",
       "  </thead>\n",
       "  <tbody>\n",
       "    <tr>\n",
       "      <th>2018-12-31 23:00:00</th>\n",
       "      <td>23502.500000</td>\n",
       "      <td>22845.666667</td>\n",
       "      <td>22702.666667</td>\n",
       "    </tr>\n",
       "    <tr>\n",
       "      <th>2019-01-01 00:00:00</th>\n",
       "      <td>22452.500000</td>\n",
       "      <td>21822.166667</td>\n",
       "      <td>21851.416667</td>\n",
       "    </tr>\n",
       "    <tr>\n",
       "      <th>2019-01-01 01:00:00</th>\n",
       "      <td>21520.583333</td>\n",
       "      <td>21066.083333</td>\n",
       "      <td>21099.666667</td>\n",
       "    </tr>\n",
       "    <tr>\n",
       "      <th>2019-01-01 02:00:00</th>\n",
       "      <td>20856.416667</td>\n",
       "      <td>20457.000000</td>\n",
       "      <td>20495.416667</td>\n",
       "    </tr>\n",
       "    <tr>\n",
       "      <th>2019-01-01 03:00:00</th>\n",
       "      <td>20448.250000</td>\n",
       "      <td>20128.666667</td>\n",
       "      <td>20147.500000</td>\n",
       "    </tr>\n",
       "  </tbody>\n",
       "</table>\n",
       "</div>"
      ],
      "text/plain": [
       "                     Day-ahead forecast  Hour-ahead forecast Demand  \\\n",
       "time                                                                  \n",
       "2018-12-31 23:00:00        23502.500000                22845.666667   \n",
       "2019-01-01 00:00:00        22452.500000                21822.166667   \n",
       "2019-01-01 01:00:00        21520.583333                21066.083333   \n",
       "2019-01-01 02:00:00        20856.416667                20457.000000   \n",
       "2019-01-01 03:00:00        20448.250000                20128.666667   \n",
       "\n",
       "                           Demand  \n",
       "time                               \n",
       "2018-12-31 23:00:00  22702.666667  \n",
       "2019-01-01 00:00:00  21851.416667  \n",
       "2019-01-01 01:00:00  21099.666667  \n",
       "2019-01-01 02:00:00  20495.416667  \n",
       "2019-01-01 03:00:00  20147.500000  "
      ]
     },
     "execution_count": 20,
     "metadata": {},
     "output_type": "execute_result"
    }
   ],
   "source": [
    "demand_df.head()"
   ]
  },
  {
   "cell_type": "code",
   "execution_count": 21,
   "id": "438216be",
   "metadata": {},
   "outputs": [
    {
     "data": {
      "text/html": [
       "<div>\n",
       "<style scoped>\n",
       "    .dataframe tbody tr th:only-of-type {\n",
       "        vertical-align: middle;\n",
       "    }\n",
       "\n",
       "    .dataframe tbody tr th {\n",
       "        vertical-align: top;\n",
       "    }\n",
       "\n",
       "    .dataframe thead th {\n",
       "        text-align: right;\n",
       "    }\n",
       "</style>\n",
       "<table border=\"1\" class=\"dataframe\">\n",
       "  <thead>\n",
       "    <tr style=\"text-align: right;\">\n",
       "      <th></th>\n",
       "      <th>Day-ahead net forecast</th>\n",
       "      <th>Hour-ahead forecast Net Demand</th>\n",
       "      <th>Demand</th>\n",
       "    </tr>\n",
       "    <tr>\n",
       "      <th>time</th>\n",
       "      <th></th>\n",
       "      <th></th>\n",
       "      <th></th>\n",
       "    </tr>\n",
       "  </thead>\n",
       "  <tbody>\n",
       "    <tr>\n",
       "      <th>2018-12-31 23:00:00</th>\n",
       "      <td>19411.666667</td>\n",
       "      <td>23519.416667</td>\n",
       "      <td>22702.666667</td>\n",
       "    </tr>\n",
       "    <tr>\n",
       "      <th>2019-01-01 00:00:00</th>\n",
       "      <td>18389.727273</td>\n",
       "      <td>22389.750000</td>\n",
       "      <td>21851.416667</td>\n",
       "    </tr>\n",
       "    <tr>\n",
       "      <th>2019-01-01 01:00:00</th>\n",
       "      <td>17704.583333</td>\n",
       "      <td>21748.833333</td>\n",
       "      <td>21099.666667</td>\n",
       "    </tr>\n",
       "    <tr>\n",
       "      <th>2019-01-01 02:00:00</th>\n",
       "      <td>16988.833333</td>\n",
       "      <td>21245.000000</td>\n",
       "      <td>20495.416667</td>\n",
       "    </tr>\n",
       "    <tr>\n",
       "      <th>2019-01-01 03:00:00</th>\n",
       "      <td>16406.750000</td>\n",
       "      <td>21218.083333</td>\n",
       "      <td>20147.500000</td>\n",
       "    </tr>\n",
       "  </tbody>\n",
       "</table>\n",
       "</div>"
      ],
      "text/plain": [
       "                     Day-ahead net forecast  Hour-ahead forecast Net Demand  \\\n",
       "time                                                                          \n",
       "2018-12-31 23:00:00            19411.666667                    23519.416667   \n",
       "2019-01-01 00:00:00            18389.727273                    22389.750000   \n",
       "2019-01-01 01:00:00            17704.583333                    21748.833333   \n",
       "2019-01-01 02:00:00            16988.833333                    21245.000000   \n",
       "2019-01-01 03:00:00            16406.750000                    21218.083333   \n",
       "\n",
       "                           Demand  \n",
       "time                               \n",
       "2018-12-31 23:00:00  22702.666667  \n",
       "2019-01-01 00:00:00  21851.416667  \n",
       "2019-01-01 01:00:00  21099.666667  \n",
       "2019-01-01 02:00:00  20495.416667  \n",
       "2019-01-01 03:00:00  20147.500000  "
      ]
     },
     "execution_count": 21,
     "metadata": {},
     "output_type": "execute_result"
    }
   ],
   "source": [
    "net_demand_df.head()"
   ]
  },
  {
   "cell_type": "markdown",
   "id": "b7f3a949",
   "metadata": {},
   "source": [
    "Add in hourly change in demand / net demand"
   ]
  },
  {
   "cell_type": "code",
   "execution_count": 23,
   "id": "36858de1",
   "metadata": {},
   "outputs": [
    {
     "data": {
      "text/plain": [
       "Index(['Load', 'Net Load', 'Total_CO2_Emissions', 'Total_SO2_Emissions',\n",
       "       'Total_NOX_Emissions', 'VRE', 'delta_Load', 'delta_Net_Load',\n",
       "       'delta_Total_CO2_Emissions', 'delta_Total_SO2_Emissions',\n",
       "       'delta_Total_NOX_Emissions', 'delta_VRE'],\n",
       "      dtype='object')"
      ]
     },
     "execution_count": 23,
     "metadata": {},
     "output_type": "execute_result"
    }
   ],
   "source": [
    "emissions_df.columns"
   ]
  },
  {
   "cell_type": "code",
   "execution_count": 36,
   "id": "8eb80727",
   "metadata": {},
   "outputs": [],
   "source": [
    "for col in ['Day-ahead forecast', 'Hour-ahead forecast Demand']:\n",
    "    deltas = (np.array(demand_df.iloc[1:].loc[:,col]) - np.array(demand_df.iloc[:-1].loc[:,col]))\n",
    "    demand_df.loc[:,f\"delta {col}\"] = [np.nan] + list(deltas)\n",
    "for col in ['Day-ahead net forecast', 'Hour-ahead forecast Net Demand']:\n",
    "    deltas = (np.array(net_demand_df.iloc[1:].loc[:,col]) - np.array(net_demand_df.iloc[:-1].loc[:,col]))\n",
    "    net_demand_df.loc[:,f\"delta {col}\"] = [np.nan] + list(deltas)"
   ]
  },
  {
   "cell_type": "markdown",
   "id": "df2c777a",
   "metadata": {},
   "source": [
    "now drop the first unneeded hour that was only used for getting delta at first hour we need."
   ]
  },
  {
   "cell_type": "code",
   "execution_count": 39,
   "id": "c78e54e6",
   "metadata": {},
   "outputs": [],
   "source": [
    "demand_df = demand_df.iloc[1:,:]\n",
    "net_demand_df = net_demand_df.iloc[1:,:]"
   ]
  },
  {
   "cell_type": "markdown",
   "id": "38662919",
   "metadata": {},
   "source": [
    "Checking how many values we have nan for..."
   ]
  },
  {
   "cell_type": "code",
   "execution_count": 42,
   "id": "4b8d4eeb",
   "metadata": {},
   "outputs": [
    {
     "name": "stdout",
     "output_type": "stream",
     "text": [
      "Number of hours we are missing projected values for...\n",
      "\tday-ahead demand: 3\n",
      "\thour-ahead demand: 3\n",
      "\tdelta day-ahead demand: 6\n",
      "\tdelta hour-ahead demand: 6\n",
      "\tday-ahead net demand: 288\n",
      "\thour-ahead net demand: 27\n",
      "\tdelta day-ahead net demand: 293\n",
      "\tdelta hour-ahead net demand: 31\n"
     ]
    }
   ],
   "source": [
    "print(\"Number of hours we are missing projected values for...\")\n",
    "print(f\"\\tday-ahead demand: {sum(pd.isna(demand_df.loc[:,'Day-ahead forecast']))}\")\n",
    "print(f\"\\thour-ahead demand: {sum(pd.isna(demand_df.loc[:,'Hour-ahead forecast Demand']))}\")\n",
    "print(f\"\\tdelta day-ahead demand: {sum(pd.isna(demand_df.loc[:,'delta Day-ahead forecast']))}\")\n",
    "print(f\"\\tdelta hour-ahead demand: {sum(pd.isna(demand_df.loc[:,'delta Hour-ahead forecast Demand']))}\")\n",
    "print(f\"\\tday-ahead net demand: {sum(pd.isna(net_demand_df.loc[:,'Day-ahead net forecast']))}\")\n",
    "print(f\"\\thour-ahead net demand: {sum(pd.isna(net_demand_df.loc[:,'Hour-ahead forecast Net Demand']))}\")\n",
    "print(f\"\\tdelta day-ahead net demand: {sum(pd.isna(net_demand_df.loc[:,'delta Day-ahead net forecast']))}\")\n",
    "print(f\"\\tdelta hour-ahead net demand: {sum(pd.isna(net_demand_df.loc[:,'delta Hour-ahead forecast Net Demand']))}\")"
   ]
  },
  {
   "cell_type": "markdown",
   "id": "0ce29d33",
   "metadata": {},
   "source": [
    "Check that dropping rows and aggregation was done correctly by comparing the indexes of our different tables"
   ]
  },
  {
   "cell_type": "code",
   "execution_count": 43,
   "id": "26689a09",
   "metadata": {},
   "outputs": [
    {
     "data": {
      "text/plain": [
       "True"
      ]
     },
     "execution_count": 43,
     "metadata": {},
     "output_type": "execute_result"
    }
   ],
   "source": [
    "len(demand_df) == len(net_demand_df) == len(emissions_df)"
   ]
  },
  {
   "cell_type": "code",
   "execution_count": 44,
   "id": "91075642",
   "metadata": {},
   "outputs": [
    {
     "data": {
      "text/plain": [
       "True"
      ]
     },
     "execution_count": 44,
     "metadata": {},
     "output_type": "execute_result"
    }
   ],
   "source": [
    "all(demand_df.index == net_demand_df.index) and all(demand_df.index == emissions_df.index)"
   ]
  },
  {
   "cell_type": "markdown",
   "id": "8eef3f3c",
   "metadata": {},
   "source": [
    "Move projected values over to one table with the rest of the data"
   ]
  },
  {
   "cell_type": "code",
   "execution_count": 45,
   "id": "503df073",
   "metadata": {},
   "outputs": [],
   "source": [
    "emissions_df.loc[:,\"Day_Ahead_Forecast_Demand\"] = demand_df.loc[:,\"Day-ahead forecast\"]\n",
    "emissions_df.loc[:,\"Hour_Ahead_Forecast_Demand\"] = demand_df.loc[:,\"Hour-ahead forecast Demand\"]\n",
    "emissions_df.loc[:,\"Delta_Day_Ahead_Forecast_Demand\"] = demand_df.loc[:,\"delta Day-ahead forecast\"]\n",
    "emissions_df.loc[:,\"Delta_Hour_Ahead_Forecast_Demand\"] = demand_df.loc[:,\"delta Hour-ahead forecast Demand\"]"
   ]
  },
  {
   "cell_type": "code",
   "execution_count": 46,
   "id": "90257a36",
   "metadata": {},
   "outputs": [],
   "source": [
    "emissions_df.loc[:,\"Day_Ahead_Forecast_VRE\"] = demand_df.loc[:,\"Day-ahead forecast\"] \\\n",
    "                                                - net_demand_df.loc[:,\"Day-ahead net forecast\"]\n",
    "emissions_df.loc[:,\"Hour_Ahead_Forecast_VRE\"] = demand_df.loc[:,\"Hour-ahead forecast Demand\"] \\\n",
    "                                                - net_demand_df.loc[:,\"Hour-ahead forecast Net Demand\"]\n",
    "emissions_df.loc[:,\"Delta_Day_Ahead_Forecast_VRE\"] = demand_df.loc[:,\"delta Day-ahead forecast\"] \\\n",
    "                                                - net_demand_df.loc[:,\"delta Day-ahead net forecast\"]\n",
    "emissions_df.loc[:,\"Delta_Hour_Ahead_Forecast_VRE\"] = demand_df.loc[:,\"delta Hour-ahead forecast Demand\"] \\\n",
    "                                                - net_demand_df.loc[:,\"delta Hour-ahead forecast Net Demand\"]"
   ]
  },
  {
   "cell_type": "markdown",
   "id": "5c3702aa",
   "metadata": {},
   "source": [
    "Verification that subtraction of two terms where either is nan gives you a nan in pandas:"
   ]
  },
  {
   "cell_type": "code",
   "execution_count": 48,
   "id": "3a2867d6",
   "metadata": {},
   "outputs": [
    {
     "data": {
      "text/plain": [
       "0    NaN\n",
       "1    0.0\n",
       "2    NaN\n",
       "3    NaN\n",
       "dtype: float64"
      ]
     },
     "execution_count": 48,
     "metadata": {},
     "output_type": "execute_result"
    }
   ],
   "source": [
    "pd.Series([np.nan, 1.2, np.nan, 2.3]) - pd.Series([np.nan, 1.2, 1000, np.nan])"
   ]
  },
  {
   "cell_type": "markdown",
   "id": "1108804f",
   "metadata": {},
   "source": [
    "Resulting number of missing values in VRE..."
   ]
  },
  {
   "cell_type": "code",
   "execution_count": 50,
   "id": "bb2c28a2",
   "metadata": {},
   "outputs": [
    {
     "name": "stdout",
     "output_type": "stream",
     "text": [
      "Number of hours we are missing projected values for VRE or delta_VRE (either demand or net-demand is nan for that hour)...\n",
      "\tday-ahead VRE: 299\n",
      "\thour-ahead VRE: 30\n"
     ]
    }
   ],
   "source": [
    "print(\"Number of hours we are missing projected values for VRE or delta_VRE (either demand or net-demand is nan for that hour)...\")\n",
    "print(f\"\\tday-ahead VRE: {sum(pd.isna(emissions_df.loc[:,'Day_Ahead_Forecast_VRE']) | pd.isna(emissions_df.loc[:,'Delta_Day_Ahead_Forecast_VRE']))}\")\n",
    "print(f\"\\thour-ahead VRE: {sum(pd.isna(emissions_df.loc[:,'Hour_Ahead_Forecast_VRE']) | pd.isna(emissions_df.loc[:,'Hour_Ahead_Forecast_VRE']))}\")"
   ]
  },
  {
   "cell_type": "code",
   "execution_count": 52,
   "id": "904b8146",
   "metadata": {},
   "outputs": [
    {
     "data": {
      "text/html": [
       "<div>\n",
       "<style scoped>\n",
       "    .dataframe tbody tr th:only-of-type {\n",
       "        vertical-align: middle;\n",
       "    }\n",
       "\n",
       "    .dataframe tbody tr th {\n",
       "        vertical-align: top;\n",
       "    }\n",
       "\n",
       "    .dataframe thead th {\n",
       "        text-align: right;\n",
       "    }\n",
       "</style>\n",
       "<table border=\"1\" class=\"dataframe\">\n",
       "  <thead>\n",
       "    <tr style=\"text-align: right;\">\n",
       "      <th></th>\n",
       "      <th>Load</th>\n",
       "      <th>Net Load</th>\n",
       "      <th>Total_CO2_Emissions</th>\n",
       "      <th>Total_SO2_Emissions</th>\n",
       "      <th>Total_NOX_Emissions</th>\n",
       "      <th>VRE</th>\n",
       "      <th>delta_Load</th>\n",
       "      <th>delta_Net_Load</th>\n",
       "      <th>delta_Total_CO2_Emissions</th>\n",
       "      <th>delta_Total_SO2_Emissions</th>\n",
       "      <th>delta_Total_NOX_Emissions</th>\n",
       "      <th>delta_VRE</th>\n",
       "      <th>Day_Ahead_Forecast_Demand</th>\n",
       "      <th>Hour_Ahead_Forecast_Demand</th>\n",
       "      <th>Delta_Day_Ahead_Forecast_Demand</th>\n",
       "      <th>Delta_Hour_Ahead_Forecast_Demand</th>\n",
       "      <th>Day_Ahead_Forecast_VRE</th>\n",
       "      <th>Hour_Ahead_Forecast_VRE</th>\n",
       "      <th>Delta_Day_Ahead_Forecast_VRE</th>\n",
       "      <th>Delta_Hour_Ahead_Forecast_VRE</th>\n",
       "    </tr>\n",
       "  </thead>\n",
       "  <tbody>\n",
       "    <tr>\n",
       "      <th>2019-01-01 00:00:00</th>\n",
       "      <td>22822.964472</td>\n",
       "      <td>20502.358502</td>\n",
       "      <td>5.103942e+06</td>\n",
       "      <td>425.327933</td>\n",
       "      <td>1632.821698</td>\n",
       "      <td>2320.593616</td>\n",
       "      <td>-1285.054865</td>\n",
       "      <td>-1255.110267</td>\n",
       "      <td>-337029.794143</td>\n",
       "      <td>-24.142180</td>\n",
       "      <td>-98.530417</td>\n",
       "      <td>-29.956338</td>\n",
       "      <td>22452.500000</td>\n",
       "      <td>21822.166667</td>\n",
       "      <td>-1050.000000</td>\n",
       "      <td>-1023.500000</td>\n",
       "      <td>4062.772727</td>\n",
       "      <td>-567.583333</td>\n",
       "      <td>-28.060606</td>\n",
       "      <td>106.166667</td>\n",
       "    </tr>\n",
       "    <tr>\n",
       "      <th>2019-01-01 01:00:00</th>\n",
       "      <td>21879.620618</td>\n",
       "      <td>19606.836908</td>\n",
       "      <td>4.867578e+06</td>\n",
       "      <td>404.315852</td>\n",
       "      <td>1557.650531</td>\n",
       "      <td>2272.780097</td>\n",
       "      <td>-944.689268</td>\n",
       "      <td>-896.922625</td>\n",
       "      <td>-243021.833700</td>\n",
       "      <td>-21.594332</td>\n",
       "      <td>-76.882199</td>\n",
       "      <td>-47.757034</td>\n",
       "      <td>21520.583333</td>\n",
       "      <td>21066.083333</td>\n",
       "      <td>-931.916667</td>\n",
       "      <td>-756.083333</td>\n",
       "      <td>3816.000000</td>\n",
       "      <td>-682.750000</td>\n",
       "      <td>-246.772727</td>\n",
       "      <td>-115.166667</td>\n",
       "    </tr>\n",
       "    <tr>\n",
       "      <th>2019-01-01 02:00:00</th>\n",
       "      <td>21257.454020</td>\n",
       "      <td>19056.267637</td>\n",
       "      <td>4.723101e+06</td>\n",
       "      <td>383.695714</td>\n",
       "      <td>1496.197481</td>\n",
       "      <td>2201.182455</td>\n",
       "      <td>-614.641020</td>\n",
       "      <td>-545.206677</td>\n",
       "      <td>-144846.797503</td>\n",
       "      <td>-20.952957</td>\n",
       "      <td>-61.425638</td>\n",
       "      <td>-69.432802</td>\n",
       "      <td>20856.416667</td>\n",
       "      <td>20457.000000</td>\n",
       "      <td>-664.166667</td>\n",
       "      <td>-609.083333</td>\n",
       "      <td>3867.583333</td>\n",
       "      <td>-788.000000</td>\n",
       "      <td>51.583333</td>\n",
       "      <td>-105.250000</td>\n",
       "    </tr>\n",
       "    <tr>\n",
       "      <th>2019-01-01 03:00:00</th>\n",
       "      <td>20974.800758</td>\n",
       "      <td>18871.418601</td>\n",
       "      <td>4.693112e+06</td>\n",
       "      <td>380.561848</td>\n",
       "      <td>1466.329836</td>\n",
       "      <td>2103.388502</td>\n",
       "      <td>-281.391674</td>\n",
       "      <td>-191.565227</td>\n",
       "      <td>-24776.569759</td>\n",
       "      <td>-2.164379</td>\n",
       "      <td>-28.118595</td>\n",
       "      <td>-89.815150</td>\n",
       "      <td>20448.250000</td>\n",
       "      <td>20128.666667</td>\n",
       "      <td>-408.166667</td>\n",
       "      <td>-328.333333</td>\n",
       "      <td>4041.500000</td>\n",
       "      <td>-1089.416667</td>\n",
       "      <td>173.916667</td>\n",
       "      <td>-301.416667</td>\n",
       "    </tr>\n",
       "    <tr>\n",
       "      <th>2019-01-01 04:00:00</th>\n",
       "      <td>20327.083333</td>\n",
       "      <td>18012.666667</td>\n",
       "      <td>5.032423e+06</td>\n",
       "      <td>711.911968</td>\n",
       "      <td>2391.657870</td>\n",
       "      <td>2314.666667</td>\n",
       "      <td>30.416667</td>\n",
       "      <td>74.416667</td>\n",
       "      <td>49254.136541</td>\n",
       "      <td>69.703951</td>\n",
       "      <td>71.970840</td>\n",
       "      <td>-43.916667</td>\n",
       "      <td>20368.333333</td>\n",
       "      <td>20133.750000</td>\n",
       "      <td>-79.916667</td>\n",
       "      <td>5.083333</td>\n",
       "      <td>3931.583333</td>\n",
       "      <td>-1703.916667</td>\n",
       "      <td>-109.916667</td>\n",
       "      <td>-614.500000</td>\n",
       "    </tr>\n",
       "  </tbody>\n",
       "</table>\n",
       "</div>"
      ],
      "text/plain": [
       "                             Load      Net Load  Total_CO2_Emissions  \\\n",
       "2019-01-01 00:00:00  22822.964472  20502.358502         5.103942e+06   \n",
       "2019-01-01 01:00:00  21879.620618  19606.836908         4.867578e+06   \n",
       "2019-01-01 02:00:00  21257.454020  19056.267637         4.723101e+06   \n",
       "2019-01-01 03:00:00  20974.800758  18871.418601         4.693112e+06   \n",
       "2019-01-01 04:00:00  20327.083333  18012.666667         5.032423e+06   \n",
       "\n",
       "                     Total_SO2_Emissions  Total_NOX_Emissions          VRE  \\\n",
       "2019-01-01 00:00:00           425.327933          1632.821698  2320.593616   \n",
       "2019-01-01 01:00:00           404.315852          1557.650531  2272.780097   \n",
       "2019-01-01 02:00:00           383.695714          1496.197481  2201.182455   \n",
       "2019-01-01 03:00:00           380.561848          1466.329836  2103.388502   \n",
       "2019-01-01 04:00:00           711.911968          2391.657870  2314.666667   \n",
       "\n",
       "                      delta_Load  delta_Net_Load  delta_Total_CO2_Emissions  \\\n",
       "2019-01-01 00:00:00 -1285.054865    -1255.110267             -337029.794143   \n",
       "2019-01-01 01:00:00  -944.689268     -896.922625             -243021.833700   \n",
       "2019-01-01 02:00:00  -614.641020     -545.206677             -144846.797503   \n",
       "2019-01-01 03:00:00  -281.391674     -191.565227              -24776.569759   \n",
       "2019-01-01 04:00:00    30.416667       74.416667               49254.136541   \n",
       "\n",
       "                     delta_Total_SO2_Emissions  delta_Total_NOX_Emissions  \\\n",
       "2019-01-01 00:00:00                 -24.142180                 -98.530417   \n",
       "2019-01-01 01:00:00                 -21.594332                 -76.882199   \n",
       "2019-01-01 02:00:00                 -20.952957                 -61.425638   \n",
       "2019-01-01 03:00:00                  -2.164379                 -28.118595   \n",
       "2019-01-01 04:00:00                  69.703951                  71.970840   \n",
       "\n",
       "                     delta_VRE  Day_Ahead_Forecast_Demand  \\\n",
       "2019-01-01 00:00:00 -29.956338               22452.500000   \n",
       "2019-01-01 01:00:00 -47.757034               21520.583333   \n",
       "2019-01-01 02:00:00 -69.432802               20856.416667   \n",
       "2019-01-01 03:00:00 -89.815150               20448.250000   \n",
       "2019-01-01 04:00:00 -43.916667               20368.333333   \n",
       "\n",
       "                     Hour_Ahead_Forecast_Demand  \\\n",
       "2019-01-01 00:00:00                21822.166667   \n",
       "2019-01-01 01:00:00                21066.083333   \n",
       "2019-01-01 02:00:00                20457.000000   \n",
       "2019-01-01 03:00:00                20128.666667   \n",
       "2019-01-01 04:00:00                20133.750000   \n",
       "\n",
       "                     Delta_Day_Ahead_Forecast_Demand  \\\n",
       "2019-01-01 00:00:00                     -1050.000000   \n",
       "2019-01-01 01:00:00                      -931.916667   \n",
       "2019-01-01 02:00:00                      -664.166667   \n",
       "2019-01-01 03:00:00                      -408.166667   \n",
       "2019-01-01 04:00:00                       -79.916667   \n",
       "\n",
       "                     Delta_Hour_Ahead_Forecast_Demand  Day_Ahead_Forecast_VRE  \\\n",
       "2019-01-01 00:00:00                      -1023.500000             4062.772727   \n",
       "2019-01-01 01:00:00                       -756.083333             3816.000000   \n",
       "2019-01-01 02:00:00                       -609.083333             3867.583333   \n",
       "2019-01-01 03:00:00                       -328.333333             4041.500000   \n",
       "2019-01-01 04:00:00                          5.083333             3931.583333   \n",
       "\n",
       "                     Hour_Ahead_Forecast_VRE  Delta_Day_Ahead_Forecast_VRE  \\\n",
       "2019-01-01 00:00:00              -567.583333                    -28.060606   \n",
       "2019-01-01 01:00:00              -682.750000                   -246.772727   \n",
       "2019-01-01 02:00:00              -788.000000                     51.583333   \n",
       "2019-01-01 03:00:00             -1089.416667                    173.916667   \n",
       "2019-01-01 04:00:00             -1703.916667                   -109.916667   \n",
       "\n",
       "                     Delta_Hour_Ahead_Forecast_VRE  \n",
       "2019-01-01 00:00:00                     106.166667  \n",
       "2019-01-01 01:00:00                    -115.166667  \n",
       "2019-01-01 02:00:00                    -105.250000  \n",
       "2019-01-01 03:00:00                    -301.416667  \n",
       "2019-01-01 04:00:00                    -614.500000  "
      ]
     },
     "execution_count": 52,
     "metadata": {},
     "output_type": "execute_result"
    }
   ],
   "source": [
    "emissions_df.head()"
   ]
  },
  {
   "cell_type": "code",
   "execution_count": 53,
   "id": "4a35b28b",
   "metadata": {},
   "outputs": [],
   "source": [
    "emissions_df.to_csv(os.path.join(os.getcwd(), \"CAISO_Data_2019_2021_NN.with_historical_projections.csv\"))"
   ]
  }
 ],
 "metadata": {
  "kernelspec": {
   "display_name": "Python 3 (ipykernel)",
   "language": "python",
   "name": "python3"
  },
  "language_info": {
   "codemirror_mode": {
    "name": "ipython",
    "version": 3
   },
   "file_extension": ".py",
   "mimetype": "text/x-python",
   "name": "python",
   "nbconvert_exporter": "python",
   "pygments_lexer": "ipython3",
   "version": "3.9.15"
  }
 },
 "nbformat": 4,
 "nbformat_minor": 5
}
