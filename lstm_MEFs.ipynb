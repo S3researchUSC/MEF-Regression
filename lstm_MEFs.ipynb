{
 "cells": [
  {
   "cell_type": "code",
   "execution_count": 16,
   "id": "6c3073f9",
   "metadata": {},
   "outputs": [],
   "source": [
    "%load_ext autoreload \n",
    "%autoreload 2"
   ]
  },
  {
   "cell_type": "code",
   "execution_count": 28,
   "id": "ee3b9786",
   "metadata": {
    "id": "ee3b9786"
   },
   "outputs": [],
   "source": [
    "import numpy as np\n",
    "import torch\n",
    "import torch.nn as nn\n",
    "import pandas as pd\n",
    "from sklearn import preprocessing\n",
    "from sklearn.metrics import r2_score, mean_absolute_error\n",
    "from tqdm.notebook import tqdm\n",
    "import matplotlib.pyplot as plt\n",
    "import random\n",
    "from pathlib import Path\n",
    "import os\n",
    "from datetime import datetime\n",
    "from sequence_models_utility import get_num_examples_in_data, load_and_preprocess_sequence_data, \\\n",
    "                                    train_model_with_params_batched, mse_loss_l1_coeff_reg, mse_loss_l2_coeff_reg"
   ]
  },
  {
   "cell_type": "markdown",
   "id": "a5f30fe9",
   "metadata": {
    "id": "a5f30fe9"
   },
   "source": [
    "## Parameters"
   ]
  },
  {
   "cell_type": "code",
   "execution_count": 23,
   "id": "08e1ec4a",
   "metadata": {
    "id": "08e1ec4a"
   },
   "outputs": [],
   "source": [
    "data_file = os.path.join(os.getcwd(), \"CAISO_Data_2019_2021_NN.csv\")\n",
    "work_dir = os.path.join(os.getcwd(), \"lstm_models\")\n",
    "device = torch.device('cuda' if torch.cuda.is_available() else 'cpu')"
   ]
  },
  {
   "cell_type": "code",
   "execution_count": 4,
   "id": "5a15b1a4",
   "metadata": {},
   "outputs": [
    {
     "data": {
      "text/plain": [
       "device(type='cuda')"
      ]
     },
     "execution_count": 4,
     "metadata": {},
     "output_type": "execute_result"
    }
   ],
   "source": [
    "device"
   ]
  },
  {
   "cell_type": "markdown",
   "id": "3d7fbe88",
   "metadata": {},
   "source": [
    "Take a look at split of data amongst train/val/test sets depending on train/val/test-block-sizes and sequence length"
   ]
  },
  {
   "cell_type": "code",
   "execution_count": 39,
   "id": "b08ac504",
   "metadata": {},
   "outputs": [
    {
     "name": "stdout",
     "output_type": "stream",
     "text": [
      "After splitting data to blocks of example sequences...\n",
      "Number of example sequences in train set: 15158 (60.5%)\n",
      "Number of example sequences in val set: 4944 (19.7%)\n",
      "Number of example sequences in test set: 4935 (19.7%)\n"
     ]
    }
   ],
   "source": [
    "feature_cols = feature_cols = ['Load', 'VRE', 'Hour', 'Day_of_Year']\n",
    "days_in_train_block = 6\n",
    "days_in_val_block = 2\n",
    "days_in_test_block = 2\n",
    "seq_len = 4\n",
    "data_sets = load_and_preprocess_sequence_data(data_file, feature_cols, days_in_train_block, \n",
    "                                              days_in_val_block, days_in_test_block, seq_len, device)\n",
    "print(f\"After splitting data to blocks of example sequences...\")\n",
    "total_examples = sum(len(data[\"X\"]) for data in data_sets.values())\n",
    "for set_name, data in data_sets.items():\n",
    "    print(f\"Number of example sequences in {set_name} set: {len(data['X'])} ({100*len(data['X'])/total_examples:.1f}%)\")"
   ]
  },
  {
   "cell_type": "code",
   "execution_count": 11,
   "id": "jMqj3kx1S4Pt",
   "metadata": {
    "colab": {
     "base_uri": "https://localhost:8080/"
    },
    "id": "jMqj3kx1S4Pt",
    "outputId": "ff5ec9a7-f7bf-47f8-91bb-994d214a2f39"
   },
   "outputs": [
    {
     "data": {
      "text/plain": [
       "torch.Size([15158, 4])"
      ]
     },
     "execution_count": 11,
     "metadata": {},
     "output_type": "execute_result"
    }
   ],
   "source": [
    "data_sets[\"train\"][\"y\"].shape"
   ]
  },
  {
   "cell_type": "code",
   "execution_count": 12,
   "id": "4JXpruwnsO7F",
   "metadata": {
    "colab": {
     "base_uri": "https://localhost:8080/"
    },
    "id": "4JXpruwnsO7F",
    "outputId": "3394d1d3-34fd-4623-e021-eddc48ec14f2"
   },
   "outputs": [
    {
     "data": {
      "text/plain": [
       "torch.Size([15158, 4, 4])"
      ]
     },
     "execution_count": 12,
     "metadata": {},
     "output_type": "execute_result"
    }
   ],
   "source": [
    "data_sets[\"train\"][\"X\"].shape"
   ]
  },
  {
   "cell_type": "markdown",
   "id": "d74d18ea",
   "metadata": {
    "id": "d74d18ea"
   },
   "source": [
    "## define model"
   ]
  },
  {
   "cell_type": "code",
   "execution_count": 19,
   "id": "7a1f3331",
   "metadata": {
    "id": "7a1f3331"
   },
   "outputs": [],
   "source": [
    "class LSTM(nn.Module):\n",
    "    def __init__(self, input_size, hidden_size, output_size,\n",
    "                 final_point_only, num_layers=1, dropout=0, debug=False):\n",
    "        super().__init__()\n",
    "        self.final_point_only = final_point_only\n",
    "        self.debug = debug\n",
    "        self.num_layers = num_layers\n",
    "        lstm_layers = [nn.LSTM(input_size=input_size, hidden_size=hidden_size, batch_first=True)]\n",
    "        lstm_layers += [nn.LSTM(input_size=hidden_size, hidden_size=hidden_size,\n",
    "                            batch_first=True) for l in range(num_layers - 1)] # subsequent layers take hidden dims as input\n",
    "        self.lstm_layers = nn.ModuleList(lstm_layers)\n",
    "        self.drop_layers = nn.ModuleList([nn.Dropout(dropout) for l in range(num_layers)])\n",
    "        self.bn_layers = nn.ModuleList([nn.BatchNorm1d(hidden_size) for l in range(num_layers)])\n",
    "        self.fc = nn.Linear(hidden_size, output_size)\n",
    "\n",
    "    def forward(self, input_seq):\n",
    "        for l in range(self.num_layers):\n",
    "            lstm_out, (hn, cn) = self.lstm_layers[l](input_seq)\n",
    "            lstm_out = self.bn_layers[l](lstm_out.permute(0,2,1)) # batch x hidden x seq_len is needed as input\n",
    "            lstm_out = lstm_out.permute(0, 2, 1) # switch hidden and seq_len dims back\n",
    "            lstm_out = self.drop_layers[l](lstm_out)\n",
    "            input_seq = lstm_out\n",
    "        if self.final_point_only:\n",
    "            lstm_out = torch.unsqueeze(lstm_out[:,-1,:], 1) # batch x seq_len x hidden\n",
    "        fc_out = self.fc(lstm_out)\n",
    "        if self.debug:\n",
    "            print(f\"lstm_out: {lstm_out}\")\n",
    "            print(f\"hn: {hn}\")\n",
    "            print(f\"cn: {cn}\")\n",
    "            print(f\"self.fc: {self.fc}\")\n",
    "            print(f\"fc_out: {fc_out}\")\n",
    "        return fc_out\n"
   ]
  },
  {
   "cell_type": "markdown",
   "id": "0a1bc93f",
   "metadata": {
    "id": "0a1bc93f"
   },
   "source": [
    "## Model Training / Hyperparam Tuning"
   ]
  },
  {
   "cell_type": "code",
   "execution_count": 40,
   "id": "NdIOFfthFwW0",
   "metadata": {
    "colab": {
     "base_uri": "https://localhost:8080/",
     "height": 1000,
     "referenced_widgets": [
      "48f79cf624ea41229db24af7f7307eaa",
      "018f158461264820a43037233dc3843d",
      "5ce0b73fc6f843138c8b76f290562c69",
      "5d58cbdd7b944e99a9a24d2f7c9d3948",
      "1ccca095afed40f3a7d93abf2c94749b",
      "90ee2656eb3e4bd5a0d1189cac2d521c",
      "138722bc77c3400389ef616905904eaf",
      "7331c03842214571a355d32dc4f98865",
      "163dbaf1211a44d39d2faf30e2509295",
      "843889c691d04f938ad4bfdf5a4f3a6b",
      "05c854c5dda546acabb9da4ddad5b0ce"
     ]
    },
    "id": "NdIOFfthFwW0",
    "outputId": "b6647c26-ddca-4ece-b0c1-b6bb832d8706",
    "scrolled": false
   },
   "outputs": [
    {
     "name": "stdout",
     "output_type": "stream",
     "text": [
      "Model Settings:\n",
      "\tinput_size=4\n",
      "\thidden_size=8\n",
      "\toutput_size=3\n",
      "\tfinal_point_only=True\n",
      "\tnum_layers=2\n",
      "\tdropout=0.5\n",
      "Model Architecture:\n",
      "LSTM(\n",
      "  (lstm_layers): ModuleList(\n",
      "    (0): LSTM(4, 8, batch_first=True)\n",
      "    (1): LSTM(8, 8, batch_first=True)\n",
      "  )\n",
      "  (drop_layers): ModuleList(\n",
      "    (0): Dropout(p=0.5, inplace=False)\n",
      "    (1): Dropout(p=0.5, inplace=False)\n",
      "  )\n",
      "  (bn_layers): ModuleList(\n",
      "    (0): BatchNorm1d(8, eps=1e-05, momentum=0.1, affine=True, track_running_stats=True)\n",
      "    (1): BatchNorm1d(8, eps=1e-05, momentum=0.1, affine=True, track_running_stats=True)\n",
      "  )\n",
      "  (fc): Linear(in_features=8, out_features=3, bias=True)\n",
      ")\n",
      "Data Settings:\n",
      "\tfeature_cols=['Load', 'VRE', 'Hour', 'Day_of_Year']\n",
      "\tdays_in_train_block=6\n",
      "\tdays_in_val_block=2\n",
      "\tdays_in_test_block=2\n",
      "\tseq_len=4\n",
      "Optimizer Settings:\n",
      "\tlearning_rate=0.003\n",
      "\tweight_decay=0.01\n",
      "Loss Function Settings:\n",
      "\tloss_function=<function mse_loss_l1_coeff_reg at 0x0000016C9332BF70>\n",
      "\tMEF_reg_weight=10000000.0\n",
      "\tMDF_reg_weight=10000000.0\n",
      "Train Process Settings:\n",
      "\tbatch_size=2048\n",
      "\tepochs=500\n",
      "\tmin_save_r2=0.7\n",
      "\tmax_save_mae=200000\n"
     ]
    },
    {
     "data": {
      "application/vnd.jupyter.widget-view+json": {
       "model_id": "bbd02beda75e4f16af276da700b8d5a6",
       "version_major": 2,
       "version_minor": 0
      },
      "text/plain": [
       "  0%|          | 0/500 [00:00<?, ?it/s]"
      ]
     },
     "metadata": {},
     "output_type": "display_data"
    },
    {
     "name": "stdout",
     "output_type": "stream",
     "text": [
      "[Epoch 0]\n",
      "\tTrain Set: Loss=3.494e+12, R Squared=0.0007, Invalid MEFs=0, Invalid MDFs=13744\n",
      "\tVal Set: Loss=1.362e+12, R Squared=0.0007, Invalid MEFs=0, Invalid MDFs=4553\n"
     ]
    },
    {
     "ename": "KeyboardInterrupt",
     "evalue": "",
     "output_type": "error",
     "traceback": [
      "\u001b[1;31m---------------------------------------------------------------------------\u001b[0m",
      "\u001b[1;31mKeyboardInterrupt\u001b[0m                         Traceback (most recent call last)",
      "Cell \u001b[1;32mIn [40], line 54\u001b[0m\n\u001b[0;32m     47\u001b[0m data_settings \u001b[38;5;241m=\u001b[39m {\u001b[38;5;124m\"\u001b[39m\u001b[38;5;124mfeature_cols\u001b[39m\u001b[38;5;124m\"\u001b[39m: feature_cols,\n\u001b[0;32m     48\u001b[0m                  \u001b[38;5;124m\"\u001b[39m\u001b[38;5;124mdays_in_train_block\u001b[39m\u001b[38;5;124m\"\u001b[39m: days_in_train_block,\n\u001b[0;32m     49\u001b[0m                  \u001b[38;5;124m\"\u001b[39m\u001b[38;5;124mdays_in_val_block\u001b[39m\u001b[38;5;124m\"\u001b[39m: days_in_val_block,\n\u001b[0;32m     50\u001b[0m                  \u001b[38;5;124m\"\u001b[39m\u001b[38;5;124mdays_in_test_block\u001b[39m\u001b[38;5;124m\"\u001b[39m: days_in_test_block,\n\u001b[0;32m     51\u001b[0m                  \u001b[38;5;124m\"\u001b[39m\u001b[38;5;124mseq_len\u001b[39m\u001b[38;5;124m\"\u001b[39m: seq_len}\n\u001b[0;32m     53\u001b[0m \u001b[38;5;66;03m# evaluate\u001b[39;00m\n\u001b[1;32m---> 54\u001b[0m save_model_path \u001b[38;5;241m=\u001b[39m \u001b[43mtrain_model_with_params_batched\u001b[49m\u001b[43m(\u001b[49m\u001b[43mdata_sets\u001b[49m\u001b[43m,\u001b[49m\u001b[43m \u001b[49m\u001b[43mdata_settings\u001b[49m\u001b[43m,\u001b[49m\u001b[43m \u001b[49m\u001b[38;5;66;43;03m# data\u001b[39;49;00m\n\u001b[0;32m     55\u001b[0m \u001b[43m                            \u001b[49m\u001b[43mmodel\u001b[49m\u001b[43m,\u001b[49m\u001b[43m \u001b[49m\u001b[43mmodel_settings\u001b[49m\u001b[43m,\u001b[49m\u001b[43m  \u001b[49m\u001b[38;5;66;43;03m# model settings\u001b[39;49;00m\n\u001b[0;32m     56\u001b[0m \u001b[43m                            \u001b[49m\u001b[43mlearning_rate\u001b[49m\u001b[43m,\u001b[49m\u001b[43m \u001b[49m\u001b[43mweight_decay\u001b[49m\u001b[43m,\u001b[49m\u001b[43m  \u001b[49m\u001b[38;5;66;43;03m# optimizer settings\u001b[39;49;00m\n\u001b[0;32m     57\u001b[0m \u001b[43m                            \u001b[49m\u001b[43mloss_function\u001b[49m\u001b[43m,\u001b[49m\u001b[43m \u001b[49m\u001b[43mMEF_reg_weight\u001b[49m\u001b[43m,\u001b[49m\u001b[43m \u001b[49m\u001b[43mMDF_reg_weight\u001b[49m\u001b[43m,\u001b[49m\u001b[43m  \u001b[49m\u001b[38;5;66;43;03m# loss function settings\u001b[39;49;00m\n\u001b[0;32m     58\u001b[0m \u001b[43m                            \u001b[49m\u001b[43mmodel_dir\u001b[49m\u001b[43m,\u001b[49m\u001b[43m \u001b[49m\u001b[43mbatch_size\u001b[49m\u001b[43m,\u001b[49m\u001b[43m \u001b[49m\u001b[43mepochs\u001b[49m\u001b[43m,\u001b[49m\u001b[43m \u001b[49m\u001b[43mprint_freq\u001b[49m\u001b[43m,\u001b[49m\u001b[43m \u001b[49m\u001b[43mmin_save_r2\u001b[49m\u001b[43m,\u001b[49m\u001b[43m \u001b[49m\u001b[43mmax_save_mae\u001b[49m\u001b[43m)\u001b[49m\n",
      "File \u001b[1;32m~\\Documents\\MEF-Regression\\sequence_models_utility.py:323\u001b[0m, in \u001b[0;36mtrain_model_with_params_batched\u001b[1;34m(data_sets, data_settings, model, model_settings, learning_rate, weight_decay, loss_function, MEF_reg_weight, MDF_reg_weight, model_dir, batch_size, epochs, print_freq, min_save_r2, max_save_mae)\u001b[0m\n\u001b[0;32m    320\u001b[0m batch_train_bottleneck_X \u001b[38;5;241m=\u001b[39m train_bottleneck_X[batch_start: batch_end]\n\u001b[0;32m    321\u001b[0m batch_train_y \u001b[38;5;241m=\u001b[39m train_y[batch_start: batch_end]\n\u001b[1;32m--> 323\u001b[0m batch_train_pred_coeff \u001b[38;5;241m=\u001b[39m \u001b[43mmodel\u001b[49m\u001b[43m(\u001b[49m\u001b[43mbatch_train_X\u001b[49m\u001b[38;5;241;43m.\u001b[39;49m\u001b[43mfloat\u001b[49m\u001b[43m(\u001b[49m\u001b[43m)\u001b[49m\u001b[43m)\u001b[49m\n\u001b[0;32m    324\u001b[0m batch_train_loss \u001b[38;5;241m=\u001b[39m loss_function(batch_train_pred_coeff, batch_train_bottleneck_X, batch_train_y, MEF_reg_weight, MDF_reg_weight)\n\u001b[0;32m    325\u001b[0m model\u001b[38;5;241m.\u001b[39mzero_grad()\n",
      "File \u001b[1;32m~\\anaconda3\\envs\\mef-regression\\lib\\site-packages\\torch\\nn\\modules\\module.py:1190\u001b[0m, in \u001b[0;36mModule._call_impl\u001b[1;34m(self, *input, **kwargs)\u001b[0m\n\u001b[0;32m   1186\u001b[0m \u001b[38;5;66;03m# If we don't have any hooks, we want to skip the rest of the logic in\u001b[39;00m\n\u001b[0;32m   1187\u001b[0m \u001b[38;5;66;03m# this function, and just call forward.\u001b[39;00m\n\u001b[0;32m   1188\u001b[0m \u001b[38;5;28;01mif\u001b[39;00m \u001b[38;5;129;01mnot\u001b[39;00m (\u001b[38;5;28mself\u001b[39m\u001b[38;5;241m.\u001b[39m_backward_hooks \u001b[38;5;129;01mor\u001b[39;00m \u001b[38;5;28mself\u001b[39m\u001b[38;5;241m.\u001b[39m_forward_hooks \u001b[38;5;129;01mor\u001b[39;00m \u001b[38;5;28mself\u001b[39m\u001b[38;5;241m.\u001b[39m_forward_pre_hooks \u001b[38;5;129;01mor\u001b[39;00m _global_backward_hooks\n\u001b[0;32m   1189\u001b[0m         \u001b[38;5;129;01mor\u001b[39;00m _global_forward_hooks \u001b[38;5;129;01mor\u001b[39;00m _global_forward_pre_hooks):\n\u001b[1;32m-> 1190\u001b[0m     \u001b[38;5;28;01mreturn\u001b[39;00m forward_call(\u001b[38;5;241m*\u001b[39m\u001b[38;5;28minput\u001b[39m, \u001b[38;5;241m*\u001b[39m\u001b[38;5;241m*\u001b[39mkwargs)\n\u001b[0;32m   1191\u001b[0m \u001b[38;5;66;03m# Do not call functions when jit is used\u001b[39;00m\n\u001b[0;32m   1192\u001b[0m full_backward_hooks, non_full_backward_hooks \u001b[38;5;241m=\u001b[39m [], []\n",
      "Cell \u001b[1;32mIn [19], line 55\u001b[0m, in \u001b[0;36mLSTM.forward\u001b[1;34m(self, input_seq)\u001b[0m\n\u001b[0;32m     53\u001b[0m \u001b[38;5;28;01mdef\u001b[39;00m \u001b[38;5;21mforward\u001b[39m(\u001b[38;5;28mself\u001b[39m, input_seq):\n\u001b[0;32m     54\u001b[0m     \u001b[38;5;28;01mfor\u001b[39;00m l \u001b[38;5;129;01min\u001b[39;00m \u001b[38;5;28mrange\u001b[39m(\u001b[38;5;28mself\u001b[39m\u001b[38;5;241m.\u001b[39mnum_layers):\n\u001b[1;32m---> 55\u001b[0m         lstm_out, (hn, cn) \u001b[38;5;241m=\u001b[39m \u001b[38;5;28;43mself\u001b[39;49m\u001b[38;5;241;43m.\u001b[39;49m\u001b[43mlstm_layers\u001b[49m\u001b[43m[\u001b[49m\u001b[43ml\u001b[49m\u001b[43m]\u001b[49m\u001b[43m(\u001b[49m\u001b[43minput_seq\u001b[49m\u001b[43m)\u001b[49m\n\u001b[0;32m     56\u001b[0m         lstm_out \u001b[38;5;241m=\u001b[39m \u001b[38;5;28mself\u001b[39m\u001b[38;5;241m.\u001b[39mbn_layers[l](lstm_out\u001b[38;5;241m.\u001b[39mpermute(\u001b[38;5;241m0\u001b[39m,\u001b[38;5;241m2\u001b[39m,\u001b[38;5;241m1\u001b[39m)) \u001b[38;5;66;03m# batch x hidden x seq_len is needed as input\u001b[39;00m\n\u001b[0;32m     57\u001b[0m         lstm_out \u001b[38;5;241m=\u001b[39m lstm_out\u001b[38;5;241m.\u001b[39mpermute(\u001b[38;5;241m0\u001b[39m, \u001b[38;5;241m2\u001b[39m, \u001b[38;5;241m1\u001b[39m) \u001b[38;5;66;03m# switch hidden and seq_len dims back\u001b[39;00m\n",
      "File \u001b[1;32m~\\anaconda3\\envs\\mef-regression\\lib\\site-packages\\torch\\nn\\modules\\module.py:1190\u001b[0m, in \u001b[0;36mModule._call_impl\u001b[1;34m(self, *input, **kwargs)\u001b[0m\n\u001b[0;32m   1186\u001b[0m \u001b[38;5;66;03m# If we don't have any hooks, we want to skip the rest of the logic in\u001b[39;00m\n\u001b[0;32m   1187\u001b[0m \u001b[38;5;66;03m# this function, and just call forward.\u001b[39;00m\n\u001b[0;32m   1188\u001b[0m \u001b[38;5;28;01mif\u001b[39;00m \u001b[38;5;129;01mnot\u001b[39;00m (\u001b[38;5;28mself\u001b[39m\u001b[38;5;241m.\u001b[39m_backward_hooks \u001b[38;5;129;01mor\u001b[39;00m \u001b[38;5;28mself\u001b[39m\u001b[38;5;241m.\u001b[39m_forward_hooks \u001b[38;5;129;01mor\u001b[39;00m \u001b[38;5;28mself\u001b[39m\u001b[38;5;241m.\u001b[39m_forward_pre_hooks \u001b[38;5;129;01mor\u001b[39;00m _global_backward_hooks\n\u001b[0;32m   1189\u001b[0m         \u001b[38;5;129;01mor\u001b[39;00m _global_forward_hooks \u001b[38;5;129;01mor\u001b[39;00m _global_forward_pre_hooks):\n\u001b[1;32m-> 1190\u001b[0m     \u001b[38;5;28;01mreturn\u001b[39;00m forward_call(\u001b[38;5;241m*\u001b[39m\u001b[38;5;28minput\u001b[39m, \u001b[38;5;241m*\u001b[39m\u001b[38;5;241m*\u001b[39mkwargs)\n\u001b[0;32m   1191\u001b[0m \u001b[38;5;66;03m# Do not call functions when jit is used\u001b[39;00m\n\u001b[0;32m   1192\u001b[0m full_backward_hooks, non_full_backward_hooks \u001b[38;5;241m=\u001b[39m [], []\n",
      "File \u001b[1;32m~\\anaconda3\\envs\\mef-regression\\lib\\site-packages\\torch\\nn\\modules\\rnn.py:774\u001b[0m, in \u001b[0;36mLSTM.forward\u001b[1;34m(self, input, hx)\u001b[0m\n\u001b[0;32m    772\u001b[0m \u001b[38;5;28mself\u001b[39m\u001b[38;5;241m.\u001b[39mcheck_forward_args(\u001b[38;5;28minput\u001b[39m, hx, batch_sizes)\n\u001b[0;32m    773\u001b[0m \u001b[38;5;28;01mif\u001b[39;00m batch_sizes \u001b[38;5;129;01mis\u001b[39;00m \u001b[38;5;28;01mNone\u001b[39;00m:\n\u001b[1;32m--> 774\u001b[0m     result \u001b[38;5;241m=\u001b[39m \u001b[43m_VF\u001b[49m\u001b[38;5;241;43m.\u001b[39;49m\u001b[43mlstm\u001b[49m\u001b[43m(\u001b[49m\u001b[38;5;28;43minput\u001b[39;49m\u001b[43m,\u001b[49m\u001b[43m \u001b[49m\u001b[43mhx\u001b[49m\u001b[43m,\u001b[49m\u001b[43m \u001b[49m\u001b[38;5;28;43mself\u001b[39;49m\u001b[38;5;241;43m.\u001b[39;49m\u001b[43m_flat_weights\u001b[49m\u001b[43m,\u001b[49m\u001b[43m \u001b[49m\u001b[38;5;28;43mself\u001b[39;49m\u001b[38;5;241;43m.\u001b[39;49m\u001b[43mbias\u001b[49m\u001b[43m,\u001b[49m\u001b[43m \u001b[49m\u001b[38;5;28;43mself\u001b[39;49m\u001b[38;5;241;43m.\u001b[39;49m\u001b[43mnum_layers\u001b[49m\u001b[43m,\u001b[49m\n\u001b[0;32m    775\u001b[0m \u001b[43m                      \u001b[49m\u001b[38;5;28;43mself\u001b[39;49m\u001b[38;5;241;43m.\u001b[39;49m\u001b[43mdropout\u001b[49m\u001b[43m,\u001b[49m\u001b[43m \u001b[49m\u001b[38;5;28;43mself\u001b[39;49m\u001b[38;5;241;43m.\u001b[39;49m\u001b[43mtraining\u001b[49m\u001b[43m,\u001b[49m\u001b[43m \u001b[49m\u001b[38;5;28;43mself\u001b[39;49m\u001b[38;5;241;43m.\u001b[39;49m\u001b[43mbidirectional\u001b[49m\u001b[43m,\u001b[49m\u001b[43m \u001b[49m\u001b[38;5;28;43mself\u001b[39;49m\u001b[38;5;241;43m.\u001b[39;49m\u001b[43mbatch_first\u001b[49m\u001b[43m)\u001b[49m\n\u001b[0;32m    776\u001b[0m \u001b[38;5;28;01melse\u001b[39;00m:\n\u001b[0;32m    777\u001b[0m     result \u001b[38;5;241m=\u001b[39m _VF\u001b[38;5;241m.\u001b[39mlstm(\u001b[38;5;28minput\u001b[39m, batch_sizes, hx, \u001b[38;5;28mself\u001b[39m\u001b[38;5;241m.\u001b[39m_flat_weights, \u001b[38;5;28mself\u001b[39m\u001b[38;5;241m.\u001b[39mbias,\n\u001b[0;32m    778\u001b[0m                       \u001b[38;5;28mself\u001b[39m\u001b[38;5;241m.\u001b[39mnum_layers, \u001b[38;5;28mself\u001b[39m\u001b[38;5;241m.\u001b[39mdropout, \u001b[38;5;28mself\u001b[39m\u001b[38;5;241m.\u001b[39mtraining, \u001b[38;5;28mself\u001b[39m\u001b[38;5;241m.\u001b[39mbidirectional)\n",
      "\u001b[1;31mKeyboardInterrupt\u001b[0m: "
     ]
    }
   ],
   "source": [
    "# data settings\n",
    "feature_cols = ['Load', 'VRE', 'Hour', 'Day_of_Year']\n",
    "days_in_train_block = 6\n",
    "days_in_val_block = 2\n",
    "days_in_test_block = 2\n",
    "seq_len = 4\n",
    "\n",
    "# model settings\n",
    "input_size = len(feature_cols)\n",
    "hidden_size = 8\n",
    "output_size = 3  # 2 for no intercept term, 3 to include an intercept term\n",
    "final_point_only = True\n",
    "num_layers = 2\n",
    "dropout = .5\n",
    "model = LSTM(input_size, hidden_size, output_size, final_point_only, num_layers, dropout)\n",
    "model.to(device)\n",
    "\n",
    "# optimizer settings\n",
    "learning_rate = .003\n",
    "weight_decay = .01\n",
    "\n",
    "# loss function settings\n",
    "loss_function = mse_loss_l1_coeff_reg\n",
    "MEF_reg_weight, MDF_reg_weight = 1e7, 1e7\n",
    "\n",
    "# training settings\n",
    "model_dir_prefix = f\"predict_{'final' if final_point_only else 'all'}_in_seq4_BNs\"\n",
    "batch_size = 2048\n",
    "epochs = 500 #1500\n",
    "min_save_r2 = .7 #.86\n",
    "max_save_mae = 200000 #150000\n",
    "print_freq = 100 # 50\n",
    "\n",
    "\n",
    "# Load and preprocess data\n",
    "data_sets = load_and_preprocess_sequence_data(data_file, feature_cols, days_in_train_block, \n",
    "                                              days_in_val_block, days_in_test_block, seq_len, device)\n",
    "\n",
    "model_dir = os.path.join(work_dir, model_dir_prefix)\n",
    "\n",
    "model_settings = {\"input_size\": input_size,\n",
    "                  \"hidden_size\": hidden_size,\n",
    "                  \"output_size\": output_size,\n",
    "                  \"final_point_only\": final_point_only,\n",
    "                  \"num_layers\": num_layers,\n",
    "                  \"dropout\": dropout}\n",
    "data_settings = {\"feature_cols\": feature_cols,\n",
    "                 \"days_in_train_block\": days_in_train_block,\n",
    "                 \"days_in_val_block\": days_in_val_block,\n",
    "                 \"days_in_test_block\": days_in_test_block,\n",
    "                 \"seq_len\": seq_len}\n",
    "\n",
    "# evaluate\n",
    "save_model_path = train_model_with_params_batched(data_sets, data_settings, # data\n",
    "                            model, model_settings,  # model settings\n",
    "                            learning_rate, weight_decay,  # optimizer settings\n",
    "                            loss_function, MEF_reg_weight, MDF_reg_weight,  # loss function settings\n",
    "                            model_dir, batch_size, epochs, print_freq, min_save_r2, max_save_mae)  # train settings"
   ]
  },
  {
   "cell_type": "markdown",
   "id": "d7rNwHtGa1wX",
   "metadata": {
    "id": "d7rNwHtGa1wX"
   },
   "source": [
    "## Inference on all data"
   ]
  },
  {
   "cell_type": "code",
   "execution_count": 102,
   "id": "_aGp7ISVb0y8",
   "metadata": {
    "id": "_aGp7ISVb0y8"
   },
   "outputs": [],
   "source": [
    "## below we can load specific models instead of best one found in most recent experiment\n",
    "model_path= \"drive/MyDrive/NN_MEFs/lstm_models/predict_all_in_seq8/2022_12_08-12:36:39_AM/epoch=998,r2=0.8741,Invalids=0.pth\"\n",
    "\n",
    "train_set, val_set = data_sets[\"train\"], data_sets[\"val\"]      \n",
    "train_X, train_bottleneck_X, train_y = train_set[\"X\"], train_set[\"bottleneck_X\"], train_set[\"y\"]\n",
    "val_X, val_bottleneck_X, val_y = val_set[\"X\"], val_set[\"bottleneck_X\"], val_set[\"y\"]\n",
    "input_size = train_X.shape[-1]\n",
    "output_size = 3  # 3 means we have an intercept\n",
    "hidden_size = 32\n",
    "final_point_only = False\n",
    "num_layers = 1\n",
    "dropout = 0\n",
    "\n",
    "model = LSTM(input_size, hidden_size, output_size, final_point_only, num_layers, dropout)\n",
    "model.to(device)\n",
    "model.load_state_dict(torch.load(model_path))\n",
    "model.eval()\n",
    "\n",
    "train_pred_coeff = model(train_X.float())\n",
    "val_pred_coeff = model(val_X.float())\n"
   ]
  },
  {
   "cell_type": "code",
   "execution_count": 103,
   "id": "Xzu9Fu4wZ6ZD",
   "metadata": {
    "id": "Xzu9Fu4wZ6ZD"
   },
   "outputs": [],
   "source": [
    "train_y_pred = get_y_pred(train_pred_coeff, train_bottleneck_X)"
   ]
  },
  {
   "cell_type": "code",
   "execution_count": 112,
   "id": "4x-M_96gZ6P5",
   "metadata": {
    "colab": {
     "base_uri": "https://localhost:8080/"
    },
    "id": "4x-M_96gZ6P5",
    "outputId": "919cad51-3c97-4c95-a955-ca1d7a019a53"
   },
   "outputs": [
    {
     "data": {
      "text/plain": [
       "torch.Size([14443, 8])"
      ]
     },
     "execution_count": 112,
     "metadata": {},
     "output_type": "execute_result"
    }
   ],
   "source": [
    "train_y_pred.shape"
   ]
  },
  {
   "cell_type": "code",
   "execution_count": 113,
   "id": "W4G-XBQTZ6LF",
   "metadata": {
    "colab": {
     "base_uri": "https://localhost:8080/"
    },
    "id": "W4G-XBQTZ6LF",
    "outputId": "73de7ee6-d58d-4348-8129-7d223a3059c0"
   },
   "outputs": [
    {
     "data": {
      "text/plain": [
       "0.8834384493448952"
      ]
     },
     "execution_count": 113,
     "metadata": {},
     "output_type": "execute_result"
    }
   ],
   "source": [
    "r2_score(train_y.cpu().detach().numpy(), train_y_pred.cpu().detach().numpy())"
   ]
  },
  {
   "cell_type": "code",
   "execution_count": 116,
   "id": "J93Aym-wZ6Ex",
   "metadata": {
    "colab": {
     "base_uri": "https://localhost:8080/"
    },
    "id": "J93Aym-wZ6Ex",
    "outputId": "4cd71904-4aea-4b94-f467-e4eb4dab89c0"
   },
   "outputs": [
    {
     "data": {
      "text/plain": [
       "[0.8529343380942997,\n",
       " 0.8696363903200108,\n",
       " 0.8795923203147114,\n",
       " 0.8862990346813329,\n",
       " 0.8909820117950451,\n",
       " 0.8939545501303765,\n",
       " 0.8963344742449033,\n",
       " 0.897774475458195]"
      ]
     },
     "execution_count": 116,
     "metadata": {},
     "output_type": "execute_result"
    }
   ],
   "source": [
    "[r2_score(y, y_pred) for y, y_pred in \\\n",
    " zip(train_y.permute(1,0).cpu().detach().numpy(), train_y_pred.permute(1,0).cpu().detach().numpy())]"
   ]
  },
  {
   "cell_type": "code",
   "execution_count": 117,
   "id": "EYBqgfGmc1QH",
   "metadata": {
    "colab": {
     "base_uri": "https://localhost:8080/"
    },
    "id": "EYBqgfGmc1QH",
    "outputId": "4fc5e450-4bca-465f-8eee-7fcf5684453c"
   },
   "outputs": [
    {
     "name": "stdout",
     "output_type": "stream",
     "text": [
      "overall val r2: 0.8741031307517685\n",
      "val r2 by sequence position:\n",
      "[0.8568319386070357, 0.8682907729195138, 0.8745469021399369, 0.8777426423604695, 0.8794796853834416, 0.8781586552040923, 0.8787055918233209, 0.8790688571549825]\n"
     ]
    }
   ],
   "source": [
    "val_y_pred = get_y_pred(val_pred_coeff, val_bottleneck_X)\n",
    "print(f\"overall val r2: {r2_score(val_y.cpu().detach().numpy(), val_y_pred.cpu().detach().numpy())}\")\n",
    "print(\"val r2 by sequence position:\")\n",
    "print([r2_score(y, y_pred) for y, y_pred in \\\n",
    " zip(val_y.permute(1,0).cpu().detach().numpy(), val_y_pred.permute(1,0).cpu().detach().numpy())])"
   ]
  },
  {
   "cell_type": "code",
   "execution_count": null,
   "id": "S0Xum_K0c1Mi",
   "metadata": {
    "id": "S0Xum_K0c1Mi"
   },
   "outputs": [],
   "source": []
  },
  {
   "cell_type": "code",
   "execution_count": null,
   "id": "QqKvf2Q0c0-Y",
   "metadata": {
    "id": "QqKvf2Q0c0-Y"
   },
   "outputs": [],
   "source": []
  },
  {
   "cell_type": "code",
   "execution_count": null,
   "id": "6DHacOOCZYoj",
   "metadata": {
    "colab": {
     "base_uri": "https://localhost:8080/"
    },
    "id": "6DHacOOCZYoj",
    "outputId": "b7064058-d857-4b67-ba28-02d67b71d9ad"
   },
   "outputs": [
    {
     "name": "stdout",
     "output_type": "stream",
     "text": [
      "R Squared:\n",
      "\tTrain: 0.8921\n",
      "\tVal: 0.8805\n",
      "\tTest: 0.8755\n",
      "Mean Absolute Error:\n",
      "\tTrain: 131028.76\n",
      "\tVal: 140016.71\n",
      "\tTest: 139890.26\n",
      "Count Invalid Values Predicted:\n",
      "\tTrain: Invalid MEFs=0, Invalid MDFs=0\n",
      "\tVal: Invalid MEFs=0, Invalid MDFs=0\n",
      "\tTest: Invalid MEFs=0, Invalid MDFs=0\n"
     ]
    }
   ],
   "source": [
    "hidden_dims = [512,256]\n",
    "bias_term = True\n",
    "dropout_p = 0.5\n",
    "n_input = train_x.shape[1]\n",
    "\n",
    "\n",
    "model = get_model(n_input, hidden_dims, n_out, dropout_p)\n",
    "model.to(device)\n",
    "model.load_state_dict(torch.load(best_model_path))\n",
    "model.eval()\n",
    "\n",
    "train_pred_coeff = model(train_x.float()).cpu()\n",
    "val_pred_coeff = model(val_x.float()).cpu()\n",
    "test_pred_coeff = model(test_x.float()).cpu()\n",
    "\n",
    "print(\"R Squared:\")\n",
    "print(f\"\\tTrain: {get_r_squared(train_pred_coeff, CAISO_train, bias_term):.4f}\")\n",
    "print(f\"\\tVal: {get_r_squared(val_pred_coeff, CAISO_val, bias_term):.4f}\")\n",
    "print(f\"\\tTest: {get_r_squared(test_pred_coeff, CAISO_test, bias_term):.4f}\")\n",
    "print(\"Mean Absolute Error:\")\n",
    "print(f\"\\tTrain: {get_mean_abs_err(train_pred_coeff, CAISO_train, bias_term):.2f}\")\n",
    "print(f\"\\tVal: {get_mean_abs_err(val_pred_coeff, CAISO_val, bias_term):.2f}\")\n",
    "print(f\"\\tTest: {get_mean_abs_err(test_pred_coeff, CAISO_test, bias_term):.2f}\")\n",
    "print(\"Count Invalid Values Predicted:\")\n",
    "invalid_train_MEFs, invalid_train_MDFs = get_count_invalid_preds(train_pred_coeff)\n",
    "invalid_val_MEFs, invalid_val_MDFs = get_count_invalid_preds(val_pred_coeff)\n",
    "invalid_test_MEFs, invalid_test_MDFs = get_count_invalid_preds(test_pred_coeff)\n",
    "print(f\"\\tTrain: Invalid MEFs={invalid_train_MEFs}, Invalid MDFs={invalid_train_MDFs}\")\n",
    "print(f\"\\tVal: Invalid MEFs={invalid_val_MEFs}, Invalid MDFs={invalid_val_MDFs}\")\n",
    "print(f\"\\tTest: Invalid MEFs={invalid_test_MEFs}, Invalid MDFs={invalid_test_MDFs}\")\n"
   ]
  },
  {
   "cell_type": "markdown",
   "id": "fi3OLzVQPK_O",
   "metadata": {
    "id": "fi3OLzVQPK_O"
   },
   "source": [
    "### Put the MEFs and MDFs from all sets back together and in order into the original DF for viewing"
   ]
  },
  {
   "cell_type": "code",
   "execution_count": null,
   "id": "uB50w20k_Iao",
   "metadata": {
    "id": "uB50w20k_Iao"
   },
   "outputs": [],
   "source": [
    "all_preds_w_timestamps = list(zip(CAISO_val.index, val_pred_coeff.detach().numpy())) \\\n",
    "                        + list(zip(CAISO_train.index, train_pred_coeff.detach().numpy())) \\\n",
    "                        + list(zip(CAISO_test.index, test_pred_coeff.detach().numpy()))\n",
    "all_preds_w_timestamps.sort(key=lambda pair: pair[0])\n",
    "all_preds_ordered = np.array([pair[1] for pair in all_preds_w_timestamps])"
   ]
  },
  {
   "cell_type": "code",
   "execution_count": null,
   "id": "vHn1WJaZCXm2",
   "metadata": {
    "id": "vHn1WJaZCXm2"
   },
   "outputs": [],
   "source": [
    "all_MEFs_ordered = all_preds_ordered[:,0]\n",
    "all_MDFs_ordered = all_preds_ordered[:,1]\n",
    "all_intercepts_ordered = all_preds_ordered[:,2]"
   ]
  },
  {
   "cell_type": "code",
   "execution_count": null,
   "id": "aDaE9gk8cX_g",
   "metadata": {
    "colab": {
     "base_uri": "https://localhost:8080/"
    },
    "id": "aDaE9gk8cX_g",
    "outputId": "e18f47bf-7d0a-4621-9d5d-615c99f75149"
   },
   "outputs": [
    {
     "name": "stdout",
     "output_type": "stream",
     "text": [
      "Whole Data Set:\n",
      "\tMean Emissions Change = 413165.73\n",
      "\tR Squared = 0.8864\n",
      "\tMean Absolute Error = 134598.78\n"
     ]
    }
   ],
   "source": [
    "CAISO_Data.loc[:,\"MEF\"] = all_MEFs_ordered\n",
    "CAISO_Data.loc[:,\"MDF\"] = all_MDFs_ordered\n",
    "if bias_term:\n",
    "    CAISO_Data.loc[:,\"Intercept\"] = all_intercepts_ordered\n",
    "\n",
    "#calculate some error stuff. rn i am thinking R2 is the best measure of error\n",
    "d_emissions = CAISO_Data.loc[:,'MEF'] * CAISO_Data.loc[:,'delta_Load'] \\\n",
    "            + CAISO_Data.loc[:,'MDF'] * CAISO_Data.loc[:,'delta_VRE']\n",
    "if bias_term:\n",
    "    d_emissions += CAISO_Data.loc[:,\"Intercept\"]\n",
    "CAISO_Data.loc[:,'Predicted_delta_Total_CO2_Emissions'] = d_emissions\n",
    "CAISO_Data.loc[:,'Error']=CAISO_Data.loc[:,'Predicted_delta_Total_CO2_Emissions']-CAISO_Data.loc[:,'delta_Total_CO2_Emissions']\n",
    "CAISO_Data.loc[:,'%_Error']=np.abs(CAISO_Data.loc[:,'Error'])/np.abs(CAISO_Data.loc[:,'delta_Total_CO2_Emissions'])\n",
    "print(\"Whole Data Set:\")\n",
    "print(f\"\\tMean Emissions Change = {np.mean(np.abs(CAISO_Data['delta_Total_CO2_Emissions'])):.2f}\")\n",
    "print(f\"\\tR Squared = {r2_score(CAISO_Data['delta_Total_CO2_Emissions'], CAISO_Data['Predicted_delta_Total_CO2_Emissions']):.4f}\")\n",
    "print(f\"\\tMean Absolute Error = {mean_absolute_error(CAISO_Data['delta_Total_CO2_Emissions'], CAISO_Data['Predicted_delta_Total_CO2_Emissions']):.2f}\")"
   ]
  },
  {
   "cell_type": "code",
   "execution_count": null,
   "id": "HLrBWNZifiaF",
   "metadata": {
    "colab": {
     "base_uri": "https://localhost:8080/",
     "height": 473
    },
    "id": "HLrBWNZifiaF",
    "outputId": "5d4a38f3-9e47-4f9e-89cf-4d1c8a35cd42"
   },
   "outputs": [
    {
     "data": {
      "text/html": [
       "\n",
       "  <div id=\"df-8a367649-fc32-4a72-9bd2-225f8c53ff14\">\n",
       "    <div class=\"colab-df-container\">\n",
       "      <div>\n",
       "<style scoped>\n",
       "    .dataframe tbody tr th:only-of-type {\n",
       "        vertical-align: middle;\n",
       "    }\n",
       "\n",
       "    .dataframe tbody tr th {\n",
       "        vertical-align: top;\n",
       "    }\n",
       "\n",
       "    .dataframe thead th {\n",
       "        text-align: right;\n",
       "    }\n",
       "</style>\n",
       "<table border=\"1\" class=\"dataframe\">\n",
       "  <thead>\n",
       "    <tr style=\"text-align: right;\">\n",
       "      <th></th>\n",
       "      <th>Load</th>\n",
       "      <th>Net Load</th>\n",
       "      <th>Total_CO2_Emissions</th>\n",
       "      <th>Total_SO2_Emissions</th>\n",
       "      <th>Total_NOX_Emissions</th>\n",
       "      <th>VRE</th>\n",
       "      <th>delta_Load</th>\n",
       "      <th>delta_Net_Load</th>\n",
       "      <th>delta_Total_CO2_Emissions</th>\n",
       "      <th>delta_Total_SO2_Emissions</th>\n",
       "      <th>...</th>\n",
       "      <th>Day_of_Week=3</th>\n",
       "      <th>Day_of_Week=4</th>\n",
       "      <th>Day_of_Week=5</th>\n",
       "      <th>Day_of_Week=6</th>\n",
       "      <th>MEF</th>\n",
       "      <th>MDF</th>\n",
       "      <th>Intercept</th>\n",
       "      <th>Predicted_delta_Total_CO2_Emissions</th>\n",
       "      <th>Error</th>\n",
       "      <th>%_Error</th>\n",
       "    </tr>\n",
       "  </thead>\n",
       "  <tbody>\n",
       "    <tr>\n",
       "      <th>2019-01-01 00:00:00</th>\n",
       "      <td>22822.964472</td>\n",
       "      <td>20502.358502</td>\n",
       "      <td>5.103942e+06</td>\n",
       "      <td>425.327933</td>\n",
       "      <td>1632.821698</td>\n",
       "      <td>2320.593616</td>\n",
       "      <td>-1285.054865</td>\n",
       "      <td>-1255.110267</td>\n",
       "      <td>-337029.794143</td>\n",
       "      <td>-24.142180</td>\n",
       "      <td>...</td>\n",
       "      <td>False</td>\n",
       "      <td>False</td>\n",
       "      <td>False</td>\n",
       "      <td>False</td>\n",
       "      <td>370.729431</td>\n",
       "      <td>-350.030640</td>\n",
       "      <td>6396.021973</td>\n",
       "      <td>-459526.000872</td>\n",
       "      <td>-122496.206729</td>\n",
       "      <td>0.363458</td>\n",
       "    </tr>\n",
       "    <tr>\n",
       "      <th>2019-01-01 01:00:00</th>\n",
       "      <td>21879.620618</td>\n",
       "      <td>19606.836908</td>\n",
       "      <td>4.867578e+06</td>\n",
       "      <td>404.315852</td>\n",
       "      <td>1557.650531</td>\n",
       "      <td>2272.780097</td>\n",
       "      <td>-944.689268</td>\n",
       "      <td>-896.922625</td>\n",
       "      <td>-243021.833700</td>\n",
       "      <td>-21.594332</td>\n",
       "      <td>...</td>\n",
       "      <td>False</td>\n",
       "      <td>False</td>\n",
       "      <td>False</td>\n",
       "      <td>False</td>\n",
       "      <td>345.051025</td>\n",
       "      <td>-323.291504</td>\n",
       "      <td>6071.847168</td>\n",
       "      <td>-304454.710093</td>\n",
       "      <td>-61432.876394</td>\n",
       "      <td>0.252787</td>\n",
       "    </tr>\n",
       "    <tr>\n",
       "      <th>2019-01-01 02:00:00</th>\n",
       "      <td>21257.454020</td>\n",
       "      <td>19056.267637</td>\n",
       "      <td>4.723101e+06</td>\n",
       "      <td>383.695714</td>\n",
       "      <td>1496.197481</td>\n",
       "      <td>2201.182455</td>\n",
       "      <td>-614.641020</td>\n",
       "      <td>-545.206677</td>\n",
       "      <td>-144846.797503</td>\n",
       "      <td>-20.952957</td>\n",
       "      <td>...</td>\n",
       "      <td>False</td>\n",
       "      <td>False</td>\n",
       "      <td>False</td>\n",
       "      <td>False</td>\n",
       "      <td>323.416351</td>\n",
       "      <td>-301.258514</td>\n",
       "      <td>5678.250977</td>\n",
       "      <td>-172189.482236</td>\n",
       "      <td>-27342.684733</td>\n",
       "      <td>0.188770</td>\n",
       "    </tr>\n",
       "    <tr>\n",
       "      <th>2019-01-01 03:00:00</th>\n",
       "      <td>20974.800758</td>\n",
       "      <td>18871.418601</td>\n",
       "      <td>4.693112e+06</td>\n",
       "      <td>380.561848</td>\n",
       "      <td>1466.329836</td>\n",
       "      <td>2103.388502</td>\n",
       "      <td>-281.391674</td>\n",
       "      <td>-191.565227</td>\n",
       "      <td>-24776.569759</td>\n",
       "      <td>-2.164379</td>\n",
       "      <td>...</td>\n",
       "      <td>False</td>\n",
       "      <td>False</td>\n",
       "      <td>False</td>\n",
       "      <td>False</td>\n",
       "      <td>305.443024</td>\n",
       "      <td>-282.996887</td>\n",
       "      <td>5341.076660</td>\n",
       "      <td>-55190.639304</td>\n",
       "      <td>-30414.069545</td>\n",
       "      <td>1.227534</td>\n",
       "    </tr>\n",
       "    <tr>\n",
       "      <th>2019-01-01 04:00:00</th>\n",
       "      <td>20327.083333</td>\n",
       "      <td>18012.666667</td>\n",
       "      <td>5.032423e+06</td>\n",
       "      <td>711.911968</td>\n",
       "      <td>2391.657870</td>\n",
       "      <td>2314.666667</td>\n",
       "      <td>30.416667</td>\n",
       "      <td>74.416667</td>\n",
       "      <td>49254.136541</td>\n",
       "      <td>69.703951</td>\n",
       "      <td>...</td>\n",
       "      <td>False</td>\n",
       "      <td>False</td>\n",
       "      <td>False</td>\n",
       "      <td>False</td>\n",
       "      <td>303.949066</td>\n",
       "      <td>-272.057770</td>\n",
       "      <td>5023.662109</td>\n",
       "      <td>26216.649928</td>\n",
       "      <td>-23037.486613</td>\n",
       "      <td>0.467727</td>\n",
       "    </tr>\n",
       "  </tbody>\n",
       "</table>\n",
       "<p>5 rows × 37 columns</p>\n",
       "</div>\n",
       "      <button class=\"colab-df-convert\" onclick=\"convertToInteractive('df-8a367649-fc32-4a72-9bd2-225f8c53ff14')\"\n",
       "              title=\"Convert this dataframe to an interactive table.\"\n",
       "              style=\"display:none;\">\n",
       "        \n",
       "  <svg xmlns=\"http://www.w3.org/2000/svg\" height=\"24px\"viewBox=\"0 0 24 24\"\n",
       "       width=\"24px\">\n",
       "    <path d=\"M0 0h24v24H0V0z\" fill=\"none\"/>\n",
       "    <path d=\"M18.56 5.44l.94 2.06.94-2.06 2.06-.94-2.06-.94-.94-2.06-.94 2.06-2.06.94zm-11 1L8.5 8.5l.94-2.06 2.06-.94-2.06-.94L8.5 2.5l-.94 2.06-2.06.94zm10 10l.94 2.06.94-2.06 2.06-.94-2.06-.94-.94-2.06-.94 2.06-2.06.94z\"/><path d=\"M17.41 7.96l-1.37-1.37c-.4-.4-.92-.59-1.43-.59-.52 0-1.04.2-1.43.59L10.3 9.45l-7.72 7.72c-.78.78-.78 2.05 0 2.83L4 21.41c.39.39.9.59 1.41.59.51 0 1.02-.2 1.41-.59l7.78-7.78 2.81-2.81c.8-.78.8-2.07 0-2.86zM5.41 20L4 18.59l7.72-7.72 1.47 1.35L5.41 20z\"/>\n",
       "  </svg>\n",
       "      </button>\n",
       "      \n",
       "  <style>\n",
       "    .colab-df-container {\n",
       "      display:flex;\n",
       "      flex-wrap:wrap;\n",
       "      gap: 12px;\n",
       "    }\n",
       "\n",
       "    .colab-df-convert {\n",
       "      background-color: #E8F0FE;\n",
       "      border: none;\n",
       "      border-radius: 50%;\n",
       "      cursor: pointer;\n",
       "      display: none;\n",
       "      fill: #1967D2;\n",
       "      height: 32px;\n",
       "      padding: 0 0 0 0;\n",
       "      width: 32px;\n",
       "    }\n",
       "\n",
       "    .colab-df-convert:hover {\n",
       "      background-color: #E2EBFA;\n",
       "      box-shadow: 0px 1px 2px rgba(60, 64, 67, 0.3), 0px 1px 3px 1px rgba(60, 64, 67, 0.15);\n",
       "      fill: #174EA6;\n",
       "    }\n",
       "\n",
       "    [theme=dark] .colab-df-convert {\n",
       "      background-color: #3B4455;\n",
       "      fill: #D2E3FC;\n",
       "    }\n",
       "\n",
       "    [theme=dark] .colab-df-convert:hover {\n",
       "      background-color: #434B5C;\n",
       "      box-shadow: 0px 1px 3px 1px rgba(0, 0, 0, 0.15);\n",
       "      filter: drop-shadow(0px 1px 2px rgba(0, 0, 0, 0.3));\n",
       "      fill: #FFFFFF;\n",
       "    }\n",
       "  </style>\n",
       "\n",
       "      <script>\n",
       "        const buttonEl =\n",
       "          document.querySelector('#df-8a367649-fc32-4a72-9bd2-225f8c53ff14 button.colab-df-convert');\n",
       "        buttonEl.style.display =\n",
       "          google.colab.kernel.accessAllowed ? 'block' : 'none';\n",
       "\n",
       "        async function convertToInteractive(key) {\n",
       "          const element = document.querySelector('#df-8a367649-fc32-4a72-9bd2-225f8c53ff14');\n",
       "          const dataTable =\n",
       "            await google.colab.kernel.invokeFunction('convertToInteractive',\n",
       "                                                     [key], {});\n",
       "          if (!dataTable) return;\n",
       "\n",
       "          const docLinkHtml = 'Like what you see? Visit the ' +\n",
       "            '<a target=\"_blank\" href=https://colab.research.google.com/notebooks/data_table.ipynb>data table notebook</a>'\n",
       "            + ' to learn more about interactive tables.';\n",
       "          element.innerHTML = '';\n",
       "          dataTable['output_type'] = 'display_data';\n",
       "          await google.colab.output.renderOutput(dataTable, element);\n",
       "          const docLink = document.createElement('div');\n",
       "          docLink.innerHTML = docLinkHtml;\n",
       "          element.appendChild(docLink);\n",
       "        }\n",
       "      </script>\n",
       "    </div>\n",
       "  </div>\n",
       "  "
      ],
      "text/plain": [
       "                             Load      Net Load  Total_CO2_Emissions  \\\n",
       "2019-01-01 00:00:00  22822.964472  20502.358502         5.103942e+06   \n",
       "2019-01-01 01:00:00  21879.620618  19606.836908         4.867578e+06   \n",
       "2019-01-01 02:00:00  21257.454020  19056.267637         4.723101e+06   \n",
       "2019-01-01 03:00:00  20974.800758  18871.418601         4.693112e+06   \n",
       "2019-01-01 04:00:00  20327.083333  18012.666667         5.032423e+06   \n",
       "\n",
       "                     Total_SO2_Emissions  Total_NOX_Emissions          VRE  \\\n",
       "2019-01-01 00:00:00           425.327933          1632.821698  2320.593616   \n",
       "2019-01-01 01:00:00           404.315852          1557.650531  2272.780097   \n",
       "2019-01-01 02:00:00           383.695714          1496.197481  2201.182455   \n",
       "2019-01-01 03:00:00           380.561848          1466.329836  2103.388502   \n",
       "2019-01-01 04:00:00           711.911968          2391.657870  2314.666667   \n",
       "\n",
       "                      delta_Load  delta_Net_Load  delta_Total_CO2_Emissions  \\\n",
       "2019-01-01 00:00:00 -1285.054865    -1255.110267             -337029.794143   \n",
       "2019-01-01 01:00:00  -944.689268     -896.922625             -243021.833700   \n",
       "2019-01-01 02:00:00  -614.641020     -545.206677             -144846.797503   \n",
       "2019-01-01 03:00:00  -281.391674     -191.565227              -24776.569759   \n",
       "2019-01-01 04:00:00    30.416667       74.416667               49254.136541   \n",
       "\n",
       "                     delta_Total_SO2_Emissions  ...  Day_of_Week=3  \\\n",
       "2019-01-01 00:00:00                 -24.142180  ...          False   \n",
       "2019-01-01 01:00:00                 -21.594332  ...          False   \n",
       "2019-01-01 02:00:00                 -20.952957  ...          False   \n",
       "2019-01-01 03:00:00                  -2.164379  ...          False   \n",
       "2019-01-01 04:00:00                  69.703951  ...          False   \n",
       "\n",
       "                     Day_of_Week=4  Day_of_Week=5  Day_of_Week=6         MEF  \\\n",
       "2019-01-01 00:00:00          False          False          False  370.729431   \n",
       "2019-01-01 01:00:00          False          False          False  345.051025   \n",
       "2019-01-01 02:00:00          False          False          False  323.416351   \n",
       "2019-01-01 03:00:00          False          False          False  305.443024   \n",
       "2019-01-01 04:00:00          False          False          False  303.949066   \n",
       "\n",
       "                            MDF    Intercept  \\\n",
       "2019-01-01 00:00:00 -350.030640  6396.021973   \n",
       "2019-01-01 01:00:00 -323.291504  6071.847168   \n",
       "2019-01-01 02:00:00 -301.258514  5678.250977   \n",
       "2019-01-01 03:00:00 -282.996887  5341.076660   \n",
       "2019-01-01 04:00:00 -272.057770  5023.662109   \n",
       "\n",
       "                     Predicted_delta_Total_CO2_Emissions          Error  \\\n",
       "2019-01-01 00:00:00                       -459526.000872 -122496.206729   \n",
       "2019-01-01 01:00:00                       -304454.710093  -61432.876394   \n",
       "2019-01-01 02:00:00                       -172189.482236  -27342.684733   \n",
       "2019-01-01 03:00:00                        -55190.639304  -30414.069545   \n",
       "2019-01-01 04:00:00                         26216.649928  -23037.486613   \n",
       "\n",
       "                      %_Error  \n",
       "2019-01-01 00:00:00  0.363458  \n",
       "2019-01-01 01:00:00  0.252787  \n",
       "2019-01-01 02:00:00  0.188770  \n",
       "2019-01-01 03:00:00  1.227534  \n",
       "2019-01-01 04:00:00  0.467727  \n",
       "\n",
       "[5 rows x 37 columns]"
      ]
     },
     "execution_count": 63,
     "metadata": {},
     "output_type": "execute_result"
    }
   ],
   "source": [
    "CAISO_Data.head()"
   ]
  },
  {
   "cell_type": "code",
   "execution_count": null,
   "id": "XG2_fHd5fmAI",
   "metadata": {
    "id": "XG2_fHd5fmAI"
   },
   "outputs": [],
   "source": [
    "CAISO_Data.to_csv(f\"{best_model_dir}/CAISO_Data_2019_2021_NN_Ts.with_coeff_preds.csv\")"
   ]
  },
  {
   "cell_type": "code",
   "execution_count": null,
   "id": "uJWPn96SFkTa",
   "metadata": {
    "colab": {
     "base_uri": "https://localhost:8080/"
    },
    "id": "uJWPn96SFkTa",
    "outputId": "1ee10191-30a4-4a58-f089-677458a2c182"
   },
   "outputs": [
    {
     "data": {
      "text/plain": [
       "0"
      ]
     },
     "execution_count": 65,
     "metadata": {},
     "output_type": "execute_result"
    }
   ],
   "source": [
    "len([val for val in CAISO_Data.loc[:,\"MEF\"] if val <=0])"
   ]
  },
  {
   "cell_type": "code",
   "execution_count": null,
   "id": "89hutia2GEKj",
   "metadata": {
    "colab": {
     "base_uri": "https://localhost:8080/"
    },
    "id": "89hutia2GEKj",
    "outputId": "12d38d99-8e8d-41a8-b34a-00e3fc3201b1"
   },
   "outputs": [
    {
     "data": {
      "text/plain": [
       "53"
      ]
     },
     "execution_count": 66,
     "metadata": {},
     "output_type": "execute_result"
    }
   ],
   "source": [
    "len([val for val in CAISO_Data.loc[:,\"MEF\"] if val >600])"
   ]
  },
  {
   "cell_type": "code",
   "execution_count": null,
   "id": "F2PyvXRSGoiX",
   "metadata": {
    "colab": {
     "base_uri": "https://localhost:8080/"
    },
    "id": "F2PyvXRSGoiX",
    "outputId": "2bdc08c2-f712-4523-f1b7-d0dc015a8764"
   },
   "outputs": [
    {
     "data": {
      "text/plain": [
       "719.43835"
      ]
     },
     "execution_count": 67,
     "metadata": {},
     "output_type": "execute_result"
    }
   ],
   "source": [
    "CAISO_Data.loc[:,\"MEF\"].max()"
   ]
  }
 ],
 "metadata": {
  "accelerator": "GPU",
  "colab": {
   "provenance": []
  },
  "gpuClass": "standard",
  "kernelspec": {
   "display_name": "Python 3 (ipykernel)",
   "language": "python",
   "name": "python3"
  },
  "language_info": {
   "codemirror_mode": {
    "name": "ipython",
    "version": 3
   },
   "file_extension": ".py",
   "mimetype": "text/x-python",
   "name": "python",
   "nbconvert_exporter": "python",
   "pygments_lexer": "ipython3",
   "version": "3.9.15"
  },
  "widgets": {
   "application/vnd.jupyter.widget-state+json": {
    "018f158461264820a43037233dc3843d": {
     "model_module": "@jupyter-widgets/controls",
     "model_module_version": "1.5.0",
     "model_name": "HTMLModel",
     "state": {
      "_dom_classes": [],
      "_model_module": "@jupyter-widgets/controls",
      "_model_module_version": "1.5.0",
      "_model_name": "HTMLModel",
      "_view_count": null,
      "_view_module": "@jupyter-widgets/controls",
      "_view_module_version": "1.5.0",
      "_view_name": "HTMLView",
      "description": "",
      "description_tooltip": null,
      "layout": "IPY_MODEL_90ee2656eb3e4bd5a0d1189cac2d521c",
      "placeholder": "​",
      "style": "IPY_MODEL_138722bc77c3400389ef616905904eaf",
      "value": "100%"
     }
    },
    "05c854c5dda546acabb9da4ddad5b0ce": {
     "model_module": "@jupyter-widgets/controls",
     "model_module_version": "1.5.0",
     "model_name": "DescriptionStyleModel",
     "state": {
      "_model_module": "@jupyter-widgets/controls",
      "_model_module_version": "1.5.0",
      "_model_name": "DescriptionStyleModel",
      "_view_count": null,
      "_view_module": "@jupyter-widgets/base",
      "_view_module_version": "1.2.0",
      "_view_name": "StyleView",
      "description_width": ""
     }
    },
    "138722bc77c3400389ef616905904eaf": {
     "model_module": "@jupyter-widgets/controls",
     "model_module_version": "1.5.0",
     "model_name": "DescriptionStyleModel",
     "state": {
      "_model_module": "@jupyter-widgets/controls",
      "_model_module_version": "1.5.0",
      "_model_name": "DescriptionStyleModel",
      "_view_count": null,
      "_view_module": "@jupyter-widgets/base",
      "_view_module_version": "1.2.0",
      "_view_name": "StyleView",
      "description_width": ""
     }
    },
    "163dbaf1211a44d39d2faf30e2509295": {
     "model_module": "@jupyter-widgets/controls",
     "model_module_version": "1.5.0",
     "model_name": "ProgressStyleModel",
     "state": {
      "_model_module": "@jupyter-widgets/controls",
      "_model_module_version": "1.5.0",
      "_model_name": "ProgressStyleModel",
      "_view_count": null,
      "_view_module": "@jupyter-widgets/base",
      "_view_module_version": "1.2.0",
      "_view_name": "StyleView",
      "bar_color": null,
      "description_width": ""
     }
    },
    "1ccca095afed40f3a7d93abf2c94749b": {
     "model_module": "@jupyter-widgets/base",
     "model_module_version": "1.2.0",
     "model_name": "LayoutModel",
     "state": {
      "_model_module": "@jupyter-widgets/base",
      "_model_module_version": "1.2.0",
      "_model_name": "LayoutModel",
      "_view_count": null,
      "_view_module": "@jupyter-widgets/base",
      "_view_module_version": "1.2.0",
      "_view_name": "LayoutView",
      "align_content": null,
      "align_items": null,
      "align_self": null,
      "border": null,
      "bottom": null,
      "display": null,
      "flex": null,
      "flex_flow": null,
      "grid_area": null,
      "grid_auto_columns": null,
      "grid_auto_flow": null,
      "grid_auto_rows": null,
      "grid_column": null,
      "grid_gap": null,
      "grid_row": null,
      "grid_template_areas": null,
      "grid_template_columns": null,
      "grid_template_rows": null,
      "height": null,
      "justify_content": null,
      "justify_items": null,
      "left": null,
      "margin": null,
      "max_height": null,
      "max_width": null,
      "min_height": null,
      "min_width": null,
      "object_fit": null,
      "object_position": null,
      "order": null,
      "overflow": null,
      "overflow_x": null,
      "overflow_y": null,
      "padding": null,
      "right": null,
      "top": null,
      "visibility": null,
      "width": null
     }
    },
    "48f79cf624ea41229db24af7f7307eaa": {
     "model_module": "@jupyter-widgets/controls",
     "model_module_version": "1.5.0",
     "model_name": "HBoxModel",
     "state": {
      "_dom_classes": [],
      "_model_module": "@jupyter-widgets/controls",
      "_model_module_version": "1.5.0",
      "_model_name": "HBoxModel",
      "_view_count": null,
      "_view_module": "@jupyter-widgets/controls",
      "_view_module_version": "1.5.0",
      "_view_name": "HBoxView",
      "box_style": "",
      "children": [
       "IPY_MODEL_018f158461264820a43037233dc3843d",
       "IPY_MODEL_5ce0b73fc6f843138c8b76f290562c69",
       "IPY_MODEL_5d58cbdd7b944e99a9a24d2f7c9d3948"
      ],
      "layout": "IPY_MODEL_1ccca095afed40f3a7d93abf2c94749b"
     }
    },
    "5ce0b73fc6f843138c8b76f290562c69": {
     "model_module": "@jupyter-widgets/controls",
     "model_module_version": "1.5.0",
     "model_name": "FloatProgressModel",
     "state": {
      "_dom_classes": [],
      "_model_module": "@jupyter-widgets/controls",
      "_model_module_version": "1.5.0",
      "_model_name": "FloatProgressModel",
      "_view_count": null,
      "_view_module": "@jupyter-widgets/controls",
      "_view_module_version": "1.5.0",
      "_view_name": "ProgressView",
      "bar_style": "success",
      "description": "",
      "description_tooltip": null,
      "layout": "IPY_MODEL_7331c03842214571a355d32dc4f98865",
      "max": 400,
      "min": 0,
      "orientation": "horizontal",
      "style": "IPY_MODEL_163dbaf1211a44d39d2faf30e2509295",
      "value": 400
     }
    },
    "5d58cbdd7b944e99a9a24d2f7c9d3948": {
     "model_module": "@jupyter-widgets/controls",
     "model_module_version": "1.5.0",
     "model_name": "HTMLModel",
     "state": {
      "_dom_classes": [],
      "_model_module": "@jupyter-widgets/controls",
      "_model_module_version": "1.5.0",
      "_model_name": "HTMLModel",
      "_view_count": null,
      "_view_module": "@jupyter-widgets/controls",
      "_view_module_version": "1.5.0",
      "_view_name": "HTMLView",
      "description": "",
      "description_tooltip": null,
      "layout": "IPY_MODEL_843889c691d04f938ad4bfdf5a4f3a6b",
      "placeholder": "​",
      "style": "IPY_MODEL_05c854c5dda546acabb9da4ddad5b0ce",
      "value": " 400/400 [04:11&lt;00:00,  1.69it/s]"
     }
    },
    "7331c03842214571a355d32dc4f98865": {
     "model_module": "@jupyter-widgets/base",
     "model_module_version": "1.2.0",
     "model_name": "LayoutModel",
     "state": {
      "_model_module": "@jupyter-widgets/base",
      "_model_module_version": "1.2.0",
      "_model_name": "LayoutModel",
      "_view_count": null,
      "_view_module": "@jupyter-widgets/base",
      "_view_module_version": "1.2.0",
      "_view_name": "LayoutView",
      "align_content": null,
      "align_items": null,
      "align_self": null,
      "border": null,
      "bottom": null,
      "display": null,
      "flex": null,
      "flex_flow": null,
      "grid_area": null,
      "grid_auto_columns": null,
      "grid_auto_flow": null,
      "grid_auto_rows": null,
      "grid_column": null,
      "grid_gap": null,
      "grid_row": null,
      "grid_template_areas": null,
      "grid_template_columns": null,
      "grid_template_rows": null,
      "height": null,
      "justify_content": null,
      "justify_items": null,
      "left": null,
      "margin": null,
      "max_height": null,
      "max_width": null,
      "min_height": null,
      "min_width": null,
      "object_fit": null,
      "object_position": null,
      "order": null,
      "overflow": null,
      "overflow_x": null,
      "overflow_y": null,
      "padding": null,
      "right": null,
      "top": null,
      "visibility": null,
      "width": null
     }
    },
    "843889c691d04f938ad4bfdf5a4f3a6b": {
     "model_module": "@jupyter-widgets/base",
     "model_module_version": "1.2.0",
     "model_name": "LayoutModel",
     "state": {
      "_model_module": "@jupyter-widgets/base",
      "_model_module_version": "1.2.0",
      "_model_name": "LayoutModel",
      "_view_count": null,
      "_view_module": "@jupyter-widgets/base",
      "_view_module_version": "1.2.0",
      "_view_name": "LayoutView",
      "align_content": null,
      "align_items": null,
      "align_self": null,
      "border": null,
      "bottom": null,
      "display": null,
      "flex": null,
      "flex_flow": null,
      "grid_area": null,
      "grid_auto_columns": null,
      "grid_auto_flow": null,
      "grid_auto_rows": null,
      "grid_column": null,
      "grid_gap": null,
      "grid_row": null,
      "grid_template_areas": null,
      "grid_template_columns": null,
      "grid_template_rows": null,
      "height": null,
      "justify_content": null,
      "justify_items": null,
      "left": null,
      "margin": null,
      "max_height": null,
      "max_width": null,
      "min_height": null,
      "min_width": null,
      "object_fit": null,
      "object_position": null,
      "order": null,
      "overflow": null,
      "overflow_x": null,
      "overflow_y": null,
      "padding": null,
      "right": null,
      "top": null,
      "visibility": null,
      "width": null
     }
    },
    "90ee2656eb3e4bd5a0d1189cac2d521c": {
     "model_module": "@jupyter-widgets/base",
     "model_module_version": "1.2.0",
     "model_name": "LayoutModel",
     "state": {
      "_model_module": "@jupyter-widgets/base",
      "_model_module_version": "1.2.0",
      "_model_name": "LayoutModel",
      "_view_count": null,
      "_view_module": "@jupyter-widgets/base",
      "_view_module_version": "1.2.0",
      "_view_name": "LayoutView",
      "align_content": null,
      "align_items": null,
      "align_self": null,
      "border": null,
      "bottom": null,
      "display": null,
      "flex": null,
      "flex_flow": null,
      "grid_area": null,
      "grid_auto_columns": null,
      "grid_auto_flow": null,
      "grid_auto_rows": null,
      "grid_column": null,
      "grid_gap": null,
      "grid_row": null,
      "grid_template_areas": null,
      "grid_template_columns": null,
      "grid_template_rows": null,
      "height": null,
      "justify_content": null,
      "justify_items": null,
      "left": null,
      "margin": null,
      "max_height": null,
      "max_width": null,
      "min_height": null,
      "min_width": null,
      "object_fit": null,
      "object_position": null,
      "order": null,
      "overflow": null,
      "overflow_x": null,
      "overflow_y": null,
      "padding": null,
      "right": null,
      "top": null,
      "visibility": null,
      "width": null
     }
    }
   }
  }
 },
 "nbformat": 4,
 "nbformat_minor": 5
}
