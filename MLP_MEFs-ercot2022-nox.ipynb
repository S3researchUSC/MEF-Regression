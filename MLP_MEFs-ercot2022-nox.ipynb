{
 "cells": [
  {
   "cell_type": "code",
   "execution_count": 1,
   "id": "ee3b9786",
   "metadata": {
    "id": "ee3b9786"
   },
   "outputs": [],
   "source": [
    "import numpy as np\n",
    "import torch\n",
    "import torch.nn as nn\n",
    "import pandas as pd\n",
    "from sklearn import preprocessing\n",
    "from sklearn.metrics import r2_score, mean_absolute_error\n",
    "from tqdm.notebook import tqdm\n",
    "import matplotlib.pyplot as plt\n",
    "import random\n",
    "from pathlib import Path\n",
    "import os\n",
    "from datetime import datetime\n",
    "import pickle"
   ]
  },
  {
   "cell_type": "markdown",
   "id": "a5f30fe9",
   "metadata": {
    "id": "a5f30fe9"
   },
   "source": [
    "## Parameters"
   ]
  },
  {
   "cell_type": "code",
   "execution_count": 2,
   "id": "5b19ab2c",
   "metadata": {},
   "outputs": [],
   "source": [
    "data_file = os.path.join(os.getcwd(), 'ERCOT_2022_Prepped.csv')"
   ]
  },
  {
   "cell_type": "code",
   "execution_count": 3,
   "id": "7d1d7ca6",
   "metadata": {},
   "outputs": [
    {
     "data": {
      "text/plain": [
       "Index(['ERCOT_Demand_MWh', 'ERCOT_VRE_MWh', 'Hour', 'Month', 'Time_Elapsed',\n",
       "       'delta_VRE', 'delta_Demand', 'delta_CO2', 'delta_NOx', 'delta_SO2'],\n",
       "      dtype='object')"
      ]
     },
     "execution_count": 3,
     "metadata": {},
     "output_type": "execute_result"
    }
   ],
   "source": [
    "data_df = pd.read_csv(data_file, index_col=0)\n",
    "data_df.index = pd.to_datetime(data_df.index)\n",
    "data_df.columns"
   ]
  },
  {
   "cell_type": "code",
   "execution_count": 4,
   "id": "08e1ec4a",
   "metadata": {
    "id": "08e1ec4a"
   },
   "outputs": [],
   "source": [
    "data_file = os.path.join(os.getcwd(), 'ERCOT_2022_Prepped.csv')\n",
    "model_save_dir = os.path.join(os.getcwd(), \"MLP_ERCOT_2022_models\")\n",
    "Path(model_save_dir).mkdir(parents=True, exist_ok=True)\n",
    "device = torch.device('cuda' if torch.cuda.is_available() else 'cpu')\n",
    "n_out = 3    # 3 output parameters: MEF, MDF, interecept. \n",
    "             # inclusion of intercept is debatable (we'd love to have a model where it is zero),\n",
    "             # and so far it has not much impacted r^2.\n",
    "             # once we do test train split i only want to keep it if it notably improves model accuracy\n",
    "feature_cols = data_df.columns[:5]"
   ]
  },
  {
   "cell_type": "code",
   "execution_count": 5,
   "id": "c0be5933",
   "metadata": {},
   "outputs": [
    {
     "data": {
      "text/plain": [
       "device(type='cuda')"
      ]
     },
     "execution_count": 5,
     "metadata": {},
     "output_type": "execute_result"
    }
   ],
   "source": [
    "device"
   ]
  },
  {
   "cell_type": "markdown",
   "id": "ab3cc09e",
   "metadata": {
    "id": "ab3cc09e"
   },
   "source": [
    "## Data Loading and pre-processing"
   ]
  },
  {
   "cell_type": "code",
   "execution_count": 6,
   "id": "3d1127da",
   "metadata": {},
   "outputs": [],
   "source": [
    "data_df = pd.read_csv(data_file, index_col=0)\n",
    "data_df.index = pd.to_datetime(data_df.index)"
   ]
  },
  {
   "cell_type": "code",
   "execution_count": 7,
   "id": "44428adb",
   "metadata": {},
   "outputs": [
    {
     "data": {
      "text/plain": [
       "Timestamp('2022-01-01 00:00:00')"
      ]
     },
     "execution_count": 7,
     "metadata": {},
     "output_type": "execute_result"
    }
   ],
   "source": [
    "data_df.index[0]"
   ]
  },
  {
   "cell_type": "code",
   "execution_count": 8,
   "id": "e0a7027a",
   "metadata": {},
   "outputs": [
    {
     "data": {
      "text/plain": [
       "8760"
      ]
     },
     "execution_count": 8,
     "metadata": {},
     "output_type": "execute_result"
    }
   ],
   "source": [
    "len(data_df)"
   ]
  },
  {
   "cell_type": "code",
   "execution_count": 9,
   "id": "44e7e48e",
   "metadata": {
    "id": "44e7e48e"
   },
   "outputs": [],
   "source": [
    "num_samples = len(data_df)\n",
    "\n",
    "# create masks for train, validation and test data\n",
    "percent_train, percent_val, percent_test = .6, .2, .2\n",
    "num_train, num_val = int(percent_train * num_samples), int(percent_val * num_samples)\n",
    "num_test = num_samples - num_train - num_val\n",
    "set_assignments = np.array([1 for i in range(num_train)] + [2 for i in range(num_val)] + [3 for i in range(num_test)])\n",
    "np.random.seed(1)\n",
    "np.random.shuffle(set_assignments)\n",
    "train_mask = set_assignments == 1\n",
    "val_mask = set_assignments == 2\n",
    "test_mask = set_assignments == 3\n",
    "train_df = data_df.loc[train_mask]\n",
    "val_df = data_df.loc[val_mask]\n",
    "test_df = data_df.loc[test_mask]\n",
    "\n",
    "# specify x and y data #TODO seems like there may be some unnecessary operations here... \n",
    "train_x = torch.tensor(train_df[feature_cols].values.astype(np.float32))\n",
    "val_x = torch.tensor(val_df[feature_cols].values.astype(np.float32))\n",
    "test_x = torch.tensor(test_df[feature_cols].values.astype(np.float32))\n",
    "\n",
    "\n",
    "# standardize data based on mean and variance of train data\n",
    "scaler = preprocessing.StandardScaler()\n",
    "scaler.fit(train_x)\n",
    "train_x = torch.tensor(scaler.transform(train_x)).to(device)\n",
    "val_x = torch.tensor(scaler.transform(val_x)).to(device)\n",
    "test_x = torch.tensor(scaler.transform(test_x)).to(device)\n",
    "\n",
    "# save scaler for later re-use\n",
    "with open(os.path.join(model_save_dir, \"scaler.pkl\"), 'wb') as f:\n",
    "    pickle.dump(scaler, f)"
   ]
  },
  {
   "cell_type": "code",
   "execution_count": 10,
   "id": "KlXBQQverSKC",
   "metadata": {
    "colab": {
     "base_uri": "https://localhost:8080/",
     "height": 490
    },
    "id": "KlXBQQverSKC",
    "outputId": "cb77e3d0-fc9f-478b-e954-f5c23f911d78"
   },
   "outputs": [
    {
     "data": {
      "text/html": [
       "<div>\n",
       "<style scoped>\n",
       "    .dataframe tbody tr th:only-of-type {\n",
       "        vertical-align: middle;\n",
       "    }\n",
       "\n",
       "    .dataframe tbody tr th {\n",
       "        vertical-align: top;\n",
       "    }\n",
       "\n",
       "    .dataframe thead th {\n",
       "        text-align: right;\n",
       "    }\n",
       "</style>\n",
       "<table border=\"1\" class=\"dataframe\">\n",
       "  <thead>\n",
       "    <tr style=\"text-align: right;\">\n",
       "      <th></th>\n",
       "      <th>ERCOT_Demand_MWh</th>\n",
       "      <th>ERCOT_VRE_MWh</th>\n",
       "      <th>Hour</th>\n",
       "      <th>Month</th>\n",
       "      <th>Time_Elapsed</th>\n",
       "      <th>delta_VRE</th>\n",
       "      <th>delta_Demand</th>\n",
       "      <th>delta_CO2</th>\n",
       "      <th>delta_NOx</th>\n",
       "      <th>delta_SO2</th>\n",
       "    </tr>\n",
       "  </thead>\n",
       "  <tbody>\n",
       "    <tr>\n",
       "      <th>2022-01-01 00:00:00</th>\n",
       "      <td>37404.219075</td>\n",
       "      <td>12067.52</td>\n",
       "      <td>0</td>\n",
       "      <td>1</td>\n",
       "      <td>0</td>\n",
       "      <td>818.61</td>\n",
       "      <td>-1173.291650</td>\n",
       "      <td>-2.216431e+06</td>\n",
       "      <td>-295.373619</td>\n",
       "      <td>1387.534201</td>\n",
       "    </tr>\n",
       "    <tr>\n",
       "      <th>2022-01-01 01:00:00</th>\n",
       "      <td>36230.927425</td>\n",
       "      <td>12886.13</td>\n",
       "      <td>1</td>\n",
       "      <td>1</td>\n",
       "      <td>1</td>\n",
       "      <td>818.61</td>\n",
       "      <td>-1173.291650</td>\n",
       "      <td>-2.216431e+06</td>\n",
       "      <td>-295.373619</td>\n",
       "      <td>1387.534201</td>\n",
       "    </tr>\n",
       "    <tr>\n",
       "      <th>2022-01-01 02:00:00</th>\n",
       "      <td>35303.849625</td>\n",
       "      <td>14369.56</td>\n",
       "      <td>2</td>\n",
       "      <td>1</td>\n",
       "      <td>2</td>\n",
       "      <td>1483.43</td>\n",
       "      <td>-927.077800</td>\n",
       "      <td>-3.264976e+06</td>\n",
       "      <td>-2054.543547</td>\n",
       "      <td>-4280.112044</td>\n",
       "    </tr>\n",
       "    <tr>\n",
       "      <th>2022-01-01 03:00:00</th>\n",
       "      <td>34696.113600</td>\n",
       "      <td>16467.77</td>\n",
       "      <td>3</td>\n",
       "      <td>1</td>\n",
       "      <td>3</td>\n",
       "      <td>2098.21</td>\n",
       "      <td>-607.736025</td>\n",
       "      <td>-3.923160e+06</td>\n",
       "      <td>-1510.694028</td>\n",
       "      <td>-9461.452151</td>\n",
       "    </tr>\n",
       "    <tr>\n",
       "      <th>2022-01-01 04:00:00</th>\n",
       "      <td>34466.782550</td>\n",
       "      <td>18337.91</td>\n",
       "      <td>4</td>\n",
       "      <td>1</td>\n",
       "      <td>4</td>\n",
       "      <td>1870.14</td>\n",
       "      <td>-229.331050</td>\n",
       "      <td>-2.491853e+06</td>\n",
       "      <td>-1178.800561</td>\n",
       "      <td>-5160.397812</td>\n",
       "    </tr>\n",
       "  </tbody>\n",
       "</table>\n",
       "</div>"
      ],
      "text/plain": [
       "                     ERCOT_Demand_MWh  ERCOT_VRE_MWh  Hour  Month  \\\n",
       "2022-01-01 00:00:00      37404.219075       12067.52     0      1   \n",
       "2022-01-01 01:00:00      36230.927425       12886.13     1      1   \n",
       "2022-01-01 02:00:00      35303.849625       14369.56     2      1   \n",
       "2022-01-01 03:00:00      34696.113600       16467.77     3      1   \n",
       "2022-01-01 04:00:00      34466.782550       18337.91     4      1   \n",
       "\n",
       "                     Time_Elapsed  delta_VRE  delta_Demand     delta_CO2  \\\n",
       "2022-01-01 00:00:00             0     818.61  -1173.291650 -2.216431e+06   \n",
       "2022-01-01 01:00:00             1     818.61  -1173.291650 -2.216431e+06   \n",
       "2022-01-01 02:00:00             2    1483.43   -927.077800 -3.264976e+06   \n",
       "2022-01-01 03:00:00             3    2098.21   -607.736025 -3.923160e+06   \n",
       "2022-01-01 04:00:00             4    1870.14   -229.331050 -2.491853e+06   \n",
       "\n",
       "                       delta_NOx    delta_SO2  \n",
       "2022-01-01 00:00:00  -295.373619  1387.534201  \n",
       "2022-01-01 01:00:00  -295.373619  1387.534201  \n",
       "2022-01-01 02:00:00 -2054.543547 -4280.112044  \n",
       "2022-01-01 03:00:00 -1510.694028 -9461.452151  \n",
       "2022-01-01 04:00:00 -1178.800561 -5160.397812  "
      ]
     },
     "execution_count": 10,
     "metadata": {},
     "output_type": "execute_result"
    }
   ],
   "source": [
    "data_df.iloc[:5]"
   ]
  },
  {
   "cell_type": "code",
   "execution_count": 11,
   "id": "4JXpruwnsO7F",
   "metadata": {
    "colab": {
     "base_uri": "https://localhost:8080/"
    },
    "id": "4JXpruwnsO7F",
    "outputId": "4b454676-741f-4dcd-c940-260d926389ee",
    "scrolled": true
   },
   "outputs": [
    {
     "data": {
      "text/plain": [
       "torch.Size([5256, 5])"
      ]
     },
     "execution_count": 11,
     "metadata": {},
     "output_type": "execute_result"
    }
   ],
   "source": [
    "train_x.shape"
   ]
  },
  {
   "cell_type": "code",
   "execution_count": 12,
   "id": "0c23988f",
   "metadata": {},
   "outputs": [
    {
     "data": {
      "text/plain": [
       "Index(['ERCOT_Demand_MWh', 'ERCOT_VRE_MWh', 'Hour', 'Month', 'Time_Elapsed'], dtype='object')"
      ]
     },
     "execution_count": 12,
     "metadata": {},
     "output_type": "execute_result"
    }
   ],
   "source": [
    "feature_cols"
   ]
  },
  {
   "cell_type": "code",
   "execution_count": 13,
   "id": "47ea5c43",
   "metadata": {},
   "outputs": [
    {
     "data": {
      "text/plain": [
       "tensor([-1.7212, -1.7204, -1.7196,  ...,  1.7397,  1.7400,  1.7404],\n",
       "       device='cuda:0', dtype=torch.float64)"
      ]
     },
     "execution_count": 13,
     "metadata": {},
     "output_type": "execute_result"
    }
   ],
   "source": [
    "train_x[:,-1]"
   ]
  },
  {
   "cell_type": "markdown",
   "id": "d74d18ea",
   "metadata": {
    "id": "d74d18ea"
   },
   "source": [
    "## define model loss function"
   ]
  },
  {
   "cell_type": "code",
   "execution_count": 14,
   "id": "7a1f3331",
   "metadata": {
    "id": "7a1f3331"
   },
   "outputs": [],
   "source": [
    "def get_model(n_input, hidden_dims, n_out, dropout_p):\n",
    "    \n",
    "    layers = [nn.Linear(n_input, hidden_dims[0]),\n",
    "              nn.BatchNorm1d(hidden_dims[0]),\n",
    "              nn.ReLU(),\n",
    "              nn.Dropout(dropout_p)\n",
    "             ]\n",
    "    for layer in range(len(hidden_dims)-1):\n",
    "        cur_hidden, next_hidden = hidden_dims[layer], hidden_dims[layer+1]\n",
    "        layers.extend([nn.Linear(cur_hidden, next_hidden),\n",
    "                       nn.BatchNorm1d(next_hidden),\n",
    "                       nn.ReLU(),\n",
    "                       nn.Dropout(dropout_p)\n",
    "                      ])\n",
    "    layers.append(nn.Linear(hidden_dims[-1], n_out))\n",
    "    \n",
    "    model = nn.Sequential(*layers)\n",
    "    return model\n",
    "\n",
    "# def mse_loss_regularized_preds_l2(pred_coeff, data_df, MEF_reg_weight, MDF_reg_weight, bias_term, target_col):\n",
    "#     delta_load_tensor = torch.tensor(np.array(data_df['delta_Demand'].values).astype(np.float32))\n",
    "#     delta_vre_tensor = torch.tensor(np.array(data_df['delta_VRE'].values).astype(np.float32))\n",
    "#     MEF_preds = pred_coeff[:,0]\n",
    "#     MDF_preds = pred_coeff[:,1]\n",
    "#     pred_y_demand = torch.mul(delta_load_tensor, MEF_preds)\n",
    "#     pred_y_vre = torch.mul(delta_vre_tensor, MDF_preds)\n",
    "#     pred_y = pred_y_vre + pred_y_demand\n",
    "#     if bias_term:\n",
    "#         bias_preds = pred_coeff[:,2]\n",
    "#         pred_y += bias_preds\n",
    "#     act_y = torch.tensor(np.array(data_df[target_col].values).astype(np.float32))\n",
    "\n",
    "#     # Compute MEF regularization term (sum(MEF^2 + intercept if MEF < 0 for MEF in examples))\n",
    "#     invalid_MEFs = nn.functional.relu(-MEF_preds)  # keep negative MEFs and zero others\n",
    "#     count_invalid_MEFs = torch.count_nonzero(invalid_MEFs)\n",
    "#     MEF_reg_intercept = 4420  # based on an average value of -65 seen amongst invalids when trained without regularization\n",
    "#     MEF_reg = torch.dot(invalid_MEFs, invalid_MEFs) + (count_invalid_MEFs * MEF_reg_intercept)\n",
    "\n",
    "#     # Compute MDF regularization term (sum(MDF^2 + intercept if MDF > 0 for MDF in examples))\n",
    "#     invalid_MDFs = nn.functional.relu(MDF_preds)  # keep negative MEFs and zero others\n",
    "#     count_invalid_MDFs = torch.count_nonzero(invalid_MDFs)\n",
    "#     MDF_reg_intercept = 538  # based on an average value of +23 seen amongst invalids when trained without regularization\n",
    "#     MDF_reg = torch.dot(invalid_MDFs, invalid_MDFs) + (count_invalid_MDFs * MDF_reg_intercept)\n",
    "\n",
    "#     loss = nn.MSELoss()(pred_y, act_y) + (MEF_reg_weight * MEF_reg) + (MDF_reg_weight * MDF_reg)\n",
    "#     return loss\n",
    "\n",
    "def mse_loss_regularized_preds_l1(pred_coeff, data_df, MEF_reg_weight, MDF_reg_weight, bias_term, target_col):\n",
    "    intercept_scalings_by_target = {\n",
    "        'delta_CO2': 1.0,\n",
    "        'delta_NOx': 1.0 / 1000.0,\n",
    "        'delta_SO2': 1.0 / 10000.0,\n",
    "    }\n",
    "    assert target_col in intercept_scalings_by_target\n",
    "    intercept_scaling = intercept_scalings_by_target[target_col]\n",
    "    \n",
    "    delta_load_tensor = torch.tensor(np.array(data_df['delta_Demand'].values).astype(np.float32))\n",
    "    delta_vre_tensor = torch.tensor(np.array(data_df['delta_VRE'].values).astype(np.float32))\n",
    "    MEF_preds = pred_coeff[:,0]\n",
    "    MDF_preds = pred_coeff[:,1]\n",
    "    pred_y_demand = torch.mul(delta_load_tensor, MEF_preds)\n",
    "    pred_y_vre = torch.mul(delta_vre_tensor, MDF_preds)\n",
    "    pred_y = pred_y_vre + pred_y_demand\n",
    "    if bias_term:\n",
    "        bias_preds = pred_coeff[:,2]\n",
    "        pred_y += bias_preds\n",
    "    act_y = torch.tensor(np.array(data_df[target_col].values).astype(np.float32))\n",
    "\n",
    "    # Compute MEF regularization term (sum(MEF + intercept if MEF < 0 for MEF in examples))\n",
    "    invalid_MEFs = nn.functional.relu(-MEF_preds)  # keep negative MEFs and zero others\n",
    "    count_invalid_MEFs = torch.count_nonzero(invalid_MEFs)\n",
    "    MEF_reg_intercept = 66.5 * intercept_scaling  # The average value seen amongst invalids when trained without regularization\n",
    "    MEF_reg = torch.sum(invalid_MEFs) + (count_invalid_MEFs * MEF_reg_intercept)\n",
    "\n",
    "    # Compute MDF regularization term (sum(MDF + intercept if MDF > 0 for MDF in examples))\n",
    "    invalid_MDFs = nn.functional.relu(MDF_preds)  # keep negative MEFs and zero others\n",
    "    count_invalid_MDFs = torch.count_nonzero(invalid_MDFs)\n",
    "    MDF_reg_intercept = 23.2 * intercept_scaling  # The average value seen amongst invalids when trained without regularization\n",
    "    MDF_reg = torch.sum(invalid_MDFs) + (count_invalid_MDFs * MDF_reg_intercept)\n",
    "\n",
    "    loss = nn.MSELoss()(pred_y, act_y) + (MEF_reg_weight * MEF_reg) + (MDF_reg_weight * MDF_reg)\n",
    "    return loss"
   ]
  },
  {
   "cell_type": "markdown",
   "id": "0a1bc93f",
   "metadata": {
    "id": "0a1bc93f"
   },
   "source": [
    "## Model Training"
   ]
  },
  {
   "cell_type": "markdown",
   "id": "f2daa481",
   "metadata": {
    "id": "f2daa481"
   },
   "source": [
    "Helpers for printing results"
   ]
  },
  {
   "cell_type": "code",
   "execution_count": 15,
   "id": "e34e76b6",
   "metadata": {
    "id": "e34e76b6"
   },
   "outputs": [],
   "source": [
    "pd.options.mode.chained_assignment = None  # default='warn'"
   ]
  },
  {
   "cell_type": "code",
   "execution_count": 16,
   "id": "738cbf27",
   "metadata": {
    "id": "738cbf27"
   },
   "outputs": [],
   "source": [
    "def plot_losses(train_losses, val_losses, plt_save_dir=None):\n",
    "    #plot loss vs epochs\n",
    "    fig, axs = plt.subplots(1,2)\n",
    "    axs[0].plot(train_losses[1000:])\n",
    "    axs[0].set_title(\"Train Set\")\n",
    "    axs[0].set_ylabel('loss')\n",
    "    axs[0].set_xlabel('epoch')\n",
    "\n",
    "    axs[1].plot(val_losses[1000:])\n",
    "    axs[1].set_title(\"Val Set\")\n",
    "    axs[1].set_ylabel('loss')\n",
    "    axs[1].set_xlabel('epoch')\n",
    "    \n",
    "    plt.tight_layout()\n",
    "    plt.show()\n",
    "    \n",
    "    if plt_save_dir:\n",
    "        fig.savefig(os.path.join(plt_save_dir,\"train_val_losses.png\"))\n",
    "        \n",
    "def get_r_squared(pred_coeff, data_df, bias_term, target_col):\n",
    "    coeff_df=pd.DataFrame(data=pred_coeff.detach().numpy(), columns=['MEF', 'MDF', 'Intercept'])\n",
    "    y_preds = coeff_df['MEF'].values * data_df['delta_Demand'] \\\n",
    "                                   + coeff_df['MDF'].values * data_df['delta_VRE']\n",
    "    if bias_term:\n",
    "        y_preds += coeff_df['Intercept'].values\n",
    "    r2 = r2_score(data_df[target_col], y_preds)\n",
    "    return r2\n",
    "\n",
    "def get_mean_abs_err(pred_coeff, data_df, bias_term, target_col):\n",
    "    coeff_df=pd.DataFrame(data=pred_coeff.detach().numpy(), columns=['MEF', 'MDF', 'Intercept'])\n",
    "    y_preds = coeff_df['MEF'].values * data_df['delta_Demand'] \\\n",
    "                                   + coeff_df['MDF'].values * data_df['delta_VRE']\n",
    "    if bias_term:\n",
    "        y_preds += coeff_df['Intercept'].values\n",
    "    mean_abs_err = mean_absolute_error(data_df[target_col], y_preds)\n",
    "    return mean_abs_err\n",
    "\n",
    "def get_count_invalid_preds(pred_coeff):\n",
    "    # preds=pred_coeff.detach().numpy()\n",
    "    count_neg_MEFs = torch.sum(pred_coeff[:,0] <= 0).item() #sum(preds[:,0] <= 0) # MEF must be greater than 0\n",
    "    count_pos_MDFs = torch.sum(pred_coeff[:,1] > 0).item() #sum(preds[:,1] > 0)  # MDF must be less than or equal to 0\n",
    "    return count_neg_MEFs, count_pos_MDFs"
   ]
  },
  {
   "cell_type": "markdown",
   "id": "9df07382",
   "metadata": {
    "id": "9df07382"
   },
   "source": [
    "Helper for training a model with a given set of hyperparameters and saving the best model and results"
   ]
  },
  {
   "cell_type": "code",
   "execution_count": 17,
   "id": "084cdb90",
   "metadata": {
    "id": "084cdb90"
   },
   "outputs": [],
   "source": [
    "def train_model_with_params(train_x, val_x, train_df, val_df,\n",
    "                            n_out, hidden_dims, learning_rate, weight_decay, dropout_p,\n",
    "                            loss_function, MEF_reg_weight, MDF_reg_weight, bias_term,\n",
    "                            target_col,\n",
    "                            model_dir_prefix=None, epochs=10000, min_save_r2=.87):\n",
    "    \n",
    "    n_input = train_x.shape[1]\n",
    "    model = get_model(n_input, hidden_dims, n_out, dropout_p)\n",
    "    optimizer = torch.optim.AdamW(model.parameters(), lr=learning_rate, weight_decay=weight_decay)\n",
    "\n",
    "    model_dir = model_save_dir\n",
    "    if model_dir_prefix:\n",
    "        model_dir = os.path.join(model_dir, model_dir_prefix)\n",
    "    model_dir = os.path.join(model_dir, str(datetime.now().strftime('%Y_%m_%d-%I_%M_%S_%p')))\n",
    "    Path(model_dir).mkdir(parents=True, exist_ok=True)\n",
    "    \n",
    "    # log experiment settings\n",
    "    settings_str = \"Model Settings:\"\n",
    "    settings_str += f\"\\n\\t{n_input=}\\n\\t{hidden_dims=}\\n\\t{n_out=}\\n\\t{dropout_p=}\\n\\t{bias_term=}\"\n",
    "    settings_str += \"\\nOptimizer Settings:\"\n",
    "    settings_str += f\"\\n\\t{learning_rate=}\\n\\t{weight_decay=}\"\n",
    "    settings_str += \"\\nLoss Function Settings:\"\n",
    "    settings_str += f\"\\n\\t{loss_function=}\\n\\t{MEF_reg_weight=}\\n\\t{MDF_reg_weight=}\"\n",
    "    settings_str += \"\\nTrain Process Settings:\"\n",
    "    settings_str += f\"\\n\\t{epochs=}\\n\\t{min_save_r2=}\"\n",
    "    settings_str += f\"\\nFeatures: {', '.join(feature_cols)}\"\n",
    "    settings_str += f\"\\Target_col: {target_col}\"\n",
    "    print(settings_str)\n",
    "    with open(os.path.join(model_dir, \"experiment_settings.txt\"), 'w+') as f:\n",
    "        f.write(settings_str)\n",
    "        \n",
    "    model.to(device)\n",
    "\n",
    "    best_r2 = -np.inf \n",
    "    best_epoch = None\n",
    "    save_model_path = None\n",
    "    last_save_epoch = None\n",
    "    last_save_r2 = -np.inf\n",
    "    last_save_mae = np.inf\n",
    "    \n",
    "    train_losses = []\n",
    "    val_losses = []\n",
    "    for epoch in tqdm(range(epochs)):\n",
    "        # tell model we are training (for bathnorm layer, dropout...)\n",
    "        model.train()\n",
    "        train_pred_coeff=model(train_x.float()).cpu()\n",
    "        train_loss=loss_function(train_pred_coeff, train_df, MEF_reg_weight, MDF_reg_weight, bias_term, target_col)\n",
    "        train_losses.append(train_loss.item())\n",
    "        \n",
    "        # tell model we are evaluating\n",
    "        model.eval()\n",
    "        val_pred_coeff=model(val_x.float()).cpu()\n",
    "        val_loss=loss_function(val_pred_coeff, val_df, MEF_reg_weight, MDF_reg_weight, bias_term, target_col)\n",
    "        val_losses.append(val_loss.item())\n",
    "        val_r2 = get_r_squared(val_pred_coeff, val_df, bias_term, target_col)\n",
    "\n",
    "        # always keep best r2 updated\n",
    "        if val_r2 > best_r2:\n",
    "            best_r2 = val_r2\n",
    "            best_epoch = epoch\n",
    "        # check if we should save... we need good enough r2 and no invalids\n",
    "        if val_r2 > max(last_save_r2, min_save_r2):\n",
    "            if sum(get_count_invalid_preds(val_pred_coeff))==0:\n",
    "                # also check training invalids... Let's recompute with eval mode\n",
    "                model.eval()\n",
    "                eval_mode_train_preds=model(train_x.float()).cpu()\n",
    "                if sum(get_count_invalid_preds(eval_mode_train_preds))==0:\n",
    "                    if save_model_path:\n",
    "                        Path(save_model_path).unlink() # delete prev-best model\n",
    "                    model_save_name = f\"epoch={epoch},r2={val_r2:.4f},Invalids=0.pth\"\n",
    "                    save_model_path = os.path.join(model_dir, model_save_name)\n",
    "                    torch.save(model.state_dict(), save_model_path)\n",
    "                    last_save_epoch = epoch\n",
    "                    last_save_r2 = val_r2\n",
    "                    last_save_mae = get_mean_abs_err(val_pred_coeff, val_df, bias_term, target_col)\n",
    "\n",
    "        \n",
    "        if epoch % 1000 == 0:\n",
    "            invalid_train_MEFs, invalid_train_MDFs = get_count_invalid_preds(train_pred_coeff)\n",
    "            invalid_val_MEFs, invalid_val_MDFs = get_count_invalid_preds(val_pred_coeff)\n",
    "            train_r2 = get_r_squared(train_pred_coeff, train_df, bias_term, target_col)\n",
    "            # val_r2 = get_r_squared(val_pred_coeff, val_df, bias_term, target_col)\n",
    "            print(f\"[Epoch {epoch}]\")\n",
    "            print(f\"\\tTrain Set: Loss={train_loss.item():.3e}, R Squared={train_r2:.4f}, Invalid MEFs={invalid_train_MEFs}, Invalid MDFs={invalid_train_MDFs}\")\n",
    "            print(f\"\\tVal Set: Loss={val_loss.item():.3e}, R Squared={val_r2:.4f}, Invalid MEFs={invalid_val_MEFs}, Invalid MDFs={invalid_val_MDFs}\")\n",
    "        model.zero_grad()\n",
    "        train_loss.backward()\n",
    "        optimizer.step()\n",
    "        # stop if we aren't improving after 10k epochs\n",
    "        if best_epoch and epoch > 10000 + best_epoch:\n",
    "            print(\"Early stopping as we haven't made an improvement on validation set in 10,000 epochs.\")\n",
    "            break\n",
    "        \n",
    "    plot_losses(train_losses, val_losses, model_dir)\n",
    "\n",
    "    results_str = f\"Best R Squared seen on epoch {best_epoch}: {best_r2:.4f}\"\n",
    "    results_str += f\"\\nBest-R2-model with R2 above {min_save_r2=} and 0 invalid coefficients predicted on train/test sets:\"\n",
    "    if not save_model_path:\n",
    "        results_str += f\"\\n\\tNo such model was encountered\"\n",
    "    else:\n",
    "        results_str += f\"\\n\\tValidation R2: {last_save_r2:.4f}\"\n",
    "        results_str += f\"\\n\\tValidation MAE: {last_save_mae:.2f}\"\n",
    "        results_str += f\"\\n\\tEpoch seen: {last_save_epoch}\"\n",
    "        results_str += f\"\\n\\tModel file: {save_model_path.split('/')[-1]}\"\n",
    "\n",
    "    print(results_str)\n",
    "    with open(os.path.join(model_dir, \"results.txt\"), 'w+') as f:\n",
    "        f.write(results_str)\n",
    "        \n",
    "    return save_model_path"
   ]
  },
  {
   "cell_type": "markdown",
   "id": "0d725f11",
   "metadata": {},
   "source": [
    "# Predicting delta NOx"
   ]
  },
  {
   "cell_type": "markdown",
   "id": "vfcTBVn9FrR-",
   "metadata": {
    "id": "vfcTBVn9FrR-"
   },
   "source": [
    "### Train with varying hyperparams"
   ]
  },
  {
   "cell_type": "code",
   "execution_count": 21,
   "id": "7ed4c13d",
   "metadata": {
    "colab": {
     "base_uri": "https://localhost:8080/",
     "height": 1000,
     "referenced_widgets": [
      "fa71bf432e6c4954a3b91311a1e9d1f4",
      "a1b9606a1e6b45199d7e28c6108c671b",
      "ab73f3bb925b4161ac595c91fb7e02f9",
      "c4e4e36786ea4217b5c8b673fb428660",
      "7e1d032c50ce4a7dba0569d353d0cde9",
      "fdea0f6fa1b947d482c6e1d543f69e8e",
      "8d07ab087b914f33893556a80dabf85b",
      "3add4675c0c547cfbc6931b41d9f6603",
      "a8802036f40b4d62ad0645cc6704fe66",
      "d907984e42d246128e0725149cd6907b",
      "9778fe50cf8340e3a17b0af7e9fee958"
     ]
    },
    "id": "NdIOFfthFwW0",
    "outputId": "86995232-4ebc-4b79-db0f-8d8c1b8445e0",
    "scrolled": false
   },
   "outputs": [
    {
     "name": "stdout",
     "output_type": "stream",
     "text": [
      "Model Settings:\n",
      "\tn_input=5\n",
      "\thidden_dims=[256, 128]\n",
      "\tn_out=3\n",
      "\tdropout_p=0.5\n",
      "\tbias_term=True\n",
      "Optimizer Settings:\n",
      "\tlearning_rate=0.001\n",
      "\tweight_decay=0.1\n",
      "Loss Function Settings:\n",
      "\tloss_function=<function mse_loss_regularized_preds_l1 at 0x000001FB0C2D83A0>\n",
      "\tMEF_reg_weight=10000.0\n",
      "\tMDF_reg_weight=10000.0\n",
      "Train Process Settings:\n",
      "\tepochs=60000\n",
      "\tmin_save_r2=0.35\n",
      "Features: ERCOT_Demand_MWh, ERCOT_VRE_MWh, Hour, Month, Time_Elapsed\\Target_col: delta_NOx\n"
     ]
    },
    {
     "data": {
      "application/vnd.jupyter.widget-view+json": {
       "model_id": "7e0680e745114c648762972df2a54601",
       "version_major": 2,
       "version_minor": 0
      },
      "text/plain": [
       "  0%|          | 0/60000 [00:00<?, ?it/s]"
      ]
     },
     "metadata": {},
     "output_type": "display_data"
    },
    {
     "name": "stdout",
     "output_type": "stream",
     "text": [
      "[Epoch 0]\n",
      "\tTrain Set: Loss=5.606e+07, R Squared=-2.2181, Invalid MEFs=4429, Invalid MDFs=3568\n",
      "\tVal Set: Loss=5.746e+06, R Squared=-0.2830, Invalid MEFs=1752, Invalid MDFs=642\n",
      "[Epoch 1000]\n",
      "\tTrain Set: Loss=7.929e+05, R Squared=0.5617, Invalid MEFs=4, Invalid MDFs=3\n",
      "\tVal Set: Loss=7.371e+05, R Squared=0.5569, Invalid MEFs=0, Invalid MDFs=0\n",
      "[Epoch 2000]\n",
      "\tTrain Set: Loss=7.449e+05, R Squared=0.5861, Invalid MEFs=0, Invalid MDFs=2\n",
      "\tVal Set: Loss=7.258e+05, R Squared=0.5637, Invalid MEFs=0, Invalid MDFs=0\n",
      "[Epoch 3000]\n",
      "\tTrain Set: Loss=7.026e+05, R Squared=0.6093, Invalid MEFs=0, Invalid MDFs=0\n",
      "\tVal Set: Loss=6.949e+05, R Squared=0.5823, Invalid MEFs=0, Invalid MDFs=0\n",
      "[Epoch 4000]\n",
      "\tTrain Set: Loss=6.730e+05, R Squared=0.6266, Invalid MEFs=2, Invalid MDFs=0\n",
      "\tVal Set: Loss=6.556e+05, R Squared=0.6059, Invalid MEFs=0, Invalid MDFs=0\n",
      "[Epoch 5000]\n",
      "\tTrain Set: Loss=6.329e+05, R Squared=0.6485, Invalid MEFs=1, Invalid MDFs=0\n",
      "\tVal Set: Loss=6.410e+05, R Squared=0.6147, Invalid MEFs=0, Invalid MDFs=0\n",
      "[Epoch 6000]\n",
      "\tTrain Set: Loss=5.919e+05, R Squared=0.6712, Invalid MEFs=1, Invalid MDFs=0\n",
      "\tVal Set: Loss=6.424e+05, R Squared=0.6139, Invalid MEFs=0, Invalid MDFs=0\n",
      "[Epoch 7000]\n",
      "\tTrain Set: Loss=5.846e+05, R Squared=0.6767, Invalid MEFs=2, Invalid MDFs=1\n",
      "\tVal Set: Loss=6.388e+05, R Squared=0.6160, Invalid MEFs=0, Invalid MDFs=0\n",
      "[Epoch 8000]\n",
      "\tTrain Set: Loss=5.733e+05, R Squared=0.6821, Invalid MEFs=0, Invalid MDFs=4\n",
      "\tVal Set: Loss=6.337e+05, R Squared=0.6191, Invalid MEFs=0, Invalid MDFs=0\n",
      "[Epoch 9000]\n",
      "\tTrain Set: Loss=5.605e+05, R Squared=0.6883, Invalid MEFs=0, Invalid MDFs=0\n",
      "\tVal Set: Loss=6.335e+05, R Squared=0.6192, Invalid MEFs=0, Invalid MDFs=0\n",
      "[Epoch 10000]\n",
      "\tTrain Set: Loss=5.414e+05, R Squared=0.6999, Invalid MEFs=1, Invalid MDFs=2\n",
      "\tVal Set: Loss=6.390e+05, R Squared=0.6159, Invalid MEFs=0, Invalid MDFs=0\n",
      "[Epoch 11000]\n",
      "\tTrain Set: Loss=5.320e+05, R Squared=0.7045, Invalid MEFs=0, Invalid MDFs=2\n",
      "\tVal Set: Loss=6.310e+05, R Squared=0.6207, Invalid MEFs=0, Invalid MDFs=0\n",
      "[Epoch 12000]\n",
      "\tTrain Set: Loss=5.256e+05, R Squared=0.7095, Invalid MEFs=3, Invalid MDFs=0\n",
      "\tVal Set: Loss=6.347e+05, R Squared=0.6185, Invalid MEFs=0, Invalid MDFs=0\n",
      "[Epoch 13000]\n",
      "\tTrain Set: Loss=5.315e+05, R Squared=0.7060, Invalid MEFs=3, Invalid MDFs=1\n",
      "\tVal Set: Loss=6.326e+05, R Squared=0.6198, Invalid MEFs=0, Invalid MDFs=0\n",
      "[Epoch 14000]\n",
      "\tTrain Set: Loss=5.334e+05, R Squared=0.7068, Invalid MEFs=5, Invalid MDFs=4\n",
      "\tVal Set: Loss=6.333e+05, R Squared=0.6193, Invalid MEFs=0, Invalid MDFs=0\n",
      "[Epoch 15000]\n",
      "\tTrain Set: Loss=5.176e+05, R Squared=0.7137, Invalid MEFs=2, Invalid MDFs=2\n",
      "\tVal Set: Loss=6.378e+05, R Squared=0.6166, Invalid MEFs=0, Invalid MDFs=0\n",
      "[Epoch 16000]\n",
      "\tTrain Set: Loss=5.205e+05, R Squared=0.7114, Invalid MEFs=1, Invalid MDFs=1\n",
      "\tVal Set: Loss=6.471e+05, R Squared=0.6110, Invalid MEFs=0, Invalid MDFs=0\n",
      "[Epoch 17000]\n",
      "\tTrain Set: Loss=5.143e+05, R Squared=0.7151, Invalid MEFs=1, Invalid MDFs=3\n",
      "\tVal Set: Loss=6.413e+05, R Squared=0.6145, Invalid MEFs=0, Invalid MDFs=0\n",
      "[Epoch 18000]\n",
      "\tTrain Set: Loss=5.187e+05, R Squared=0.7131, Invalid MEFs=2, Invalid MDFs=2\n",
      "\tVal Set: Loss=6.334e+05, R Squared=0.6192, Invalid MEFs=0, Invalid MDFs=0\n",
      "[Epoch 19000]\n",
      "\tTrain Set: Loss=5.191e+05, R Squared=0.7129, Invalid MEFs=2, Invalid MDFs=0\n",
      "\tVal Set: Loss=6.397e+05, R Squared=0.6155, Invalid MEFs=0, Invalid MDFs=0\n",
      "[Epoch 20000]\n",
      "\tTrain Set: Loss=5.218e+05, R Squared=0.7115, Invalid MEFs=1, Invalid MDFs=5\n",
      "\tVal Set: Loss=6.314e+05, R Squared=0.6205, Invalid MEFs=0, Invalid MDFs=0\n",
      "[Epoch 21000]\n",
      "\tTrain Set: Loss=5.244e+05, R Squared=0.7090, Invalid MEFs=1, Invalid MDFs=1\n",
      "\tVal Set: Loss=6.434e+05, R Squared=0.6132, Invalid MEFs=0, Invalid MDFs=0\n",
      "[Epoch 22000]\n",
      "\tTrain Set: Loss=5.175e+05, R Squared=0.7144, Invalid MEFs=4, Invalid MDFs=3\n",
      "\tVal Set: Loss=6.416e+05, R Squared=0.6143, Invalid MEFs=0, Invalid MDFs=0\n",
      "[Epoch 23000]\n",
      "\tTrain Set: Loss=5.224e+05, R Squared=0.7100, Invalid MEFs=1, Invalid MDFs=0\n",
      "\tVal Set: Loss=6.379e+05, R Squared=0.6165, Invalid MEFs=0, Invalid MDFs=0\n",
      "Early stopping as we haven't made an improvement on validation set in 10,000 epochs.\n"
     ]
    },
    {
     "data": {
      "image/png": "[encoded data removed]",
      "text/plain": [
       "<Figure size 640x480 with 2 Axes>"
      ]
     },
     "metadata": {},
     "output_type": "display_data"
    },
    {
     "name": "stdout",
     "output_type": "stream",
     "text": [
      "Best R Squared seen on epoch 13529: 0.6261\n",
      "Best-R2-model with R2 above min_save_r2=0.35 and 0 invalid coefficients predicted on train/test sets:\n",
      "\tValidation R2: 0.6261\n",
      "\tValidation MAE: 548.57\n",
      "\tEpoch seen: 13529\n",
      "\tModel file: C:\\Users\\nicklein\\Documents\\MEF-Regression\\MLP_ERCOT_2022_models\\delta_NOx_round1\\2023_11_01-10_59_37_AM\\epoch=13529,r2=0.6261,Invalids=0.pth\n"
     ]
    },
    {
     "data": {
      "text/plain": [
       "'C:\\\\Users\\\\nicklein\\\\Documents\\\\MEF-Regression\\\\MLP_ERCOT_2022_models\\\\delta_NOx_round1\\\\2023_11_01-10_59_37_AM\\\\epoch=13529,r2=0.6261,Invalids=0.pth'"
      ]
     },
     "execution_count": 21,
     "metadata": {},
     "output_type": "execute_result"
    }
   ],
   "source": [
    "target_col = 'delta_NOx'\n",
    "hidden_dims = [256,128]\n",
    "lr = .001\n",
    "weight_decay = .1\n",
    "dropout_p = 0.5\n",
    "bias_term = True\n",
    "reg_weights = [1e4, 1e4]\n",
    "loss_function = mse_loss_regularized_preds_l1\n",
    "save_prefix = f'{target_col}_round1'\n",
    "\n",
    "train_model_with_params(train_x, val_x, train_df, val_df, n_out, hidden_dims, lr, weight_decay, dropout_p,\n",
    "                                            loss_function, *reg_weights, bias_term, target_col, save_prefix, epochs=60000, min_save_r2=.35)"
   ]
  },
  {
   "cell_type": "markdown",
   "id": "d7rNwHtGa1wX",
   "metadata": {
    "id": "d7rNwHtGa1wX"
   },
   "source": [
    "## Inference on all data"
   ]
  },
  {
   "cell_type": "code",
   "execution_count": 22,
   "id": "d5af519c",
   "metadata": {},
   "outputs": [
    {
     "data": {
      "text/plain": [
       "'C:\\\\Users\\\\nicklein\\\\Documents\\\\MEF-Regression\\\\MLP_ERCOT_2022_models'"
      ]
     },
     "execution_count": 22,
     "metadata": {},
     "output_type": "execute_result"
    }
   ],
   "source": [
    "model_save_dir"
   ]
  },
  {
   "cell_type": "code",
   "execution_count": 23,
   "id": "_aGp7ISVb0y8",
   "metadata": {
    "id": "_aGp7ISVb0y8"
   },
   "outputs": [],
   "source": [
    "best_model_dir = os.path.join(model_save_dir, \"delta_NOx_round1/2023_11_01-10_50_00_AM\")\n",
    "best_model_file = os.path.join(best_model_dir, \"epoch=10164,r2=0.6349,Invalids=0.pth\")"
   ]
  },
  {
   "cell_type": "code",
   "execution_count": 24,
   "id": "d03eed21",
   "metadata": {},
   "outputs": [
    {
     "data": {
      "text/plain": [
       "'C:\\\\Users\\\\nicklein\\\\Documents\\\\MEF-Regression\\\\MLP_ERCOT_2022_models\\\\delta_NOx_round1/2023_11_01-10_50_00_AM\\\\epoch=10164,r2=0.6349,Invalids=0.pth'"
      ]
     },
     "execution_count": 24,
     "metadata": {},
     "output_type": "execute_result"
    }
   ],
   "source": [
    "best_model_file"
   ]
  },
  {
   "cell_type": "code",
   "execution_count": 25,
   "id": "799cc4f6",
   "metadata": {
    "colab": {
     "base_uri": "https://localhost:8080/"
    },
    "id": "6DHacOOCZYoj",
    "outputId": "b7064058-d857-4b67-ba28-02d67b71d9ad"
   },
   "outputs": [
    {
     "name": "stdout",
     "output_type": "stream",
     "text": [
      "R Squared:\n",
      "\tTrain: 0.7195\n",
      "\tVal: 0.6349\n",
      "\tTest: 0.6478\n",
      "Mean Absolute Error:\n",
      "\tTrain: 493.13\n",
      "\tVal: 543.40\n",
      "\tTest: 550.04\n",
      "Count Invalid Values Predicted:\n",
      "\tTrain: Invalid MEFs=0, Invalid MDFs=0\n",
      "\tVal: Invalid MEFs=0, Invalid MDFs=0\n",
      "\tTest: Invalid MEFs=0, Invalid MDFs=0\n"
     ]
    }
   ],
   "source": [
    "hidden_dims = [256,128]\n",
    "bias_term = True\n",
    "dropout_p = 0.5\n",
    "n_input = train_x.shape[1]\n",
    "\n",
    "model = get_model(n_input, hidden_dims, n_out, dropout_p)\n",
    "model.to(device)\n",
    "model.load_state_dict(torch.load(best_model_file))\n",
    "model.eval()\n",
    "\n",
    "train_pred_coeff = model(train_x.float()).cpu()\n",
    "val_pred_coeff = model(val_x.float()).cpu()\n",
    "test_pred_coeff = model(test_x.float()).cpu()\n",
    "\n",
    "results_str = \"R Squared:\"\n",
    "results_str += f\"\\n\\tTrain: {get_r_squared(train_pred_coeff, train_df, bias_term, target_col):.4f}\"\n",
    "results_str += f\"\\n\\tVal: {get_r_squared(val_pred_coeff, val_df, bias_term, target_col):.4f}\"\n",
    "results_str += f\"\\n\\tTest: {get_r_squared(test_pred_coeff, test_df, bias_term, target_col):.4f}\"\n",
    "results_str += \"\\nMean Absolute Error:\"\n",
    "results_str += f\"\\n\\tTrain: {get_mean_abs_err(train_pred_coeff, train_df, bias_term, target_col):.2f}\"\n",
    "results_str += f\"\\n\\tVal: {get_mean_abs_err(val_pred_coeff, val_df, bias_term, target_col):.2f}\"\n",
    "results_str += f\"\\n\\tTest: {get_mean_abs_err(test_pred_coeff, test_df, bias_term, target_col):.2f}\"\n",
    "results_str += \"\\nCount Invalid Values Predicted:\"\n",
    "invalid_train_MEFs, invalid_train_MDFs = get_count_invalid_preds(train_pred_coeff)\n",
    "invalid_val_MEFs, invalid_val_MDFs = get_count_invalid_preds(val_pred_coeff)\n",
    "invalid_test_MEFs, invalid_test_MDFs = get_count_invalid_preds(test_pred_coeff)\n",
    "results_str += f\"\\n\\tTrain: Invalid MEFs={invalid_train_MEFs}, Invalid MDFs={invalid_train_MDFs}\"\n",
    "results_str += f\"\\n\\tVal: Invalid MEFs={invalid_val_MEFs}, Invalid MDFs={invalid_val_MDFs}\"\n",
    "results_str += f\"\\n\\tTest: Invalid MEFs={invalid_test_MEFs}, Invalid MDFs={invalid_test_MDFs}\"\n",
    "\n",
    "with open(os.path.join(best_model_dir, \"eval_results.txt\"), 'w+') as f:\n",
    "    f.write(results_str)\n",
    "print(results_str)"
   ]
  },
  {
   "cell_type": "markdown",
   "id": "fi3OLzVQPK_O",
   "metadata": {
    "id": "fi3OLzVQPK_O"
   },
   "source": [
    "### Put the MEFs and MDFs from all sets back together and in order into the original DF for viewing"
   ]
  },
  {
   "cell_type": "code",
   "execution_count": 26,
   "id": "uB50w20k_Iao",
   "metadata": {
    "id": "uB50w20k_Iao"
   },
   "outputs": [],
   "source": [
    "all_preds_w_timestamps = list(zip(val_df.index, val_pred_coeff.detach().numpy())) \\\n",
    "                        + list(zip(train_df.index, train_pred_coeff.detach().numpy())) \\\n",
    "                        + list(zip(test_df.index, test_pred_coeff.detach().numpy()))\n",
    "all_preds_w_timestamps.sort(key=lambda pair: pair[0])\n",
    "all_preds_ordered = np.array([pair[1] for pair in all_preds_w_timestamps])"
   ]
  },
  {
   "cell_type": "code",
   "execution_count": 27,
   "id": "vHn1WJaZCXm2",
   "metadata": {
    "id": "vHn1WJaZCXm2"
   },
   "outputs": [],
   "source": [
    "all_MEFs_ordered = all_preds_ordered[:,0]\n",
    "all_MDFs_ordered = all_preds_ordered[:,1]\n",
    "all_intercepts_ordered = all_preds_ordered[:,2]"
   ]
  },
  {
   "cell_type": "code",
   "execution_count": 28,
   "id": "aDaE9gk8cX_g",
   "metadata": {
    "colab": {
     "base_uri": "https://localhost:8080/"
    },
    "id": "aDaE9gk8cX_g",
    "outputId": "e18f47bf-7d0a-4621-9d5d-615c99f75149"
   },
   "outputs": [
    {
     "name": "stdout",
     "output_type": "stream",
     "text": [
      "Whole Data Set:\n",
      "\tMean Emissions Change = 882.97\n",
      "\tR Squared = 0.6892\n",
      "\tMean Absolute Error = 514.57\n"
     ]
    }
   ],
   "source": [
    "data_df.loc[:,\"MEF\"] = all_MEFs_ordered\n",
    "data_df.loc[:,\"MDF\"] = all_MDFs_ordered\n",
    "if bias_term:\n",
    "    data_df.loc[:,\"Intercept\"] = all_intercepts_ordered\n",
    "\n",
    "#calculate some error stuff. rn i am thinking R2 is the best measure of error\n",
    "d_emissions = data_df.loc[:,'MEF'] * data_df.loc[:,'delta_Demand'] \\\n",
    "            + data_df.loc[:,'MDF'] * data_df.loc[:,'delta_VRE']\n",
    "if bias_term:\n",
    "    d_emissions += data_df.loc[:,\"Intercept\"]\n",
    "    \n",
    "pred_col = f'Predicted_{target_col}'\n",
    "data_df.loc[:, pred_col] = d_emissions\n",
    "data_df.loc[:,'Error']=data_df.loc[:, pred_col] - data_df.loc[:, target_col]\n",
    "data_df.loc[:,'%_Error']=np.abs(data_df.loc[:,'Error'])/np.abs(data_df.loc[:, target_col]) * 100\n",
    "print(\"Whole Data Set:\")\n",
    "print(f\"\\tMean Emissions Change = {np.mean(np.abs(data_df[target_col])):.2f}\")\n",
    "print(f\"\\tR Squared = {r2_score(data_df[target_col], data_df[pred_col]):.4f}\")\n",
    "print(f\"\\tMean Absolute Error = {mean_absolute_error(data_df[target_col], data_df[pred_col]):.2f}\")"
   ]
  },
  {
   "cell_type": "markdown",
   "id": "d56aa354",
   "metadata": {},
   "source": [
    "Add train/val/test set assignments to table before saving"
   ]
  },
  {
   "cell_type": "code",
   "execution_count": 29,
   "id": "231702d5",
   "metadata": {},
   "outputs": [
    {
     "data": {
      "text/plain": [
       "array([1, 2, 1, ..., 1, 1, 1])"
      ]
     },
     "execution_count": 29,
     "metadata": {},
     "output_type": "execute_result"
    }
   ],
   "source": [
    "set_assignments"
   ]
  },
  {
   "cell_type": "code",
   "execution_count": 30,
   "id": "a7143731",
   "metadata": {},
   "outputs": [],
   "source": [
    "set_num_to_str = {1: 'train',\n",
    "                  2: 'validation',\n",
    "                  3: 'test'\n",
    "                 }"
   ]
  },
  {
   "cell_type": "code",
   "execution_count": 31,
   "id": "e586527c",
   "metadata": {},
   "outputs": [],
   "source": [
    "data_df.loc[:,'set_assignment'] = [set_num_to_str[num] for num in set_assignments]"
   ]
  },
  {
   "cell_type": "code",
   "execution_count": 32,
   "id": "25380e41",
   "metadata": {},
   "outputs": [
    {
     "data": {
      "text/plain": [
       "True"
      ]
     },
     "execution_count": 32,
     "metadata": {},
     "output_type": "execute_result"
    }
   ],
   "source": [
    "all(test_df.index == data_df.loc[data_df.loc[:,'set_assignment'] == 'test'].index)"
   ]
  },
  {
   "cell_type": "code",
   "execution_count": 33,
   "id": "HLrBWNZifiaF",
   "metadata": {
    "colab": {
     "base_uri": "https://localhost:8080/",
     "height": 473
    },
    "id": "HLrBWNZifiaF",
    "outputId": "5d4a38f3-9e47-4f9e-89cf-4d1c8a35cd42"
   },
   "outputs": [
    {
     "data": {
      "text/html": [
       "<div>\n",
       "<style scoped>\n",
       "    .dataframe tbody tr th:only-of-type {\n",
       "        vertical-align: middle;\n",
       "    }\n",
       "\n",
       "    .dataframe tbody tr th {\n",
       "        vertical-align: top;\n",
       "    }\n",
       "\n",
       "    .dataframe thead th {\n",
       "        text-align: right;\n",
       "    }\n",
       "</style>\n",
       "<table border=\"1\" class=\"dataframe\">\n",
       "  <thead>\n",
       "    <tr style=\"text-align: right;\">\n",
       "      <th></th>\n",
       "      <th>ERCOT_Demand_MWh</th>\n",
       "      <th>ERCOT_VRE_MWh</th>\n",
       "      <th>Hour</th>\n",
       "      <th>Month</th>\n",
       "      <th>Time_Elapsed</th>\n",
       "      <th>delta_VRE</th>\n",
       "      <th>delta_Demand</th>\n",
       "      <th>delta_CO2</th>\n",
       "      <th>delta_NOx</th>\n",
       "      <th>delta_SO2</th>\n",
       "      <th>MEF</th>\n",
       "      <th>MDF</th>\n",
       "      <th>Intercept</th>\n",
       "      <th>Predicted_delta_NOx</th>\n",
       "      <th>Error</th>\n",
       "      <th>%_Error</th>\n",
       "      <th>set_assignment</th>\n",
       "    </tr>\n",
       "  </thead>\n",
       "  <tbody>\n",
       "    <tr>\n",
       "      <th>2022-01-01 00:00:00</th>\n",
       "      <td>37404.219075</td>\n",
       "      <td>12067.52</td>\n",
       "      <td>0</td>\n",
       "      <td>1</td>\n",
       "      <td>0</td>\n",
       "      <td>818.61</td>\n",
       "      <td>-1173.291650</td>\n",
       "      <td>-2.216431e+06</td>\n",
       "      <td>-295.373619</td>\n",
       "      <td>1387.534201</td>\n",
       "      <td>0.314517</td>\n",
       "      <td>-0.437846</td>\n",
       "      <td>-6.850942</td>\n",
       "      <td>-734.297097</td>\n",
       "      <td>-438.923478</td>\n",
       "      <td>148.599418</td>\n",
       "      <td>train</td>\n",
       "    </tr>\n",
       "    <tr>\n",
       "      <th>2022-01-01 01:00:00</th>\n",
       "      <td>36230.927425</td>\n",
       "      <td>12886.13</td>\n",
       "      <td>1</td>\n",
       "      <td>1</td>\n",
       "      <td>1</td>\n",
       "      <td>818.61</td>\n",
       "      <td>-1173.291650</td>\n",
       "      <td>-2.216431e+06</td>\n",
       "      <td>-295.373619</td>\n",
       "      <td>1387.534201</td>\n",
       "      <td>0.320164</td>\n",
       "      <td>-0.428282</td>\n",
       "      <td>-12.872778</td>\n",
       "      <td>-739.113908</td>\n",
       "      <td>-443.740289</td>\n",
       "      <td>150.230170</td>\n",
       "      <td>validation</td>\n",
       "    </tr>\n",
       "    <tr>\n",
       "      <th>2022-01-01 02:00:00</th>\n",
       "      <td>35303.849625</td>\n",
       "      <td>14369.56</td>\n",
       "      <td>2</td>\n",
       "      <td>1</td>\n",
       "      <td>2</td>\n",
       "      <td>1483.43</td>\n",
       "      <td>-927.077800</td>\n",
       "      <td>-3.264976e+06</td>\n",
       "      <td>-2054.543547</td>\n",
       "      <td>-4280.112044</td>\n",
       "      <td>0.343529</td>\n",
       "      <td>-0.411743</td>\n",
       "      <td>-20.677029</td>\n",
       "      <td>-949.947403</td>\n",
       "      <td>1104.596144</td>\n",
       "      <td>53.763579</td>\n",
       "      <td>train</td>\n",
       "    </tr>\n",
       "    <tr>\n",
       "      <th>2022-01-01 03:00:00</th>\n",
       "      <td>34696.113600</td>\n",
       "      <td>16467.77</td>\n",
       "      <td>3</td>\n",
       "      <td>1</td>\n",
       "      <td>3</td>\n",
       "      <td>2098.21</td>\n",
       "      <td>-607.736025</td>\n",
       "      <td>-3.923160e+06</td>\n",
       "      <td>-1510.694028</td>\n",
       "      <td>-9461.452151</td>\n",
       "      <td>0.363654</td>\n",
       "      <td>-0.380918</td>\n",
       "      <td>-19.086330</td>\n",
       "      <td>-1039.337720</td>\n",
       "      <td>471.356308</td>\n",
       "      <td>31.201309</td>\n",
       "      <td>validation</td>\n",
       "    </tr>\n",
       "    <tr>\n",
       "      <th>2022-01-01 04:00:00</th>\n",
       "      <td>34466.782550</td>\n",
       "      <td>18337.91</td>\n",
       "      <td>4</td>\n",
       "      <td>1</td>\n",
       "      <td>4</td>\n",
       "      <td>1870.14</td>\n",
       "      <td>-229.331050</td>\n",
       "      <td>-2.491853e+06</td>\n",
       "      <td>-1178.800561</td>\n",
       "      <td>-5160.397812</td>\n",
       "      <td>0.370562</td>\n",
       "      <td>-0.389154</td>\n",
       "      <td>-18.930620</td>\n",
       "      <td>-831.683544</td>\n",
       "      <td>347.117017</td>\n",
       "      <td>29.446628</td>\n",
       "      <td>train</td>\n",
       "    </tr>\n",
       "  </tbody>\n",
       "</table>\n",
       "</div>"
      ],
      "text/plain": [
       "                     ERCOT_Demand_MWh  ERCOT_VRE_MWh  Hour  Month  \\\n",
       "2022-01-01 00:00:00      37404.219075       12067.52     0      1   \n",
       "2022-01-01 01:00:00      36230.927425       12886.13     1      1   \n",
       "2022-01-01 02:00:00      35303.849625       14369.56     2      1   \n",
       "2022-01-01 03:00:00      34696.113600       16467.77     3      1   \n",
       "2022-01-01 04:00:00      34466.782550       18337.91     4      1   \n",
       "\n",
       "                     Time_Elapsed  delta_VRE  delta_Demand     delta_CO2  \\\n",
       "2022-01-01 00:00:00             0     818.61  -1173.291650 -2.216431e+06   \n",
       "2022-01-01 01:00:00             1     818.61  -1173.291650 -2.216431e+06   \n",
       "2022-01-01 02:00:00             2    1483.43   -927.077800 -3.264976e+06   \n",
       "2022-01-01 03:00:00             3    2098.21   -607.736025 -3.923160e+06   \n",
       "2022-01-01 04:00:00             4    1870.14   -229.331050 -2.491853e+06   \n",
       "\n",
       "                       delta_NOx    delta_SO2       MEF       MDF  Intercept  \\\n",
       "2022-01-01 00:00:00  -295.373619  1387.534201  0.314517 -0.437846  -6.850942   \n",
       "2022-01-01 01:00:00  -295.373619  1387.534201  0.320164 -0.428282 -12.872778   \n",
       "2022-01-01 02:00:00 -2054.543547 -4280.112044  0.343529 -0.411743 -20.677029   \n",
       "2022-01-01 03:00:00 -1510.694028 -9461.452151  0.363654 -0.380918 -19.086330   \n",
       "2022-01-01 04:00:00 -1178.800561 -5160.397812  0.370562 -0.389154 -18.930620   \n",
       "\n",
       "                     Predicted_delta_NOx        Error     %_Error  \\\n",
       "2022-01-01 00:00:00          -734.297097  -438.923478  148.599418   \n",
       "2022-01-01 01:00:00          -739.113908  -443.740289  150.230170   \n",
       "2022-01-01 02:00:00          -949.947403  1104.596144   53.763579   \n",
       "2022-01-01 03:00:00         -1039.337720   471.356308   31.201309   \n",
       "2022-01-01 04:00:00          -831.683544   347.117017   29.446628   \n",
       "\n",
       "                    set_assignment  \n",
       "2022-01-01 00:00:00          train  \n",
       "2022-01-01 01:00:00     validation  \n",
       "2022-01-01 02:00:00          train  \n",
       "2022-01-01 03:00:00     validation  \n",
       "2022-01-01 04:00:00          train  "
      ]
     },
     "execution_count": 33,
     "metadata": {},
     "output_type": "execute_result"
    }
   ],
   "source": [
    "data_df.head()"
   ]
  },
  {
   "cell_type": "code",
   "execution_count": 34,
   "id": "XG2_fHd5fmAI",
   "metadata": {
    "id": "XG2_fHd5fmAI"
   },
   "outputs": [],
   "source": [
    "data_df.to_csv(os.path.join(best_model_dir, \"ercot_2022.nox_preds.csv\"))"
   ]
  },
  {
   "cell_type": "code",
   "execution_count": 35,
   "id": "uJWPn96SFkTa",
   "metadata": {
    "colab": {
     "base_uri": "https://localhost:8080/"
    },
    "id": "uJWPn96SFkTa",
    "outputId": "1ee10191-30a4-4a58-f089-677458a2c182"
   },
   "outputs": [
    {
     "data": {
      "text/plain": [
       "0"
      ]
     },
     "execution_count": 35,
     "metadata": {},
     "output_type": "execute_result"
    }
   ],
   "source": [
    "len([val for val in data_df.loc[:,\"MEF\"] if val <=0])"
   ]
  },
  {
   "cell_type": "code",
   "execution_count": 36,
   "id": "89hutia2GEKj",
   "metadata": {
    "colab": {
     "base_uri": "https://localhost:8080/"
    },
    "id": "89hutia2GEKj",
    "outputId": "12d38d99-8e8d-41a8-b34a-00e3fc3201b1"
   },
   "outputs": [
    {
     "data": {
      "text/plain": [
       "0"
      ]
     },
     "execution_count": 36,
     "metadata": {},
     "output_type": "execute_result"
    }
   ],
   "source": [
    "len([val for val in data_df.loc[:,\"MEF\"] if val >600])"
   ]
  },
  {
   "cell_type": "code",
   "execution_count": 37,
   "id": "F2PyvXRSGoiX",
   "metadata": {
    "colab": {
     "base_uri": "https://localhost:8080/"
    },
    "id": "F2PyvXRSGoiX",
    "outputId": "2bdc08c2-f712-4523-f1b7-d0dc015a8764"
   },
   "outputs": [
    {
     "data": {
      "text/plain": [
       "2.47343111038208"
      ]
     },
     "execution_count": 37,
     "metadata": {},
     "output_type": "execute_result"
    }
   ],
   "source": [
    "data_df.loc[:,\"MEF\"].max()"
   ]
  },
  {
   "cell_type": "code",
   "execution_count": 38,
   "id": "7f546c4f",
   "metadata": {
    "colab": {
     "base_uri": "https://localhost:8080/"
    },
    "id": "89hutia2GEKj",
    "outputId": "12d38d99-8e8d-41a8-b34a-00e3fc3201b1"
   },
   "outputs": [
    {
     "data": {
      "text/plain": [
       "0"
      ]
     },
     "execution_count": 38,
     "metadata": {},
     "output_type": "execute_result"
    }
   ],
   "source": [
    "len([val for val in data_df.loc[:,\"MDF\"] if val < -600])"
   ]
  },
  {
   "cell_type": "code",
   "execution_count": 39,
   "id": "e8df297e",
   "metadata": {
    "colab": {
     "base_uri": "https://localhost:8080/"
    },
    "id": "F2PyvXRSGoiX",
    "outputId": "2bdc08c2-f712-4523-f1b7-d0dc015a8764"
   },
   "outputs": [
    {
     "data": {
      "text/plain": [
       "-1.9466047286987305"
      ]
     },
     "execution_count": 39,
     "metadata": {},
     "output_type": "execute_result"
    }
   ],
   "source": [
    "data_df.loc[:,\"MDF\"].min()"
   ]
  },
  {
   "cell_type": "code",
   "execution_count": 40,
   "id": "3ec83a7d",
   "metadata": {},
   "outputs": [
    {
     "data": {
      "text/html": [
       "<div>\n",
       "<style scoped>\n",
       "    .dataframe tbody tr th:only-of-type {\n",
       "        vertical-align: middle;\n",
       "    }\n",
       "\n",
       "    .dataframe tbody tr th {\n",
       "        vertical-align: top;\n",
       "    }\n",
       "\n",
       "    .dataframe thead th {\n",
       "        text-align: right;\n",
       "    }\n",
       "</style>\n",
       "<table border=\"1\" class=\"dataframe\">\n",
       "  <thead>\n",
       "    <tr style=\"text-align: right;\">\n",
       "      <th></th>\n",
       "      <th>MEF</th>\n",
       "      <th>MDF</th>\n",
       "      <th>Intercept</th>\n",
       "      <th>%_Error</th>\n",
       "    </tr>\n",
       "  </thead>\n",
       "  <tbody>\n",
       "    <tr>\n",
       "      <th>count</th>\n",
       "      <td>8760.000000</td>\n",
       "      <td>8760.000000</td>\n",
       "      <td>8760.000000</td>\n",
       "      <td>8760.000000</td>\n",
       "    </tr>\n",
       "    <tr>\n",
       "      <th>mean</th>\n",
       "      <td>0.375972</td>\n",
       "      <td>-0.274495</td>\n",
       "      <td>23.143148</td>\n",
       "      <td>381.556629</td>\n",
       "    </tr>\n",
       "    <tr>\n",
       "      <th>std</th>\n",
       "      <td>0.211745</td>\n",
       "      <td>0.167565</td>\n",
       "      <td>40.263233</td>\n",
       "      <td>9790.686465</td>\n",
       "    </tr>\n",
       "    <tr>\n",
       "      <th>min</th>\n",
       "      <td>0.093918</td>\n",
       "      <td>-1.946605</td>\n",
       "      <td>-123.596924</td>\n",
       "      <td>0.007881</td>\n",
       "    </tr>\n",
       "    <tr>\n",
       "      <th>25%</th>\n",
       "      <td>0.267303</td>\n",
       "      <td>-0.309966</td>\n",
       "      <td>-0.485785</td>\n",
       "      <td>29.790684</td>\n",
       "    </tr>\n",
       "    <tr>\n",
       "      <th>50%</th>\n",
       "      <td>0.316873</td>\n",
       "      <td>-0.225849</td>\n",
       "      <td>10.773273</td>\n",
       "      <td>62.950542</td>\n",
       "    </tr>\n",
       "    <tr>\n",
       "      <th>75%</th>\n",
       "      <td>0.385917</td>\n",
       "      <td>-0.180436</td>\n",
       "      <td>45.009175</td>\n",
       "      <td>127.079890</td>\n",
       "    </tr>\n",
       "    <tr>\n",
       "      <th>max</th>\n",
       "      <td>2.473431</td>\n",
       "      <td>-0.059214</td>\n",
       "      <td>432.078613</td>\n",
       "      <td>856006.523854</td>\n",
       "    </tr>\n",
       "  </tbody>\n",
       "</table>\n",
       "</div>"
      ],
      "text/plain": [
       "               MEF          MDF    Intercept        %_Error\n",
       "count  8760.000000  8760.000000  8760.000000    8760.000000\n",
       "mean      0.375972    -0.274495    23.143148     381.556629\n",
       "std       0.211745     0.167565    40.263233    9790.686465\n",
       "min       0.093918    -1.946605  -123.596924       0.007881\n",
       "25%       0.267303    -0.309966    -0.485785      29.790684\n",
       "50%       0.316873    -0.225849    10.773273      62.950542\n",
       "75%       0.385917    -0.180436    45.009175     127.079890\n",
       "max       2.473431    -0.059214   432.078613  856006.523854"
      ]
     },
     "execution_count": 40,
     "metadata": {},
     "output_type": "execute_result"
    }
   ],
   "source": [
    "data_df.loc[:,['MEF','MDF','Intercept','%_Error']].describe()"
   ]
  },
  {
   "cell_type": "code",
   "execution_count": null,
   "id": "883ab5dd",
   "metadata": {},
   "outputs": [],
   "source": []
  }
 ],
 "metadata": {
  "accelerator": "GPU",
  "colab": {
   "collapsed_sections": [
    "JXZByiAB-ve0",
    "zU9dxlqPclAo",
    "J1hZygxKnUP7"
   ],
   "provenance": []
  },
  "gpuClass": "standard",
  "kernelspec": {
   "display_name": "Python 3 (ipykernel)",
   "language": "python",
   "name": "python3"
  },
  "language_info": {
   "codemirror_mode": {
    "name": "ipython",
    "version": 3
   },
   "file_extension": ".py",
   "mimetype": "text/x-python",
   "name": "python",
   "nbconvert_exporter": "python",
   "pygments_lexer": "ipython3",
   "version": "3.9.15"
  },
  "widgets": {
   "application/vnd.jupyter.widget-state+json": {
    "070f0cc6c84547c9ad6695a0a2039311": {
     "model_module": "@jupyter-widgets/controls",
     "model_module_version": "1.5.0",
     "model_name": "ProgressStyleModel",
     "state": {
      "_model_module": "@jupyter-widgets/controls",
      "_model_module_version": "1.5.0",
      "_model_name": "ProgressStyleModel",
      "_view_count": null,
      "_view_module": "@jupyter-widgets/base",
      "_view_module_version": "1.2.0",
      "_view_name": "StyleView",
      "bar_color": null,
      "description_width": ""
     }
    },
    "08c8e385d4484aec959c08392a93265b": {
     "model_module": "@jupyter-widgets/base",
     "model_module_version": "1.2.0",
     "model_name": "LayoutModel",
     "state": {
      "_model_module": "@jupyter-widgets/base",
      "_model_module_version": "1.2.0",
      "_model_name": "LayoutModel",
      "_view_count": null,
      "_view_module": "@jupyter-widgets/base",
      "_view_module_version": "1.2.0",
      "_view_name": "LayoutView",
      "align_content": null,
      "align_items": null,
      "align_self": null,
      "border": null,
      "bottom": null,
      "display": null,
      "flex": null,
      "flex_flow": null,
      "grid_area": null,
      "grid_auto_columns": null,
      "grid_auto_flow": null,
      "grid_auto_rows": null,
      "grid_column": null,
      "grid_gap": null,
      "grid_row": null,
      "grid_template_areas": null,
      "grid_template_columns": null,
      "grid_template_rows": null,
      "height": null,
      "justify_content": null,
      "justify_items": null,
      "left": null,
      "margin": null,
      "max_height": null,
      "max_width": null,
      "min_height": null,
      "min_width": null,
      "object_fit": null,
      "object_position": null,
      "order": null,
      "overflow": null,
      "overflow_x": null,
      "overflow_y": null,
      "padding": null,
      "right": null,
      "top": null,
      "visibility": null,
      "width": null
     }
    },
    "0e3c837eefa94c5082e1df5759b32113": {
     "model_module": "@jupyter-widgets/controls",
     "model_module_version": "1.5.0",
     "model_name": "ProgressStyleModel",
     "state": {
      "_model_module": "@jupyter-widgets/controls",
      "_model_module_version": "1.5.0",
      "_model_name": "ProgressStyleModel",
      "_view_count": null,
      "_view_module": "@jupyter-widgets/base",
      "_view_module_version": "1.2.0",
      "_view_name": "StyleView",
      "bar_color": null,
      "description_width": ""
     }
    },
    "0f19d5e2733a4785a40e235ebec4a347": {
     "model_module": "@jupyter-widgets/base",
     "model_module_version": "1.2.0",
     "model_name": "LayoutModel",
     "state": {
      "_model_module": "@jupyter-widgets/base",
      "_model_module_version": "1.2.0",
      "_model_name": "LayoutModel",
      "_view_count": null,
      "_view_module": "@jupyter-widgets/base",
      "_view_module_version": "1.2.0",
      "_view_name": "LayoutView",
      "align_content": null,
      "align_items": null,
      "align_self": null,
      "border": null,
      "bottom": null,
      "display": null,
      "flex": null,
      "flex_flow": null,
      "grid_area": null,
      "grid_auto_columns": null,
      "grid_auto_flow": null,
      "grid_auto_rows": null,
      "grid_column": null,
      "grid_gap": null,
      "grid_row": null,
      "grid_template_areas": null,
      "grid_template_columns": null,
      "grid_template_rows": null,
      "height": null,
      "justify_content": null,
      "justify_items": null,
      "left": null,
      "margin": null,
      "max_height": null,
      "max_width": null,
      "min_height": null,
      "min_width": null,
      "object_fit": null,
      "object_position": null,
      "order": null,
      "overflow": null,
      "overflow_x": null,
      "overflow_y": null,
      "padding": null,
      "right": null,
      "top": null,
      "visibility": null,
      "width": null
     }
    },
    "103385924b674ad7b80753cfa4387a24": {
     "model_module": "@jupyter-widgets/controls",
     "model_module_version": "1.5.0",
     "model_name": "DescriptionStyleModel",
     "state": {
      "_model_module": "@jupyter-widgets/controls",
      "_model_module_version": "1.5.0",
      "_model_name": "DescriptionStyleModel",
      "_view_count": null,
      "_view_module": "@jupyter-widgets/base",
      "_view_module_version": "1.2.0",
      "_view_name": "StyleView",
      "description_width": ""
     }
    },
    "20938ad434484554b26310629e1461fc": {
     "model_module": "@jupyter-widgets/base",
     "model_module_version": "1.2.0",
     "model_name": "LayoutModel",
     "state": {
      "_model_module": "@jupyter-widgets/base",
      "_model_module_version": "1.2.0",
      "_model_name": "LayoutModel",
      "_view_count": null,
      "_view_module": "@jupyter-widgets/base",
      "_view_module_version": "1.2.0",
      "_view_name": "LayoutView",
      "align_content": null,
      "align_items": null,
      "align_self": null,
      "border": null,
      "bottom": null,
      "display": null,
      "flex": null,
      "flex_flow": null,
      "grid_area": null,
      "grid_auto_columns": null,
      "grid_auto_flow": null,
      "grid_auto_rows": null,
      "grid_column": null,
      "grid_gap": null,
      "grid_row": null,
      "grid_template_areas": null,
      "grid_template_columns": null,
      "grid_template_rows": null,
      "height": null,
      "justify_content": null,
      "justify_items": null,
      "left": null,
      "margin": null,
      "max_height": null,
      "max_width": null,
      "min_height": null,
      "min_width": null,
      "object_fit": null,
      "object_position": null,
      "order": null,
      "overflow": null,
      "overflow_x": null,
      "overflow_y": null,
      "padding": null,
      "right": null,
      "top": null,
      "visibility": null,
      "width": null
     }
    },
    "27a1dc5a48e94c90b7148f012585ce8f": {
     "model_module": "@jupyter-widgets/controls",
     "model_module_version": "1.5.0",
     "model_name": "HTMLModel",
     "state": {
      "_dom_classes": [],
      "_model_module": "@jupyter-widgets/controls",
      "_model_module_version": "1.5.0",
      "_model_name": "HTMLModel",
      "_view_count": null,
      "_view_module": "@jupyter-widgets/controls",
      "_view_module_version": "1.5.0",
      "_view_name": "HTMLView",
      "description": "",
      "description_tooltip": null,
      "layout": "IPY_MODEL_20938ad434484554b26310629e1461fc",
      "placeholder": "​",
      "style": "IPY_MODEL_c4e2620491e34d36851ea838eb1644d9",
      "value": " 16508/40000 [03:31&lt;04:49, 81.16it/s]"
     }
    },
    "2928b14ae813424ab77ba3d4aa0bfa59": {
     "model_module": "@jupyter-widgets/controls",
     "model_module_version": "1.5.0",
     "model_name": "DescriptionStyleModel",
     "state": {
      "_model_module": "@jupyter-widgets/controls",
      "_model_module_version": "1.5.0",
      "_model_name": "DescriptionStyleModel",
      "_view_count": null,
      "_view_module": "@jupyter-widgets/base",
      "_view_module_version": "1.2.0",
      "_view_name": "StyleView",
      "description_width": ""
     }
    },
    "2ce278e2710845fb9da98b9f3a8cce0f": {
     "model_module": "@jupyter-widgets/base",
     "model_module_version": "1.2.0",
     "model_name": "LayoutModel",
     "state": {
      "_model_module": "@jupyter-widgets/base",
      "_model_module_version": "1.2.0",
      "_model_name": "LayoutModel",
      "_view_count": null,
      "_view_module": "@jupyter-widgets/base",
      "_view_module_version": "1.2.0",
      "_view_name": "LayoutView",
      "align_content": null,
      "align_items": null,
      "align_self": null,
      "border": null,
      "bottom": null,
      "display": null,
      "flex": null,
      "flex_flow": null,
      "grid_area": null,
      "grid_auto_columns": null,
      "grid_auto_flow": null,
      "grid_auto_rows": null,
      "grid_column": null,
      "grid_gap": null,
      "grid_row": null,
      "grid_template_areas": null,
      "grid_template_columns": null,
      "grid_template_rows": null,
      "height": null,
      "justify_content": null,
      "justify_items": null,
      "left": null,
      "margin": null,
      "max_height": null,
      "max_width": null,
      "min_height": null,
      "min_width": null,
      "object_fit": null,
      "object_position": null,
      "order": null,
      "overflow": null,
      "overflow_x": null,
      "overflow_y": null,
      "padding": null,
      "right": null,
      "top": null,
      "visibility": null,
      "width": null
     }
    },
    "3828b309d7344ee793b829b9ce7a9a88": {
     "model_module": "@jupyter-widgets/controls",
     "model_module_version": "1.5.0",
     "model_name": "HTMLModel",
     "state": {
      "_dom_classes": [],
      "_model_module": "@jupyter-widgets/controls",
      "_model_module_version": "1.5.0",
      "_model_name": "HTMLModel",
      "_view_count": null,
      "_view_module": "@jupyter-widgets/controls",
      "_view_module_version": "1.5.0",
      "_view_name": "HTMLView",
      "description": "",
      "description_tooltip": null,
      "layout": "IPY_MODEL_5131ad864b104f83a55c6ade9b627188",
      "placeholder": "​",
      "style": "IPY_MODEL_4977bdb411e84a00844b6385a00e4eaa",
      "value": " 329/40000 [00:04&lt;07:51, 84.13it/s]"
     }
    },
    "3add4675c0c547cfbc6931b41d9f6603": {
     "model_module": "@jupyter-widgets/base",
     "model_module_version": "1.2.0",
     "model_name": "LayoutModel",
     "state": {
      "_model_module": "@jupyter-widgets/base",
      "_model_module_version": "1.2.0",
      "_model_name": "LayoutModel",
      "_view_count": null,
      "_view_module": "@jupyter-widgets/base",
      "_view_module_version": "1.2.0",
      "_view_name": "LayoutView",
      "align_content": null,
      "align_items": null,
      "align_self": null,
      "border": null,
      "bottom": null,
      "display": null,
      "flex": null,
      "flex_flow": null,
      "grid_area": null,
      "grid_auto_columns": null,
      "grid_auto_flow": null,
      "grid_auto_rows": null,
      "grid_column": null,
      "grid_gap": null,
      "grid_row": null,
      "grid_template_areas": null,
      "grid_template_columns": null,
      "grid_template_rows": null,
      "height": null,
      "justify_content": null,
      "justify_items": null,
      "left": null,
      "margin": null,
      "max_height": null,
      "max_width": null,
      "min_height": null,
      "min_width": null,
      "object_fit": null,
      "object_position": null,
      "order": null,
      "overflow": null,
      "overflow_x": null,
      "overflow_y": null,
      "padding": null,
      "right": null,
      "top": null,
      "visibility": null,
      "width": null
     }
    },
    "3bad009c66a7414aa8449bcac0fab7dc": {
     "model_module": "@jupyter-widgets/controls",
     "model_module_version": "1.5.0",
     "model_name": "HBoxModel",
     "state": {
      "_dom_classes": [],
      "_model_module": "@jupyter-widgets/controls",
      "_model_module_version": "1.5.0",
      "_model_name": "HBoxModel",
      "_view_count": null,
      "_view_module": "@jupyter-widgets/controls",
      "_view_module_version": "1.5.0",
      "_view_name": "HBoxView",
      "box_style": "",
      "children": [
       "IPY_MODEL_567a40dd4ae24b76a6aec52eb25113c5",
       "IPY_MODEL_ad8fe8ed49db4c9da922a61f46e5599d",
       "IPY_MODEL_3828b309d7344ee793b829b9ce7a9a88"
      ],
      "layout": "IPY_MODEL_7daee14d81ae47468dc32742cb767db2"
     }
    },
    "3ce3b54e660a44be9c3af4558c899807": {
     "model_module": "@jupyter-widgets/base",
     "model_module_version": "1.2.0",
     "model_name": "LayoutModel",
     "state": {
      "_model_module": "@jupyter-widgets/base",
      "_model_module_version": "1.2.0",
      "_model_name": "LayoutModel",
      "_view_count": null,
      "_view_module": "@jupyter-widgets/base",
      "_view_module_version": "1.2.0",
      "_view_name": "LayoutView",
      "align_content": null,
      "align_items": null,
      "align_self": null,
      "border": null,
      "bottom": null,
      "display": null,
      "flex": null,
      "flex_flow": null,
      "grid_area": null,
      "grid_auto_columns": null,
      "grid_auto_flow": null,
      "grid_auto_rows": null,
      "grid_column": null,
      "grid_gap": null,
      "grid_row": null,
      "grid_template_areas": null,
      "grid_template_columns": null,
      "grid_template_rows": null,
      "height": null,
      "justify_content": null,
      "justify_items": null,
      "left": null,
      "margin": null,
      "max_height": null,
      "max_width": null,
      "min_height": null,
      "min_width": null,
      "object_fit": null,
      "object_position": null,
      "order": null,
      "overflow": null,
      "overflow_x": null,
      "overflow_y": null,
      "padding": null,
      "right": null,
      "top": null,
      "visibility": null,
      "width": null
     }
    },
    "4977bdb411e84a00844b6385a00e4eaa": {
     "model_module": "@jupyter-widgets/controls",
     "model_module_version": "1.5.0",
     "model_name": "DescriptionStyleModel",
     "state": {
      "_model_module": "@jupyter-widgets/controls",
      "_model_module_version": "1.5.0",
      "_model_name": "DescriptionStyleModel",
      "_view_count": null,
      "_view_module": "@jupyter-widgets/base",
      "_view_module_version": "1.2.0",
      "_view_name": "StyleView",
      "description_width": ""
     }
    },
    "50ff9eca72d445d48d9d82d7c8000c9e": {
     "model_module": "@jupyter-widgets/controls",
     "model_module_version": "1.5.0",
     "model_name": "ProgressStyleModel",
     "state": {
      "_model_module": "@jupyter-widgets/controls",
      "_model_module_version": "1.5.0",
      "_model_name": "ProgressStyleModel",
      "_view_count": null,
      "_view_module": "@jupyter-widgets/base",
      "_view_module_version": "1.2.0",
      "_view_name": "StyleView",
      "bar_color": null,
      "description_width": ""
     }
    },
    "5131ad864b104f83a55c6ade9b627188": {
     "model_module": "@jupyter-widgets/base",
     "model_module_version": "1.2.0",
     "model_name": "LayoutModel",
     "state": {
      "_model_module": "@jupyter-widgets/base",
      "_model_module_version": "1.2.0",
      "_model_name": "LayoutModel",
      "_view_count": null,
      "_view_module": "@jupyter-widgets/base",
      "_view_module_version": "1.2.0",
      "_view_name": "LayoutView",
      "align_content": null,
      "align_items": null,
      "align_self": null,
      "border": null,
      "bottom": null,
      "display": null,
      "flex": null,
      "flex_flow": null,
      "grid_area": null,
      "grid_auto_columns": null,
      "grid_auto_flow": null,
      "grid_auto_rows": null,
      "grid_column": null,
      "grid_gap": null,
      "grid_row": null,
      "grid_template_areas": null,
      "grid_template_columns": null,
      "grid_template_rows": null,
      "height": null,
      "justify_content": null,
      "justify_items": null,
      "left": null,
      "margin": null,
      "max_height": null,
      "max_width": null,
      "min_height": null,
      "min_width": null,
      "object_fit": null,
      "object_position": null,
      "order": null,
      "overflow": null,
      "overflow_x": null,
      "overflow_y": null,
      "padding": null,
      "right": null,
      "top": null,
      "visibility": null,
      "width": null
     }
    },
    "567a40dd4ae24b76a6aec52eb25113c5": {
     "model_module": "@jupyter-widgets/controls",
     "model_module_version": "1.5.0",
     "model_name": "HTMLModel",
     "state": {
      "_dom_classes": [],
      "_model_module": "@jupyter-widgets/controls",
      "_model_module_version": "1.5.0",
      "_model_name": "HTMLModel",
      "_view_count": null,
      "_view_module": "@jupyter-widgets/controls",
      "_view_module_version": "1.5.0",
      "_view_name": "HTMLView",
      "description": "",
      "description_tooltip": null,
      "layout": "IPY_MODEL_3ce3b54e660a44be9c3af4558c899807",
      "placeholder": "​",
      "style": "IPY_MODEL_9384c164e55f4023900dd3d4b6707030",
      "value": "  1%"
     }
    },
    "57b45e4353814abd8bbfaedb164710b8": {
     "model_module": "@jupyter-widgets/controls",
     "model_module_version": "1.5.0",
     "model_name": "FloatProgressModel",
     "state": {
      "_dom_classes": [],
      "_model_module": "@jupyter-widgets/controls",
      "_model_module_version": "1.5.0",
      "_model_name": "FloatProgressModel",
      "_view_count": null,
      "_view_module": "@jupyter-widgets/controls",
      "_view_module_version": "1.5.0",
      "_view_name": "ProgressView",
      "bar_style": "danger",
      "description": "",
      "description_tooltip": null,
      "layout": "IPY_MODEL_f25b80554031474bbd24426d02afd6eb",
      "max": 40000,
      "min": 0,
      "orientation": "horizontal",
      "style": "IPY_MODEL_070f0cc6c84547c9ad6695a0a2039311",
      "value": 16541
     }
    },
    "68d43c0c9fd640d9af417cf3634889f4": {
     "model_module": "@jupyter-widgets/base",
     "model_module_version": "1.2.0",
     "model_name": "LayoutModel",
     "state": {
      "_model_module": "@jupyter-widgets/base",
      "_model_module_version": "1.2.0",
      "_model_name": "LayoutModel",
      "_view_count": null,
      "_view_module": "@jupyter-widgets/base",
      "_view_module_version": "1.2.0",
      "_view_name": "LayoutView",
      "align_content": null,
      "align_items": null,
      "align_self": null,
      "border": null,
      "bottom": null,
      "display": null,
      "flex": null,
      "flex_flow": null,
      "grid_area": null,
      "grid_auto_columns": null,
      "grid_auto_flow": null,
      "grid_auto_rows": null,
      "grid_column": null,
      "grid_gap": null,
      "grid_row": null,
      "grid_template_areas": null,
      "grid_template_columns": null,
      "grid_template_rows": null,
      "height": null,
      "justify_content": null,
      "justify_items": null,
      "left": null,
      "margin": null,
      "max_height": null,
      "max_width": null,
      "min_height": null,
      "min_width": null,
      "object_fit": null,
      "object_position": null,
      "order": null,
      "overflow": null,
      "overflow_x": null,
      "overflow_y": null,
      "padding": null,
      "right": null,
      "top": null,
      "visibility": null,
      "width": null
     }
    },
    "7075efa7777c45bcb618c00dcae91c1c": {
     "model_module": "@jupyter-widgets/controls",
     "model_module_version": "1.5.0",
     "model_name": "HBoxModel",
     "state": {
      "_dom_classes": [],
      "_model_module": "@jupyter-widgets/controls",
      "_model_module_version": "1.5.0",
      "_model_name": "HBoxModel",
      "_view_count": null,
      "_view_module": "@jupyter-widgets/controls",
      "_view_module_version": "1.5.0",
      "_view_name": "HBoxView",
      "box_style": "",
      "children": [
       "IPY_MODEL_c70dd82e256b4143b5aaae01edf1dac2",
       "IPY_MODEL_57b45e4353814abd8bbfaedb164710b8",
       "IPY_MODEL_ff19433f90a244a982b6b6f93c16f649"
      ],
      "layout": "IPY_MODEL_08c8e385d4484aec959c08392a93265b"
     }
    },
    "77734c4c170245368698d86328beba88": {
     "model_module": "@jupyter-widgets/controls",
     "model_module_version": "1.5.0",
     "model_name": "HBoxModel",
     "state": {
      "_dom_classes": [],
      "_model_module": "@jupyter-widgets/controls",
      "_model_module_version": "1.5.0",
      "_model_name": "HBoxModel",
      "_view_count": null,
      "_view_module": "@jupyter-widgets/controls",
      "_view_module_version": "1.5.0",
      "_view_name": "HBoxView",
      "box_style": "",
      "children": [
       "IPY_MODEL_d53412194c194b53ba38b01679339ab7",
       "IPY_MODEL_94ec5c028d764d32b6c043e482c79556",
       "IPY_MODEL_27a1dc5a48e94c90b7148f012585ce8f"
      ],
      "layout": "IPY_MODEL_d8a7ddb0b53d4d3eab0a41faafe09caf"
     }
    },
    "7b09e893553a4f80aff2e44021441401": {
     "model_module": "@jupyter-widgets/controls",
     "model_module_version": "1.5.0",
     "model_name": "DescriptionStyleModel",
     "state": {
      "_model_module": "@jupyter-widgets/controls",
      "_model_module_version": "1.5.0",
      "_model_name": "DescriptionStyleModel",
      "_view_count": null,
      "_view_module": "@jupyter-widgets/base",
      "_view_module_version": "1.2.0",
      "_view_name": "StyleView",
      "description_width": ""
     }
    },
    "7daee14d81ae47468dc32742cb767db2": {
     "model_module": "@jupyter-widgets/base",
     "model_module_version": "1.2.0",
     "model_name": "LayoutModel",
     "state": {
      "_model_module": "@jupyter-widgets/base",
      "_model_module_version": "1.2.0",
      "_model_name": "LayoutModel",
      "_view_count": null,
      "_view_module": "@jupyter-widgets/base",
      "_view_module_version": "1.2.0",
      "_view_name": "LayoutView",
      "align_content": null,
      "align_items": null,
      "align_self": null,
      "border": null,
      "bottom": null,
      "display": null,
      "flex": null,
      "flex_flow": null,
      "grid_area": null,
      "grid_auto_columns": null,
      "grid_auto_flow": null,
      "grid_auto_rows": null,
      "grid_column": null,
      "grid_gap": null,
      "grid_row": null,
      "grid_template_areas": null,
      "grid_template_columns": null,
      "grid_template_rows": null,
      "height": null,
      "justify_content": null,
      "justify_items": null,
      "left": null,
      "margin": null,
      "max_height": null,
      "max_width": null,
      "min_height": null,
      "min_width": null,
      "object_fit": null,
      "object_position": null,
      "order": null,
      "overflow": null,
      "overflow_x": null,
      "overflow_y": null,
      "padding": null,
      "right": null,
      "top": null,
      "visibility": null,
      "width": null
     }
    },
    "7e1d032c50ce4a7dba0569d353d0cde9": {
     "model_module": "@jupyter-widgets/base",
     "model_module_version": "1.2.0",
     "model_name": "LayoutModel",
     "state": {
      "_model_module": "@jupyter-widgets/base",
      "_model_module_version": "1.2.0",
      "_model_name": "LayoutModel",
      "_view_count": null,
      "_view_module": "@jupyter-widgets/base",
      "_view_module_version": "1.2.0",
      "_view_name": "LayoutView",
      "align_content": null,
      "align_items": null,
      "align_self": null,
      "border": null,
      "bottom": null,
      "display": null,
      "flex": null,
      "flex_flow": null,
      "grid_area": null,
      "grid_auto_columns": null,
      "grid_auto_flow": null,
      "grid_auto_rows": null,
      "grid_column": null,
      "grid_gap": null,
      "grid_row": null,
      "grid_template_areas": null,
      "grid_template_columns": null,
      "grid_template_rows": null,
      "height": null,
      "justify_content": null,
      "justify_items": null,
      "left": null,
      "margin": null,
      "max_height": null,
      "max_width": null,
      "min_height": null,
      "min_width": null,
      "object_fit": null,
      "object_position": null,
      "order": null,
      "overflow": null,
      "overflow_x": null,
      "overflow_y": null,
      "padding": null,
      "right": null,
      "top": null,
      "visibility": null,
      "width": null
     }
    },
    "8d07ab087b914f33893556a80dabf85b": {
     "model_module": "@jupyter-widgets/controls",
     "model_module_version": "1.5.0",
     "model_name": "DescriptionStyleModel",
     "state": {
      "_model_module": "@jupyter-widgets/controls",
      "_model_module_version": "1.5.0",
      "_model_name": "DescriptionStyleModel",
      "_view_count": null,
      "_view_module": "@jupyter-widgets/base",
      "_view_module_version": "1.2.0",
      "_view_name": "StyleView",
      "description_width": ""
     }
    },
    "9384c164e55f4023900dd3d4b6707030": {
     "model_module": "@jupyter-widgets/controls",
     "model_module_version": "1.5.0",
     "model_name": "DescriptionStyleModel",
     "state": {
      "_model_module": "@jupyter-widgets/controls",
      "_model_module_version": "1.5.0",
      "_model_name": "DescriptionStyleModel",
      "_view_count": null,
      "_view_module": "@jupyter-widgets/base",
      "_view_module_version": "1.2.0",
      "_view_name": "StyleView",
      "description_width": ""
     }
    },
    "94ec5c028d764d32b6c043e482c79556": {
     "model_module": "@jupyter-widgets/controls",
     "model_module_version": "1.5.0",
     "model_name": "FloatProgressModel",
     "state": {
      "_dom_classes": [],
      "_model_module": "@jupyter-widgets/controls",
      "_model_module_version": "1.5.0",
      "_model_name": "FloatProgressModel",
      "_view_count": null,
      "_view_module": "@jupyter-widgets/controls",
      "_view_module_version": "1.5.0",
      "_view_name": "ProgressView",
      "bar_style": "danger",
      "description": "",
      "description_tooltip": null,
      "layout": "IPY_MODEL_c2cc02fd93324ff9b86a4501b42c08c8",
      "max": 40000,
      "min": 0,
      "orientation": "horizontal",
      "style": "IPY_MODEL_50ff9eca72d445d48d9d82d7c8000c9e",
      "value": 16508
     }
    },
    "9778fe50cf8340e3a17b0af7e9fee958": {
     "model_module": "@jupyter-widgets/controls",
     "model_module_version": "1.5.0",
     "model_name": "DescriptionStyleModel",
     "state": {
      "_model_module": "@jupyter-widgets/controls",
      "_model_module_version": "1.5.0",
      "_model_name": "DescriptionStyleModel",
      "_view_count": null,
      "_view_module": "@jupyter-widgets/base",
      "_view_module_version": "1.2.0",
      "_view_name": "StyleView",
      "description_width": ""
     }
    },
    "a1b9606a1e6b45199d7e28c6108c671b": {
     "model_module": "@jupyter-widgets/controls",
     "model_module_version": "1.5.0",
     "model_name": "HTMLModel",
     "state": {
      "_dom_classes": [],
      "_model_module": "@jupyter-widgets/controls",
      "_model_module_version": "1.5.0",
      "_model_name": "HTMLModel",
      "_view_count": null,
      "_view_module": "@jupyter-widgets/controls",
      "_view_module_version": "1.5.0",
      "_view_name": "HTMLView",
      "description": "",
      "description_tooltip": null,
      "layout": "IPY_MODEL_fdea0f6fa1b947d482c6e1d543f69e8e",
      "placeholder": "​",
      "style": "IPY_MODEL_8d07ab087b914f33893556a80dabf85b",
      "value": "100%"
     }
    },
    "a8802036f40b4d62ad0645cc6704fe66": {
     "model_module": "@jupyter-widgets/controls",
     "model_module_version": "1.5.0",
     "model_name": "ProgressStyleModel",
     "state": {
      "_model_module": "@jupyter-widgets/controls",
      "_model_module_version": "1.5.0",
      "_model_name": "ProgressStyleModel",
      "_view_count": null,
      "_view_module": "@jupyter-widgets/base",
      "_view_module_version": "1.2.0",
      "_view_name": "StyleView",
      "bar_color": null,
      "description_width": ""
     }
    },
    "ab73f3bb925b4161ac595c91fb7e02f9": {
     "model_module": "@jupyter-widgets/controls",
     "model_module_version": "1.5.0",
     "model_name": "FloatProgressModel",
     "state": {
      "_dom_classes": [],
      "_model_module": "@jupyter-widgets/controls",
      "_model_module_version": "1.5.0",
      "_model_name": "FloatProgressModel",
      "_view_count": null,
      "_view_module": "@jupyter-widgets/controls",
      "_view_module_version": "1.5.0",
      "_view_name": "ProgressView",
      "bar_style": "success",
      "description": "",
      "description_tooltip": null,
      "layout": "IPY_MODEL_3add4675c0c547cfbc6931b41d9f6603",
      "max": 40000,
      "min": 0,
      "orientation": "horizontal",
      "style": "IPY_MODEL_a8802036f40b4d62ad0645cc6704fe66",
      "value": 40000
     }
    },
    "ad8fe8ed49db4c9da922a61f46e5599d": {
     "model_module": "@jupyter-widgets/controls",
     "model_module_version": "1.5.0",
     "model_name": "FloatProgressModel",
     "state": {
      "_dom_classes": [],
      "_model_module": "@jupyter-widgets/controls",
      "_model_module_version": "1.5.0",
      "_model_name": "FloatProgressModel",
      "_view_count": null,
      "_view_module": "@jupyter-widgets/controls",
      "_view_module_version": "1.5.0",
      "_view_name": "ProgressView",
      "bar_style": "danger",
      "description": "",
      "description_tooltip": null,
      "layout": "IPY_MODEL_68d43c0c9fd640d9af417cf3634889f4",
      "max": 40000,
      "min": 0,
      "orientation": "horizontal",
      "style": "IPY_MODEL_0e3c837eefa94c5082e1df5759b32113",
      "value": 329
     }
    },
    "c2cc02fd93324ff9b86a4501b42c08c8": {
     "model_module": "@jupyter-widgets/base",
     "model_module_version": "1.2.0",
     "model_name": "LayoutModel",
     "state": {
      "_model_module": "@jupyter-widgets/base",
      "_model_module_version": "1.2.0",
      "_model_name": "LayoutModel",
      "_view_count": null,
      "_view_module": "@jupyter-widgets/base",
      "_view_module_version": "1.2.0",
      "_view_name": "LayoutView",
      "align_content": null,
      "align_items": null,
      "align_self": null,
      "border": null,
      "bottom": null,
      "display": null,
      "flex": null,
      "flex_flow": null,
      "grid_area": null,
      "grid_auto_columns": null,
      "grid_auto_flow": null,
      "grid_auto_rows": null,
      "grid_column": null,
      "grid_gap": null,
      "grid_row": null,
      "grid_template_areas": null,
      "grid_template_columns": null,
      "grid_template_rows": null,
      "height": null,
      "justify_content": null,
      "justify_items": null,
      "left": null,
      "margin": null,
      "max_height": null,
      "max_width": null,
      "min_height": null,
      "min_width": null,
      "object_fit": null,
      "object_position": null,
      "order": null,
      "overflow": null,
      "overflow_x": null,
      "overflow_y": null,
      "padding": null,
      "right": null,
      "top": null,
      "visibility": null,
      "width": null
     }
    },
    "c4e2620491e34d36851ea838eb1644d9": {
     "model_module": "@jupyter-widgets/controls",
     "model_module_version": "1.5.0",
     "model_name": "DescriptionStyleModel",
     "state": {
      "_model_module": "@jupyter-widgets/controls",
      "_model_module_version": "1.5.0",
      "_model_name": "DescriptionStyleModel",
      "_view_count": null,
      "_view_module": "@jupyter-widgets/base",
      "_view_module_version": "1.2.0",
      "_view_name": "StyleView",
      "description_width": ""
     }
    },
    "c4e4e36786ea4217b5c8b673fb428660": {
     "model_module": "@jupyter-widgets/controls",
     "model_module_version": "1.5.0",
     "model_name": "HTMLModel",
     "state": {
      "_dom_classes": [],
      "_model_module": "@jupyter-widgets/controls",
      "_model_module_version": "1.5.0",
      "_model_name": "HTMLModel",
      "_view_count": null,
      "_view_module": "@jupyter-widgets/controls",
      "_view_module_version": "1.5.0",
      "_view_name": "HTMLView",
      "description": "",
      "description_tooltip": null,
      "layout": "IPY_MODEL_d907984e42d246128e0725149cd6907b",
      "placeholder": "​",
      "style": "IPY_MODEL_9778fe50cf8340e3a17b0af7e9fee958",
      "value": " 40000/40000 [08:16&lt;00:00, 83.35it/s]"
     }
    },
    "c70dd82e256b4143b5aaae01edf1dac2": {
     "model_module": "@jupyter-widgets/controls",
     "model_module_version": "1.5.0",
     "model_name": "HTMLModel",
     "state": {
      "_dom_classes": [],
      "_model_module": "@jupyter-widgets/controls",
      "_model_module_version": "1.5.0",
      "_model_name": "HTMLModel",
      "_view_count": null,
      "_view_module": "@jupyter-widgets/controls",
      "_view_module_version": "1.5.0",
      "_view_name": "HTMLView",
      "description": "",
      "description_tooltip": null,
      "layout": "IPY_MODEL_e8c94ebebe0d4d4b85c5e727c4c20e29",
      "placeholder": "​",
      "style": "IPY_MODEL_2928b14ae813424ab77ba3d4aa0bfa59",
      "value": " 41%"
     }
    },
    "d53412194c194b53ba38b01679339ab7": {
     "model_module": "@jupyter-widgets/controls",
     "model_module_version": "1.5.0",
     "model_name": "HTMLModel",
     "state": {
      "_dom_classes": [],
      "_model_module": "@jupyter-widgets/controls",
      "_model_module_version": "1.5.0",
      "_model_name": "HTMLModel",
      "_view_count": null,
      "_view_module": "@jupyter-widgets/controls",
      "_view_module_version": "1.5.0",
      "_view_name": "HTMLView",
      "description": "",
      "description_tooltip": null,
      "layout": "IPY_MODEL_2ce278e2710845fb9da98b9f3a8cce0f",
      "placeholder": "​",
      "style": "IPY_MODEL_7b09e893553a4f80aff2e44021441401",
      "value": " 41%"
     }
    },
    "d8a7ddb0b53d4d3eab0a41faafe09caf": {
     "model_module": "@jupyter-widgets/base",
     "model_module_version": "1.2.0",
     "model_name": "LayoutModel",
     "state": {
      "_model_module": "@jupyter-widgets/base",
      "_model_module_version": "1.2.0",
      "_model_name": "LayoutModel",
      "_view_count": null,
      "_view_module": "@jupyter-widgets/base",
      "_view_module_version": "1.2.0",
      "_view_name": "LayoutView",
      "align_content": null,
      "align_items": null,
      "align_self": null,
      "border": null,
      "bottom": null,
      "display": null,
      "flex": null,
      "flex_flow": null,
      "grid_area": null,
      "grid_auto_columns": null,
      "grid_auto_flow": null,
      "grid_auto_rows": null,
      "grid_column": null,
      "grid_gap": null,
      "grid_row": null,
      "grid_template_areas": null,
      "grid_template_columns": null,
      "grid_template_rows": null,
      "height": null,
      "justify_content": null,
      "justify_items": null,
      "left": null,
      "margin": null,
      "max_height": null,
      "max_width": null,
      "min_height": null,
      "min_width": null,
      "object_fit": null,
      "object_position": null,
      "order": null,
      "overflow": null,
      "overflow_x": null,
      "overflow_y": null,
      "padding": null,
      "right": null,
      "top": null,
      "visibility": null,
      "width": null
     }
    },
    "d907984e42d246128e0725149cd6907b": {
     "model_module": "@jupyter-widgets/base",
     "model_module_version": "1.2.0",
     "model_name": "LayoutModel",
     "state": {
      "_model_module": "@jupyter-widgets/base",
      "_model_module_version": "1.2.0",
      "_model_name": "LayoutModel",
      "_view_count": null,
      "_view_module": "@jupyter-widgets/base",
      "_view_module_version": "1.2.0",
      "_view_name": "LayoutView",
      "align_content": null,
      "align_items": null,
      "align_self": null,
      "border": null,
      "bottom": null,
      "display": null,
      "flex": null,
      "flex_flow": null,
      "grid_area": null,
      "grid_auto_columns": null,
      "grid_auto_flow": null,
      "grid_auto_rows": null,
      "grid_column": null,
      "grid_gap": null,
      "grid_row": null,
      "grid_template_areas": null,
      "grid_template_columns": null,
      "grid_template_rows": null,
      "height": null,
      "justify_content": null,
      "justify_items": null,
      "left": null,
      "margin": null,
      "max_height": null,
      "max_width": null,
      "min_height": null,
      "min_width": null,
      "object_fit": null,
      "object_position": null,
      "order": null,
      "overflow": null,
      "overflow_x": null,
      "overflow_y": null,
      "padding": null,
      "right": null,
      "top": null,
      "visibility": null,
      "width": null
     }
    },
    "e8c94ebebe0d4d4b85c5e727c4c20e29": {
     "model_module": "@jupyter-widgets/base",
     "model_module_version": "1.2.0",
     "model_name": "LayoutModel",
     "state": {
      "_model_module": "@jupyter-widgets/base",
      "_model_module_version": "1.2.0",
      "_model_name": "LayoutModel",
      "_view_count": null,
      "_view_module": "@jupyter-widgets/base",
      "_view_module_version": "1.2.0",
      "_view_name": "LayoutView",
      "align_content": null,
      "align_items": null,
      "align_self": null,
      "border": null,
      "bottom": null,
      "display": null,
      "flex": null,
      "flex_flow": null,
      "grid_area": null,
      "grid_auto_columns": null,
      "grid_auto_flow": null,
      "grid_auto_rows": null,
      "grid_column": null,
      "grid_gap": null,
      "grid_row": null,
      "grid_template_areas": null,
      "grid_template_columns": null,
      "grid_template_rows": null,
      "height": null,
      "justify_content": null,
      "justify_items": null,
      "left": null,
      "margin": null,
      "max_height": null,
      "max_width": null,
      "min_height": null,
      "min_width": null,
      "object_fit": null,
      "object_position": null,
      "order": null,
      "overflow": null,
      "overflow_x": null,
      "overflow_y": null,
      "padding": null,
      "right": null,
      "top": null,
      "visibility": null,
      "width": null
     }
    },
    "f25b80554031474bbd24426d02afd6eb": {
     "model_module": "@jupyter-widgets/base",
     "model_module_version": "1.2.0",
     "model_name": "LayoutModel",
     "state": {
      "_model_module": "@jupyter-widgets/base",
      "_model_module_version": "1.2.0",
      "_model_name": "LayoutModel",
      "_view_count": null,
      "_view_module": "@jupyter-widgets/base",
      "_view_module_version": "1.2.0",
      "_view_name": "LayoutView",
      "align_content": null,
      "align_items": null,
      "align_self": null,
      "border": null,
      "bottom": null,
      "display": null,
      "flex": null,
      "flex_flow": null,
      "grid_area": null,
      "grid_auto_columns": null,
      "grid_auto_flow": null,
      "grid_auto_rows": null,
      "grid_column": null,
      "grid_gap": null,
      "grid_row": null,
      "grid_template_areas": null,
      "grid_template_columns": null,
      "grid_template_rows": null,
      "height": null,
      "justify_content": null,
      "justify_items": null,
      "left": null,
      "margin": null,
      "max_height": null,
      "max_width": null,
      "min_height": null,
      "min_width": null,
      "object_fit": null,
      "object_position": null,
      "order": null,
      "overflow": null,
      "overflow_x": null,
      "overflow_y": null,
      "padding": null,
      "right": null,
      "top": null,
      "visibility": null,
      "width": null
     }
    },
    "fa71bf432e6c4954a3b91311a1e9d1f4": {
     "model_module": "@jupyter-widgets/controls",
     "model_module_version": "1.5.0",
     "model_name": "HBoxModel",
     "state": {
      "_dom_classes": [],
      "_model_module": "@jupyter-widgets/controls",
      "_model_module_version": "1.5.0",
      "_model_name": "HBoxModel",
      "_view_count": null,
      "_view_module": "@jupyter-widgets/controls",
      "_view_module_version": "1.5.0",
      "_view_name": "HBoxView",
      "box_style": "",
      "children": [
       "IPY_MODEL_a1b9606a1e6b45199d7e28c6108c671b",
       "IPY_MODEL_ab73f3bb925b4161ac595c91fb7e02f9",
       "IPY_MODEL_c4e4e36786ea4217b5c8b673fb428660"
      ],
      "layout": "IPY_MODEL_7e1d032c50ce4a7dba0569d353d0cde9"
     }
    },
    "fdea0f6fa1b947d482c6e1d543f69e8e": {
     "model_module": "@jupyter-widgets/base",
     "model_module_version": "1.2.0",
     "model_name": "LayoutModel",
     "state": {
      "_model_module": "@jupyter-widgets/base",
      "_model_module_version": "1.2.0",
      "_model_name": "LayoutModel",
      "_view_count": null,
      "_view_module": "@jupyter-widgets/base",
      "_view_module_version": "1.2.0",
      "_view_name": "LayoutView",
      "align_content": null,
      "align_items": null,
      "align_self": null,
      "border": null,
      "bottom": null,
      "display": null,
      "flex": null,
      "flex_flow": null,
      "grid_area": null,
      "grid_auto_columns": null,
      "grid_auto_flow": null,
      "grid_auto_rows": null,
      "grid_column": null,
      "grid_gap": null,
      "grid_row": null,
      "grid_template_areas": null,
      "grid_template_columns": null,
      "grid_template_rows": null,
      "height": null,
      "justify_content": null,
      "justify_items": null,
      "left": null,
      "margin": null,
      "max_height": null,
      "max_width": null,
      "min_height": null,
      "min_width": null,
      "object_fit": null,
      "object_position": null,
      "order": null,
      "overflow": null,
      "overflow_x": null,
      "overflow_y": null,
      "padding": null,
      "right": null,
      "top": null,
      "visibility": null,
      "width": null
     }
    },
    "ff19433f90a244a982b6b6f93c16f649": {
     "model_module": "@jupyter-widgets/controls",
     "model_module_version": "1.5.0",
     "model_name": "HTMLModel",
     "state": {
      "_dom_classes": [],
      "_model_module": "@jupyter-widgets/controls",
      "_model_module_version": "1.5.0",
      "_model_name": "HTMLModel",
      "_view_count": null,
      "_view_module": "@jupyter-widgets/controls",
      "_view_module_version": "1.5.0",
      "_view_name": "HTMLView",
      "description": "",
      "description_tooltip": null,
      "layout": "IPY_MODEL_0f19d5e2733a4785a40e235ebec4a347",
      "placeholder": "​",
      "style": "IPY_MODEL_103385924b674ad7b80753cfa4387a24",
      "value": " 16541/40000 [03:30&lt;04:41, 83.25it/s]"
     }
    }
   }
  }
 },
 "nbformat": 4,
 "nbformat_minor": 5
}
