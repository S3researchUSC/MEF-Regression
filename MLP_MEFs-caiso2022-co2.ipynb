{
 "cells": [
  {
   "cell_type": "code",
   "execution_count": 2,
   "id": "ee3b9786",
   "metadata": {
    "id": "ee3b9786"
   },
   "outputs": [],
   "source": [
    "import numpy as np\n",
    "import torch\n",
    "import torch.nn as nn\n",
    "import pandas as pd\n",
    "from sklearn import preprocessing\n",
    "from sklearn.metrics import r2_score, mean_absolute_error\n",
    "from tqdm.notebook import tqdm\n",
    "import matplotlib.pyplot as plt\n",
    "import random\n",
    "from pathlib import Path\n",
    "import os\n",
    "from datetime import datetime\n",
    "import pickle"
   ]
  },
  {
   "cell_type": "markdown",
   "id": "a5f30fe9",
   "metadata": {
    "id": "a5f30fe9"
   },
   "source": [
    "## Parameters"
   ]
  },
  {
   "cell_type": "code",
   "execution_count": 3,
   "id": "5b19ab2c",
   "metadata": {},
   "outputs": [],
   "source": [
    "data_file = os.path.join(os.getcwd(), 'CAISO_2022_Prepped.csv')"
   ]
  },
  {
   "cell_type": "code",
   "execution_count": 4,
   "id": "7d1d7ca6",
   "metadata": {},
   "outputs": [
    {
     "data": {
      "text/plain": [
       "Index(['CAISO_Demand_MWh', 'CAISO_VRE_MWh', 'Hour', 'Month', 'Time_Elapsed',\n",
       "       'delta_VRE', 'delta_Demand', 'delta_CO2', 'delta_SO2', 'delta_NOx'],\n",
       "      dtype='object')"
      ]
     },
     "execution_count": 4,
     "metadata": {},
     "output_type": "execute_result"
    }
   ],
   "source": [
    "data_df = pd.read_csv(data_file, index_col=0)\n",
    "data_df.index = pd.to_datetime(data_df.index)\n",
    "data_df.columns"
   ]
  },
  {
   "cell_type": "code",
   "execution_count": 5,
   "id": "08e1ec4a",
   "metadata": {
    "id": "08e1ec4a"
   },
   "outputs": [],
   "source": [
    "data_file = os.path.join(os.getcwd(), 'CAISO_2022_Prepped.csv')\n",
    "model_save_dir = os.path.join(os.getcwd(), \"MLP_CAISO_2022_models\")\n",
    "Path(model_save_dir).mkdir(parents=True, exist_ok=True)\n",
    "device = torch.device('cuda' if torch.cuda.is_available() else 'cpu')\n",
    "n_out = 3    # 3 output parameters: MEF, MDF, interecept. \n",
    "             # inclusion of intercept is debatable (we'd love to have a model where it is zero),\n",
    "             # and so far it has not much impacted r^2.\n",
    "             # once we do test train split i only want to keep it if it notably improves model accuracy\n",
    "feature_cols = data_df.columns[:5]"
   ]
  },
  {
   "cell_type": "code",
   "execution_count": 6,
   "id": "c0be5933",
   "metadata": {},
   "outputs": [
    {
     "data": {
      "text/plain": [
       "device(type='cuda')"
      ]
     },
     "execution_count": 6,
     "metadata": {},
     "output_type": "execute_result"
    }
   ],
   "source": [
    "device"
   ]
  },
  {
   "cell_type": "markdown",
   "id": "ab3cc09e",
   "metadata": {
    "id": "ab3cc09e"
   },
   "source": [
    "## Data Loading and pre-processing"
   ]
  },
  {
   "cell_type": "code",
   "execution_count": 7,
   "id": "3d1127da",
   "metadata": {},
   "outputs": [],
   "source": [
    "data_df = pd.read_csv(data_file, index_col=0)\n",
    "data_df.index = pd.to_datetime(data_df.index)"
   ]
  },
  {
   "cell_type": "code",
   "execution_count": 8,
   "id": "44428adb",
   "metadata": {},
   "outputs": [
    {
     "data": {
      "text/plain": [
       "Timestamp('2022-01-01 01:00:00')"
      ]
     },
     "execution_count": 8,
     "metadata": {},
     "output_type": "execute_result"
    }
   ],
   "source": [
    "data_df.index[0]"
   ]
  },
  {
   "cell_type": "code",
   "execution_count": 9,
   "id": "44e7e48e",
   "metadata": {
    "id": "44e7e48e"
   },
   "outputs": [],
   "source": [
    "num_samples = len(data_df)\n",
    "\n",
    "# create masks for train, validation and test data\n",
    "percent_train, percent_val, percent_test = .6, .2, .2\n",
    "num_train, num_val = int(percent_train * num_samples), int(percent_val * num_samples)\n",
    "num_test = num_samples - num_train - num_val\n",
    "set_assignments = np.array([1 for i in range(num_train)] + [2 for i in range(num_val)] + [3 for i in range(num_test)])\n",
    "np.random.seed(1)\n",
    "np.random.shuffle(set_assignments)\n",
    "train_mask = set_assignments == 1\n",
    "val_mask = set_assignments == 2\n",
    "test_mask = set_assignments == 3\n",
    "train_df = data_df.loc[train_mask]\n",
    "val_df = data_df.loc[val_mask]\n",
    "test_df = data_df.loc[test_mask]\n",
    "\n",
    "# specify x and y data #TODO seems like there may be some unnecessary operations here... \n",
    "train_x = torch.tensor(train_df[feature_cols].values.astype(np.float32))\n",
    "val_x = torch.tensor(val_df[feature_cols].values.astype(np.float32))\n",
    "test_x = torch.tensor(test_df[feature_cols].values.astype(np.float32))\n",
    "\n",
    "\n",
    "# standardize data based on mean and variance of train data\n",
    "scaler = preprocessing.StandardScaler()\n",
    "scaler.fit(train_x)\n",
    "train_x = torch.tensor(scaler.transform(train_x)).to(device)\n",
    "val_x = torch.tensor(scaler.transform(val_x)).to(device)\n",
    "test_x = torch.tensor(scaler.transform(test_x)).to(device)\n",
    "\n",
    "# save scaler for later re-use\n",
    "with open(os.path.join(model_save_dir, \"scaler.pkl\"), 'wb') as f:\n",
    "    pickle.dump(scaler, f)"
   ]
  },
  {
   "cell_type": "code",
   "execution_count": 10,
   "id": "KlXBQQverSKC",
   "metadata": {
    "colab": {
     "base_uri": "https://localhost:8080/",
     "height": 490
    },
    "id": "KlXBQQverSKC",
    "outputId": "cb77e3d0-fc9f-478b-e954-f5c23f911d78"
   },
   "outputs": [
    {
     "data": {
      "text/html": [
       "<div>\n",
       "<style scoped>\n",
       "    .dataframe tbody tr th:only-of-type {\n",
       "        vertical-align: middle;\n",
       "    }\n",
       "\n",
       "    .dataframe tbody tr th {\n",
       "        vertical-align: top;\n",
       "    }\n",
       "\n",
       "    .dataframe thead th {\n",
       "        text-align: right;\n",
       "    }\n",
       "</style>\n",
       "<table border=\"1\" class=\"dataframe\">\n",
       "  <thead>\n",
       "    <tr style=\"text-align: right;\">\n",
       "      <th></th>\n",
       "      <th>CAISO_Demand_MWh</th>\n",
       "      <th>CAISO_VRE_MWh</th>\n",
       "      <th>Hour</th>\n",
       "      <th>Month</th>\n",
       "      <th>Time_Elapsed</th>\n",
       "      <th>delta_VRE</th>\n",
       "      <th>delta_Demand</th>\n",
       "      <th>delta_CO2</th>\n",
       "      <th>delta_SO2</th>\n",
       "      <th>delta_NOx</th>\n",
       "    </tr>\n",
       "  </thead>\n",
       "  <tbody>\n",
       "    <tr>\n",
       "      <th>2022-01-01 01:00:00</th>\n",
       "      <td>22128</td>\n",
       "      <td>469.617152</td>\n",
       "      <td>1</td>\n",
       "      <td>1</td>\n",
       "      <td>1</td>\n",
       "      <td>-70.262042</td>\n",
       "      <td>-734.0</td>\n",
       "      <td>346500.009963</td>\n",
       "      <td>23.979476</td>\n",
       "      <td>76.179676</td>\n",
       "    </tr>\n",
       "    <tr>\n",
       "      <th>2022-01-01 02:00:00</th>\n",
       "      <td>21394</td>\n",
       "      <td>399.355110</td>\n",
       "      <td>2</td>\n",
       "      <td>1</td>\n",
       "      <td>2</td>\n",
       "      <td>-70.262042</td>\n",
       "      <td>-734.0</td>\n",
       "      <td>346500.009963</td>\n",
       "      <td>23.979476</td>\n",
       "      <td>76.179676</td>\n",
       "    </tr>\n",
       "    <tr>\n",
       "      <th>2022-01-01 03:00:00</th>\n",
       "      <td>21004</td>\n",
       "      <td>301.486908</td>\n",
       "      <td>3</td>\n",
       "      <td>1</td>\n",
       "      <td>3</td>\n",
       "      <td>-97.868202</td>\n",
       "      <td>-390.0</td>\n",
       "      <td>97985.242444</td>\n",
       "      <td>61.361924</td>\n",
       "      <td>114.743358</td>\n",
       "    </tr>\n",
       "    <tr>\n",
       "      <th>2022-01-01 04:00:00</th>\n",
       "      <td>20881</td>\n",
       "      <td>264.397124</td>\n",
       "      <td>4</td>\n",
       "      <td>1</td>\n",
       "      <td>4</td>\n",
       "      <td>-37.089784</td>\n",
       "      <td>-123.0</td>\n",
       "      <td>46882.175122</td>\n",
       "      <td>-5.104375</td>\n",
       "      <td>-3.402698</td>\n",
       "    </tr>\n",
       "    <tr>\n",
       "      <th>2022-01-01 05:00:00</th>\n",
       "      <td>20983</td>\n",
       "      <td>225.893658</td>\n",
       "      <td>5</td>\n",
       "      <td>1</td>\n",
       "      <td>5</td>\n",
       "      <td>-38.503466</td>\n",
       "      <td>102.0</td>\n",
       "      <td>27957.428907</td>\n",
       "      <td>-7.464808</td>\n",
       "      <td>-19.300957</td>\n",
       "    </tr>\n",
       "  </tbody>\n",
       "</table>\n",
       "</div>"
      ],
      "text/plain": [
       "                     CAISO_Demand_MWh  CAISO_VRE_MWh  Hour  Month  \\\n",
       "2022-01-01 01:00:00             22128     469.617152     1      1   \n",
       "2022-01-01 02:00:00             21394     399.355110     2      1   \n",
       "2022-01-01 03:00:00             21004     301.486908     3      1   \n",
       "2022-01-01 04:00:00             20881     264.397124     4      1   \n",
       "2022-01-01 05:00:00             20983     225.893658     5      1   \n",
       "\n",
       "                     Time_Elapsed  delta_VRE  delta_Demand      delta_CO2  \\\n",
       "2022-01-01 01:00:00             1 -70.262042        -734.0  346500.009963   \n",
       "2022-01-01 02:00:00             2 -70.262042        -734.0  346500.009963   \n",
       "2022-01-01 03:00:00             3 -97.868202        -390.0   97985.242444   \n",
       "2022-01-01 04:00:00             4 -37.089784        -123.0   46882.175122   \n",
       "2022-01-01 05:00:00             5 -38.503466         102.0   27957.428907   \n",
       "\n",
       "                     delta_SO2   delta_NOx  \n",
       "2022-01-01 01:00:00  23.979476   76.179676  \n",
       "2022-01-01 02:00:00  23.979476   76.179676  \n",
       "2022-01-01 03:00:00  61.361924  114.743358  \n",
       "2022-01-01 04:00:00  -5.104375   -3.402698  \n",
       "2022-01-01 05:00:00  -7.464808  -19.300957  "
      ]
     },
     "execution_count": 10,
     "metadata": {},
     "output_type": "execute_result"
    }
   ],
   "source": [
    "data_df.iloc[:5]"
   ]
  },
  {
   "cell_type": "code",
   "execution_count": 11,
   "id": "4JXpruwnsO7F",
   "metadata": {
    "colab": {
     "base_uri": "https://localhost:8080/"
    },
    "id": "4JXpruwnsO7F",
    "outputId": "4b454676-741f-4dcd-c940-260d926389ee",
    "scrolled": true
   },
   "outputs": [
    {
     "data": {
      "text/plain": [
       "torch.Size([5254, 5])"
      ]
     },
     "execution_count": 11,
     "metadata": {},
     "output_type": "execute_result"
    }
   ],
   "source": [
    "train_x.shape"
   ]
  },
  {
   "cell_type": "code",
   "execution_count": 12,
   "id": "0c23988f",
   "metadata": {},
   "outputs": [
    {
     "data": {
      "text/plain": [
       "Index(['CAISO_Demand_MWh', 'CAISO_VRE_MWh', 'Hour', 'Month', 'Time_Elapsed'], dtype='object')"
      ]
     },
     "execution_count": 12,
     "metadata": {},
     "output_type": "execute_result"
    }
   ],
   "source": [
    "feature_cols"
   ]
  },
  {
   "cell_type": "code",
   "execution_count": 13,
   "id": "47ea5c43",
   "metadata": {},
   "outputs": [
    {
     "data": {
      "text/plain": [
       "tensor([-1.7298, -1.7294, -1.7278,  ...,  1.7412,  1.7416,  1.7420],\n",
       "       device='cuda:0', dtype=torch.float64)"
      ]
     },
     "execution_count": 13,
     "metadata": {},
     "output_type": "execute_result"
    }
   ],
   "source": [
    "train_x[:,-1]"
   ]
  },
  {
   "cell_type": "markdown",
   "id": "d74d18ea",
   "metadata": {
    "id": "d74d18ea"
   },
   "source": [
    "## define model loss function"
   ]
  },
  {
   "cell_type": "code",
   "execution_count": 14,
   "id": "7a1f3331",
   "metadata": {
    "id": "7a1f3331"
   },
   "outputs": [],
   "source": [
    "def get_model(n_input, hidden_dims, n_out, dropout_p):\n",
    "    \n",
    "    layers = [nn.Linear(n_input, hidden_dims[0]),\n",
    "              nn.BatchNorm1d(hidden_dims[0]),\n",
    "              nn.ReLU(),\n",
    "              nn.Dropout(dropout_p)\n",
    "             ]\n",
    "    for layer in range(len(hidden_dims)-1):\n",
    "        cur_hidden, next_hidden = hidden_dims[layer], hidden_dims[layer+1]\n",
    "        layers.extend([nn.Linear(cur_hidden, next_hidden),\n",
    "                       nn.BatchNorm1d(next_hidden),\n",
    "                       nn.ReLU(),\n",
    "                       nn.Dropout(dropout_p)\n",
    "                      ])\n",
    "    layers.append(nn.Linear(hidden_dims[-1], n_out))\n",
    "    \n",
    "    model = nn.Sequential(*layers)\n",
    "    return model\n",
    "\n",
    "# def mse_loss_regularized_preds_l2(pred_coeff, data_df, MEF_reg_weight, MDF_reg_weight, bias_term, target_col):\n",
    "#     delta_load_tensor = torch.tensor(np.array(data_df['delta_Demand'].values).astype(np.float32))\n",
    "#     delta_vre_tensor = torch.tensor(np.array(data_df['delta_VRE'].values).astype(np.float32))\n",
    "#     MEF_preds = pred_coeff[:,0]\n",
    "#     MDF_preds = pred_coeff[:,1]\n",
    "#     pred_y_demand = torch.mul(delta_load_tensor, MEF_preds)\n",
    "#     pred_y_vre = torch.mul(delta_vre_tensor, MDF_preds)\n",
    "#     pred_y = pred_y_vre + pred_y_demand\n",
    "#     if bias_term:\n",
    "#         bias_preds = pred_coeff[:,2]\n",
    "#         pred_y += bias_preds\n",
    "#     act_y = torch.tensor(np.array(data_df[target_col].values).astype(np.float32))\n",
    "\n",
    "#     # Compute MEF regularization term (sum(MEF^2 + intercept if MEF < 0 for MEF in examples))\n",
    "#     invalid_MEFs = nn.functional.relu(-MEF_preds)  # keep negative MEFs and zero others\n",
    "#     count_invalid_MEFs = torch.count_nonzero(invalid_MEFs)\n",
    "#     MEF_reg_intercept = 4420  # based on an average value of -65 seen amongst invalids when trained without regularization\n",
    "#     MEF_reg = torch.dot(invalid_MEFs, invalid_MEFs) + (count_invalid_MEFs * MEF_reg_intercept)\n",
    "\n",
    "#     # Compute MDF regularization term (sum(MDF^2 + intercept if MDF > 0 for MDF in examples))\n",
    "#     invalid_MDFs = nn.functional.relu(MDF_preds)  # keep negative MEFs and zero others\n",
    "#     count_invalid_MDFs = torch.count_nonzero(invalid_MDFs)\n",
    "#     MDF_reg_intercept = 538  # based on an average value of +23 seen amongst invalids when trained without regularization\n",
    "#     MDF_reg = torch.dot(invalid_MDFs, invalid_MDFs) + (count_invalid_MDFs * MDF_reg_intercept)\n",
    "\n",
    "#     loss = nn.MSELoss()(pred_y, act_y) + (MEF_reg_weight * MEF_reg) + (MDF_reg_weight * MDF_reg)\n",
    "#     return loss\n",
    "\n",
    "def mse_loss_regularized_preds_l1(pred_coeff, data_df, MEF_reg_weight, MDF_reg_weight, bias_term, target_col):\n",
    "    intercept_scalings_by_target = {\n",
    "        'delta_CO2': 1.0,\n",
    "        'delta_NOx': 1.0 / 1000.0,\n",
    "        'delta_SO2': 1.0 / 10000.0,\n",
    "    }\n",
    "    assert target_col in intercept_scalings_by_target\n",
    "    intercept_scaling = intercept_scalings_by_target[target_col]\n",
    "    \n",
    "    delta_load_tensor = torch.tensor(np.array(data_df['delta_Demand'].values).astype(np.float32))\n",
    "    delta_vre_tensor = torch.tensor(np.array(data_df['delta_VRE'].values).astype(np.float32))\n",
    "    MEF_preds = pred_coeff[:,0]\n",
    "    MDF_preds = pred_coeff[:,1]\n",
    "    pred_y_demand = torch.mul(delta_load_tensor, MEF_preds)\n",
    "    pred_y_vre = torch.mul(delta_vre_tensor, MDF_preds)\n",
    "    pred_y = pred_y_vre + pred_y_demand\n",
    "    if bias_term:\n",
    "        bias_preds = pred_coeff[:,2]\n",
    "        pred_y += bias_preds\n",
    "    act_y = torch.tensor(np.array(data_df[target_col].values).astype(np.float32))\n",
    "\n",
    "    # Compute MEF regularization term (sum(MEF + intercept if MEF < 0 for MEF in examples))\n",
    "    invalid_MEFs = nn.functional.relu(-MEF_preds)  # keep negative MEFs and zero others\n",
    "    count_invalid_MEFs = torch.count_nonzero(invalid_MEFs)\n",
    "    MEF_reg_intercept = 66.5 * intercept_scaling  # The average value seen amongst invalids when trained without regularization\n",
    "    MEF_reg = torch.sum(invalid_MEFs) + (count_invalid_MEFs * MEF_reg_intercept)\n",
    "\n",
    "    # Compute MDF regularization term (sum(MDF + intercept if MDF > 0 for MDF in examples))\n",
    "    invalid_MDFs = nn.functional.relu(MDF_preds)  # keep negative MEFs and zero others\n",
    "    count_invalid_MDFs = torch.count_nonzero(invalid_MDFs)\n",
    "    MDF_reg_intercept = 23.2 * intercept_scaling  # The average value seen amongst invalids when trained without regularization\n",
    "    MDF_reg = torch.sum(invalid_MDFs) + (count_invalid_MDFs * MDF_reg_intercept)\n",
    "\n",
    "    loss = nn.MSELoss()(pred_y, act_y) + (MEF_reg_weight * MEF_reg) + (MDF_reg_weight * MDF_reg)\n",
    "    return loss"
   ]
  },
  {
   "cell_type": "markdown",
   "id": "0a1bc93f",
   "metadata": {
    "id": "0a1bc93f"
   },
   "source": [
    "## Model Training"
   ]
  },
  {
   "cell_type": "markdown",
   "id": "f2daa481",
   "metadata": {
    "id": "f2daa481"
   },
   "source": [
    "Helpers for printing results"
   ]
  },
  {
   "cell_type": "code",
   "execution_count": 15,
   "id": "e34e76b6",
   "metadata": {
    "id": "e34e76b6"
   },
   "outputs": [],
   "source": [
    "pd.options.mode.chained_assignment = None  # default='warn'"
   ]
  },
  {
   "cell_type": "code",
   "execution_count": 16,
   "id": "738cbf27",
   "metadata": {
    "id": "738cbf27"
   },
   "outputs": [],
   "source": [
    "def plot_losses(train_losses, val_losses, plt_save_dir=None):\n",
    "    #plot loss vs epochs\n",
    "    fig, axs = plt.subplots(1,2)\n",
    "    axs[0].plot(train_losses[1000:])\n",
    "    axs[0].set_title(\"Train Set\")\n",
    "    axs[0].set_ylabel('loss')\n",
    "    axs[0].set_xlabel('epoch')\n",
    "\n",
    "    axs[1].plot(val_losses[1000:])\n",
    "    axs[1].set_title(\"Val Set\")\n",
    "    axs[1].set_ylabel('loss')\n",
    "    axs[1].set_xlabel('epoch')\n",
    "    \n",
    "    plt.tight_layout()\n",
    "    plt.show()\n",
    "    \n",
    "    if plt_save_dir:\n",
    "        fig.savefig(os.path.join(plt_save_dir,\"train_val_losses.png\"))\n",
    "        \n",
    "def get_r_squared(pred_coeff, data_df, bias_term, target_col):\n",
    "    coeff_df=pd.DataFrame(data=pred_coeff.detach().numpy(), columns=['MEF', 'MDF', 'Intercept'])\n",
    "    y_preds = coeff_df['MEF'].values * data_df['delta_Demand'] \\\n",
    "                                   + coeff_df['MDF'].values * data_df['delta_VRE']\n",
    "    if bias_term:\n",
    "        y_preds += coeff_df['Intercept'].values\n",
    "    r2 = r2_score(data_df[target_col], y_preds)\n",
    "    return r2\n",
    "\n",
    "def get_mean_abs_err(pred_coeff, data_df, bias_term, target_col):\n",
    "    coeff_df=pd.DataFrame(data=pred_coeff.detach().numpy(), columns=['MEF', 'MDF', 'Intercept'])\n",
    "    y_preds = coeff_df['MEF'].values * data_df['delta_Demand'] \\\n",
    "                                   + coeff_df['MDF'].values * data_df['delta_VRE']\n",
    "    if bias_term:\n",
    "        y_preds += coeff_df['Intercept'].values\n",
    "    mean_abs_err = mean_absolute_error(data_df[target_col], y_preds)\n",
    "    return mean_abs_err\n",
    "\n",
    "def get_count_invalid_preds(pred_coeff):\n",
    "    # preds=pred_coeff.detach().numpy()\n",
    "    count_neg_MEFs = torch.sum(pred_coeff[:,0] <= 0).item() #sum(preds[:,0] <= 0) # MEF must be greater than 0\n",
    "    count_pos_MDFs = torch.sum(pred_coeff[:,1] > 0).item() #sum(preds[:,1] > 0)  # MDF must be less than or equal to 0\n",
    "    return count_neg_MEFs, count_pos_MDFs"
   ]
  },
  {
   "cell_type": "markdown",
   "id": "9df07382",
   "metadata": {
    "id": "9df07382"
   },
   "source": [
    "Helper for training a model with a given set of hyperparameters and saving the best model and results"
   ]
  },
  {
   "cell_type": "code",
   "execution_count": 17,
   "id": "084cdb90",
   "metadata": {
    "id": "084cdb90"
   },
   "outputs": [],
   "source": [
    "def train_model_with_params(train_x, val_x, train_df, val_df,\n",
    "                            n_out, hidden_dims, learning_rate, weight_decay, dropout_p,\n",
    "                            loss_function, MEF_reg_weight, MDF_reg_weight, bias_term,\n",
    "                            target_col,\n",
    "                            model_dir_prefix=None, epochs=10000, min_save_r2=.87):\n",
    "    \n",
    "    n_input = train_x.shape[1]\n",
    "    model = get_model(n_input, hidden_dims, n_out, dropout_p)\n",
    "    optimizer = torch.optim.AdamW(model.parameters(), lr=learning_rate, weight_decay=weight_decay)\n",
    "\n",
    "    model_dir = model_save_dir\n",
    "    if model_dir_prefix:\n",
    "        model_dir = os.path.join(model_dir, model_dir_prefix)\n",
    "    model_dir = os.path.join(model_dir, str(datetime.now().strftime('%Y_%m_%d-%I_%M_%S_%p')))\n",
    "    Path(model_dir).mkdir(parents=True, exist_ok=True)\n",
    "    \n",
    "    # log experiment settings\n",
    "    settings_str = \"Model Settings:\"\n",
    "    settings_str += f\"\\n\\t{n_input=}\\n\\t{hidden_dims=}\\n\\t{n_out=}\\n\\t{dropout_p=}\\n\\t{bias_term=}\"\n",
    "    settings_str += \"\\nOptimizer Settings:\"\n",
    "    settings_str += f\"\\n\\t{learning_rate=}\\n\\t{weight_decay=}\"\n",
    "    settings_str += \"\\nLoss Function Settings:\"\n",
    "    settings_str += f\"\\n\\t{loss_function=}\\n\\t{MEF_reg_weight=}\\n\\t{MDF_reg_weight=}\"\n",
    "    settings_str += \"\\nTrain Process Settings:\"\n",
    "    settings_str += f\"\\n\\t{epochs=}\\n\\t{min_save_r2=}\"\n",
    "    settings_str += f\"\\nFeatures: {', '.join(feature_cols)}\"\n",
    "    settings_str += f\"\\Target_col: {target_col}\"\n",
    "    print(settings_str)\n",
    "    with open(os.path.join(model_dir, \"experiment_settings.txt\"), 'w+') as f:\n",
    "        f.write(settings_str)\n",
    "        \n",
    "    model.to(device)\n",
    "\n",
    "    best_r2 = -np.inf \n",
    "    best_epoch = None\n",
    "    save_model_path = None\n",
    "    last_save_epoch = None\n",
    "    last_save_r2 = -np.inf\n",
    "    last_save_mae = np.inf\n",
    "    \n",
    "    train_losses = []\n",
    "    val_losses = []\n",
    "    for epoch in tqdm(range(epochs)):\n",
    "        # tell model we are training (for bathnorm layer, dropout...)\n",
    "        model.train()\n",
    "        train_pred_coeff=model(train_x.float()).cpu()\n",
    "        train_loss=loss_function(train_pred_coeff, train_df, MEF_reg_weight, MDF_reg_weight, bias_term, target_col)\n",
    "        train_losses.append(train_loss.item())\n",
    "        \n",
    "        # tell model we are evaluating\n",
    "        model.eval()\n",
    "        val_pred_coeff=model(val_x.float()).cpu()\n",
    "        val_loss=loss_function(val_pred_coeff, val_df, MEF_reg_weight, MDF_reg_weight, bias_term, target_col)\n",
    "        val_losses.append(val_loss.item())\n",
    "        val_r2 = get_r_squared(val_pred_coeff, val_df, bias_term, target_col)\n",
    "\n",
    "        # always keep best r2 updated\n",
    "        if val_r2 > best_r2:\n",
    "            best_r2 = val_r2\n",
    "            best_epoch = epoch\n",
    "        # check if we should save... we need good enough r2 and no invalids\n",
    "        if val_r2 > max(last_save_r2, min_save_r2):\n",
    "            if sum(get_count_invalid_preds(val_pred_coeff))==0:\n",
    "                # also check training invalids... Let's recompute with eval mode\n",
    "                model.eval()\n",
    "                eval_mode_train_preds=model(train_x.float()).cpu()\n",
    "                if sum(get_count_invalid_preds(eval_mode_train_preds))==0:\n",
    "                    if save_model_path:\n",
    "                        Path(save_model_path).unlink() # delete prev-best model\n",
    "                    model_save_name = f\"epoch={epoch},r2={val_r2:.4f},Invalids=0.pth\"\n",
    "                    save_model_path = os.path.join(model_dir, model_save_name)\n",
    "                    torch.save(model.state_dict(), save_model_path)\n",
    "                    last_save_epoch = epoch\n",
    "                    last_save_r2 = val_r2\n",
    "                    last_save_mae = get_mean_abs_err(val_pred_coeff, val_df, bias_term, target_col)\n",
    "\n",
    "        \n",
    "        if epoch % 1000 == 0:\n",
    "            invalid_train_MEFs, invalid_train_MDFs = get_count_invalid_preds(train_pred_coeff)\n",
    "            invalid_val_MEFs, invalid_val_MDFs = get_count_invalid_preds(val_pred_coeff)\n",
    "            train_r2 = get_r_squared(train_pred_coeff, train_df, bias_term, target_col)\n",
    "            # val_r2 = get_r_squared(val_pred_coeff, val_df, bias_term, target_col)\n",
    "            print(f\"[Epoch {epoch}]\")\n",
    "            print(f\"\\tTrain Set: Loss={train_loss.item():.3e}, R Squared={train_r2:.4f}, Invalid MEFs={invalid_train_MEFs}, Invalid MDFs={invalid_train_MDFs}\")\n",
    "            print(f\"\\tVal Set: Loss={val_loss.item():.3e}, R Squared={val_r2:.4f}, Invalid MEFs={invalid_val_MEFs}, Invalid MDFs={invalid_val_MDFs}\")\n",
    "        model.zero_grad()\n",
    "        train_loss.backward()\n",
    "        optimizer.step()\n",
    "        # stop if we aren't improving after 10k epochs\n",
    "        if best_epoch and epoch > 10000 + best_epoch:\n",
    "            print(\"Early stopping as we haven't made an improvement on validation set in 10,000 epochs.\")\n",
    "            break\n",
    "        \n",
    "    plot_losses(train_losses, val_losses, model_dir)\n",
    "\n",
    "    results_str = f\"Best R Squared seen on epoch {best_epoch}: {best_r2:.4f}\"\n",
    "    results_str += f\"\\nBest-R2-model with R2 above {min_save_r2=} and 0 invalid coefficients predicted on train/test sets:\"\n",
    "    if not save_model_path:\n",
    "        results_str += f\"\\n\\tNo such model was encountered\"\n",
    "    else:\n",
    "        results_str += f\"\\n\\tValidation R2: {last_save_r2:.4f}\"\n",
    "        results_str += f\"\\n\\tValidation MAE: {last_save_mae:.2f}\"\n",
    "        results_str += f\"\\n\\tEpoch seen: {last_save_epoch}\"\n",
    "        results_str += f\"\\n\\tModel file: {save_model_path.split('/')[-1]}\"\n",
    "\n",
    "    print(results_str)\n",
    "    with open(os.path.join(model_dir, \"results.txt\"), 'w+') as f:\n",
    "        f.write(results_str)\n",
    "        \n",
    "    return save_model_path"
   ]
  },
  {
   "cell_type": "markdown",
   "id": "0d725f11",
   "metadata": {},
   "source": [
    "# Predicting delta CO2"
   ]
  },
  {
   "cell_type": "markdown",
   "id": "vfcTBVn9FrR-",
   "metadata": {
    "id": "vfcTBVn9FrR-"
   },
   "source": [
    "### Train with varying hyperparams"
   ]
  },
  {
   "cell_type": "code",
   "execution_count": 20,
   "id": "7ed4c13d",
   "metadata": {
    "colab": {
     "base_uri": "https://localhost:8080/",
     "height": 1000,
     "referenced_widgets": [
      "fa71bf432e6c4954a3b91311a1e9d1f4",
      "a1b9606a1e6b45199d7e28c6108c671b",
      "ab73f3bb925b4161ac595c91fb7e02f9",
      "c4e4e36786ea4217b5c8b673fb428660",
      "7e1d032c50ce4a7dba0569d353d0cde9",
      "fdea0f6fa1b947d482c6e1d543f69e8e",
      "8d07ab087b914f33893556a80dabf85b",
      "3add4675c0c547cfbc6931b41d9f6603",
      "a8802036f40b4d62ad0645cc6704fe66",
      "d907984e42d246128e0725149cd6907b",
      "9778fe50cf8340e3a17b0af7e9fee958"
     ]
    },
    "id": "NdIOFfthFwW0",
    "outputId": "86995232-4ebc-4b79-db0f-8d8c1b8445e0",
    "scrolled": true
   },
   "outputs": [
    {
     "name": "stdout",
     "output_type": "stream",
     "text": [
      "Model Settings:\n",
      "\tn_input=5\n",
      "\thidden_dims=[512, 256, 128]\n",
      "\tn_out=3\n",
      "\tdropout_p=0.3\n",
      "\tbias_term=True\n",
      "Optimizer Settings:\n",
      "\tlearning_rate=0.01\n",
      "\tweight_decay=0.003\n",
      "Loss Function Settings:\n",
      "\tloss_function=<function mse_loss_regularized_preds_l1 at 0x000001B84FC92430>\n",
      "\tMEF_reg_weight=1000000.0\n",
      "\tMDF_reg_weight=1000000.0\n",
      "Train Process Settings:\n",
      "\tepochs=60000\n",
      "\tmin_save_r2=0.6\n",
      "Features: CAISO_Demand_MWh, CAISO_VRE_MWh, Hour, Month, Time_Elapsed\\Target_col: delta_CO2\n"
     ]
    },
    {
     "data": {
      "application/vnd.jupyter.widget-view+json": {
       "model_id": "",
       "version_major": 2,
       "version_minor": 0
      },
      "text/plain": [
       "  0%|          | 0/60000 [00:00<?, ?it/s]"
      ]
     },
     "metadata": {},
     "output_type": "display_data"
    },
    {
     "name": "stdout",
     "output_type": "stream",
     "text": [
      "[Epoch 0]\n",
      "\tTrain Set: Loss=5.462e+11, R Squared=-0.0006, Invalid MEFs=3789, Invalid MDFs=4340\n",
      "\tVal Set: Loss=3.077e+11, R Squared=-0.0017, Invalid MEFs=1054, Invalid MDFs=1565\n",
      "[Epoch 1000]\n",
      "\tTrain Set: Loss=7.614e+10, R Squared=0.6042, Invalid MEFs=14, Invalid MDFs=7\n",
      "\tVal Set: Loss=9.722e+10, R Squared=0.5177, Invalid MEFs=5, Invalid MDFs=1\n",
      "[Epoch 2000]\n",
      "\tTrain Set: Loss=7.024e+10, R Squared=0.6297, Invalid MEFs=0, Invalid MDFs=1\n",
      "\tVal Set: Loss=9.015e+10, R Squared=0.5511, Invalid MEFs=0, Invalid MDFs=0\n",
      "[Epoch 3000]\n",
      "\tTrain Set: Loss=6.847e+10, R Squared=0.6463, Invalid MEFs=19, Invalid MDFs=6\n",
      "\tVal Set: Loss=9.089e+10, R Squared=0.5482, Invalid MEFs=2, Invalid MDFs=1\n",
      "[Epoch 4000]\n",
      "\tTrain Set: Loss=6.641e+10, R Squared=0.6602, Invalid MEFs=4, Invalid MDFs=74\n",
      "\tVal Set: Loss=9.126e+10, R Squared=0.5462, Invalid MEFs=0, Invalid MDFs=5\n",
      "[Epoch 5000]\n",
      "\tTrain Set: Loss=6.523e+10, R Squared=0.6683, Invalid MEFs=35, Invalid MDFs=0\n",
      "\tVal Set: Loss=9.433e+10, R Squared=0.5360, Invalid MEFs=17, Invalid MDFs=0\n",
      "[Epoch 6000]\n",
      "\tTrain Set: Loss=6.070e+10, R Squared=0.6866, Invalid MEFs=16, Invalid MDFs=9\n",
      "\tVal Set: Loss=8.877e+10, R Squared=0.5580, Invalid MEFs=0, Invalid MDFs=0\n",
      "[Epoch 7000]\n",
      "\tTrain Set: Loss=7.378e+10, R Squared=0.7006, Invalid MEFs=253, Invalid MDFs=0\n",
      "\tVal Set: Loss=8.903e+10, R Squared=0.5714, Invalid MEFs=44, Invalid MDFs=0\n",
      "[Epoch 8000]\n",
      "\tTrain Set: Loss=5.105e+10, R Squared=0.7395, Invalid MEFs=25, Invalid MDFs=0\n",
      "\tVal Set: Loss=7.837e+10, R Squared=0.6101, Invalid MEFs=1, Invalid MDFs=0\n",
      "[Epoch 9000]\n",
      "\tTrain Set: Loss=4.205e+10, R Squared=0.7832, Invalid MEFs=14, Invalid MDFs=0\n",
      "\tVal Set: Loss=6.930e+10, R Squared=0.6550, Invalid MEFs=0, Invalid MDFs=0\n",
      "[Epoch 10000]\n",
      "\tTrain Set: Loss=3.749e+10, R Squared=0.8091, Invalid MEFs=19, Invalid MDFs=1\n",
      "\tVal Set: Loss=6.247e+10, R Squared=0.6889, Invalid MEFs=0, Invalid MDFs=0\n",
      "[Epoch 11000]\n",
      "\tTrain Set: Loss=3.226e+10, R Squared=0.8299, Invalid MEFs=0, Invalid MDFs=0\n",
      "\tVal Set: Loss=5.734e+10, R Squared=0.7145, Invalid MEFs=0, Invalid MDFs=0\n",
      "[Epoch 12000]\n",
      "\tTrain Set: Loss=3.788e+10, R Squared=0.8438, Invalid MEFs=123, Invalid MDFs=0\n",
      "\tVal Set: Loss=5.684e+10, R Squared=0.7297, Invalid MEFs=38, Invalid MDFs=0\n",
      "[Epoch 13000]\n",
      "\tTrain Set: Loss=2.713e+10, R Squared=0.8570, Invalid MEFs=0, Invalid MDFs=1\n",
      "\tVal Set: Loss=5.166e+10, R Squared=0.7428, Invalid MEFs=0, Invalid MDFs=0\n",
      "[Epoch 14000]\n",
      "\tTrain Set: Loss=2.601e+10, R Squared=0.8632, Invalid MEFs=1, Invalid MDFs=0\n",
      "\tVal Set: Loss=5.030e+10, R Squared=0.7495, Invalid MEFs=0, Invalid MDFs=0\n",
      "[Epoch 15000]\n",
      "\tTrain Set: Loss=2.483e+10, R Squared=0.8701, Invalid MEFs=3, Invalid MDFs=0\n",
      "\tVal Set: Loss=4.775e+10, R Squared=0.7623, Invalid MEFs=0, Invalid MDFs=0\n",
      "[Epoch 16000]\n",
      "\tTrain Set: Loss=2.392e+10, R Squared=0.8750, Invalid MEFs=3, Invalid MDFs=1\n",
      "\tVal Set: Loss=4.716e+10, R Squared=0.7652, Invalid MEFs=0, Invalid MDFs=0\n",
      "[Epoch 17000]\n",
      "\tTrain Set: Loss=2.368e+10, R Squared=0.8755, Invalid MEFs=1, Invalid MDFs=0\n",
      "\tVal Set: Loss=4.691e+10, R Squared=0.7665, Invalid MEFs=0, Invalid MDFs=0\n",
      "[Epoch 18000]\n",
      "\tTrain Set: Loss=2.393e+10, R Squared=0.8805, Invalid MEFs=19, Invalid MDFs=0\n",
      "\tVal Set: Loss=4.565e+10, R Squared=0.7727, Invalid MEFs=0, Invalid MDFs=0\n",
      "[Epoch 19000]\n",
      "\tTrain Set: Loss=2.353e+10, R Squared=0.8766, Invalid MEFs=2, Invalid MDFs=0\n",
      "\tVal Set: Loss=4.650e+10, R Squared=0.7685, Invalid MEFs=0, Invalid MDFs=0\n",
      "[Epoch 20000]\n",
      "\tTrain Set: Loss=2.273e+10, R Squared=0.8826, Invalid MEFs=7, Invalid MDFs=0\n",
      "\tVal Set: Loss=4.603e+10, R Squared=0.7708, Invalid MEFs=0, Invalid MDFs=0\n",
      "[Epoch 21000]\n",
      "\tTrain Set: Loss=2.136e+10, R Squared=0.8901, Invalid MEFs=4, Invalid MDFs=10\n",
      "\tVal Set: Loss=4.647e+10, R Squared=0.7686, Invalid MEFs=0, Invalid MDFs=0\n",
      "[Epoch 22000]\n",
      "\tTrain Set: Loss=2.373e+10, R Squared=0.8822, Invalid MEFs=20, Invalid MDFs=2\n",
      "\tVal Set: Loss=4.622e+10, R Squared=0.7699, Invalid MEFs=0, Invalid MDFs=0\n",
      "[Epoch 23000]\n",
      "\tTrain Set: Loss=2.237e+10, R Squared=0.8831, Invalid MEFs=3, Invalid MDFs=0\n",
      "\tVal Set: Loss=4.609e+10, R Squared=0.7705, Invalid MEFs=0, Invalid MDFs=0\n",
      "[Epoch 24000]\n",
      "\tTrain Set: Loss=2.142e+10, R Squared=0.8881, Invalid MEFs=1, Invalid MDFs=6\n",
      "\tVal Set: Loss=4.592e+10, R Squared=0.7714, Invalid MEFs=0, Invalid MDFs=0\n",
      "[Epoch 25000]\n",
      "\tTrain Set: Loss=2.116e+10, R Squared=0.8898, Invalid MEFs=4, Invalid MDFs=0\n",
      "\tVal Set: Loss=4.660e+10, R Squared=0.7680, Invalid MEFs=0, Invalid MDFs=0\n",
      "[Epoch 26000]\n",
      "\tTrain Set: Loss=2.060e+10, R Squared=0.8920, Invalid MEFs=2, Invalid MDFs=0\n",
      "\tVal Set: Loss=4.571e+10, R Squared=0.7724, Invalid MEFs=0, Invalid MDFs=0\n",
      "[Epoch 27000]\n",
      "\tTrain Set: Loss=2.087e+10, R Squared=0.8917, Invalid MEFs=5, Invalid MDFs=0\n",
      "\tVal Set: Loss=4.636e+10, R Squared=0.7692, Invalid MEFs=0, Invalid MDFs=0\n",
      "[Epoch 28000]\n",
      "\tTrain Set: Loss=2.052e+10, R Squared=0.8925, Invalid MEFs=2, Invalid MDFs=0\n",
      "\tVal Set: Loss=4.697e+10, R Squared=0.7662, Invalid MEFs=0, Invalid MDFs=0\n",
      "[Epoch 29000]\n",
      "\tTrain Set: Loss=2.105e+10, R Squared=0.8916, Invalid MEFs=7, Invalid MDFs=1\n",
      "\tVal Set: Loss=4.637e+10, R Squared=0.7691, Invalid MEFs=0, Invalid MDFs=0\n",
      "[Epoch 30000]\n",
      "\tTrain Set: Loss=2.032e+10, R Squared=0.8936, Invalid MEFs=2, Invalid MDFs=0\n",
      "\tVal Set: Loss=4.522e+10, R Squared=0.7749, Invalid MEFs=0, Invalid MDFs=0\n",
      "[Epoch 31000]\n",
      "\tTrain Set: Loss=2.071e+10, R Squared=0.8919, Invalid MEFs=2, Invalid MDFs=3\n",
      "\tVal Set: Loss=4.564e+10, R Squared=0.7727, Invalid MEFs=0, Invalid MDFs=0\n",
      "[Epoch 32000]\n",
      "\tTrain Set: Loss=2.027e+10, R Squared=0.8942, Invalid MEFs=3, Invalid MDFs=0\n",
      "\tVal Set: Loss=4.632e+10, R Squared=0.7694, Invalid MEFs=0, Invalid MDFs=0\n",
      "[Epoch 33000]\n",
      "\tTrain Set: Loss=2.032e+10, R Squared=0.8947, Invalid MEFs=3, Invalid MDFs=6\n",
      "\tVal Set: Loss=4.667e+10, R Squared=0.7676, Invalid MEFs=0, Invalid MDFs=0\n",
      "[Epoch 34000]\n",
      "\tTrain Set: Loss=1.992e+10, R Squared=0.8968, Invalid MEFs=5, Invalid MDFs=0\n",
      "\tVal Set: Loss=4.532e+10, R Squared=0.7744, Invalid MEFs=0, Invalid MDFs=0\n",
      "[Epoch 35000]\n",
      "\tTrain Set: Loss=2.060e+10, R Squared=0.8924, Invalid MEFs=3, Invalid MDFs=0\n",
      "\tVal Set: Loss=4.615e+10, R Squared=0.7702, Invalid MEFs=0, Invalid MDFs=0\n",
      "[Epoch 36000]\n",
      "\tTrain Set: Loss=1.975e+10, R Squared=0.8980, Invalid MEFs=6, Invalid MDFs=0\n",
      "\tVal Set: Loss=4.570e+10, R Squared=0.7724, Invalid MEFs=0, Invalid MDFs=0\n",
      "[Epoch 37000]\n",
      "\tTrain Set: Loss=2.105e+10, R Squared=0.8914, Invalid MEFs=5, Invalid MDFs=4\n",
      "\tVal Set: Loss=4.612e+10, R Squared=0.7704, Invalid MEFs=0, Invalid MDFs=0\n",
      "[Epoch 38000]\n",
      "\tTrain Set: Loss=1.932e+10, R Squared=0.8999, Invalid MEFs=5, Invalid MDFs=0\n",
      "\tVal Set: Loss=4.495e+10, R Squared=0.7762, Invalid MEFs=0, Invalid MDFs=0\n",
      "[Epoch 39000]\n",
      "\tTrain Set: Loss=2.016e+10, R Squared=0.8951, Invalid MEFs=4, Invalid MDFs=0\n",
      "\tVal Set: Loss=4.571e+10, R Squared=0.7724, Invalid MEFs=0, Invalid MDFs=0\n",
      "[Epoch 40000]\n",
      "\tTrain Set: Loss=1.921e+10, R Squared=0.8998, Invalid MEFs=3, Invalid MDFs=0\n",
      "\tVal Set: Loss=4.584e+10, R Squared=0.7717, Invalid MEFs=0, Invalid MDFs=0\n",
      "[Epoch 41000]\n",
      "\tTrain Set: Loss=1.944e+10, R Squared=0.8987, Invalid MEFs=0, Invalid MDFs=9\n",
      "\tVal Set: Loss=4.561e+10, R Squared=0.7729, Invalid MEFs=0, Invalid MDFs=0\n",
      "[Epoch 42000]\n",
      "\tTrain Set: Loss=2.009e+10, R Squared=0.8958, Invalid MEFs=5, Invalid MDFs=0\n",
      "\tVal Set: Loss=4.563e+10, R Squared=0.7728, Invalid MEFs=0, Invalid MDFs=0\n",
      "[Epoch 43000]\n",
      "\tTrain Set: Loss=1.951e+10, R Squared=0.8985, Invalid MEFs=4, Invalid MDFs=0\n",
      "\tVal Set: Loss=4.522e+10, R Squared=0.7749, Invalid MEFs=0, Invalid MDFs=0\n",
      "[Epoch 44000]\n",
      "\tTrain Set: Loss=2.018e+10, R Squared=0.8943, Invalid MEFs=2, Invalid MDFs=0\n",
      "\tVal Set: Loss=4.538e+10, R Squared=0.7741, Invalid MEFs=0, Invalid MDFs=0\n",
      "[Epoch 45000]\n",
      "\tTrain Set: Loss=1.981e+10, R Squared=0.8968, Invalid MEFs=3, Invalid MDFs=2\n",
      "\tVal Set: Loss=4.605e+10, R Squared=0.7707, Invalid MEFs=0, Invalid MDFs=0\n",
      "Early stopping as we haven't made an improvement on validation set in 10,000 epochs.\n"
     ]
    },
    {
     "data": {
      "image/png": "[encoded data removed]",
      "text/plain": [
       "<Figure size 640x480 with 2 Axes>"
      ]
     },
     "metadata": {},
     "output_type": "display_data"
    },
    {
     "name": "stdout",
     "output_type": "stream",
     "text": [
      "Best R Squared seen on epoch 35033: 0.7823\n",
      "Best-R2-model with R2 above min_save_r2=0.6 and 0 invalid coefficients predicted on train/test sets:\n",
      "\tValidation R2: 0.7823\n",
      "\tValidation MAE: 157615.89\n",
      "\tEpoch seen: 35033\n",
      "\tModel file: C:\\Users\\nicklein\\Documents\\MEF-Regression\\MLP_CAISO_2022_models\\delta_CO2_round1\\2023_10_30-12_57_23_AM\\epoch=35033,r2=0.7823,Invalids=0.pth\n"
     ]
    }
   ],
   "source": [
    "target_col = 'delta_CO2'\n",
    "hidden_dim_settings = [[512,512]]\n",
    "lrs = [.01]\n",
    "weight_decays = [.003]\n",
    "dropout_probs = [0.3]\n",
    "bias_term = True\n",
    "regularization_weights = [[1e6,1e6]]\n",
    "loss_function = mse_loss_regularized_preds_l1\n",
    "save_prefix = f'{target_col}_round1'\n",
    "\n",
    "for hidden_dims in hidden_dim_settings:\n",
    "    for lr in lrs:\n",
    "        for weight_decay in weight_decays:\n",
    "            for dropout_p in dropout_probs:\n",
    "                for reg_weights in regularization_weights:\n",
    "                    train_model_with_params(train_x, val_x, train_df, val_df, n_out, hidden_dims, lr, weight_decay, dropout_p,\n",
    "                                            loss_function, *reg_weights, bias_term, target_col, save_prefix, epochs=60000, min_save_r2=.6)"
   ]
  },
  {
   "cell_type": "code",
   "execution_count": 22,
   "id": "bb40c9ed",
   "metadata": {
    "colab": {
     "base_uri": "https://localhost:8080/",
     "height": 1000,
     "referenced_widgets": [
      "fa71bf432e6c4954a3b91311a1e9d1f4",
      "a1b9606a1e6b45199d7e28c6108c671b",
      "ab73f3bb925b4161ac595c91fb7e02f9",
      "c4e4e36786ea4217b5c8b673fb428660",
      "7e1d032c50ce4a7dba0569d353d0cde9",
      "fdea0f6fa1b947d482c6e1d543f69e8e",
      "8d07ab087b914f33893556a80dabf85b",
      "3add4675c0c547cfbc6931b41d9f6603",
      "a8802036f40b4d62ad0645cc6704fe66",
      "d907984e42d246128e0725149cd6907b",
      "9778fe50cf8340e3a17b0af7e9fee958"
     ]
    },
    "id": "NdIOFfthFwW0",
    "outputId": "86995232-4ebc-4b79-db0f-8d8c1b8445e0",
    "scrolled": true
   },
   "outputs": [
    {
     "name": "stdout",
     "output_type": "stream",
     "text": [
      "Model Settings:\n",
      "\tn_input=5\n",
      "\thidden_dims=[512, 512]\n",
      "\tn_out=3\n",
      "\tdropout_p=0.3\n",
      "\tbias_term=True\n",
      "Optimizer Settings:\n",
      "\tlearning_rate=0.01\n",
      "\tweight_decay=0.003\n",
      "Loss Function Settings:\n",
      "\tloss_function=<function mse_loss_regularized_preds_l1 at 0x000001B84FC92430>\n",
      "\tMEF_reg_weight=1000000.0\n",
      "\tMDF_reg_weight=1000000.0\n",
      "Train Process Settings:\n",
      "\tepochs=60000\n",
      "\tmin_save_r2=0.6\n",
      "Features: CAISO_Demand_MWh, CAISO_VRE_MWh, Hour, Month, Time_Elapsed\\Target_col: delta_CO2\n"
     ]
    },
    {
     "data": {
      "application/vnd.jupyter.widget-view+json": {
       "model_id": "6683885013ec4981ae8d899d3a79e597",
       "version_major": 2,
       "version_minor": 0
      },
      "text/plain": [
       "  0%|          | 0/60000 [00:00<?, ?it/s]"
      ]
     },
     "metadata": {},
     "output_type": "display_data"
    },
    {
     "name": "stdout",
     "output_type": "stream",
     "text": [
      "[Epoch 0]\n",
      "\tTrain Set: Loss=3.700e+11, R Squared=0.0002, Invalid MEFs=1726, Invalid MDFs=2774\n",
      "\tVal Set: Loss=3.027e+11, R Squared=-0.0015, Invalid MEFs=984, Invalid MDFs=1550\n",
      "[Epoch 1000]\n",
      "\tTrain Set: Loss=9.055e+10, R Squared=0.5369, Invalid MEFs=35, Invalid MDFs=18\n",
      "\tVal Set: Loss=1.001e+11, R Squared=0.5078, Invalid MEFs=18, Invalid MDFs=0\n",
      "[Epoch 2000]\n",
      "\tTrain Set: Loss=8.033e+10, R Squared=0.5779, Invalid MEFs=3, Invalid MDFs=4\n",
      "\tVal Set: Loss=9.358e+10, R Squared=0.5341, Invalid MEFs=0, Invalid MDFs=0\n",
      "[Epoch 3000]\n",
      "\tTrain Set: Loss=7.666e+10, R Squared=0.6185, Invalid MEFs=4, Invalid MDFs=172\n",
      "\tVal Set: Loss=8.988e+10, R Squared=0.5608, Invalid MEFs=0, Invalid MDFs=71\n",
      "[Epoch 4000]\n",
      "\tTrain Set: Loss=7.766e+10, R Squared=0.6747, Invalid MEFs=232, Invalid MDFs=11\n",
      "\tVal Set: Loss=8.414e+10, R Squared=0.6144, Invalid MEFs=98, Invalid MDFs=3\n",
      "[Epoch 5000]\n",
      "\tTrain Set: Loss=4.972e+10, R Squared=0.7437, Invalid MEFs=1, Invalid MDFs=44\n",
      "\tVal Set: Loss=6.630e+10, R Squared=0.6700, Invalid MEFs=0, Invalid MDFs=1\n",
      "[Epoch 6000]\n",
      "\tTrain Set: Loss=4.299e+10, R Squared=0.7811, Invalid MEFs=22, Invalid MDFs=0\n",
      "\tVal Set: Loss=5.862e+10, R Squared=0.7115, Invalid MEFs=10, Invalid MDFs=0\n",
      "[Epoch 7000]\n",
      "\tTrain Set: Loss=3.851e+10, R Squared=0.8095, Invalid MEFs=34, Invalid MDFs=1\n",
      "\tVal Set: Loss=5.375e+10, R Squared=0.7364, Invalid MEFs=12, Invalid MDFs=0\n",
      "[Epoch 8000]\n",
      "\tTrain Set: Loss=3.489e+10, R Squared=0.8211, Invalid MEFs=14, Invalid MDFs=0\n",
      "\tVal Set: Loss=5.168e+10, R Squared=0.7433, Invalid MEFs=2, Invalid MDFs=0\n",
      "[Epoch 9000]\n",
      "\tTrain Set: Loss=3.233e+10, R Squared=0.8357, Invalid MEFs=16, Invalid MDFs=3\n",
      "\tVal Set: Loss=4.994e+10, R Squared=0.7520, Invalid MEFs=2, Invalid MDFs=0\n",
      "[Epoch 10000]\n",
      "\tTrain Set: Loss=3.451e+10, R Squared=0.8432, Invalid MEFs=66, Invalid MDFs=1\n",
      "\tVal Set: Loss=5.212e+10, R Squared=0.7540, Invalid MEFs=38, Invalid MDFs=0\n",
      "[Epoch 11000]\n",
      "\tTrain Set: Loss=2.916e+10, R Squared=0.8500, Invalid MEFs=10, Invalid MDFs=0\n",
      "\tVal Set: Loss=5.042e+10, R Squared=0.7500, Invalid MEFs=3, Invalid MDFs=0\n",
      "[Epoch 12000]\n",
      "\tTrain Set: Loss=2.928e+10, R Squared=0.8557, Invalid MEFs=27, Invalid MDFs=0\n",
      "\tVal Set: Loss=5.059e+10, R Squared=0.7555, Invalid MEFs=21, Invalid MDFs=0\n",
      "[Epoch 13000]\n",
      "\tTrain Set: Loss=2.715e+10, R Squared=0.8602, Invalid MEFs=5, Invalid MDFs=9\n",
      "\tVal Set: Loss=4.905e+10, R Squared=0.7559, Invalid MEFs=0, Invalid MDFs=1\n",
      "[Epoch 14000]\n",
      "\tTrain Set: Loss=2.665e+10, R Squared=0.8620, Invalid MEFs=4, Invalid MDFs=8\n",
      "\tVal Set: Loss=4.916e+10, R Squared=0.7563, Invalid MEFs=3, Invalid MDFs=1\n",
      "[Epoch 15000]\n",
      "\tTrain Set: Loss=2.648e+10, R Squared=0.8650, Invalid MEFs=9, Invalid MDFs=10\n",
      "\tVal Set: Loss=4.847e+10, R Squared=0.7597, Invalid MEFs=3, Invalid MDFs=0\n",
      "[Epoch 16000]\n",
      "\tTrain Set: Loss=2.452e+10, R Squared=0.8723, Invalid MEFs=4, Invalid MDFs=1\n",
      "\tVal Set: Loss=4.891e+10, R Squared=0.7571, Invalid MEFs=2, Invalid MDFs=0\n",
      "[Epoch 17000]\n",
      "\tTrain Set: Loss=2.633e+10, R Squared=0.8705, Invalid MEFs=25, Invalid MDFs=0\n",
      "\tVal Set: Loss=4.918e+10, R Squared=0.7590, Invalid MEFs=11, Invalid MDFs=0\n",
      "[Epoch 18000]\n",
      "\tTrain Set: Loss=2.435e+10, R Squared=0.8746, Invalid MEFs=7, Invalid MDFs=1\n",
      "\tVal Set: Loss=4.881e+10, R Squared=0.7573, Invalid MEFs=1, Invalid MDFs=0\n",
      "[Epoch 19000]\n",
      "\tTrain Set: Loss=2.364e+10, R Squared=0.8758, Invalid MEFs=1, Invalid MDFs=1\n",
      "\tVal Set: Loss=4.886e+10, R Squared=0.7584, Invalid MEFs=5, Invalid MDFs=0\n",
      "[Epoch 20000]\n",
      "\tTrain Set: Loss=2.377e+10, R Squared=0.8779, Invalid MEFs=8, Invalid MDFs=1\n",
      "\tVal Set: Loss=4.942e+10, R Squared=0.7556, Invalid MEFs=5, Invalid MDFs=0\n",
      "[Epoch 21000]\n",
      "\tTrain Set: Loss=2.398e+10, R Squared=0.8781, Invalid MEFs=12, Invalid MDFs=0\n",
      "\tVal Set: Loss=4.890e+10, R Squared=0.7590, Invalid MEFs=7, Invalid MDFs=0\n",
      "[Epoch 22000]\n",
      "\tTrain Set: Loss=2.422e+10, R Squared=0.8765, Invalid MEFs=11, Invalid MDFs=0\n",
      "\tVal Set: Loss=4.997e+10, R Squared=0.7526, Invalid MEFs=4, Invalid MDFs=0\n",
      "[Epoch 23000]\n",
      "\tTrain Set: Loss=2.407e+10, R Squared=0.8778, Invalid MEFs=12, Invalid MDFs=1\n",
      "\tVal Set: Loss=5.000e+10, R Squared=0.7534, Invalid MEFs=7, Invalid MDFs=0\n",
      "[Epoch 24000]\n",
      "\tTrain Set: Loss=2.564e+10, R Squared=0.8797, Invalid MEFs=38, Invalid MDFs=1\n",
      "\tVal Set: Loss=5.008e+10, R Squared=0.7559, Invalid MEFs=15, Invalid MDFs=0\n",
      "[Epoch 25000]\n",
      "\tTrain Set: Loss=2.581e+10, R Squared=0.8817, Invalid MEFs=44, Invalid MDFs=3\n",
      "\tVal Set: Loss=5.066e+10, R Squared=0.7553, Invalid MEFs=21, Invalid MDFs=0\n",
      "[Epoch 26000]\n",
      "\tTrain Set: Loss=2.476e+10, R Squared=0.8822, Invalid MEFs=32, Invalid MDFs=3\n",
      "\tVal Set: Loss=5.070e+10, R Squared=0.7536, Invalid MEFs=17, Invalid MDFs=0\n",
      "[Epoch 27000]\n",
      "\tTrain Set: Loss=2.314e+10, R Squared=0.8825, Invalid MEFs=8, Invalid MDFs=10\n",
      "\tVal Set: Loss=5.020e+10, R Squared=0.7511, Invalid MEFs=3, Invalid MDFs=0\n",
      "Early stopping as we haven't made an improvement on validation set in 10,000 epochs.\n"
     ]
    },
    {
     "data": {
      "image/png": "[encoded data removed]",
      "text/plain": [
       "<Figure size 640x480 with 2 Axes>"
      ]
     },
     "metadata": {},
     "output_type": "display_data"
    },
    {
     "name": "stdout",
     "output_type": "stream",
     "text": [
      "Best R Squared seen on epoch 17608: 0.7658\n",
      "Best-R2-model with R2 above min_save_r2=0.6 and 0 invalid coefficients predicted on train/test sets:\n",
      "\tValidation R2: 0.7648\n",
      "\tValidation MAE: 163974.76\n",
      "\tEpoch seen: 17609\n",
      "\tModel file: C:\\Users\\nicklein\\Documents\\MEF-Regression\\MLP_CAISO_2022_models\\delta_CO2_round1\\2023_10_30-01_03_14_AM\\epoch=17609,r2=0.7648,Invalids=0.pth\n",
      "Model Settings:\n",
      "\tn_input=5\n",
      "\thidden_dims=[512, 256]\n",
      "\tn_out=3\n",
      "\tdropout_p=0.1\n",
      "\tbias_term=True\n",
      "Optimizer Settings:\n",
      "\tlearning_rate=0.01\n",
      "\tweight_decay=0.003\n",
      "Loss Function Settings:\n",
      "\tloss_function=<function mse_loss_regularized_preds_l1 at 0x000001B84FC92430>\n",
      "\tMEF_reg_weight=1000000.0\n",
      "\tMDF_reg_weight=1000000.0\n",
      "Train Process Settings:\n",
      "\tepochs=60000\n",
      "\tmin_save_r2=0.6\n",
      "Features: CAISO_Demand_MWh, CAISO_VRE_MWh, Hour, Month, Time_Elapsed\\Target_col: delta_CO2\n"
     ]
    },
    {
     "data": {
      "application/vnd.jupyter.widget-view+json": {
       "model_id": "ae42f6a0d82c4d9190c666de061a5b8c",
       "version_major": 2,
       "version_minor": 0
      },
      "text/plain": [
       "  0%|          | 0/60000 [00:00<?, ?it/s]"
      ]
     },
     "metadata": {},
     "output_type": "display_data"
    },
    {
     "name": "stdout",
     "output_type": "stream",
     "text": [
      "[Epoch 0]\n",
      "\tTrain Set: Loss=2.627e+11, R Squared=0.0002, Invalid MEFs=382, Invalid MDFs=2040\n",
      "\tVal Set: Loss=2.333e+11, R Squared=-0.0016, Invalid MEFs=270, Invalid MDFs=609\n",
      "[Epoch 1000]\n",
      "\tTrain Set: Loss=8.674e+10, R Squared=0.5453, Invalid MEFs=3, Invalid MDFs=14\n",
      "\tVal Set: Loss=9.792e+10, R Squared=0.5126, Invalid MEFs=0, Invalid MDFs=1\n",
      "[Epoch 2000]\n",
      "\tTrain Set: Loss=7.821e+10, R Squared=0.5915, Invalid MEFs=3, Invalid MDFs=24\n",
      "\tVal Set: Loss=9.467e+10, R Squared=0.5304, Invalid MEFs=1, Invalid MDFs=12\n",
      "[Epoch 3000]\n",
      "\tTrain Set: Loss=7.131e+10, R Squared=0.6239, Invalid MEFs=0, Invalid MDFs=0\n",
      "\tVal Set: Loss=9.325e+10, R Squared=0.5360, Invalid MEFs=1, Invalid MDFs=0\n",
      "[Epoch 4000]\n",
      "\tTrain Set: Loss=7.305e+10, R Squared=0.6471, Invalid MEFs=85, Invalid MDFs=20\n",
      "\tVal Set: Loss=9.331e+10, R Squared=0.5471, Invalid MEFs=30, Invalid MDFs=15\n",
      "[Epoch 5000]\n",
      "\tTrain Set: Loss=9.333e+10, R Squared=0.6808, Invalid MEFs=486, Invalid MDFs=7\n",
      "\tVal Set: Loss=9.826e+10, R Squared=0.5710, Invalid MEFs=180, Invalid MDFs=0\n",
      "[Epoch 6000]\n",
      "\tTrain Set: Loss=6.666e+10, R Squared=0.7284, Invalid MEFs=222, Invalid MDFs=8\n",
      "\tVal Set: Loss=8.589e+10, R Squared=0.6060, Invalid MEFs=100, Invalid MDFs=0\n",
      "[Epoch 7000]\n",
      "\tTrain Set: Loss=5.221e+10, R Squared=0.7651, Invalid MEFs=112, Invalid MDFs=3\n",
      "\tVal Set: Loss=7.453e+10, R Squared=0.6444, Invalid MEFs=46, Invalid MDFs=0\n",
      "[Epoch 8000]\n",
      "\tTrain Set: Loss=4.287e+10, R Squared=0.8031, Invalid MEFs=83, Invalid MDFs=0\n",
      "\tVal Set: Loss=6.536e+10, R Squared=0.6812, Invalid MEFs=20, Invalid MDFs=0\n",
      "[Epoch 9000]\n",
      "\tTrain Set: Loss=3.199e+10, R Squared=0.8325, Invalid MEFs=3, Invalid MDFs=1\n",
      "\tVal Set: Loss=5.944e+10, R Squared=0.7041, Invalid MEFs=0, Invalid MDFs=0\n",
      "[Epoch 10000]\n",
      "\tTrain Set: Loss=3.286e+10, R Squared=0.8570, Invalid MEFs=82, Invalid MDFs=10\n",
      "\tVal Set: Loss=5.657e+10, R Squared=0.7308, Invalid MEFs=35, Invalid MDFs=6\n",
      "[Epoch 11000]\n",
      "\tTrain Set: Loss=2.525e+10, R Squared=0.8746, Invalid MEFs=22, Invalid MDFs=0\n",
      "\tVal Set: Loss=5.196e+10, R Squared=0.7426, Invalid MEFs=4, Invalid MDFs=0\n",
      "[Epoch 12000]\n",
      "\tTrain Set: Loss=2.254e+10, R Squared=0.8825, Invalid MEFs=4, Invalid MDFs=0\n",
      "\tVal Set: Loss=5.073e+10, R Squared=0.7474, Invalid MEFs=0, Invalid MDFs=0\n",
      "[Epoch 13000]\n",
      "\tTrain Set: Loss=2.205e+10, R Squared=0.8907, Invalid MEFs=19, Invalid MDFs=2\n",
      "\tVal Set: Loss=4.942e+10, R Squared=0.7546, Invalid MEFs=2, Invalid MDFs=0\n",
      "[Epoch 14000]\n",
      "\tTrain Set: Loss=2.638e+10, R Squared=0.8977, Invalid MEFs=96, Invalid MDFs=9\n",
      "\tVal Set: Loss=5.252e+10, R Squared=0.7512, Invalid MEFs=36, Invalid MDFs=1\n",
      "[Epoch 15000]\n",
      "\tTrain Set: Loss=1.906e+10, R Squared=0.9027, Invalid MEFs=9, Invalid MDFs=0\n",
      "\tVal Set: Loss=4.983e+10, R Squared=0.7519, Invalid MEFs=0, Invalid MDFs=0\n",
      "[Epoch 16000]\n",
      "\tTrain Set: Loss=1.823e+10, R Squared=0.9055, Invalid MEFs=2, Invalid MDFs=7\n",
      "\tVal Set: Loss=4.786e+10, R Squared=0.7617, Invalid MEFs=0, Invalid MDFs=0\n",
      "[Epoch 17000]\n",
      "\tTrain Set: Loss=1.718e+10, R Squared=0.9094, Invalid MEFs=0, Invalid MDFs=0\n",
      "\tVal Set: Loss=4.888e+10, R Squared=0.7566, Invalid MEFs=0, Invalid MDFs=0\n",
      "[Epoch 18000]\n",
      "\tTrain Set: Loss=1.692e+10, R Squared=0.9116, Invalid MEFs=2, Invalid MDFs=1\n",
      "\tVal Set: Loss=4.852e+10, R Squared=0.7588, Invalid MEFs=1, Invalid MDFs=0\n",
      "[Epoch 19000]\n",
      "\tTrain Set: Loss=1.860e+10, R Squared=0.9160, Invalid MEFs=38, Invalid MDFs=0\n",
      "\tVal Set: Loss=4.882e+10, R Squared=0.7593, Invalid MEFs=7, Invalid MDFs=0\n",
      "[Epoch 20000]\n",
      "\tTrain Set: Loss=1.605e+10, R Squared=0.9160, Invalid MEFs=0, Invalid MDFs=5\n",
      "\tVal Set: Loss=4.810e+10, R Squared=0.7605, Invalid MEFs=0, Invalid MDFs=0\n",
      "[Epoch 21000]\n",
      "\tTrain Set: Loss=1.594e+10, R Squared=0.9173, Invalid MEFs=3, Invalid MDFs=2\n",
      "\tVal Set: Loss=4.907e+10, R Squared=0.7560, Invalid MEFs=1, Invalid MDFs=0\n",
      "[Epoch 22000]\n",
      "\tTrain Set: Loss=1.684e+10, R Squared=0.9196, Invalid MEFs=23, Invalid MDFs=0\n",
      "\tVal Set: Loss=4.982e+10, R Squared=0.7543, Invalid MEFs=7, Invalid MDFs=0\n",
      "[Epoch 23000]\n",
      "\tTrain Set: Loss=1.617e+10, R Squared=0.9216, Invalid MEFs=18, Invalid MDFs=2\n",
      "\tVal Set: Loss=4.854e+10, R Squared=0.7600, Invalid MEFs=5, Invalid MDFs=0\n",
      "[Epoch 24000]\n",
      "\tTrain Set: Loss=1.506e+10, R Squared=0.9212, Invalid MEFs=1, Invalid MDFs=2\n",
      "\tVal Set: Loss=4.774e+10, R Squared=0.7624, Invalid MEFs=0, Invalid MDFs=1\n",
      "[Epoch 25000]\n",
      "\tTrain Set: Loss=1.523e+10, R Squared=0.9205, Invalid MEFs=2, Invalid MDFs=1\n",
      "\tVal Set: Loss=4.833e+10, R Squared=0.7600, Invalid MEFs=2, Invalid MDFs=0\n",
      "[Epoch 26000]\n",
      "\tTrain Set: Loss=1.521e+10, R Squared=0.9245, Invalid MEFs=10, Invalid MDFs=8\n",
      "\tVal Set: Loss=4.894e+10, R Squared=0.7569, Invalid MEFs=1, Invalid MDFs=2\n",
      "[Epoch 27000]\n",
      "\tTrain Set: Loss=1.426e+10, R Squared=0.9267, Invalid MEFs=5, Invalid MDFs=0\n",
      "\tVal Set: Loss=5.038e+10, R Squared=0.7502, Invalid MEFs=3, Invalid MDFs=0\n",
      "[Epoch 28000]\n",
      "\tTrain Set: Loss=1.471e+10, R Squared=0.9243, Invalid MEFs=5, Invalid MDFs=0\n",
      "\tVal Set: Loss=4.939e+10, R Squared=0.7541, Invalid MEFs=0, Invalid MDFs=0\n",
      "[Epoch 29000]\n",
      "\tTrain Set: Loss=1.442e+10, R Squared=0.9254, Invalid MEFs=4, Invalid MDFs=0\n",
      "\tVal Set: Loss=4.779e+10, R Squared=0.7631, Invalid MEFs=3, Invalid MDFs=0\n",
      "[Epoch 30000]\n",
      "\tTrain Set: Loss=1.450e+10, R Squared=0.9249, Invalid MEFs=3, Invalid MDFs=2\n",
      "\tVal Set: Loss=4.911e+10, R Squared=0.7559, Invalid MEFs=1, Invalid MDFs=0\n",
      "[Epoch 31000]\n",
      "\tTrain Set: Loss=1.393e+10, R Squared=0.9280, Invalid MEFs=4, Invalid MDFs=1\n",
      "\tVal Set: Loss=4.953e+10, R Squared=0.7538, Invalid MEFs=1, Invalid MDFs=0\n",
      "[Epoch 32000]\n",
      "\tTrain Set: Loss=1.405e+10, R Squared=0.9263, Invalid MEFs=1, Invalid MDFs=0\n",
      "\tVal Set: Loss=4.915e+10, R Squared=0.7553, Invalid MEFs=0, Invalid MDFs=0\n",
      "[Epoch 33000]\n",
      "\tTrain Set: Loss=1.452e+10, R Squared=0.9298, Invalid MEFs=17, Invalid MDFs=0\n",
      "\tVal Set: Loss=4.887e+10, R Squared=0.7574, Invalid MEFs=2, Invalid MDFs=0\n",
      "[Epoch 34000]\n",
      "\tTrain Set: Loss=1.431e+10, R Squared=0.9269, Invalid MEFs=6, Invalid MDFs=1\n",
      "\tVal Set: Loss=4.993e+10, R Squared=0.7524, Invalid MEFs=3, Invalid MDFs=0\n",
      "Early stopping as we haven't made an improvement on validation set in 10,000 epochs.\n"
     ]
    },
    {
     "data": {
      "image/png": "[encoded data removed]",
      "text/plain": [
       "<Figure size 640x480 with 2 Axes>"
      ]
     },
     "metadata": {},
     "output_type": "display_data"
    },
    {
     "name": "stdout",
     "output_type": "stream",
     "text": [
      "Best R Squared seen on epoch 24225: 0.7702\n",
      "Best-R2-model with R2 above min_save_r2=0.6 and 0 invalid coefficients predicted on train/test sets:\n",
      "\tValidation R2: 0.7674\n",
      "\tValidation MAE: 165156.93\n",
      "\tEpoch seen: 25099\n",
      "\tModel file: C:\\Users\\nicklein\\Documents\\MEF-Regression\\MLP_CAISO_2022_models\\delta_CO2_round1\\2023_10_30-01_05_55_AM\\epoch=25099,r2=0.7674,Invalids=0.pth\n"
     ]
    },
    {
     "data": {
      "text/plain": [
       "'C:\\\\Users\\\\nicklein\\\\Documents\\\\MEF-Regression\\\\MLP_CAISO_2022_models\\\\delta_CO2_round1\\\\2023_10_30-01_05_55_AM\\\\epoch=25099,r2=0.7674,Invalids=0.pth'"
      ]
     },
     "execution_count": 22,
     "metadata": {},
     "output_type": "execute_result"
    }
   ],
   "source": [
    "target_col = 'delta_CO2'\n",
    "hidden_dims = [512,512]\n",
    "lr = .01\n",
    "weight_decay = .003\n",
    "dropout_p = 0.3\n",
    "bias_term = True\n",
    "reg_weights = [1e6,1e6]\n",
    "loss_function = mse_loss_regularized_preds_l1\n",
    "save_prefix = f'{target_col}_round1'\n",
    "\n",
    "train_model_with_params(train_x, val_x, train_df, val_df, n_out, hidden_dims, lr, weight_decay, dropout_p,\n",
    "                                            loss_function, *reg_weights, bias_term, target_col, save_prefix, epochs=60000, min_save_r2=.6)\n",
    "\n",
    "target_col = 'delta_CO2'\n",
    "hidden_dims = [512,256]\n",
    "lr = .01\n",
    "weight_decay = .003\n",
    "dropout_p = 0.1\n",
    "bias_term = True\n",
    "reg_weights = [1e6,1e6]\n",
    "loss_function = mse_loss_regularized_preds_l1\n",
    "save_prefix = f'{target_col}_round1'\n",
    "\n",
    "train_model_with_params(train_x, val_x, train_df, val_df, n_out, hidden_dims, lr, weight_decay, dropout_p,\n",
    "                                            loss_function, *reg_weights, bias_term, target_col, save_prefix, epochs=60000, min_save_r2=.6)"
   ]
  },
  {
   "cell_type": "markdown",
   "id": "d7rNwHtGa1wX",
   "metadata": {
    "id": "d7rNwHtGa1wX"
   },
   "source": [
    "## Inference on all data"
   ]
  },
  {
   "cell_type": "code",
   "execution_count": 18,
   "id": "7a8be4b7",
   "metadata": {},
   "outputs": [
    {
     "data": {
      "text/plain": [
       "'C:\\\\Users\\\\nicklein\\\\Documents\\\\MEF-Regression\\\\MLP_CAISO_2022_models'"
      ]
     },
     "execution_count": 18,
     "metadata": {},
     "output_type": "execute_result"
    }
   ],
   "source": [
    "model_save_dir"
   ]
  },
  {
   "cell_type": "code",
   "execution_count": 19,
   "id": "_aGp7ISVb0y8",
   "metadata": {
    "id": "_aGp7ISVb0y8"
   },
   "outputs": [],
   "source": [
    "best_model_dir = os.path.join(model_save_dir, \"delta_CO2_round1\\\\2023_10_30-12_57_23_AM\")\n",
    "best_model_file = os.path.join(best_model_dir, \"epoch=35033,r2=0.7823,Invalids=0.pth\")"
   ]
  },
  {
   "cell_type": "code",
   "execution_count": 20,
   "id": "d03eed21",
   "metadata": {},
   "outputs": [
    {
     "data": {
      "text/plain": [
       "'C:\\\\Users\\\\nicklein\\\\Documents\\\\MEF-Regression\\\\MLP_CAISO_2022_models\\\\delta_CO2_round1\\\\2023_10_30-12_57_23_AM\\\\epoch=35033,r2=0.7823,Invalids=0.pth'"
      ]
     },
     "execution_count": 20,
     "metadata": {},
     "output_type": "execute_result"
    }
   ],
   "source": [
    "best_model_file"
   ]
  },
  {
   "cell_type": "code",
   "execution_count": 25,
   "id": "799cc4f6",
   "metadata": {
    "colab": {
     "base_uri": "https://localhost:8080/"
    },
    "id": "6DHacOOCZYoj",
    "outputId": "b7064058-d857-4b67-ba28-02d67b71d9ad"
   },
   "outputs": [
    {
     "name": "stdout",
     "output_type": "stream",
     "text": [
      "R Squared:\n",
      "\tTrain: 0.9413\n",
      "\tVal: 0.7823\n",
      "\tTest: 0.7677\n",
      "Mean Absolute Error:\n",
      "\tTrain: 80991.00\n",
      "\tVal: 157615.89\n",
      "\tTest: 164717.60\n",
      "Count Invalid Values Predicted:\n",
      "\tTrain: Invalid MEFs=0, Invalid MDFs=0\n",
      "\tVal: Invalid MEFs=0, Invalid MDFs=0\n",
      "\tTest: Invalid MEFs=0, Invalid MDFs=0\n"
     ]
    }
   ],
   "source": [
    "hidden_dims = [512, 256, 128]\n",
    "target_col = 'delta_CO2'\n",
    "bias_term = True\n",
    "dropout_p = 0.3\n",
    "n_input = train_x.shape[1]\n",
    "\n",
    "model = get_model(n_input, hidden_dims, n_out, dropout_p)\n",
    "model.to(device)\n",
    "model.load_state_dict(torch.load(best_model_file))\n",
    "model.eval()\n",
    "\n",
    "train_pred_coeff = model(train_x.float()).cpu()\n",
    "val_pred_coeff = model(val_x.float()).cpu()\n",
    "test_pred_coeff = model(test_x.float()).cpu()\n",
    "\n",
    "results_str = \"R Squared:\"\n",
    "results_str += f\"\\n\\tTrain: {get_r_squared(train_pred_coeff, train_df, bias_term, target_col):.4f}\"\n",
    "results_str += f\"\\n\\tVal: {get_r_squared(val_pred_coeff, val_df, bias_term, target_col):.4f}\"\n",
    "results_str += f\"\\n\\tTest: {get_r_squared(test_pred_coeff, test_df, bias_term, target_col):.4f}\"\n",
    "results_str += \"\\nMean Absolute Error:\"\n",
    "results_str += f\"\\n\\tTrain: {get_mean_abs_err(train_pred_coeff, train_df, bias_term, target_col):.2f}\"\n",
    "results_str += f\"\\n\\tVal: {get_mean_abs_err(val_pred_coeff, val_df, bias_term, target_col):.2f}\"\n",
    "results_str += f\"\\n\\tTest: {get_mean_abs_err(test_pred_coeff, test_df, bias_term, target_col):.2f}\"\n",
    "results_str += \"\\nCount Invalid Values Predicted:\"\n",
    "invalid_train_MEFs, invalid_train_MDFs = get_count_invalid_preds(train_pred_coeff)\n",
    "invalid_val_MEFs, invalid_val_MDFs = get_count_invalid_preds(val_pred_coeff)\n",
    "invalid_test_MEFs, invalid_test_MDFs = get_count_invalid_preds(test_pred_coeff)\n",
    "results_str += f\"\\n\\tTrain: Invalid MEFs={invalid_train_MEFs}, Invalid MDFs={invalid_train_MDFs}\"\n",
    "results_str += f\"\\n\\tVal: Invalid MEFs={invalid_val_MEFs}, Invalid MDFs={invalid_val_MDFs}\"\n",
    "results_str += f\"\\n\\tTest: Invalid MEFs={invalid_test_MEFs}, Invalid MDFs={invalid_test_MDFs}\"\n",
    "\n",
    "with open(os.path.join(best_model_dir, \"eval_results.txt\"), 'w+') as f:\n",
    "    f.write(results_str)\n",
    "print(results_str)"
   ]
  },
  {
   "cell_type": "markdown",
   "id": "fi3OLzVQPK_O",
   "metadata": {
    "id": "fi3OLzVQPK_O"
   },
   "source": [
    "### Put the MEFs and MDFs from all sets back together and in order into the original DF for viewing"
   ]
  },
  {
   "cell_type": "code",
   "execution_count": 26,
   "id": "uB50w20k_Iao",
   "metadata": {
    "id": "uB50w20k_Iao"
   },
   "outputs": [],
   "source": [
    "all_preds_w_timestamps = list(zip(val_df.index, val_pred_coeff.detach().numpy())) \\\n",
    "                        + list(zip(train_df.index, train_pred_coeff.detach().numpy())) \\\n",
    "                        + list(zip(test_df.index, test_pred_coeff.detach().numpy()))\n",
    "all_preds_w_timestamps.sort(key=lambda pair: pair[0])\n",
    "all_preds_ordered = np.array([pair[1] for pair in all_preds_w_timestamps])"
   ]
  },
  {
   "cell_type": "code",
   "execution_count": 27,
   "id": "vHn1WJaZCXm2",
   "metadata": {
    "id": "vHn1WJaZCXm2"
   },
   "outputs": [],
   "source": [
    "all_MEFs_ordered = all_preds_ordered[:,0]\n",
    "all_MDFs_ordered = all_preds_ordered[:,1]\n",
    "all_intercepts_ordered = all_preds_ordered[:,2]"
   ]
  },
  {
   "cell_type": "code",
   "execution_count": 37,
   "id": "aDaE9gk8cX_g",
   "metadata": {
    "colab": {
     "base_uri": "https://localhost:8080/"
    },
    "id": "aDaE9gk8cX_g",
    "outputId": "e18f47bf-7d0a-4621-9d5d-615c99f75149"
   },
   "outputs": [
    {
     "name": "stdout",
     "output_type": "stream",
     "text": [
      "Whole Data Set:\n",
      "\tMean Emissions Change = 329976.64\n",
      "\tR Squared = 0.8722\n",
      "\tMean Absolute Error = 113069.43\n"
     ]
    }
   ],
   "source": [
    "data_df.loc[:,\"MEF\"] = all_MEFs_ordered\n",
    "data_df.loc[:,\"MDF\"] = all_MDFs_ordered\n",
    "if bias_term:\n",
    "    data_df.loc[:,\"Intercept\"] = all_intercepts_ordered\n",
    "\n",
    "#calculate some error stuff. rn i am thinking R2 is the best measure of error\n",
    "d_emissions = data_df.loc[:,'MEF'] * data_df.loc[:,'delta_Demand'] \\\n",
    "            + data_df.loc[:,'MDF'] * data_df.loc[:,'delta_VRE']\n",
    "if bias_term:\n",
    "    d_emissions += data_df.loc[:,\"Intercept\"]\n",
    "    \n",
    "pred_col = f'Predicted_{target_col}'\n",
    "data_df.loc[:, pred_col] = d_emissions\n",
    "data_df.loc[:,'Error']=data_df.loc[:, pred_col] - data_df.loc[:, target_col]\n",
    "data_df.loc[:,'%_Error']=np.abs(data_df.loc[:,'Error'])/np.abs(data_df.loc[:, target_col]) * 100\n",
    "print(\"Whole Data Set:\")\n",
    "print(f\"\\tMean Emissions Change = {np.mean(np.abs(data_df[target_col])):.2f}\")\n",
    "print(f\"\\tR Squared = {r2_score(data_df[target_col], data_df[pred_col]):.4f}\")\n",
    "print(f\"\\tMean Absolute Error = {mean_absolute_error(data_df[target_col], data_df[pred_col]):.2f}\")"
   ]
  },
  {
   "cell_type": "markdown",
   "id": "d56aa354",
   "metadata": {},
   "source": [
    "Add train/val/test set assignments to table before saving"
   ]
  },
  {
   "cell_type": "code",
   "execution_count": 38,
   "id": "231702d5",
   "metadata": {},
   "outputs": [
    {
     "data": {
      "text/plain": [
       "array([1, 1, 2, ..., 1, 1, 1])"
      ]
     },
     "execution_count": 38,
     "metadata": {},
     "output_type": "execute_result"
    }
   ],
   "source": [
    "set_assignments"
   ]
  },
  {
   "cell_type": "code",
   "execution_count": 39,
   "id": "a7143731",
   "metadata": {},
   "outputs": [],
   "source": [
    "set_num_to_str = {1: 'train',\n",
    "                  2: 'validation',\n",
    "                  3: 'test'\n",
    "                 }"
   ]
  },
  {
   "cell_type": "code",
   "execution_count": 40,
   "id": "e586527c",
   "metadata": {},
   "outputs": [],
   "source": [
    "data_df.loc[:,'set_assignment'] = [set_num_to_str[num] for num in set_assignments]"
   ]
  },
  {
   "cell_type": "code",
   "execution_count": 41,
   "id": "25380e41",
   "metadata": {},
   "outputs": [
    {
     "data": {
      "text/plain": [
       "True"
      ]
     },
     "execution_count": 41,
     "metadata": {},
     "output_type": "execute_result"
    }
   ],
   "source": [
    "all(test_df.index == data_df.loc[data_df.loc[:,'set_assignment'] == 'test'].index)"
   ]
  },
  {
   "cell_type": "code",
   "execution_count": 42,
   "id": "HLrBWNZifiaF",
   "metadata": {
    "colab": {
     "base_uri": "https://localhost:8080/",
     "height": 473
    },
    "id": "HLrBWNZifiaF",
    "outputId": "5d4a38f3-9e47-4f9e-89cf-4d1c8a35cd42"
   },
   "outputs": [
    {
     "data": {
      "text/html": [
       "<div>\n",
       "<style scoped>\n",
       "    .dataframe tbody tr th:only-of-type {\n",
       "        vertical-align: middle;\n",
       "    }\n",
       "\n",
       "    .dataframe tbody tr th {\n",
       "        vertical-align: top;\n",
       "    }\n",
       "\n",
       "    .dataframe thead th {\n",
       "        text-align: right;\n",
       "    }\n",
       "</style>\n",
       "<table border=\"1\" class=\"dataframe\">\n",
       "  <thead>\n",
       "    <tr style=\"text-align: right;\">\n",
       "      <th></th>\n",
       "      <th>CAISO_Demand_MWh</th>\n",
       "      <th>CAISO_VRE_MWh</th>\n",
       "      <th>Hour</th>\n",
       "      <th>Month</th>\n",
       "      <th>Time_Elapsed</th>\n",
       "      <th>delta_VRE</th>\n",
       "      <th>delta_Demand</th>\n",
       "      <th>delta_CO2</th>\n",
       "      <th>delta_SO2</th>\n",
       "      <th>delta_NOx</th>\n",
       "      <th>MEF</th>\n",
       "      <th>MDF</th>\n",
       "      <th>Intercept</th>\n",
       "      <th>Predicted_delta_CO2</th>\n",
       "      <th>Error</th>\n",
       "      <th>%_Error</th>\n",
       "      <th>set_assignment</th>\n",
       "    </tr>\n",
       "  </thead>\n",
       "  <tbody>\n",
       "    <tr>\n",
       "      <th>2022-01-01 01:00:00</th>\n",
       "      <td>22128</td>\n",
       "      <td>469.617152</td>\n",
       "      <td>1</td>\n",
       "      <td>1</td>\n",
       "      <td>1</td>\n",
       "      <td>-70.262042</td>\n",
       "      <td>-734.0</td>\n",
       "      <td>346500.009963</td>\n",
       "      <td>23.979476</td>\n",
       "      <td>76.179676</td>\n",
       "      <td>150.135880</td>\n",
       "      <td>-670.501587</td>\n",
       "      <td>328151.937500</td>\n",
       "      <td>265063.012596</td>\n",
       "      <td>-81436.997367</td>\n",
       "      <td>23.502740</td>\n",
       "      <td>train</td>\n",
       "    </tr>\n",
       "    <tr>\n",
       "      <th>2022-01-01 02:00:00</th>\n",
       "      <td>21394</td>\n",
       "      <td>399.355110</td>\n",
       "      <td>2</td>\n",
       "      <td>1</td>\n",
       "      <td>2</td>\n",
       "      <td>-70.262042</td>\n",
       "      <td>-734.0</td>\n",
       "      <td>346500.009963</td>\n",
       "      <td>23.979476</td>\n",
       "      <td>76.179676</td>\n",
       "      <td>105.503265</td>\n",
       "      <td>-599.772156</td>\n",
       "      <td>325730.187500</td>\n",
       "      <td>290432.007109</td>\n",
       "      <td>-56068.002854</td>\n",
       "      <td>16.181241</td>\n",
       "      <td>train</td>\n",
       "    </tr>\n",
       "    <tr>\n",
       "      <th>2022-01-01 03:00:00</th>\n",
       "      <td>21004</td>\n",
       "      <td>301.486908</td>\n",
       "      <td>3</td>\n",
       "      <td>1</td>\n",
       "      <td>3</td>\n",
       "      <td>-97.868202</td>\n",
       "      <td>-390.0</td>\n",
       "      <td>97985.242444</td>\n",
       "      <td>61.361924</td>\n",
       "      <td>114.743358</td>\n",
       "      <td>166.807526</td>\n",
       "      <td>-582.446655</td>\n",
       "      <td>213893.093750</td>\n",
       "      <td>205841.165665</td>\n",
       "      <td>107855.923221</td>\n",
       "      <td>110.073640</td>\n",
       "      <td>validation</td>\n",
       "    </tr>\n",
       "    <tr>\n",
       "      <th>2022-01-01 04:00:00</th>\n",
       "      <td>20881</td>\n",
       "      <td>264.397124</td>\n",
       "      <td>4</td>\n",
       "      <td>1</td>\n",
       "      <td>4</td>\n",
       "      <td>-37.089784</td>\n",
       "      <td>-123.0</td>\n",
       "      <td>46882.175122</td>\n",
       "      <td>-5.104375</td>\n",
       "      <td>-3.402698</td>\n",
       "      <td>427.247375</td>\n",
       "      <td>-603.649414</td>\n",
       "      <td>130359.398438</td>\n",
       "      <td>100197.197632</td>\n",
       "      <td>53315.022510</td>\n",
       "      <td>113.721307</td>\n",
       "      <td>validation</td>\n",
       "    </tr>\n",
       "    <tr>\n",
       "      <th>2022-01-01 05:00:00</th>\n",
       "      <td>20983</td>\n",
       "      <td>225.893658</td>\n",
       "      <td>5</td>\n",
       "      <td>1</td>\n",
       "      <td>5</td>\n",
       "      <td>-38.503466</td>\n",
       "      <td>102.0</td>\n",
       "      <td>27957.428907</td>\n",
       "      <td>-7.464808</td>\n",
       "      <td>-19.300957</td>\n",
       "      <td>375.850586</td>\n",
       "      <td>-1219.732178</td>\n",
       "      <td>10789.030273</td>\n",
       "      <td>96089.706474</td>\n",
       "      <td>68132.277566</td>\n",
       "      <td>243.700083</td>\n",
       "      <td>validation</td>\n",
       "    </tr>\n",
       "  </tbody>\n",
       "</table>\n",
       "</div>"
      ],
      "text/plain": [
       "                     CAISO_Demand_MWh  CAISO_VRE_MWh  Hour  Month  \\\n",
       "2022-01-01 01:00:00             22128     469.617152     1      1   \n",
       "2022-01-01 02:00:00             21394     399.355110     2      1   \n",
       "2022-01-01 03:00:00             21004     301.486908     3      1   \n",
       "2022-01-01 04:00:00             20881     264.397124     4      1   \n",
       "2022-01-01 05:00:00             20983     225.893658     5      1   \n",
       "\n",
       "                     Time_Elapsed  delta_VRE  delta_Demand      delta_CO2  \\\n",
       "2022-01-01 01:00:00             1 -70.262042        -734.0  346500.009963   \n",
       "2022-01-01 02:00:00             2 -70.262042        -734.0  346500.009963   \n",
       "2022-01-01 03:00:00             3 -97.868202        -390.0   97985.242444   \n",
       "2022-01-01 04:00:00             4 -37.089784        -123.0   46882.175122   \n",
       "2022-01-01 05:00:00             5 -38.503466         102.0   27957.428907   \n",
       "\n",
       "                     delta_SO2   delta_NOx         MEF          MDF  \\\n",
       "2022-01-01 01:00:00  23.979476   76.179676  150.135880  -670.501587   \n",
       "2022-01-01 02:00:00  23.979476   76.179676  105.503265  -599.772156   \n",
       "2022-01-01 03:00:00  61.361924  114.743358  166.807526  -582.446655   \n",
       "2022-01-01 04:00:00  -5.104375   -3.402698  427.247375  -603.649414   \n",
       "2022-01-01 05:00:00  -7.464808  -19.300957  375.850586 -1219.732178   \n",
       "\n",
       "                         Intercept  Predicted_delta_CO2          Error  \\\n",
       "2022-01-01 01:00:00  328151.937500        265063.012596  -81436.997367   \n",
       "2022-01-01 02:00:00  325730.187500        290432.007109  -56068.002854   \n",
       "2022-01-01 03:00:00  213893.093750        205841.165665  107855.923221   \n",
       "2022-01-01 04:00:00  130359.398438        100197.197632   53315.022510   \n",
       "2022-01-01 05:00:00   10789.030273         96089.706474   68132.277566   \n",
       "\n",
       "                        %_Error set_assignment  \n",
       "2022-01-01 01:00:00   23.502740          train  \n",
       "2022-01-01 02:00:00   16.181241          train  \n",
       "2022-01-01 03:00:00  110.073640     validation  \n",
       "2022-01-01 04:00:00  113.721307     validation  \n",
       "2022-01-01 05:00:00  243.700083     validation  "
      ]
     },
     "execution_count": 42,
     "metadata": {},
     "output_type": "execute_result"
    }
   ],
   "source": [
    "data_df.head()"
   ]
  },
  {
   "cell_type": "code",
   "execution_count": null,
   "id": "f7c3f9ca",
   "metadata": {},
   "outputs": [],
   "source": []
  },
  {
   "cell_type": "code",
   "execution_count": 43,
   "id": "XG2_fHd5fmAI",
   "metadata": {
    "id": "XG2_fHd5fmAI"
   },
   "outputs": [],
   "source": [
    "data_df.to_csv(os.path.join(best_model_dir, \"caiso_2022.co2_preds.csv\"))"
   ]
  },
  {
   "cell_type": "code",
   "execution_count": 44,
   "id": "uJWPn96SFkTa",
   "metadata": {
    "colab": {
     "base_uri": "https://localhost:8080/"
    },
    "id": "uJWPn96SFkTa",
    "outputId": "1ee10191-30a4-4a58-f089-677458a2c182"
   },
   "outputs": [
    {
     "data": {
      "text/plain": [
       "0"
      ]
     },
     "execution_count": 44,
     "metadata": {},
     "output_type": "execute_result"
    }
   ],
   "source": [
    "len([val for val in data_df.loc[:,\"MEF\"] if val <=0])"
   ]
  },
  {
   "cell_type": "code",
   "execution_count": 45,
   "id": "89hutia2GEKj",
   "metadata": {
    "colab": {
     "base_uri": "https://localhost:8080/"
    },
    "id": "89hutia2GEKj",
    "outputId": "12d38d99-8e8d-41a8-b34a-00e3fc3201b1"
   },
   "outputs": [
    {
     "data": {
      "text/plain": [
       "65"
      ]
     },
     "execution_count": 45,
     "metadata": {},
     "output_type": "execute_result"
    }
   ],
   "source": [
    "len([val for val in data_df.loc[:,\"MEF\"] if val >600])"
   ]
  },
  {
   "cell_type": "code",
   "execution_count": 46,
   "id": "F2PyvXRSGoiX",
   "metadata": {
    "colab": {
     "base_uri": "https://localhost:8080/"
    },
    "id": "F2PyvXRSGoiX",
    "outputId": "2bdc08c2-f712-4523-f1b7-d0dc015a8764"
   },
   "outputs": [
    {
     "data": {
      "text/plain": [
       "986.1348266601562"
      ]
     },
     "execution_count": 46,
     "metadata": {},
     "output_type": "execute_result"
    }
   ],
   "source": [
    "data_df.loc[:,\"MEF\"].max()"
   ]
  },
  {
   "cell_type": "code",
   "execution_count": 47,
   "id": "7f546c4f",
   "metadata": {
    "colab": {
     "base_uri": "https://localhost:8080/"
    },
    "id": "89hutia2GEKj",
    "outputId": "12d38d99-8e8d-41a8-b34a-00e3fc3201b1"
   },
   "outputs": [
    {
     "data": {
      "text/plain": [
       "2139"
      ]
     },
     "execution_count": 47,
     "metadata": {},
     "output_type": "execute_result"
    }
   ],
   "source": [
    "len([val for val in data_df.loc[:,\"MDF\"] if val < -600])"
   ]
  },
  {
   "cell_type": "code",
   "execution_count": 48,
   "id": "e8df297e",
   "metadata": {
    "colab": {
     "base_uri": "https://localhost:8080/"
    },
    "id": "F2PyvXRSGoiX",
    "outputId": "2bdc08c2-f712-4523-f1b7-d0dc015a8764"
   },
   "outputs": [
    {
     "data": {
      "text/plain": [
       "-6507.34619140625"
      ]
     },
     "execution_count": 48,
     "metadata": {},
     "output_type": "execute_result"
    }
   ],
   "source": [
    "data_df.loc[:,\"MDF\"].min()"
   ]
  },
  {
   "cell_type": "code",
   "execution_count": 49,
   "id": "3ec83a7d",
   "metadata": {},
   "outputs": [
    {
     "data": {
      "text/html": [
       "<div>\n",
       "<style scoped>\n",
       "    .dataframe tbody tr th:only-of-type {\n",
       "        vertical-align: middle;\n",
       "    }\n",
       "\n",
       "    .dataframe tbody tr th {\n",
       "        vertical-align: top;\n",
       "    }\n",
       "\n",
       "    .dataframe thead th {\n",
       "        text-align: right;\n",
       "    }\n",
       "</style>\n",
       "<table border=\"1\" class=\"dataframe\">\n",
       "  <thead>\n",
       "    <tr style=\"text-align: right;\">\n",
       "      <th></th>\n",
       "      <th>MEF</th>\n",
       "      <th>MDF</th>\n",
       "      <th>Intercept</th>\n",
       "      <th>%_Error</th>\n",
       "    </tr>\n",
       "  </thead>\n",
       "  <tbody>\n",
       "    <tr>\n",
       "      <th>count</th>\n",
       "      <td>8758.000000</td>\n",
       "      <td>8758.000000</td>\n",
       "      <td>8.758000e+03</td>\n",
       "      <td>8758.000000</td>\n",
       "    </tr>\n",
       "    <tr>\n",
       "      <th>mean</th>\n",
       "      <td>128.666656</td>\n",
       "      <td>-447.877319</td>\n",
       "      <td>2.038147e+04</td>\n",
       "      <td>166.786663</td>\n",
       "    </tr>\n",
       "    <tr>\n",
       "      <th>std</th>\n",
       "      <td>123.544106</td>\n",
       "      <td>563.591736</td>\n",
       "      <td>2.750531e+05</td>\n",
       "      <td>2168.027465</td>\n",
       "    </tr>\n",
       "    <tr>\n",
       "      <th>min</th>\n",
       "      <td>0.341191</td>\n",
       "      <td>-6507.346191</td>\n",
       "      <td>-1.436987e+06</td>\n",
       "      <td>0.013022</td>\n",
       "    </tr>\n",
       "    <tr>\n",
       "      <th>25%</th>\n",
       "      <td>35.683404</td>\n",
       "      <td>-587.510941</td>\n",
       "      <td>-9.905995e+04</td>\n",
       "      <td>14.354320</td>\n",
       "    </tr>\n",
       "    <tr>\n",
       "      <th>50%</th>\n",
       "      <td>95.489948</td>\n",
       "      <td>-250.460159</td>\n",
       "      <td>2.985276e+04</td>\n",
       "      <td>32.844013</td>\n",
       "    </tr>\n",
       "    <tr>\n",
       "      <th>75%</th>\n",
       "      <td>176.057579</td>\n",
       "      <td>-95.511795</td>\n",
       "      <td>1.902761e+05</td>\n",
       "      <td>75.971222</td>\n",
       "    </tr>\n",
       "    <tr>\n",
       "      <th>max</th>\n",
       "      <td>986.134827</td>\n",
       "      <td>-5.546534</td>\n",
       "      <td>7.817341e+05</td>\n",
       "      <td>166805.223882</td>\n",
       "    </tr>\n",
       "  </tbody>\n",
       "</table>\n",
       "</div>"
      ],
      "text/plain": [
       "               MEF          MDF     Intercept        %_Error\n",
       "count  8758.000000  8758.000000  8.758000e+03    8758.000000\n",
       "mean    128.666656  -447.877319  2.038147e+04     166.786663\n",
       "std     123.544106   563.591736  2.750531e+05    2168.027465\n",
       "min       0.341191 -6507.346191 -1.436987e+06       0.013022\n",
       "25%      35.683404  -587.510941 -9.905995e+04      14.354320\n",
       "50%      95.489948  -250.460159  2.985276e+04      32.844013\n",
       "75%     176.057579   -95.511795  1.902761e+05      75.971222\n",
       "max     986.134827    -5.546534  7.817341e+05  166805.223882"
      ]
     },
     "execution_count": 49,
     "metadata": {},
     "output_type": "execute_result"
    }
   ],
   "source": [
    "data_df.loc[:,['MEF','MDF','Intercept','%_Error']].describe()"
   ]
  },
  {
   "cell_type": "code",
   "execution_count": 50,
   "id": "70679997",
   "metadata": {},
   "outputs": [
    {
     "data": {
      "text/html": [
       "<div>\n",
       "<style scoped>\n",
       "    .dataframe tbody tr th:only-of-type {\n",
       "        vertical-align: middle;\n",
       "    }\n",
       "\n",
       "    .dataframe tbody tr th {\n",
       "        vertical-align: top;\n",
       "    }\n",
       "\n",
       "    .dataframe thead th {\n",
       "        text-align: right;\n",
       "    }\n",
       "</style>\n",
       "<table border=\"1\" class=\"dataframe\">\n",
       "  <thead>\n",
       "    <tr style=\"text-align: right;\">\n",
       "      <th></th>\n",
       "      <th>MEF</th>\n",
       "      <th>MDF</th>\n",
       "      <th>Intercept</th>\n",
       "      <th>%_Error</th>\n",
       "    </tr>\n",
       "  </thead>\n",
       "  <tbody>\n",
       "    <tr>\n",
       "      <th>count</th>\n",
       "      <td>26305.000000</td>\n",
       "      <td>26305.000000</td>\n",
       "      <td>26305.000000</td>\n",
       "      <td>26305.000000</td>\n",
       "    </tr>\n",
       "    <tr>\n",
       "      <th>mean</th>\n",
       "      <td>256.605006</td>\n",
       "      <td>-215.796560</td>\n",
       "      <td>523.848423</td>\n",
       "      <td>1.786831</td>\n",
       "    </tr>\n",
       "    <tr>\n",
       "      <th>std</th>\n",
       "      <td>67.574419</td>\n",
       "      <td>64.802989</td>\n",
       "      <td>67103.664829</td>\n",
       "      <td>45.666061</td>\n",
       "    </tr>\n",
       "    <tr>\n",
       "      <th>min</th>\n",
       "      <td>54.818092</td>\n",
       "      <td>-803.305970</td>\n",
       "      <td>-328215.660000</td>\n",
       "      <td>0.000013</td>\n",
       "    </tr>\n",
       "    <tr>\n",
       "      <th>25%</th>\n",
       "      <td>213.517330</td>\n",
       "      <td>-251.970170</td>\n",
       "      <td>-37823.723000</td>\n",
       "      <td>0.131826</td>\n",
       "    </tr>\n",
       "    <tr>\n",
       "      <th>50%</th>\n",
       "      <td>257.017600</td>\n",
       "      <td>-214.593380</td>\n",
       "      <td>4281.856000</td>\n",
       "      <td>0.297829</td>\n",
       "    </tr>\n",
       "    <tr>\n",
       "      <th>75%</th>\n",
       "      <td>297.777620</td>\n",
       "      <td>-173.248780</td>\n",
       "      <td>45834.000000</td>\n",
       "      <td>0.631563</td>\n",
       "    </tr>\n",
       "    <tr>\n",
       "      <th>max</th>\n",
       "      <td>580.965000</td>\n",
       "      <td>-40.459225</td>\n",
       "      <td>299267.100000</td>\n",
       "      <td>6914.859707</td>\n",
       "    </tr>\n",
       "  </tbody>\n",
       "</table>\n",
       "</div>"
      ],
      "text/plain": [
       "                MEF           MDF      Intercept       %_Error\n",
       "count  26305.000000  26305.000000   26305.000000  26305.000000\n",
       "mean     256.605006   -215.796560     523.848423      1.786831\n",
       "std       67.574419     64.802989   67103.664829     45.666061\n",
       "min       54.818092   -803.305970 -328215.660000      0.000013\n",
       "25%      213.517330   -251.970170  -37823.723000      0.131826\n",
       "50%      257.017600   -214.593380    4281.856000      0.297829\n",
       "75%      297.777620   -173.248780   45834.000000      0.631563\n",
       "max      580.965000    -40.459225  299267.100000   6914.859707"
      ]
     },
     "execution_count": 50,
     "metadata": {},
     "output_type": "execute_result"
    }
   ],
   "source": [
    "pd.read_csv('FF_models/hours_since_2018_feature/2023_04_01-05_23_36_PM/CAISO_Data_2019_2021_NN.with_coeff_preds.csv').loc[:,['MEF','MDF','Intercept','%_Error']].describe()"
   ]
  },
  {
   "cell_type": "code",
   "execution_count": 51,
   "id": "cb51759f",
   "metadata": {},
   "outputs": [
    {
     "data": {
      "text/html": [
       "<div>\n",
       "<style scoped>\n",
       "    .dataframe tbody tr th:only-of-type {\n",
       "        vertical-align: middle;\n",
       "    }\n",
       "\n",
       "    .dataframe tbody tr th {\n",
       "        vertical-align: top;\n",
       "    }\n",
       "\n",
       "    .dataframe thead th {\n",
       "        text-align: right;\n",
       "    }\n",
       "</style>\n",
       "<table border=\"1\" class=\"dataframe\">\n",
       "  <thead>\n",
       "    <tr style=\"text-align: right;\">\n",
       "      <th></th>\n",
       "      <th>CAISO_Demand_MWh</th>\n",
       "      <th>CAISO_VRE_MWh</th>\n",
       "      <th>Hour</th>\n",
       "      <th>Month</th>\n",
       "      <th>Time_Elapsed</th>\n",
       "      <th>delta_VRE</th>\n",
       "      <th>delta_Demand</th>\n",
       "      <th>delta_CO2</th>\n",
       "      <th>delta_SO2</th>\n",
       "      <th>delta_NOx</th>\n",
       "      <th>MEF</th>\n",
       "      <th>MDF</th>\n",
       "      <th>Intercept</th>\n",
       "      <th>Predicted_delta_CO2</th>\n",
       "      <th>Error</th>\n",
       "      <th>%_Error</th>\n",
       "      <th>set_assignment</th>\n",
       "    </tr>\n",
       "  </thead>\n",
       "  <tbody>\n",
       "    <tr>\n",
       "      <th>2022-02-24 07:00:00</th>\n",
       "      <td>27842</td>\n",
       "      <td>169.053982</td>\n",
       "      <td>7</td>\n",
       "      <td>2</td>\n",
       "      <td>1303</td>\n",
       "      <td>75.864936</td>\n",
       "      <td>1907.0</td>\n",
       "      <td>-1.329122e+06</td>\n",
       "      <td>-79.180304</td>\n",
       "      <td>-136.223026</td>\n",
       "      <td>35.583977</td>\n",
       "      <td>-6507.346191</td>\n",
       "      <td>-778012.0</td>\n",
       "      <td>-1.203833e+06</td>\n",
       "      <td>125289.006659</td>\n",
       "      <td>9.426451</td>\n",
       "      <td>train</td>\n",
       "    </tr>\n",
       "  </tbody>\n",
       "</table>\n",
       "</div>"
      ],
      "text/plain": [
       "                     CAISO_Demand_MWh  CAISO_VRE_MWh  Hour  Month  \\\n",
       "2022-02-24 07:00:00             27842     169.053982     7      2   \n",
       "\n",
       "                     Time_Elapsed  delta_VRE  delta_Demand     delta_CO2  \\\n",
       "2022-02-24 07:00:00          1303  75.864936        1907.0 -1.329122e+06   \n",
       "\n",
       "                     delta_SO2   delta_NOx        MEF          MDF  Intercept  \\\n",
       "2022-02-24 07:00:00 -79.180304 -136.223026  35.583977 -6507.346191  -778012.0   \n",
       "\n",
       "                     Predicted_delta_CO2          Error   %_Error  \\\n",
       "2022-02-24 07:00:00        -1.203833e+06  125289.006659  9.426451   \n",
       "\n",
       "                    set_assignment  \n",
       "2022-02-24 07:00:00          train  "
      ]
     },
     "execution_count": 51,
     "metadata": {},
     "output_type": "execute_result"
    }
   ],
   "source": [
    "data_df.loc[data_df.MDF == data_df.MDF.min()]"
   ]
  },
  {
   "cell_type": "code",
   "execution_count": null,
   "id": "1c537479",
   "metadata": {},
   "outputs": [],
   "source": []
  }
 ],
 "metadata": {
  "accelerator": "GPU",
  "colab": {
   "collapsed_sections": [
    "JXZByiAB-ve0",
    "zU9dxlqPclAo",
    "J1hZygxKnUP7"
   ],
   "provenance": []
  },
  "gpuClass": "standard",
  "kernelspec": {
   "display_name": "Python 3 (ipykernel)",
   "language": "python",
   "name": "python3"
  },
  "language_info": {
   "codemirror_mode": {
    "name": "ipython",
    "version": 3
   },
   "file_extension": ".py",
   "mimetype": "text/x-python",
   "name": "python",
   "nbconvert_exporter": "python",
   "pygments_lexer": "ipython3",
   "version": "3.9.15"
  },
  "widgets": {
   "application/vnd.jupyter.widget-state+json": {
    "070f0cc6c84547c9ad6695a0a2039311": {
     "model_module": "@jupyter-widgets/controls",
     "model_module_version": "1.5.0",
     "model_name": "ProgressStyleModel",
     "state": {
      "_model_module": "@jupyter-widgets/controls",
      "_model_module_version": "1.5.0",
      "_model_name": "ProgressStyleModel",
      "_view_count": null,
      "_view_module": "@jupyter-widgets/base",
      "_view_module_version": "1.2.0",
      "_view_name": "StyleView",
      "bar_color": null,
      "description_width": ""
     }
    },
    "08c8e385d4484aec959c08392a93265b": {
     "model_module": "@jupyter-widgets/base",
     "model_module_version": "1.2.0",
     "model_name": "LayoutModel",
     "state": {
      "_model_module": "@jupyter-widgets/base",
      "_model_module_version": "1.2.0",
      "_model_name": "LayoutModel",
      "_view_count": null,
      "_view_module": "@jupyter-widgets/base",
      "_view_module_version": "1.2.0",
      "_view_name": "LayoutView",
      "align_content": null,
      "align_items": null,
      "align_self": null,
      "border": null,
      "bottom": null,
      "display": null,
      "flex": null,
      "flex_flow": null,
      "grid_area": null,
      "grid_auto_columns": null,
      "grid_auto_flow": null,
      "grid_auto_rows": null,
      "grid_column": null,
      "grid_gap": null,
      "grid_row": null,
      "grid_template_areas": null,
      "grid_template_columns": null,
      "grid_template_rows": null,
      "height": null,
      "justify_content": null,
      "justify_items": null,
      "left": null,
      "margin": null,
      "max_height": null,
      "max_width": null,
      "min_height": null,
      "min_width": null,
      "object_fit": null,
      "object_position": null,
      "order": null,
      "overflow": null,
      "overflow_x": null,
      "overflow_y": null,
      "padding": null,
      "right": null,
      "top": null,
      "visibility": null,
      "width": null
     }
    },
    "0e3c837eefa94c5082e1df5759b32113": {
     "model_module": "@jupyter-widgets/controls",
     "model_module_version": "1.5.0",
     "model_name": "ProgressStyleModel",
     "state": {
      "_model_module": "@jupyter-widgets/controls",
      "_model_module_version": "1.5.0",
      "_model_name": "ProgressStyleModel",
      "_view_count": null,
      "_view_module": "@jupyter-widgets/base",
      "_view_module_version": "1.2.0",
      "_view_name": "StyleView",
      "bar_color": null,
      "description_width": ""
     }
    },
    "0f19d5e2733a4785a40e235ebec4a347": {
     "model_module": "@jupyter-widgets/base",
     "model_module_version": "1.2.0",
     "model_name": "LayoutModel",
     "state": {
      "_model_module": "@jupyter-widgets/base",
      "_model_module_version": "1.2.0",
      "_model_name": "LayoutModel",
      "_view_count": null,
      "_view_module": "@jupyter-widgets/base",
      "_view_module_version": "1.2.0",
      "_view_name": "LayoutView",
      "align_content": null,
      "align_items": null,
      "align_self": null,
      "border": null,
      "bottom": null,
      "display": null,
      "flex": null,
      "flex_flow": null,
      "grid_area": null,
      "grid_auto_columns": null,
      "grid_auto_flow": null,
      "grid_auto_rows": null,
      "grid_column": null,
      "grid_gap": null,
      "grid_row": null,
      "grid_template_areas": null,
      "grid_template_columns": null,
      "grid_template_rows": null,
      "height": null,
      "justify_content": null,
      "justify_items": null,
      "left": null,
      "margin": null,
      "max_height": null,
      "max_width": null,
      "min_height": null,
      "min_width": null,
      "object_fit": null,
      "object_position": null,
      "order": null,
      "overflow": null,
      "overflow_x": null,
      "overflow_y": null,
      "padding": null,
      "right": null,
      "top": null,
      "visibility": null,
      "width": null
     }
    },
    "103385924b674ad7b80753cfa4387a24": {
     "model_module": "@jupyter-widgets/controls",
     "model_module_version": "1.5.0",
     "model_name": "DescriptionStyleModel",
     "state": {
      "_model_module": "@jupyter-widgets/controls",
      "_model_module_version": "1.5.0",
      "_model_name": "DescriptionStyleModel",
      "_view_count": null,
      "_view_module": "@jupyter-widgets/base",
      "_view_module_version": "1.2.0",
      "_view_name": "StyleView",
      "description_width": ""
     }
    },
    "20938ad434484554b26310629e1461fc": {
     "model_module": "@jupyter-widgets/base",
     "model_module_version": "1.2.0",
     "model_name": "LayoutModel",
     "state": {
      "_model_module": "@jupyter-widgets/base",
      "_model_module_version": "1.2.0",
      "_model_name": "LayoutModel",
      "_view_count": null,
      "_view_module": "@jupyter-widgets/base",
      "_view_module_version": "1.2.0",
      "_view_name": "LayoutView",
      "align_content": null,
      "align_items": null,
      "align_self": null,
      "border": null,
      "bottom": null,
      "display": null,
      "flex": null,
      "flex_flow": null,
      "grid_area": null,
      "grid_auto_columns": null,
      "grid_auto_flow": null,
      "grid_auto_rows": null,
      "grid_column": null,
      "grid_gap": null,
      "grid_row": null,
      "grid_template_areas": null,
      "grid_template_columns": null,
      "grid_template_rows": null,
      "height": null,
      "justify_content": null,
      "justify_items": null,
      "left": null,
      "margin": null,
      "max_height": null,
      "max_width": null,
      "min_height": null,
      "min_width": null,
      "object_fit": null,
      "object_position": null,
      "order": null,
      "overflow": null,
      "overflow_x": null,
      "overflow_y": null,
      "padding": null,
      "right": null,
      "top": null,
      "visibility": null,
      "width": null
     }
    },
    "27a1dc5a48e94c90b7148f012585ce8f": {
     "model_module": "@jupyter-widgets/controls",
     "model_module_version": "1.5.0",
     "model_name": "HTMLModel",
     "state": {
      "_dom_classes": [],
      "_model_module": "@jupyter-widgets/controls",
      "_model_module_version": "1.5.0",
      "_model_name": "HTMLModel",
      "_view_count": null,
      "_view_module": "@jupyter-widgets/controls",
      "_view_module_version": "1.5.0",
      "_view_name": "HTMLView",
      "description": "",
      "description_tooltip": null,
      "layout": "IPY_MODEL_20938ad434484554b26310629e1461fc",
      "placeholder": "​",
      "style": "IPY_MODEL_c4e2620491e34d36851ea838eb1644d9",
      "value": " 16508/40000 [03:31&lt;04:49, 81.16it/s]"
     }
    },
    "2928b14ae813424ab77ba3d4aa0bfa59": {
     "model_module": "@jupyter-widgets/controls",
     "model_module_version": "1.5.0",
     "model_name": "DescriptionStyleModel",
     "state": {
      "_model_module": "@jupyter-widgets/controls",
      "_model_module_version": "1.5.0",
      "_model_name": "DescriptionStyleModel",
      "_view_count": null,
      "_view_module": "@jupyter-widgets/base",
      "_view_module_version": "1.2.0",
      "_view_name": "StyleView",
      "description_width": ""
     }
    },
    "2ce278e2710845fb9da98b9f3a8cce0f": {
     "model_module": "@jupyter-widgets/base",
     "model_module_version": "1.2.0",
     "model_name": "LayoutModel",
     "state": {
      "_model_module": "@jupyter-widgets/base",
      "_model_module_version": "1.2.0",
      "_model_name": "LayoutModel",
      "_view_count": null,
      "_view_module": "@jupyter-widgets/base",
      "_view_module_version": "1.2.0",
      "_view_name": "LayoutView",
      "align_content": null,
      "align_items": null,
      "align_self": null,
      "border": null,
      "bottom": null,
      "display": null,
      "flex": null,
      "flex_flow": null,
      "grid_area": null,
      "grid_auto_columns": null,
      "grid_auto_flow": null,
      "grid_auto_rows": null,
      "grid_column": null,
      "grid_gap": null,
      "grid_row": null,
      "grid_template_areas": null,
      "grid_template_columns": null,
      "grid_template_rows": null,
      "height": null,
      "justify_content": null,
      "justify_items": null,
      "left": null,
      "margin": null,
      "max_height": null,
      "max_width": null,
      "min_height": null,
      "min_width": null,
      "object_fit": null,
      "object_position": null,
      "order": null,
      "overflow": null,
      "overflow_x": null,
      "overflow_y": null,
      "padding": null,
      "right": null,
      "top": null,
      "visibility": null,
      "width": null
     }
    },
    "3828b309d7344ee793b829b9ce7a9a88": {
     "model_module": "@jupyter-widgets/controls",
     "model_module_version": "1.5.0",
     "model_name": "HTMLModel",
     "state": {
      "_dom_classes": [],
      "_model_module": "@jupyter-widgets/controls",
      "_model_module_version": "1.5.0",
      "_model_name": "HTMLModel",
      "_view_count": null,
      "_view_module": "@jupyter-widgets/controls",
      "_view_module_version": "1.5.0",
      "_view_name": "HTMLView",
      "description": "",
      "description_tooltip": null,
      "layout": "IPY_MODEL_5131ad864b104f83a55c6ade9b627188",
      "placeholder": "​",
      "style": "IPY_MODEL_4977bdb411e84a00844b6385a00e4eaa",
      "value": " 329/40000 [00:04&lt;07:51, 84.13it/s]"
     }
    },
    "3add4675c0c547cfbc6931b41d9f6603": {
     "model_module": "@jupyter-widgets/base",
     "model_module_version": "1.2.0",
     "model_name": "LayoutModel",
     "state": {
      "_model_module": "@jupyter-widgets/base",
      "_model_module_version": "1.2.0",
      "_model_name": "LayoutModel",
      "_view_count": null,
      "_view_module": "@jupyter-widgets/base",
      "_view_module_version": "1.2.0",
      "_view_name": "LayoutView",
      "align_content": null,
      "align_items": null,
      "align_self": null,
      "border": null,
      "bottom": null,
      "display": null,
      "flex": null,
      "flex_flow": null,
      "grid_area": null,
      "grid_auto_columns": null,
      "grid_auto_flow": null,
      "grid_auto_rows": null,
      "grid_column": null,
      "grid_gap": null,
      "grid_row": null,
      "grid_template_areas": null,
      "grid_template_columns": null,
      "grid_template_rows": null,
      "height": null,
      "justify_content": null,
      "justify_items": null,
      "left": null,
      "margin": null,
      "max_height": null,
      "max_width": null,
      "min_height": null,
      "min_width": null,
      "object_fit": null,
      "object_position": null,
      "order": null,
      "overflow": null,
      "overflow_x": null,
      "overflow_y": null,
      "padding": null,
      "right": null,
      "top": null,
      "visibility": null,
      "width": null
     }
    },
    "3bad009c66a7414aa8449bcac0fab7dc": {
     "model_module": "@jupyter-widgets/controls",
     "model_module_version": "1.5.0",
     "model_name": "HBoxModel",
     "state": {
      "_dom_classes": [],
      "_model_module": "@jupyter-widgets/controls",
      "_model_module_version": "1.5.0",
      "_model_name": "HBoxModel",
      "_view_count": null,
      "_view_module": "@jupyter-widgets/controls",
      "_view_module_version": "1.5.0",
      "_view_name": "HBoxView",
      "box_style": "",
      "children": [
       "IPY_MODEL_567a40dd4ae24b76a6aec52eb25113c5",
       "IPY_MODEL_ad8fe8ed49db4c9da922a61f46e5599d",
       "IPY_MODEL_3828b309d7344ee793b829b9ce7a9a88"
      ],
      "layout": "IPY_MODEL_7daee14d81ae47468dc32742cb767db2"
     }
    },
    "3ce3b54e660a44be9c3af4558c899807": {
     "model_module": "@jupyter-widgets/base",
     "model_module_version": "1.2.0",
     "model_name": "LayoutModel",
     "state": {
      "_model_module": "@jupyter-widgets/base",
      "_model_module_version": "1.2.0",
      "_model_name": "LayoutModel",
      "_view_count": null,
      "_view_module": "@jupyter-widgets/base",
      "_view_module_version": "1.2.0",
      "_view_name": "LayoutView",
      "align_content": null,
      "align_items": null,
      "align_self": null,
      "border": null,
      "bottom": null,
      "display": null,
      "flex": null,
      "flex_flow": null,
      "grid_area": null,
      "grid_auto_columns": null,
      "grid_auto_flow": null,
      "grid_auto_rows": null,
      "grid_column": null,
      "grid_gap": null,
      "grid_row": null,
      "grid_template_areas": null,
      "grid_template_columns": null,
      "grid_template_rows": null,
      "height": null,
      "justify_content": null,
      "justify_items": null,
      "left": null,
      "margin": null,
      "max_height": null,
      "max_width": null,
      "min_height": null,
      "min_width": null,
      "object_fit": null,
      "object_position": null,
      "order": null,
      "overflow": null,
      "overflow_x": null,
      "overflow_y": null,
      "padding": null,
      "right": null,
      "top": null,
      "visibility": null,
      "width": null
     }
    },
    "4977bdb411e84a00844b6385a00e4eaa": {
     "model_module": "@jupyter-widgets/controls",
     "model_module_version": "1.5.0",
     "model_name": "DescriptionStyleModel",
     "state": {
      "_model_module": "@jupyter-widgets/controls",
      "_model_module_version": "1.5.0",
      "_model_name": "DescriptionStyleModel",
      "_view_count": null,
      "_view_module": "@jupyter-widgets/base",
      "_view_module_version": "1.2.0",
      "_view_name": "StyleView",
      "description_width": ""
     }
    },
    "50ff9eca72d445d48d9d82d7c8000c9e": {
     "model_module": "@jupyter-widgets/controls",
     "model_module_version": "1.5.0",
     "model_name": "ProgressStyleModel",
     "state": {
      "_model_module": "@jupyter-widgets/controls",
      "_model_module_version": "1.5.0",
      "_model_name": "ProgressStyleModel",
      "_view_count": null,
      "_view_module": "@jupyter-widgets/base",
      "_view_module_version": "1.2.0",
      "_view_name": "StyleView",
      "bar_color": null,
      "description_width": ""
     }
    },
    "5131ad864b104f83a55c6ade9b627188": {
     "model_module": "@jupyter-widgets/base",
     "model_module_version": "1.2.0",
     "model_name": "LayoutModel",
     "state": {
      "_model_module": "@jupyter-widgets/base",
      "_model_module_version": "1.2.0",
      "_model_name": "LayoutModel",
      "_view_count": null,
      "_view_module": "@jupyter-widgets/base",
      "_view_module_version": "1.2.0",
      "_view_name": "LayoutView",
      "align_content": null,
      "align_items": null,
      "align_self": null,
      "border": null,
      "bottom": null,
      "display": null,
      "flex": null,
      "flex_flow": null,
      "grid_area": null,
      "grid_auto_columns": null,
      "grid_auto_flow": null,
      "grid_auto_rows": null,
      "grid_column": null,
      "grid_gap": null,
      "grid_row": null,
      "grid_template_areas": null,
      "grid_template_columns": null,
      "grid_template_rows": null,
      "height": null,
      "justify_content": null,
      "justify_items": null,
      "left": null,
      "margin": null,
      "max_height": null,
      "max_width": null,
      "min_height": null,
      "min_width": null,
      "object_fit": null,
      "object_position": null,
      "order": null,
      "overflow": null,
      "overflow_x": null,
      "overflow_y": null,
      "padding": null,
      "right": null,
      "top": null,
      "visibility": null,
      "width": null
     }
    },
    "567a40dd4ae24b76a6aec52eb25113c5": {
     "model_module": "@jupyter-widgets/controls",
     "model_module_version": "1.5.0",
     "model_name": "HTMLModel",
     "state": {
      "_dom_classes": [],
      "_model_module": "@jupyter-widgets/controls",
      "_model_module_version": "1.5.0",
      "_model_name": "HTMLModel",
      "_view_count": null,
      "_view_module": "@jupyter-widgets/controls",
      "_view_module_version": "1.5.0",
      "_view_name": "HTMLView",
      "description": "",
      "description_tooltip": null,
      "layout": "IPY_MODEL_3ce3b54e660a44be9c3af4558c899807",
      "placeholder": "​",
      "style": "IPY_MODEL_9384c164e55f4023900dd3d4b6707030",
      "value": "  1%"
     }
    },
    "57b45e4353814abd8bbfaedb164710b8": {
     "model_module": "@jupyter-widgets/controls",
     "model_module_version": "1.5.0",
     "model_name": "FloatProgressModel",
     "state": {
      "_dom_classes": [],
      "_model_module": "@jupyter-widgets/controls",
      "_model_module_version": "1.5.0",
      "_model_name": "FloatProgressModel",
      "_view_count": null,
      "_view_module": "@jupyter-widgets/controls",
      "_view_module_version": "1.5.0",
      "_view_name": "ProgressView",
      "bar_style": "danger",
      "description": "",
      "description_tooltip": null,
      "layout": "IPY_MODEL_f25b80554031474bbd24426d02afd6eb",
      "max": 40000,
      "min": 0,
      "orientation": "horizontal",
      "style": "IPY_MODEL_070f0cc6c84547c9ad6695a0a2039311",
      "value": 16541
     }
    },
    "68d43c0c9fd640d9af417cf3634889f4": {
     "model_module": "@jupyter-widgets/base",
     "model_module_version": "1.2.0",
     "model_name": "LayoutModel",
     "state": {
      "_model_module": "@jupyter-widgets/base",
      "_model_module_version": "1.2.0",
      "_model_name": "LayoutModel",
      "_view_count": null,
      "_view_module": "@jupyter-widgets/base",
      "_view_module_version": "1.2.0",
      "_view_name": "LayoutView",
      "align_content": null,
      "align_items": null,
      "align_self": null,
      "border": null,
      "bottom": null,
      "display": null,
      "flex": null,
      "flex_flow": null,
      "grid_area": null,
      "grid_auto_columns": null,
      "grid_auto_flow": null,
      "grid_auto_rows": null,
      "grid_column": null,
      "grid_gap": null,
      "grid_row": null,
      "grid_template_areas": null,
      "grid_template_columns": null,
      "grid_template_rows": null,
      "height": null,
      "justify_content": null,
      "justify_items": null,
      "left": null,
      "margin": null,
      "max_height": null,
      "max_width": null,
      "min_height": null,
      "min_width": null,
      "object_fit": null,
      "object_position": null,
      "order": null,
      "overflow": null,
      "overflow_x": null,
      "overflow_y": null,
      "padding": null,
      "right": null,
      "top": null,
      "visibility": null,
      "width": null
     }
    },
    "7075efa7777c45bcb618c00dcae91c1c": {
     "model_module": "@jupyter-widgets/controls",
     "model_module_version": "1.5.0",
     "model_name": "HBoxModel",
     "state": {
      "_dom_classes": [],
      "_model_module": "@jupyter-widgets/controls",
      "_model_module_version": "1.5.0",
      "_model_name": "HBoxModel",
      "_view_count": null,
      "_view_module": "@jupyter-widgets/controls",
      "_view_module_version": "1.5.0",
      "_view_name": "HBoxView",
      "box_style": "",
      "children": [
       "IPY_MODEL_c70dd82e256b4143b5aaae01edf1dac2",
       "IPY_MODEL_57b45e4353814abd8bbfaedb164710b8",
       "IPY_MODEL_ff19433f90a244a982b6b6f93c16f649"
      ],
      "layout": "IPY_MODEL_08c8e385d4484aec959c08392a93265b"
     }
    },
    "77734c4c170245368698d86328beba88": {
     "model_module": "@jupyter-widgets/controls",
     "model_module_version": "1.5.0",
     "model_name": "HBoxModel",
     "state": {
      "_dom_classes": [],
      "_model_module": "@jupyter-widgets/controls",
      "_model_module_version": "1.5.0",
      "_model_name": "HBoxModel",
      "_view_count": null,
      "_view_module": "@jupyter-widgets/controls",
      "_view_module_version": "1.5.0",
      "_view_name": "HBoxView",
      "box_style": "",
      "children": [
       "IPY_MODEL_d53412194c194b53ba38b01679339ab7",
       "IPY_MODEL_94ec5c028d764d32b6c043e482c79556",
       "IPY_MODEL_27a1dc5a48e94c90b7148f012585ce8f"
      ],
      "layout": "IPY_MODEL_d8a7ddb0b53d4d3eab0a41faafe09caf"
     }
    },
    "7b09e893553a4f80aff2e44021441401": {
     "model_module": "@jupyter-widgets/controls",
     "model_module_version": "1.5.0",
     "model_name": "DescriptionStyleModel",
     "state": {
      "_model_module": "@jupyter-widgets/controls",
      "_model_module_version": "1.5.0",
      "_model_name": "DescriptionStyleModel",
      "_view_count": null,
      "_view_module": "@jupyter-widgets/base",
      "_view_module_version": "1.2.0",
      "_view_name": "StyleView",
      "description_width": ""
     }
    },
    "7daee14d81ae47468dc32742cb767db2": {
     "model_module": "@jupyter-widgets/base",
     "model_module_version": "1.2.0",
     "model_name": "LayoutModel",
     "state": {
      "_model_module": "@jupyter-widgets/base",
      "_model_module_version": "1.2.0",
      "_model_name": "LayoutModel",
      "_view_count": null,
      "_view_module": "@jupyter-widgets/base",
      "_view_module_version": "1.2.0",
      "_view_name": "LayoutView",
      "align_content": null,
      "align_items": null,
      "align_self": null,
      "border": null,
      "bottom": null,
      "display": null,
      "flex": null,
      "flex_flow": null,
      "grid_area": null,
      "grid_auto_columns": null,
      "grid_auto_flow": null,
      "grid_auto_rows": null,
      "grid_column": null,
      "grid_gap": null,
      "grid_row": null,
      "grid_template_areas": null,
      "grid_template_columns": null,
      "grid_template_rows": null,
      "height": null,
      "justify_content": null,
      "justify_items": null,
      "left": null,
      "margin": null,
      "max_height": null,
      "max_width": null,
      "min_height": null,
      "min_width": null,
      "object_fit": null,
      "object_position": null,
      "order": null,
      "overflow": null,
      "overflow_x": null,
      "overflow_y": null,
      "padding": null,
      "right": null,
      "top": null,
      "visibility": null,
      "width": null
     }
    },
    "7e1d032c50ce4a7dba0569d353d0cde9": {
     "model_module": "@jupyter-widgets/base",
     "model_module_version": "1.2.0",
     "model_name": "LayoutModel",
     "state": {
      "_model_module": "@jupyter-widgets/base",
      "_model_module_version": "1.2.0",
      "_model_name": "LayoutModel",
      "_view_count": null,
      "_view_module": "@jupyter-widgets/base",
      "_view_module_version": "1.2.0",
      "_view_name": "LayoutView",
      "align_content": null,
      "align_items": null,
      "align_self": null,
      "border": null,
      "bottom": null,
      "display": null,
      "flex": null,
      "flex_flow": null,
      "grid_area": null,
      "grid_auto_columns": null,
      "grid_auto_flow": null,
      "grid_auto_rows": null,
      "grid_column": null,
      "grid_gap": null,
      "grid_row": null,
      "grid_template_areas": null,
      "grid_template_columns": null,
      "grid_template_rows": null,
      "height": null,
      "justify_content": null,
      "justify_items": null,
      "left": null,
      "margin": null,
      "max_height": null,
      "max_width": null,
      "min_height": null,
      "min_width": null,
      "object_fit": null,
      "object_position": null,
      "order": null,
      "overflow": null,
      "overflow_x": null,
      "overflow_y": null,
      "padding": null,
      "right": null,
      "top": null,
      "visibility": null,
      "width": null
     }
    },
    "8d07ab087b914f33893556a80dabf85b": {
     "model_module": "@jupyter-widgets/controls",
     "model_module_version": "1.5.0",
     "model_name": "DescriptionStyleModel",
     "state": {
      "_model_module": "@jupyter-widgets/controls",
      "_model_module_version": "1.5.0",
      "_model_name": "DescriptionStyleModel",
      "_view_count": null,
      "_view_module": "@jupyter-widgets/base",
      "_view_module_version": "1.2.0",
      "_view_name": "StyleView",
      "description_width": ""
     }
    },
    "9384c164e55f4023900dd3d4b6707030": {
     "model_module": "@jupyter-widgets/controls",
     "model_module_version": "1.5.0",
     "model_name": "DescriptionStyleModel",
     "state": {
      "_model_module": "@jupyter-widgets/controls",
      "_model_module_version": "1.5.0",
      "_model_name": "DescriptionStyleModel",
      "_view_count": null,
      "_view_module": "@jupyter-widgets/base",
      "_view_module_version": "1.2.0",
      "_view_name": "StyleView",
      "description_width": ""
     }
    },
    "94ec5c028d764d32b6c043e482c79556": {
     "model_module": "@jupyter-widgets/controls",
     "model_module_version": "1.5.0",
     "model_name": "FloatProgressModel",
     "state": {
      "_dom_classes": [],
      "_model_module": "@jupyter-widgets/controls",
      "_model_module_version": "1.5.0",
      "_model_name": "FloatProgressModel",
      "_view_count": null,
      "_view_module": "@jupyter-widgets/controls",
      "_view_module_version": "1.5.0",
      "_view_name": "ProgressView",
      "bar_style": "danger",
      "description": "",
      "description_tooltip": null,
      "layout": "IPY_MODEL_c2cc02fd93324ff9b86a4501b42c08c8",
      "max": 40000,
      "min": 0,
      "orientation": "horizontal",
      "style": "IPY_MODEL_50ff9eca72d445d48d9d82d7c8000c9e",
      "value": 16508
     }
    },
    "9778fe50cf8340e3a17b0af7e9fee958": {
     "model_module": "@jupyter-widgets/controls",
     "model_module_version": "1.5.0",
     "model_name": "DescriptionStyleModel",
     "state": {
      "_model_module": "@jupyter-widgets/controls",
      "_model_module_version": "1.5.0",
      "_model_name": "DescriptionStyleModel",
      "_view_count": null,
      "_view_module": "@jupyter-widgets/base",
      "_view_module_version": "1.2.0",
      "_view_name": "StyleView",
      "description_width": ""
     }
    },
    "a1b9606a1e6b45199d7e28c6108c671b": {
     "model_module": "@jupyter-widgets/controls",
     "model_module_version": "1.5.0",
     "model_name": "HTMLModel",
     "state": {
      "_dom_classes": [],
      "_model_module": "@jupyter-widgets/controls",
      "_model_module_version": "1.5.0",
      "_model_name": "HTMLModel",
      "_view_count": null,
      "_view_module": "@jupyter-widgets/controls",
      "_view_module_version": "1.5.0",
      "_view_name": "HTMLView",
      "description": "",
      "description_tooltip": null,
      "layout": "IPY_MODEL_fdea0f6fa1b947d482c6e1d543f69e8e",
      "placeholder": "​",
      "style": "IPY_MODEL_8d07ab087b914f33893556a80dabf85b",
      "value": "100%"
     }
    },
    "a8802036f40b4d62ad0645cc6704fe66": {
     "model_module": "@jupyter-widgets/controls",
     "model_module_version": "1.5.0",
     "model_name": "ProgressStyleModel",
     "state": {
      "_model_module": "@jupyter-widgets/controls",
      "_model_module_version": "1.5.0",
      "_model_name": "ProgressStyleModel",
      "_view_count": null,
      "_view_module": "@jupyter-widgets/base",
      "_view_module_version": "1.2.0",
      "_view_name": "StyleView",
      "bar_color": null,
      "description_width": ""
     }
    },
    "ab73f3bb925b4161ac595c91fb7e02f9": {
     "model_module": "@jupyter-widgets/controls",
     "model_module_version": "1.5.0",
     "model_name": "FloatProgressModel",
     "state": {
      "_dom_classes": [],
      "_model_module": "@jupyter-widgets/controls",
      "_model_module_version": "1.5.0",
      "_model_name": "FloatProgressModel",
      "_view_count": null,
      "_view_module": "@jupyter-widgets/controls",
      "_view_module_version": "1.5.0",
      "_view_name": "ProgressView",
      "bar_style": "success",
      "description": "",
      "description_tooltip": null,
      "layout": "IPY_MODEL_3add4675c0c547cfbc6931b41d9f6603",
      "max": 40000,
      "min": 0,
      "orientation": "horizontal",
      "style": "IPY_MODEL_a8802036f40b4d62ad0645cc6704fe66",
      "value": 40000
     }
    },
    "ad8fe8ed49db4c9da922a61f46e5599d": {
     "model_module": "@jupyter-widgets/controls",
     "model_module_version": "1.5.0",
     "model_name": "FloatProgressModel",
     "state": {
      "_dom_classes": [],
      "_model_module": "@jupyter-widgets/controls",
      "_model_module_version": "1.5.0",
      "_model_name": "FloatProgressModel",
      "_view_count": null,
      "_view_module": "@jupyter-widgets/controls",
      "_view_module_version": "1.5.0",
      "_view_name": "ProgressView",
      "bar_style": "danger",
      "description": "",
      "description_tooltip": null,
      "layout": "IPY_MODEL_68d43c0c9fd640d9af417cf3634889f4",
      "max": 40000,
      "min": 0,
      "orientation": "horizontal",
      "style": "IPY_MODEL_0e3c837eefa94c5082e1df5759b32113",
      "value": 329
     }
    },
    "c2cc02fd93324ff9b86a4501b42c08c8": {
     "model_module": "@jupyter-widgets/base",
     "model_module_version": "1.2.0",
     "model_name": "LayoutModel",
     "state": {
      "_model_module": "@jupyter-widgets/base",
      "_model_module_version": "1.2.0",
      "_model_name": "LayoutModel",
      "_view_count": null,
      "_view_module": "@jupyter-widgets/base",
      "_view_module_version": "1.2.0",
      "_view_name": "LayoutView",
      "align_content": null,
      "align_items": null,
      "align_self": null,
      "border": null,
      "bottom": null,
      "display": null,
      "flex": null,
      "flex_flow": null,
      "grid_area": null,
      "grid_auto_columns": null,
      "grid_auto_flow": null,
      "grid_auto_rows": null,
      "grid_column": null,
      "grid_gap": null,
      "grid_row": null,
      "grid_template_areas": null,
      "grid_template_columns": null,
      "grid_template_rows": null,
      "height": null,
      "justify_content": null,
      "justify_items": null,
      "left": null,
      "margin": null,
      "max_height": null,
      "max_width": null,
      "min_height": null,
      "min_width": null,
      "object_fit": null,
      "object_position": null,
      "order": null,
      "overflow": null,
      "overflow_x": null,
      "overflow_y": null,
      "padding": null,
      "right": null,
      "top": null,
      "visibility": null,
      "width": null
     }
    },
    "c4e2620491e34d36851ea838eb1644d9": {
     "model_module": "@jupyter-widgets/controls",
     "model_module_version": "1.5.0",
     "model_name": "DescriptionStyleModel",
     "state": {
      "_model_module": "@jupyter-widgets/controls",
      "_model_module_version": "1.5.0",
      "_model_name": "DescriptionStyleModel",
      "_view_count": null,
      "_view_module": "@jupyter-widgets/base",
      "_view_module_version": "1.2.0",
      "_view_name": "StyleView",
      "description_width": ""
     }
    },
    "c4e4e36786ea4217b5c8b673fb428660": {
     "model_module": "@jupyter-widgets/controls",
     "model_module_version": "1.5.0",
     "model_name": "HTMLModel",
     "state": {
      "_dom_classes": [],
      "_model_module": "@jupyter-widgets/controls",
      "_model_module_version": "1.5.0",
      "_model_name": "HTMLModel",
      "_view_count": null,
      "_view_module": "@jupyter-widgets/controls",
      "_view_module_version": "1.5.0",
      "_view_name": "HTMLView",
      "description": "",
      "description_tooltip": null,
      "layout": "IPY_MODEL_d907984e42d246128e0725149cd6907b",
      "placeholder": "​",
      "style": "IPY_MODEL_9778fe50cf8340e3a17b0af7e9fee958",
      "value": " 40000/40000 [08:16&lt;00:00, 83.35it/s]"
     }
    },
    "c70dd82e256b4143b5aaae01edf1dac2": {
     "model_module": "@jupyter-widgets/controls",
     "model_module_version": "1.5.0",
     "model_name": "HTMLModel",
     "state": {
      "_dom_classes": [],
      "_model_module": "@jupyter-widgets/controls",
      "_model_module_version": "1.5.0",
      "_model_name": "HTMLModel",
      "_view_count": null,
      "_view_module": "@jupyter-widgets/controls",
      "_view_module_version": "1.5.0",
      "_view_name": "HTMLView",
      "description": "",
      "description_tooltip": null,
      "layout": "IPY_MODEL_e8c94ebebe0d4d4b85c5e727c4c20e29",
      "placeholder": "​",
      "style": "IPY_MODEL_2928b14ae813424ab77ba3d4aa0bfa59",
      "value": " 41%"
     }
    },
    "d53412194c194b53ba38b01679339ab7": {
     "model_module": "@jupyter-widgets/controls",
     "model_module_version": "1.5.0",
     "model_name": "HTMLModel",
     "state": {
      "_dom_classes": [],
      "_model_module": "@jupyter-widgets/controls",
      "_model_module_version": "1.5.0",
      "_model_name": "HTMLModel",
      "_view_count": null,
      "_view_module": "@jupyter-widgets/controls",
      "_view_module_version": "1.5.0",
      "_view_name": "HTMLView",
      "description": "",
      "description_tooltip": null,
      "layout": "IPY_MODEL_2ce278e2710845fb9da98b9f3a8cce0f",
      "placeholder": "​",
      "style": "IPY_MODEL_7b09e893553a4f80aff2e44021441401",
      "value": " 41%"
     }
    },
    "d8a7ddb0b53d4d3eab0a41faafe09caf": {
     "model_module": "@jupyter-widgets/base",
     "model_module_version": "1.2.0",
     "model_name": "LayoutModel",
     "state": {
      "_model_module": "@jupyter-widgets/base",
      "_model_module_version": "1.2.0",
      "_model_name": "LayoutModel",
      "_view_count": null,
      "_view_module": "@jupyter-widgets/base",
      "_view_module_version": "1.2.0",
      "_view_name": "LayoutView",
      "align_content": null,
      "align_items": null,
      "align_self": null,
      "border": null,
      "bottom": null,
      "display": null,
      "flex": null,
      "flex_flow": null,
      "grid_area": null,
      "grid_auto_columns": null,
      "grid_auto_flow": null,
      "grid_auto_rows": null,
      "grid_column": null,
      "grid_gap": null,
      "grid_row": null,
      "grid_template_areas": null,
      "grid_template_columns": null,
      "grid_template_rows": null,
      "height": null,
      "justify_content": null,
      "justify_items": null,
      "left": null,
      "margin": null,
      "max_height": null,
      "max_width": null,
      "min_height": null,
      "min_width": null,
      "object_fit": null,
      "object_position": null,
      "order": null,
      "overflow": null,
      "overflow_x": null,
      "overflow_y": null,
      "padding": null,
      "right": null,
      "top": null,
      "visibility": null,
      "width": null
     }
    },
    "d907984e42d246128e0725149cd6907b": {
     "model_module": "@jupyter-widgets/base",
     "model_module_version": "1.2.0",
     "model_name": "LayoutModel",
     "state": {
      "_model_module": "@jupyter-widgets/base",
      "_model_module_version": "1.2.0",
      "_model_name": "LayoutModel",
      "_view_count": null,
      "_view_module": "@jupyter-widgets/base",
      "_view_module_version": "1.2.0",
      "_view_name": "LayoutView",
      "align_content": null,
      "align_items": null,
      "align_self": null,
      "border": null,
      "bottom": null,
      "display": null,
      "flex": null,
      "flex_flow": null,
      "grid_area": null,
      "grid_auto_columns": null,
      "grid_auto_flow": null,
      "grid_auto_rows": null,
      "grid_column": null,
      "grid_gap": null,
      "grid_row": null,
      "grid_template_areas": null,
      "grid_template_columns": null,
      "grid_template_rows": null,
      "height": null,
      "justify_content": null,
      "justify_items": null,
      "left": null,
      "margin": null,
      "max_height": null,
      "max_width": null,
      "min_height": null,
      "min_width": null,
      "object_fit": null,
      "object_position": null,
      "order": null,
      "overflow": null,
      "overflow_x": null,
      "overflow_y": null,
      "padding": null,
      "right": null,
      "top": null,
      "visibility": null,
      "width": null
     }
    },
    "e8c94ebebe0d4d4b85c5e727c4c20e29": {
     "model_module": "@jupyter-widgets/base",
     "model_module_version": "1.2.0",
     "model_name": "LayoutModel",
     "state": {
      "_model_module": "@jupyter-widgets/base",
      "_model_module_version": "1.2.0",
      "_model_name": "LayoutModel",
      "_view_count": null,
      "_view_module": "@jupyter-widgets/base",
      "_view_module_version": "1.2.0",
      "_view_name": "LayoutView",
      "align_content": null,
      "align_items": null,
      "align_self": null,
      "border": null,
      "bottom": null,
      "display": null,
      "flex": null,
      "flex_flow": null,
      "grid_area": null,
      "grid_auto_columns": null,
      "grid_auto_flow": null,
      "grid_auto_rows": null,
      "grid_column": null,
      "grid_gap": null,
      "grid_row": null,
      "grid_template_areas": null,
      "grid_template_columns": null,
      "grid_template_rows": null,
      "height": null,
      "justify_content": null,
      "justify_items": null,
      "left": null,
      "margin": null,
      "max_height": null,
      "max_width": null,
      "min_height": null,
      "min_width": null,
      "object_fit": null,
      "object_position": null,
      "order": null,
      "overflow": null,
      "overflow_x": null,
      "overflow_y": null,
      "padding": null,
      "right": null,
      "top": null,
      "visibility": null,
      "width": null
     }
    },
    "f25b80554031474bbd24426d02afd6eb": {
     "model_module": "@jupyter-widgets/base",
     "model_module_version": "1.2.0",
     "model_name": "LayoutModel",
     "state": {
      "_model_module": "@jupyter-widgets/base",
      "_model_module_version": "1.2.0",
      "_model_name": "LayoutModel",
      "_view_count": null,
      "_view_module": "@jupyter-widgets/base",
      "_view_module_version": "1.2.0",
      "_view_name": "LayoutView",
      "align_content": null,
      "align_items": null,
      "align_self": null,
      "border": null,
      "bottom": null,
      "display": null,
      "flex": null,
      "flex_flow": null,
      "grid_area": null,
      "grid_auto_columns": null,
      "grid_auto_flow": null,
      "grid_auto_rows": null,
      "grid_column": null,
      "grid_gap": null,
      "grid_row": null,
      "grid_template_areas": null,
      "grid_template_columns": null,
      "grid_template_rows": null,
      "height": null,
      "justify_content": null,
      "justify_items": null,
      "left": null,
      "margin": null,
      "max_height": null,
      "max_width": null,
      "min_height": null,
      "min_width": null,
      "object_fit": null,
      "object_position": null,
      "order": null,
      "overflow": null,
      "overflow_x": null,
      "overflow_y": null,
      "padding": null,
      "right": null,
      "top": null,
      "visibility": null,
      "width": null
     }
    },
    "fa71bf432e6c4954a3b91311a1e9d1f4": {
     "model_module": "@jupyter-widgets/controls",
     "model_module_version": "1.5.0",
     "model_name": "HBoxModel",
     "state": {
      "_dom_classes": [],
      "_model_module": "@jupyter-widgets/controls",
      "_model_module_version": "1.5.0",
      "_model_name": "HBoxModel",
      "_view_count": null,
      "_view_module": "@jupyter-widgets/controls",
      "_view_module_version": "1.5.0",
      "_view_name": "HBoxView",
      "box_style": "",
      "children": [
       "IPY_MODEL_a1b9606a1e6b45199d7e28c6108c671b",
       "IPY_MODEL_ab73f3bb925b4161ac595c91fb7e02f9",
       "IPY_MODEL_c4e4e36786ea4217b5c8b673fb428660"
      ],
      "layout": "IPY_MODEL_7e1d032c50ce4a7dba0569d353d0cde9"
     }
    },
    "fdea0f6fa1b947d482c6e1d543f69e8e": {
     "model_module": "@jupyter-widgets/base",
     "model_module_version": "1.2.0",
     "model_name": "LayoutModel",
     "state": {
      "_model_module": "@jupyter-widgets/base",
      "_model_module_version": "1.2.0",
      "_model_name": "LayoutModel",
      "_view_count": null,
      "_view_module": "@jupyter-widgets/base",
      "_view_module_version": "1.2.0",
      "_view_name": "LayoutView",
      "align_content": null,
      "align_items": null,
      "align_self": null,
      "border": null,
      "bottom": null,
      "display": null,
      "flex": null,
      "flex_flow": null,
      "grid_area": null,
      "grid_auto_columns": null,
      "grid_auto_flow": null,
      "grid_auto_rows": null,
      "grid_column": null,
      "grid_gap": null,
      "grid_row": null,
      "grid_template_areas": null,
      "grid_template_columns": null,
      "grid_template_rows": null,
      "height": null,
      "justify_content": null,
      "justify_items": null,
      "left": null,
      "margin": null,
      "max_height": null,
      "max_width": null,
      "min_height": null,
      "min_width": null,
      "object_fit": null,
      "object_position": null,
      "order": null,
      "overflow": null,
      "overflow_x": null,
      "overflow_y": null,
      "padding": null,
      "right": null,
      "top": null,
      "visibility": null,
      "width": null
     }
    },
    "ff19433f90a244a982b6b6f93c16f649": {
     "model_module": "@jupyter-widgets/controls",
     "model_module_version": "1.5.0",
     "model_name": "HTMLModel",
     "state": {
      "_dom_classes": [],
      "_model_module": "@jupyter-widgets/controls",
      "_model_module_version": "1.5.0",
      "_model_name": "HTMLModel",
      "_view_count": null,
      "_view_module": "@jupyter-widgets/controls",
      "_view_module_version": "1.5.0",
      "_view_name": "HTMLView",
      "description": "",
      "description_tooltip": null,
      "layout": "IPY_MODEL_0f19d5e2733a4785a40e235ebec4a347",
      "placeholder": "​",
      "style": "IPY_MODEL_103385924b674ad7b80753cfa4387a24",
      "value": " 16541/40000 [03:30&lt;04:41, 83.25it/s]"
     }
    }
   }
  }
 },
 "nbformat": 4,
 "nbformat_minor": 5
}
